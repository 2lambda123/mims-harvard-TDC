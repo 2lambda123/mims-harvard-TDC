{
 "cells": [
  {
   "cell_type": "code",
   "execution_count": null,
   "metadata": {},
   "outputs": [],
   "source": [
    "<tr>\n",
    "    <td>CNN (DeepPurpose)</td>\n",
    "    <td><a href=\"mailto:kexinhuang@hsph.harvard.edu\">Kexin Huang</a></td>\n",
    "    <td><a href=\"https://github.com/kexinhuang12345/DeepPurpose\">GitHub</a>, <a href=\"https://doi.org/10.1093/bioinformatics/btaa1005\">Paper</a></td>\n",
    "    <td>0.785 <span>&#177;</span> 0.001</td>\n",
    "    <td>0.889 <span>&#177;</span> 0.002</td>\n",
    "    <td>0.889 <span>&#177;</span> 0.002</td>\n",
    "    <td>0.889 <span>&#177;</span> 0.002</td>\n",
    "    <td>0.889 <span>&#177;</span> 0.002</td>\n",
    "    <td>0.889 <span>&#177;</span> 0.002</td>\n",
    "</tr>"
   ]
  },
  {
   "cell_type": "code",
   "execution_count": 47,
   "metadata": {},
   "outputs": [],
   "source": [
    "from ast import literal_eval\n",
    "import pandas as pd\n",
    "import numpy as np\n",
    "df = pd.read_csv('/Users/kexinhuang/Downloads/TDC Leaderboard Submission Form (Responses) - Form Responses 1.csv')"
   ]
  },
  {
   "cell_type": "code",
   "execution_count": 48,
   "metadata": {},
   "outputs": [],
   "source": [
    "df = df.rename(columns = {\n",
    "    df.columns.values[0]: 'Time',\n",
    "    df.columns.values[1]: 'Name',\n",
    "    df.columns.values[2]: 'Email',\n",
    "    df.columns.values[3]: 'Group',\n",
    "    df.columns.values[4]: 'Model',\n",
    "    df.columns.values[5]: 'Paper_URL',\n",
    "    df.columns.values[6]: 'Code_URL',\n",
    "    df.columns.values[7]: 'Result',\n",
    "    df.columns.values[8]: 'Hardware',\n",
    "    df.columns.values[9]: '#Params'    \n",
    "})\n",
    "df = df.drop(df.columns.values[10], axis = 1)"
   ]
  },
  {
   "cell_type": "code",
   "execution_count": 49,
   "metadata": {},
   "outputs": [],
   "source": [
    "df['Result'] = df.Result.apply(literal_eval)"
   ]
  },
  {
   "cell_type": "code",
   "execution_count": 52,
   "metadata": {},
   "outputs": [],
   "source": [
    "metrics_direction = {\n",
    "    'mae': 'desc',\n",
    "    'roc-auc': 'asc', \n",
    "    'pr-auc': 'asc',\n",
    "    'pcc': 'asc'\n",
    "}"
   ]
  },
  {
   "cell_type": "code",
   "execution_count": 35,
   "metadata": {},
   "outputs": [],
   "source": [
    "a = [0.85, 0.13, 0.66, 0.92]\n",
    "b = [0.73, 0.15, 0.4, 0.8]\n",
    "c = [0.9, 0.11, 0.78, 0.92]"
   ]
  },
  {
   "cell_type": "code",
   "execution_count": 63,
   "metadata": {},
   "outputs": [],
   "source": [
    "direction = ['asc', 'asc', 'asc', 'asc']"
   ]
  },
  {
   "cell_type": "code",
   "execution_count": 64,
   "metadata": {},
   "outputs": [],
   "source": [
    "results = np.array([a,b,c])\n",
    "rank = []\n",
    "for idx, i in enumerate(range(results.T.shape[0])):\n",
    "    if direction[idx] == 'desc':\n",
    "        rank.append(np.argsort(results.T[i], axis = 0))\n",
    "    else:\n",
    "        rank.append(np.argsort(results.T[i], axis = 0)[::-1])"
   ]
  },
  {
   "cell_type": "code",
   "execution_count": 70,
   "metadata": {},
   "outputs": [
    {
     "data": {
      "text/plain": [
       "array([1, 2, 0])"
      ]
     },
     "execution_count": 70,
     "metadata": {},
     "output_type": "execute_result"
    }
   ],
   "source": [
    "np.argsort(np.sum(rank, axis = 0))"
   ]
  },
  {
   "cell_type": "markdown",
   "metadata": {},
   "source": [
    "## ADMET Group"
   ]
  },
  {
   "cell_type": "code",
   "execution_count": 72,
   "metadata": {},
   "outputs": [],
   "source": [
    "df_admet = df[df.Group == 'ADMET Group']"
   ]
  },
  {
   "cell_type": "code",
   "execution_count": 51,
   "metadata": {},
   "outputs": [],
   "source": [
    "admet_metrics = {'caco2_wang': 'mae',\n",
    "            'hia_hou': 'roc-auc',\n",
    "            'pgp_broccatelli': 'roc-auc', \n",
    "            'bioavailability_ma': 'roc-auc',\n",
    "            'lipophilicity_astrazeneca': 'mae',\n",
    "            'solubility_aqsoldb': 'mae',\n",
    "            'bbb_martins': 'roc-auc',\n",
    "            'ppbr_az': 'mae',\n",
    "            'vdss_lombardo': 'pcc',\n",
    "            'cyp2c9_veith': 'pr-auc',\n",
    "            'cyp2d6_veith': 'pr-auc',\n",
    "            'cyp3a4_veith': 'pr-auc',\n",
    "            'cyp2c9_substrate_carbonmangels': 'pr-auc',\n",
    "            'cyp3a4_substrate_carbonmangels': 'roc-auc',\n",
    "            'cyp2d6_substrate_carbonmangels': 'pr-auc',\n",
    "            'half_life_obach': 'pcc',\n",
    "            'clearance_hepatocyte_az': 'pcc',\n",
    "            'clearance_microsome_az': 'pcc',\n",
    "            'ld50_zhu': 'mae',\n",
    "            'herg': 'roc-auc',\n",
    "            'ames': 'roc-auc',\n",
    "            'dili': 'roc-auc'\n",
    "            }"
   ]
  },
  {
   "cell_type": "code",
   "execution_count": 20,
   "metadata": {},
   "outputs": [],
   "source": [
    "ADMET = {\n",
    "    'Absorption': ['caco2_wang', 'hia_hou', 'pgp_broccatelli', 'bioavailability_ma', 'lipophilicity_astrazeneca', 'solubility_aqsoldb'],\n",
    "    'Distribution': ['bbb_martins', 'ppbr_az', 'vdss_lombardo'],\n",
    "    'Metabolism': ['cyp2c9_veith', 'cyp2d6_veith', 'cyp3a4_veith', 'cyp2c9_substrate_carbonmangels', 'cyp2d6_substrate_carbonmangels', 'cyp3a4_substrate_carbonmangels'],\n",
    "    'Exretion': ['half_life_obach', 'clearance_hepatocyte_az', 'clearance_microsome_az'],\n",
    "    'Toxicity': ['ld50_zhu', 'herg', 'ames', 'dili']\n",
    "}"
   ]
  },
  {
   "cell_type": "code",
   "execution_count": 112,
   "metadata": {},
   "outputs": [],
   "source": [
    "html_code = '<tr> \\n'\n",
    "html_code = html_code + '  <td> ' + temp.Model + ' </td> \\n'\n",
    "html_code = html_code + '  <td><a href=\"mailto:' + temp.Email + '\">' + temp.Name + '</a></td> \\n'\n",
    "html_code = html_code + '  <td><a href=\"' + temp.Code_URL + '\"> GitHub </a>, <a href=\"' + temp.Paper_URL + '\">Paper </a></td> \\n'\n",
    "for i in ADMET['Absorption']:\n",
    "    html_code = html_code + '  <td>' + str(temp.Result[i][0]) + ' <span>&#177;</span> ' + str(temp.Result[i][1]) +' </td> \\n'\n",
    "html_code += '</tr>'"
   ]
  },
  {
   "cell_type": "code",
   "execution_count": 113,
   "metadata": {},
   "outputs": [
    {
     "name": "stdout",
     "output_type": "stream",
     "text": [
      "<tr> \n",
      "  <td> CNN (DeepPurpose) </td> \n",
      "  <td><a href=\"mailto:kexinhuang@hsph.harvard.edu\">Kexin</a></td> \n",
      "  <td><a href=\"https://github.com/kexinhuang12345/DeepPurpose\"> GitHub </a>, <a href=\"https://doi.org/10.1093/bioinformatics/btaa1005\">Paper </a></td> \n",
      "  <td>0.439 <span>&#177;</span> 0.038 </td> \n",
      "  <td>0.876 <span>&#177;</span> 0.043 </td> \n",
      "  <td>0.876 <span>&#177;</span> 0.046 </td> \n",
      "  <td>0.625 <span>&#177;</span> 0.018 </td> \n",
      "  <td>0.743 <span>&#177;</span> 0.022 </td> \n",
      "  <td>0.972 <span>&#177;</span> 0.011 </td> \n",
      "</tr>\n"
     ]
    }
   ],
   "source": [
    "print(html_code)"
   ]
  },
  {
   "cell_type": "code",
   "execution_count": 74,
   "metadata": {},
   "outputs": [
    {
     "name": "stdout",
     "output_type": "stream",
     "text": [
      "Time                                       12/21/2020 14:23:33\n",
      "Name                                               Kexin Huang\n",
      "Email                              kexinhuang@hsph.harvard.edu\n",
      "Group                                              ADMET Group\n",
      "Model                               Morgan + MLP (DeepPurpose)\n",
      "Paper_URL      https://doi.org/10.1093/bioinformatics/btaa1005\n",
      "Code_URL        https://github.com/kexinhuang12345/DeepPurpose\n",
      "Result       {'caco2_wang': [0.927, 0.036], 'hia_hou': [0.8...\n",
      "Hardware                                  NVIDIA Tesla K80 GPU\n",
      "#Params                                                1477185\n",
      "Name: 0, dtype: object\n",
      "Time                                       12/21/2020 20:34:33\n",
      "Name                                                     Kexin\n",
      "Email                              kexinhuang@hsph.harvard.edu\n",
      "Group                                              ADMET Group\n",
      "Model                                        CNN (DeepPurpose)\n",
      "Paper_URL      https://doi.org/10.1093/bioinformatics/btaa1005\n",
      "Code_URL        https://github.com/kexinhuang12345/DeepPurpose\n",
      "Result       {'caco2_wang': [0.439, 0.038], 'hia_hou': [0.8...\n",
      "Hardware                                  NVIDIA Tesla K80 GPU\n",
      "#Params                                                 226625\n",
      "Name: 1, dtype: object\n"
     ]
    }
   ],
   "source": [
    "entries = []\n",
    "for submit_idx in range(len(df_admet)):\n",
    "    temp = df_admet.iloc[submit_idx]\n",
    "    "
   ]
  },
  {
   "cell_type": "code",
   "execution_count": 11,
   "metadata": {},
   "outputs": [
    {
     "data": {
      "text/plain": [
       "['caco2_wang',\n",
       " 'hia_hou',\n",
       " 'pgp_broccatelli',\n",
       " 'bioavailability_ma',\n",
       " 'lipophilicity_astrazeneca',\n",
       " 'solubility_aqsoldb']"
      ]
     },
     "execution_count": 11,
     "metadata": {},
     "output_type": "execute_result"
    }
   ],
   "source": [
    "for idx, i in enumerate(ADMET['Absorption']):\n",
    "    "
   ]
  },
  {
   "cell_type": "code",
   "execution_count": 9,
   "metadata": {},
   "outputs": [
    {
     "data": {
      "text/plain": [
       "{'caco2_wang': [0.927, 0.036],\n",
       " 'hia_hou': [0.812, 0.067],\n",
       " 'pgp_broccatelli': [0.886, 0.012],\n",
       " 'bioavailability_ma': [0.61, 0.038],\n",
       " 'lipophilicity_astrazeneca': [0.704, 0.008],\n",
       " 'solubility_aqsoldb': [1.207, 0.02],\n",
       " 'bbb_martins': [0.827, 0.03],\n",
       " 'ppbr_az': [12.83, 0.487],\n",
       " 'vdss_lombardo': [0.307, 0.046],\n",
       " 'cyp2d6_veith': [0.584, 0.019],\n",
       " 'cyp3a4_veith': [0.829, 0.006],\n",
       " 'cyp2c9_veith': [0.71, 0.006],\n",
       " 'cyp2d6_substrate_carbonmangels': [0.677, 0.05],\n",
       " 'cyp3a4_substrate_carbonmangels': [0.633, 0.017],\n",
       " 'cyp2c9_substrate_carbonmangels': [0.368, 0.014],\n",
       " 'half_life_obach': [0.293, 0.139],\n",
       " 'clearance_microsome_az': [0.473, 0.007],\n",
       " 'clearance_hepatocyte_az': [0.239, 0.047],\n",
       " 'herg': [0.741, 0.024],\n",
       " 'ames': [0.802, 0.009],\n",
       " 'dili': [0.837, 0.028],\n",
       " 'ld50_zhu': [0.659, 0.019]}"
      ]
     },
     "execution_count": 9,
     "metadata": {},
     "output_type": "execute_result"
    }
   ],
   "source": [
    "from ast import literal_eval\n",
    "literal_eval(df.values[0][7])"
   ]
  },
  {
   "cell_type": "code",
   "execution_count": null,
   "metadata": {},
   "outputs": [],
   "source": []
  }
 ],
 "metadata": {
  "kernelspec": {
   "display_name": "Python 3",
   "language": "python",
   "name": "python3"
  },
  "language_info": {
   "codemirror_mode": {
    "name": "ipython",
    "version": 3
   },
   "file_extension": ".py",
   "mimetype": "text/x-python",
   "name": "python",
   "nbconvert_exporter": "python",
   "pygments_lexer": "ipython3",
   "version": "3.7.4"
  }
 },
 "nbformat": 4,
 "nbformat_minor": 2
}
