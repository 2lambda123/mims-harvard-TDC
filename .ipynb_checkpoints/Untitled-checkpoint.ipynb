{
 "cells": [
  {
   "cell_type": "code",
   "execution_count": 1,
   "metadata": {},
   "outputs": [
    {
     "data": {
      "text/plain": [
       "{'Celecoxib': [0.11578947368421053, 0.10588235294117647],\n",
       " 'Troglitazone': [0.12037037037037036, 0.07920792079207921],\n",
       " 'Thiothixene': [0.14285714285714285, 0.14893617021276595]}"
      ]
     },
     "execution_count": 1,
     "metadata": {},
     "output_type": "execute_result"
    }
   ],
   "source": [
    "from tdc import Oracle\n",
    "oracle = Oracle(name = 'Rediscovery')\n",
    "oracle(['CC(=O)OC1=CC=CC=C1C(=O)O',\n",
    "       'C1=CC=C(C=C1)C=O'])"
   ]
  },
  {
   "cell_type": "code",
   "execution_count": null,
   "metadata": {},
   "outputs": [],
   "source": []
  },
  {
   "cell_type": "code",
   "execution_count": 2,
   "metadata": {},
   "outputs": [
    {
     "data": {
      "text/plain": [
       "{'Celecoxib': 0.11578947368421053,\n",
       " 'Troglitazone': 0.12037037037037036,\n",
       " 'Thiothixene': 0.14285714285714285}"
      ]
     },
     "execution_count": 2,
     "metadata": {},
     "output_type": "execute_result"
    }
   ],
   "source": [
    "from tdc import Oracle\n",
    "oracle = Oracle(name = 'Rediscovery')\n",
    "oracle('CC(=O)OC1=CC=CC=C1C(=O)O')"
   ]
  },
  {
   "cell_type": "code",
   "execution_count": null,
   "metadata": {},
   "outputs": [],
   "source": []
  },
  {
   "cell_type": "code",
   "execution_count": null,
   "metadata": {},
   "outputs": [],
   "source": []
  },
  {
   "cell_type": "code",
   "execution_count": 5,
   "metadata": {},
   "outputs": [
    {
     "name": "stderr",
     "output_type": "stream",
     "text": [
      "Found local copy...\n",
      "Loading...\n",
      "Done!\n"
     ]
    },
    {
     "data": {
      "text/html": [
       "<div>\n",
       "<style scoped>\n",
       "    .dataframe tbody tr th:only-of-type {\n",
       "        vertical-align: middle;\n",
       "    }\n",
       "\n",
       "    .dataframe tbody tr th {\n",
       "        vertical-align: top;\n",
       "    }\n",
       "\n",
       "    .dataframe thead th {\n",
       "        text-align: right;\n",
       "    }\n",
       "</style>\n",
       "<table border=\"1\" class=\"dataframe\">\n",
       "  <thead>\n",
       "    <tr style=\"text-align: right;\">\n",
       "      <th></th>\n",
       "      <th>Drug_ID</th>\n",
       "      <th>Drug</th>\n",
       "      <th>Y</th>\n",
       "    </tr>\n",
       "  </thead>\n",
       "  <tbody>\n",
       "    <tr>\n",
       "      <th>0</th>\n",
       "      <td>VLA-4 antagonist 3</td>\n",
       "      <td>S1CN(S(=O)(=O)c2cn(nc2)C)[C@H](C(=O)N[C@@H](Cc...</td>\n",
       "      <td>-5.170000</td>\n",
       "    </tr>\n",
       "    <tr>\n",
       "      <th>1</th>\n",
       "      <td>Astilbin</td>\n",
       "      <td>O1[C@@H](C)[C@H](O)[C@@H](O)[C@@H](O)[C@@H]1O[...</td>\n",
       "      <td>-6.820000</td>\n",
       "    </tr>\n",
       "    <tr>\n",
       "      <th>2</th>\n",
       "      <td>[D-Ala2]Met-enkephalin</td>\n",
       "      <td>S(CC[C@H](NC(=O)[C@@H](NC(=O)CNC(=O)[C@H](NC(=...</td>\n",
       "      <td>-7.020000</td>\n",
       "    </tr>\n",
       "    <tr>\n",
       "      <th>3</th>\n",
       "      <td>Ketoconazole</td>\n",
       "      <td>Clc1cc(Cl)ccc1[C@]1(O[C@@H](CO1)COc1ccc(N2CCN(...</td>\n",
       "      <td>-4.753865</td>\n",
       "    </tr>\n",
       "    <tr>\n",
       "      <th>4</th>\n",
       "      <td>H 95/71</td>\n",
       "      <td>O(CC(O)CNC(C)C)c1ccc(NC=O)cc1</td>\n",
       "      <td>-5.427984</td>\n",
       "    </tr>\n",
       "    <tr>\n",
       "      <th>...</th>\n",
       "      <td>...</td>\n",
       "      <td>...</td>\n",
       "      <td>...</td>\n",
       "    </tr>\n",
       "    <tr>\n",
       "      <th>177</th>\n",
       "      <td>7</td>\n",
       "      <td>S(=O)(=O)(NC(Cc1cc(ccc1)C(N)=N)CC(=O)N1CCC(CC1...</td>\n",
       "      <td>-7.091294</td>\n",
       "    </tr>\n",
       "    <tr>\n",
       "      <th>178</th>\n",
       "      <td>Umbelliferone</td>\n",
       "      <td>O1c2cc(O)ccc2C=CC1=O</td>\n",
       "      <td>-4.571014</td>\n",
       "    </tr>\n",
       "    <tr>\n",
       "      <th>179</th>\n",
       "      <td>32</td>\n",
       "      <td>Clc1cc(NC(=O)c2n(ncc2)CCc2ccncc2)ccc1C(F)(F)F</td>\n",
       "      <td>-5.340000</td>\n",
       "    </tr>\n",
       "    <tr>\n",
       "      <th>180</th>\n",
       "      <td>8</td>\n",
       "      <td>Brc1ccc(cc1)CN(NC(=O)[C@@H](C(C)(C)C)CC(OC)=O)...</td>\n",
       "      <td>-5.320000</td>\n",
       "    </tr>\n",
       "    <tr>\n",
       "      <th>181</th>\n",
       "      <td>2</td>\n",
       "      <td>S(=O)(=O)(N[C@@H](Cc1ccc(cc1)C(N)=N)C(=O)N(C)C...</td>\n",
       "      <td>-6.698970</td>\n",
       "    </tr>\n",
       "  </tbody>\n",
       "</table>\n",
       "<p>182 rows × 3 columns</p>\n",
       "</div>"
      ],
      "text/plain": [
       "                    Drug_ID  \\\n",
       "0        VLA-4 antagonist 3   \n",
       "1                  Astilbin   \n",
       "2    [D-Ala2]Met-enkephalin   \n",
       "3              Ketoconazole   \n",
       "4                   H 95/71   \n",
       "..                      ...   \n",
       "177                       7   \n",
       "178           Umbelliferone   \n",
       "179                      32   \n",
       "180                       8   \n",
       "181                       2   \n",
       "\n",
       "                                                  Drug         Y  \n",
       "0    S1CN(S(=O)(=O)c2cn(nc2)C)[C@H](C(=O)N[C@@H](Cc... -5.170000  \n",
       "1    O1[C@@H](C)[C@H](O)[C@@H](O)[C@@H](O)[C@@H]1O[... -6.820000  \n",
       "2    S(CC[C@H](NC(=O)[C@@H](NC(=O)CNC(=O)[C@H](NC(=... -7.020000  \n",
       "3    Clc1cc(Cl)ccc1[C@]1(O[C@@H](CO1)COc1ccc(N2CCN(... -4.753865  \n",
       "4                        O(CC(O)CNC(C)C)c1ccc(NC=O)cc1 -5.427984  \n",
       "..                                                 ...       ...  \n",
       "177  S(=O)(=O)(NC(Cc1cc(ccc1)C(N)=N)CC(=O)N1CCC(CC1... -7.091294  \n",
       "178                               O1c2cc(O)ccc2C=CC1=O -4.571014  \n",
       "179      Clc1cc(NC(=O)c2n(ncc2)CCc2ccncc2)ccc1C(F)(F)F -5.340000  \n",
       "180  Brc1ccc(cc1)CN(NC(=O)[C@@H](C(C)(C)C)CC(OC)=O)... -5.320000  \n",
       "181  S(=O)(=O)(N[C@@H](Cc1ccc(cc1)C(N)=N)C(=O)N(C)C... -6.698970  \n",
       "\n",
       "[182 rows x 3 columns]"
      ]
     },
     "execution_count": 5,
     "metadata": {},
     "output_type": "execute_result"
    }
   ],
   "source": [
    "from tdc.single_pred import ADME\n",
    "data = ADME(name = 'Caco2_Wang')\n",
    "data.get_split()['test']"
   ]
  },
  {
   "cell_type": "code",
   "execution_count": null,
   "metadata": {},
   "outputs": [],
   "source": []
  }
 ],
 "metadata": {
  "kernelspec": {
   "display_name": "Python [conda env:DeepPurpose]",
   "language": "python",
   "name": "conda-env-DeepPurpose-py"
  },
  "language_info": {
   "codemirror_mode": {
    "name": "ipython",
    "version": 3
   },
   "file_extension": ".py",
   "mimetype": "text/x-python",
   "name": "python",
   "nbconvert_exporter": "python",
   "pygments_lexer": "ipython3",
   "version": "3.7.7"
  }
 },
 "nbformat": 4,
 "nbformat_minor": 2
}
