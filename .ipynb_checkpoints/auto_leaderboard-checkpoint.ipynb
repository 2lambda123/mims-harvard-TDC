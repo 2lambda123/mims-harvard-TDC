{
 "cells": [
  {
   "cell_type": "code",
   "execution_count": 1,
   "metadata": {},
   "outputs": [],
   "source": [
    "from ast import literal_eval\n",
    "import pandas as pd\n",
    "import numpy as np\n",
    "df = pd.read_csv('/Users/kexinhuang/Downloads/TDC Leaderboard Submission Form_.csv')"
   ]
  },
  {
   "cell_type": "code",
   "execution_count": 2,
   "metadata": {},
   "outputs": [],
   "source": [
    "df = df.rename(columns = {\n",
    "    df.columns.values[0]: 'Time',\n",
    "    df.columns.values[1]: 'Name',\n",
    "    df.columns.values[2]: 'Email',\n",
    "    df.columns.values[3]: 'Group',\n",
    "    df.columns.values[4]: 'Model',\n",
    "    df.columns.values[5]: 'Paper_URL',\n",
    "    df.columns.values[6]: 'Code_URL',\n",
    "    df.columns.values[7]: 'Result',\n",
    "    df.columns.values[8]: 'Hardware',\n",
    "    df.columns.values[9]: '#Params'    \n",
    "})\n",
    "df = df.drop(df.columns.values[10], axis = 1)"
   ]
  },
  {
   "cell_type": "code",
   "execution_count": 3,
   "metadata": {},
   "outputs": [],
   "source": [
    "df['Result'] = df.Result.apply(literal_eval)"
   ]
  },
  {
   "cell_type": "code",
   "execution_count": 4,
   "metadata": {},
   "outputs": [],
   "source": [
    "metrics_direction = {\n",
    "    'mae': 'desc',\n",
    "    'roc-auc': 'asc', \n",
    "    'pr-auc': 'asc',\n",
    "    'pcc': 'asc'\n",
    "}"
   ]
  },
  {
   "cell_type": "code",
   "execution_count": 5,
   "metadata": {},
   "outputs": [],
   "source": [
    "def retrieve_mean(x, categories):\n",
    "    l = []\n",
    "    for i in categories:\n",
    "        l.append(x[i][0])\n",
    "    return np.array(l)"
   ]
  },
  {
   "cell_type": "code",
   "execution_count": 9,
   "metadata": {},
   "outputs": [],
   "source": [
    "def get_entries(category):\n",
    "    results = np.stack(df_eval.Result.apply(lambda x: retrieve_mean(x, eval_names[category])).values)\n",
    "    print(results)\n",
    "    rank_dict = dict(zip(range(results.shape[0]), list([0] * results.shape[0])))\n",
    "\n",
    "    for idx, i in enumerate(range(results.T.shape[0])):\n",
    "        # for every benchmark\n",
    "        sort_idx = np.argsort(results.T[i], axis = 0)\n",
    "        if metrics_direction[eval_metrics[eval_names[category][idx]]] == 'desc':\n",
    "            sort_idx = np.argsort(results.T[i], axis = 0)\n",
    "        else:\n",
    "            sort_idx = np.argsort(results.T[i], axis = 0)[::-1]\n",
    "\n",
    "        for pos, val in enumerate(sort_idx):\n",
    "            rank_dict[val] = rank_dict[val] + pos\n",
    "\n",
    "    rank = [] # [rank for 1, rank for 2, ...]\n",
    "    for i in range(results.shape[0]):\n",
    "        rank.append(rank_dict[i])\n",
    "\n",
    "    out = np.argsort(rank)\n",
    "\n",
    "    idx2rank = dict(zip(out, list(range(len(out)))))\n",
    "    rank2idx = dict(zip(list(range(len(out))), out))\n",
    "\n",
    "    entries = []\n",
    "    for submit_idx in range(len(df_eval)):\n",
    "        temp = df_eval.iloc[submit_idx]\n",
    "        html_code = '<tr> \\n'\n",
    "        html_code = html_code + '  <td> ' + str(idx2rank[submit_idx] + 1) + ' </td> \\n'        \n",
    "        html_code = html_code + '  <td> ' + temp.Model + ' </td> \\n'\n",
    "        html_code = html_code + '  <td><a href=\"mailto:' + temp.Email + '\">' + temp.Name + '</a></td> \\n'\n",
    "        html_code = html_code + '  <td><a href=\"' + temp.Code_URL + '\"> GitHub</a>, <a href=\"' + temp.Paper_URL + '\">Paper </a></td> \\n'\n",
    "        value = int(temp['#Params'])\n",
    "        html_code = html_code + '  <td> ' + f'{value:,}' + ' </td> \\n'\n",
    "        for i in eval_names[category]:\n",
    "            html_code = html_code + '  <td>' + format(temp.Result[i][0], '.3f') + ' <span>&#177;</span> ' + format(temp.Result[i][1], '.3f') +' </td> \\n'\n",
    "        html_code += '</tr>'\n",
    "\n",
    "        entries.append(html_code)\n",
    "\n",
    "    for i in range(len(out)):\n",
    "        print(entries[rank2idx[i]])"
   ]
  },
  {
   "cell_type": "markdown",
   "metadata": {},
   "source": [
    "## ADMET Group"
   ]
  },
  {
   "cell_type": "code",
   "execution_count": 6,
   "metadata": {},
   "outputs": [],
   "source": [
    "df_eval = df[df.Group == 'ADMET Group']"
   ]
  },
  {
   "cell_type": "code",
   "execution_count": 7,
   "metadata": {},
   "outputs": [],
   "source": [
    "eval_metrics = {'caco2_wang': 'mae',\n",
    "            'hia_hou': 'roc-auc',\n",
    "            'pgp_broccatelli': 'roc-auc', \n",
    "            'bioavailability_ma': 'roc-auc',\n",
    "            'lipophilicity_astrazeneca': 'mae',\n",
    "            'solubility_aqsoldb': 'mae',\n",
    "            'bbb_martins': 'roc-auc',\n",
    "            'ppbr_az': 'mae',\n",
    "            'vdss_lombardo': 'pcc',\n",
    "            'cyp2c9_veith': 'pr-auc',\n",
    "            'cyp2d6_veith': 'pr-auc',\n",
    "            'cyp3a4_veith': 'pr-auc',\n",
    "            'cyp2c9_substrate_carbonmangels': 'pr-auc',\n",
    "            'cyp3a4_substrate_carbonmangels': 'roc-auc',\n",
    "            'cyp2d6_substrate_carbonmangels': 'pr-auc',\n",
    "            'half_life_obach': 'pcc',\n",
    "            'clearance_hepatocyte_az': 'pcc',\n",
    "            'clearance_microsome_az': 'pcc',\n",
    "            'ld50_zhu': 'mae',\n",
    "            'herg': 'roc-auc',\n",
    "            'ames': 'roc-auc',\n",
    "            'dili': 'roc-auc'\n",
    "            }"
   ]
  },
  {
   "cell_type": "code",
   "execution_count": 8,
   "metadata": {},
   "outputs": [],
   "source": [
    "eval_names = {\n",
    "    'Absorption': ['caco2_wang', 'hia_hou', 'pgp_broccatelli', 'bioavailability_ma', 'lipophilicity_astrazeneca', 'solubility_aqsoldb'],\n",
    "    'Distribution': ['bbb_martins', 'ppbr_az', 'vdss_lombardo'],\n",
    "    'Metabolism': ['cyp2c9_veith', 'cyp2d6_veith', 'cyp3a4_veith', 'cyp2c9_substrate_carbonmangels', 'cyp2d6_substrate_carbonmangels', 'cyp3a4_substrate_carbonmangels'],\n",
    "    'Excretion': ['half_life_obach', 'clearance_hepatocyte_az', 'clearance_microsome_az'],\n",
    "    'Toxicity': ['ld50_zhu', 'herg', 'ames', 'dili']\n",
    "}"
   ]
  },
  {
   "cell_type": "code",
   "execution_count": 10,
   "metadata": {},
   "outputs": [
    {
     "name": "stdout",
     "output_type": "stream",
     "text": [
      "[[0.675 0.754 0.776 0.792]\n",
      " [0.678 0.841 0.823 0.875]\n",
      " [0.649 0.736 0.794 0.832]]\n",
      "<tr> \n",
      "  <td> 1 </td> \n",
      "  <td> RDKit2D + MLP (DeepPurpose) </td> \n",
      "  <td><a href=\"mailto:kexinhuang@hsph.harvard.edu\">Kexin Huang</a></td> \n",
      "  <td><a href=\"https://github.com/mims-harvard/TDC/tree/master/examples/single_pred/admet\"> GitHub</a>, <a href=\"https://doi.org/10.1093/bioinformatics/btaa1005\">Paper </a></td> \n",
      "  <td> 633,409 </td> \n",
      "  <td>0.678 <span>&#177;</span> 0.003 </td> \n",
      "  <td>0.841 <span>&#177;</span> 0.020 </td> \n",
      "  <td>0.823 <span>&#177;</span> 0.011 </td> \n",
      "  <td>0.875 <span>&#177;</span> 0.019 </td> \n",
      "</tr>\n",
      "<tr> \n",
      "  <td> 2 </td> \n",
      "  <td> Morgan + MLP (DeepPurpose) </td> \n",
      "  <td><a href=\"mailto:kexinhuang@hsph.harvard.edu\">Kexin Huang</a></td> \n",
      "  <td><a href=\"https://github.com/mims-harvard/TDC/tree/master/examples/single_pred/admet\"> GitHub</a>, <a href=\"https://doi.org/10.1093/bioinformatics/btaa1005\">Paper </a></td> \n",
      "  <td> 1,477,185 </td> \n",
      "  <td>0.649 <span>&#177;</span> 0.019 </td> \n",
      "  <td>0.736 <span>&#177;</span> 0.023 </td> \n",
      "  <td>0.794 <span>&#177;</span> 0.008 </td> \n",
      "  <td>0.832 <span>&#177;</span> 0.021 </td> \n",
      "</tr>\n",
      "<tr> \n",
      "  <td> 3 </td> \n",
      "  <td> CNN (DeepPurpose) </td> \n",
      "  <td><a href=\"mailto:kexinhuang@hsph.harvard.edu\">Kexin Huang</a></td> \n",
      "  <td><a href=\"https://github.com/mims-harvard/TDC/tree/master/examples/single_pred/admet\"> GitHub</a>, <a href=\"https://doi.org/10.1093/bioinformatics/btaa1005\">Paper </a></td> \n",
      "  <td> 226,625 </td> \n",
      "  <td>0.675 <span>&#177;</span> 0.011 </td> \n",
      "  <td>0.754 <span>&#177;</span> 0.037 </td> \n",
      "  <td>0.776 <span>&#177;</span> 0.015 </td> \n",
      "  <td>0.792 <span>&#177;</span> 0.016 </td> \n",
      "</tr>\n"
     ]
    }
   ],
   "source": [
    "get_entries('Toxicity')"
   ]
  },
  {
   "cell_type": "markdown",
   "metadata": {},
   "source": [
    "## Drug Combination Group"
   ]
  },
  {
   "cell_type": "code",
   "execution_count": 11,
   "metadata": {},
   "outputs": [],
   "source": [
    "df_eval = df[df.Group == 'DrugCombo Group']"
   ]
  },
  {
   "cell_type": "code",
   "execution_count": 12,
   "metadata": {},
   "outputs": [],
   "source": [
    "eval_names = {'all_metrics': ['drugcomb_css', 'drugcomb_hsa', 'drugcomb_loewe', 'drugcomb_bliss', 'drugcomb_zip'],\n",
    "            'css_tissue': ['drugcomb_css_kidney', 'drugcomb_css_lung', 'drugcomb_css_breast', 'drugcomb_css_hematopoietic_lymphoid', 'drugcomb_css_colon', 'drugcomb_css_prostate', 'drugcomb_css_ovary', 'drugcomb_css_skin', 'drugcomb_css_brain']}"
   ]
  },
  {
   "cell_type": "code",
   "execution_count": 13,
   "metadata": {},
   "outputs": [],
   "source": [
    "eval_metrics = {i:'mae' for i in list(df_eval.Result.iloc[0].keys())}"
   ]
  },
  {
   "cell_type": "code",
   "execution_count": 14,
   "metadata": {},
   "outputs": [
    {
     "name": "stdout",
     "output_type": "stream",
     "text": [
      "[[16.858  4.453  9.184  4.56   4.027]]\n",
      "<tr> \n",
      "  <td> 1 </td> \n",
      "  <td> MLP </td> \n",
      "  <td><a href=\"mailto:yroohani@stanford.edu\">Yusuf Roohani</a></td> \n",
      "  <td><a href=\"https://github.com/mims-harvard/TDC/tree/master/examples/multi_pred/drugcombo\"> GitHub</a>, <a href=\"https://bmcbioinformatics.biomedcentral.com/articles/10.1186/s12859-018-2509-3\">Paper </a></td> \n",
      "  <td> 7,141,297 </td> \n",
      "  <td>16.858 <span>&#177;</span> 0.005 </td> \n",
      "  <td>4.453 <span>&#177;</span> 0.002 </td> \n",
      "  <td>9.184 <span>&#177;</span> 0.001 </td> \n",
      "  <td>4.560 <span>&#177;</span> 0.000 </td> \n",
      "  <td>4.027 <span>&#177;</span> 0.003 </td> \n",
      "</tr>\n"
     ]
    }
   ],
   "source": [
    "get_entries('all_metrics')"
   ]
  },
  {
   "cell_type": "code",
   "execution_count": 15,
   "metadata": {},
   "outputs": [
    {
     "name": "stdout",
     "output_type": "stream",
     "text": [
      "[[14.57  15.653 13.432 28.764 17.729 15.692 15.263 15.663 15.694]]\n",
      "<tr> \n",
      "  <td> 1 </td> \n",
      "  <td> MLP </td> \n",
      "  <td><a href=\"mailto:yroohani@stanford.edu\">Yusuf Roohani</a></td> \n",
      "  <td><a href=\"https://github.com/mims-harvard/TDC/tree/master/examples/multi_pred/drugcombo\"> GitHub</a>, <a href=\"https://bmcbioinformatics.biomedcentral.com/articles/10.1186/s12859-018-2509-3\">Paper </a></td> \n",
      "  <td> 7,141,297 </td> \n",
      "  <td>14.570 <span>&#177;</span> 0.003 </td> \n",
      "  <td>15.653 <span>&#177;</span> 0.017 </td> \n",
      "  <td>13.432 <span>&#177;</span> 0.049 </td> \n",
      "  <td>28.764 <span>&#177;</span> 0.201 </td> \n",
      "  <td>17.729 <span>&#177;</span> 0.042 </td> \n",
      "  <td>15.692 <span>&#177;</span> 0.005 </td> \n",
      "  <td>15.263 <span>&#177;</span> 0.041 </td> \n",
      "  <td>15.663 <span>&#177;</span> 0.065 </td> \n",
      "  <td>15.694 <span>&#177;</span> 0.006 </td> \n",
      "</tr>\n"
     ]
    }
   ],
   "source": [
    "get_entries('css_tissue')"
   ]
  },
  {
   "cell_type": "code",
   "execution_count": null,
   "metadata": {},
   "outputs": [],
   "source": []
  }
 ],
 "metadata": {
  "kernelspec": {
   "display_name": "Python 3",
   "language": "python",
   "name": "python3"
  },
  "language_info": {
   "codemirror_mode": {
    "name": "ipython",
    "version": 3
   },
   "file_extension": ".py",
   "mimetype": "text/x-python",
   "name": "python",
   "nbconvert_exporter": "python",
   "pygments_lexer": "ipython3",
   "version": "3.7.4"
  }
 },
 "nbformat": 4,
 "nbformat_minor": 2
}
