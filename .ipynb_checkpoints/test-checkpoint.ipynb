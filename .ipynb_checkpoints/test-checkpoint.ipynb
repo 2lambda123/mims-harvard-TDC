{
 "cells": [
  {
   "cell_type": "code",
   "execution_count": 75,
   "metadata": {},
   "outputs": [
    {
     "data": {
      "text/plain": [
       "array(['#ID ', ' Name ', ' CAS ', ' Year ', ' Status ',\n",
       "       ' Is_a_Metabolite ', ' Has_a_Metabolite ', ' Route ',\n",
       "       ' VD(liter) ', ' Cl(liter/hour) ', ' t1/2(hour) ',\n",
       "       ' PPB(percentage) ', ' F(percentage) ', ' Cmax ', ' Cmax_unit ',\n",
       "       ' Tmax(hour) ', ' Solubility'], dtype=object)"
      ]
     },
     "execution_count": 75,
     "metadata": {},
     "output_type": "execute_result"
    }
   ],
   "source": [
    "import os\n",
    "import pandas as pd\n",
    "df = pd.read_csv('/Users/kexinhuang/Downloads/e-Drug3D_1993_PK.txt', sep = ';')\n",
    "\n",
    "df.columns.values"
   ]
  },
  {
   "cell_type": "code",
   "execution_count": 1,
   "metadata": {},
   "outputs": [
    {
     "name": "stderr",
     "output_type": "stream",
     "text": [
      "There are 9982 unique drugs\n",
      "Done!\n"
     ]
    }
   ],
   "source": [
    "from tdc.property_pred import ADME\n",
    "data = ADME(name = 'Solubility_AqSolDB', path = './data2')"
   ]
  },
  {
   "cell_type": "code",
   "execution_count": 111,
   "metadata": {},
   "outputs": [],
   "source": [
    "def process(column):\n",
    "    df_VD = df[df[column] != '  '][[' Name ', column]]\n",
    "    SMILES = []\n",
    "    for i in df_VD[' Name '].values:\n",
    "        if i.lower()[1:-1] in df_db.Name.values:\n",
    "            SMILES.append(dict_[i.lower()[1:-1]])\n",
    "        else:\n",
    "            SMILES.append('NULL')\n",
    "            \n",
    "    df_VD['SMILES'] = SMILES\n",
    "    df_VD = df_VD[df_VD.SMILES != 'NULL']\n",
    "    df_VD = df_VD[df_VD.SMILES.apply(lambda x: isinstance(x, str))]\n",
    "    return df_VD"
   ]
  },
  {
   "cell_type": "code",
   "execution_count": 120,
   "metadata": {},
   "outputs": [],
   "source": [
    "df_Cl = process(' F(percentage) ')"
   ]
  },
  {
   "cell_type": "code",
   "execution_count": 121,
   "metadata": {},
   "outputs": [],
   "source": [
    "df_Cl.reset_index(drop = True).to_csv('/Users/kexinhuang/Downloads/bioavailability_eDrug3D.csv')"
   ]
  },
  {
   "cell_type": "code",
   "execution_count": null,
   "metadata": {},
   "outputs": [],
   "source": []
  },
  {
   "cell_type": "code",
   "execution_count": null,
   "metadata": {},
   "outputs": [],
   "source": []
  },
  {
   "cell_type": "code",
   "execution_count": 83,
   "metadata": {},
   "outputs": [],
   "source": [
    "df_VD = df[df[' VD(liter) '] != '  '][[' Name ', ' VD(liter) ']]"
   ]
  },
  {
   "cell_type": "code",
   "execution_count": 97,
   "metadata": {},
   "outputs": [
    {
     "data": {
      "text/plain": [
       "array([' TRIPTORELIN ', ' HISTAMINE ', ' THEOPHYLLINE ', ...,\n",
       "       ' SELUMETINIB ', ' RIPRETINIB ', ' M RIPRETINIB '], dtype=object)"
      ]
     },
     "execution_count": 97,
     "metadata": {},
     "output_type": "execute_result"
    }
   ],
   "source": [
    "df_VD[' Name '].values"
   ]
  },
  {
   "cell_type": "code",
   "execution_count": 146,
   "metadata": {},
   "outputs": [],
   "source": [
    "df_drugbank = pd.read_csv('/Users/kexinhuang/Downloads/structure links.csv')"
   ]
  },
  {
   "cell_type": "code",
   "execution_count": 85,
   "metadata": {},
   "outputs": [],
   "source": [
    "df_db.Name = df_db.Name.str.lower()"
   ]
  },
  {
   "cell_type": "code",
   "execution_count": 86,
   "metadata": {},
   "outputs": [],
   "source": [
    "dict_ = dict(df_db[['Name', 'SMILES']].values)"
   ]
  },
  {
   "cell_type": "code",
   "execution_count": 87,
   "metadata": {},
   "outputs": [
    {
     "data": {
      "text/plain": [
       "11414"
      ]
     },
     "execution_count": 87,
     "metadata": {},
     "output_type": "execute_result"
    }
   ],
   "source": [
    "len(dict_)"
   ]
  },
  {
   "cell_type": "code",
   "execution_count": 102,
   "metadata": {},
   "outputs": [],
   "source": [
    "SMILES = []\n",
    "for i in df_VD[' Name '].values:\n",
    "    if i.lower()[1:-1] in df_db.Name.values:\n",
    "        SMILES.append(dict_[i.lower()[1:-1]])\n",
    "    else:\n",
    "        SMILES.append('NULL')"
   ]
  },
  {
   "cell_type": "code",
   "execution_count": 103,
   "metadata": {},
   "outputs": [],
   "source": [
    "df_VD['SMILES'] = SMILES"
   ]
  },
  {
   "cell_type": "code",
   "execution_count": 105,
   "metadata": {},
   "outputs": [],
   "source": [
    "df_VD = df_VD[df_VD.SMILES != 'NULL']"
   ]
  },
  {
   "cell_type": "code",
   "execution_count": 107,
   "metadata": {},
   "outputs": [
    {
     "data": {
      "text/plain": [
       "984"
      ]
     },
     "execution_count": 107,
     "metadata": {},
     "output_type": "execute_result"
    }
   ],
   "source": [
    "len(df_VD)"
   ]
  },
  {
   "cell_type": "code",
   "execution_count": 108,
   "metadata": {},
   "outputs": [],
   "source": [
    "df_VD = df_VD[df_VD.SMILES.apply(lambda x: isinstance(x, str))]"
   ]
  },
  {
   "cell_type": "code",
   "execution_count": 109,
   "metadata": {},
   "outputs": [],
   "source": [
    "df_VD.reset_index(drop = True).to_csv('/Users/kexinhuang/Downloads/VD_eDrug3D.csv')"
   ]
  },
  {
   "cell_type": "code",
   "execution_count": null,
   "metadata": {},
   "outputs": [],
   "source": []
  },
  {
   "cell_type": "code",
   "execution_count": 277,
   "metadata": {},
   "outputs": [],
   "source": [
    "headers = pd.read_csv('/Users/kexinhuang/Downloads/AID_1851_datatable.csv').columns.values"
   ]
  },
  {
   "cell_type": "code",
   "execution_count": 278,
   "metadata": {},
   "outputs": [],
   "source": [
    "df_db = pd.read_csv('/Users/kexinhuang/Downloads/AID_1851_datatable.csv', skiprows = 8)"
   ]
  },
  {
   "cell_type": "code",
   "execution_count": 279,
   "metadata": {},
   "outputs": [],
   "source": [
    "df_db.columns = pd.Series(headers)"
   ]
  },
  {
   "cell_type": "code",
   "execution_count": 280,
   "metadata": {},
   "outputs": [],
   "source": [
    "df_db = df_db[df_db.PUBCHEM_CID.notnull()]"
   ]
  },
  {
   "cell_type": "code",
   "execution_count": 304,
   "metadata": {},
   "outputs": [],
   "source": [
    "str_ = '2c19'\n",
    "index = ''\n",
    "df_cyp = df_db[['PUBCHEM_CID', 'Inhibition Observed', 'Activity Outcome' + index, 'p450-cyp' + str_ + '-Potency']]\n",
    "df_cyp['SMILES'] = [cid2smiles[i] for i in df_cyp.PUBCHEM_CID.values]"
   ]
  },
  {
   "cell_type": "code",
   "execution_count": 305,
   "metadata": {},
   "outputs": [],
   "source": [
    "df_cyp = df_cyp[df_cyp['Activity Outcome'+ index].isin(['Active', 'Inactive'])]"
   ]
  },
  {
   "cell_type": "code",
   "execution_count": 306,
   "metadata": {},
   "outputs": [],
   "source": [
    "df_cyp['Label'] = 1\n",
    "df_cyp.loc[(df_cyp['Activity Outcome'+ index] == 'Inactive').values, 'Label'] = 0"
   ]
  },
  {
   "cell_type": "code",
   "execution_count": 307,
   "metadata": {},
   "outputs": [],
   "source": [
    "df_cyp.reset_index(drop = True).to_csv('/Users/kexinhuang/Downloads/CYP' + str_.upper() + '.csv')"
   ]
  },
  {
   "cell_type": "code",
   "execution_count": 312,
   "metadata": {},
   "outputs": [
    {
     "data": {
      "text/html": [
       "<div>\n",
       "<style scoped>\n",
       "    .dataframe tbody tr th:only-of-type {\n",
       "        vertical-align: middle;\n",
       "    }\n",
       "\n",
       "    .dataframe tbody tr th {\n",
       "        vertical-align: top;\n",
       "    }\n",
       "\n",
       "    .dataframe thead th {\n",
       "        text-align: right;\n",
       "    }\n",
       "</style>\n",
       "<table border=\"1\" class=\"dataframe\">\n",
       "  <thead>\n",
       "    <tr style=\"text-align: right;\">\n",
       "      <th></th>\n",
       "      <th>PUBCHEM_CID</th>\n",
       "      <th>Inhibition Observed</th>\n",
       "      <th>Activity Outcome</th>\n",
       "      <th>p450-cyp2c19-Potency</th>\n",
       "      <th>SMILES</th>\n",
       "      <th>Label</th>\n",
       "    </tr>\n",
       "  </thead>\n",
       "  <tbody>\n",
       "    <tr>\n",
       "      <th>0</th>\n",
       "      <td>6602638.0</td>\n",
       "      <td>True</td>\n",
       "      <td>Inactive</td>\n",
       "      <td>NaN</td>\n",
       "      <td>CCCC(=O)NC1=CC(=C(C=C1)N2CCN(CC2)CC)Cl.Cl</td>\n",
       "      <td>0</td>\n",
       "    </tr>\n",
       "    <tr>\n",
       "      <th>3</th>\n",
       "      <td>644675.0</td>\n",
       "      <td>True</td>\n",
       "      <td>Active</td>\n",
       "      <td>0.316228</td>\n",
       "      <td>CC(=O)N(C1=CC2=C(C=C1)OC(=O)S2)S(=O)(=O)C3=CC=CS3</td>\n",
       "      <td>1</td>\n",
       "    </tr>\n",
       "    <tr>\n",
       "      <th>4</th>\n",
       "      <td>644851.0</td>\n",
       "      <td>True</td>\n",
       "      <td>Active</td>\n",
       "      <td>17.782800</td>\n",
       "      <td>C1=CC=C(C=C1)C2=NNC(=N2)C3=CC=CC=C3Cl</td>\n",
       "      <td>1</td>\n",
       "    </tr>\n",
       "    <tr>\n",
       "      <th>5</th>\n",
       "      <td>644890.0</td>\n",
       "      <td>True</td>\n",
       "      <td>Active</td>\n",
       "      <td>2.238720</td>\n",
       "      <td>CC(C)(C)N1C(=NN=N1)C(C2=CC=CC=C2OC)N3CCN(CC3)C...</td>\n",
       "      <td>1</td>\n",
       "    </tr>\n",
       "    <tr>\n",
       "      <th>6</th>\n",
       "      <td>644968.0</td>\n",
       "      <td>True</td>\n",
       "      <td>Active</td>\n",
       "      <td>8.912510</td>\n",
       "      <td>COC1=CC=CC=C1CNC(=O)CN2N=C(N=N2)C3=CC=NC=C3</td>\n",
       "      <td>1</td>\n",
       "    </tr>\n",
       "    <tr>\n",
       "      <th>...</th>\n",
       "      <td>...</td>\n",
       "      <td>...</td>\n",
       "      <td>...</td>\n",
       "      <td>...</td>\n",
       "      <td>...</td>\n",
       "      <td>...</td>\n",
       "    </tr>\n",
       "    <tr>\n",
       "      <th>17137</th>\n",
       "      <td>16758814.0</td>\n",
       "      <td>True</td>\n",
       "      <td>Inactive</td>\n",
       "      <td>NaN</td>\n",
       "      <td>CCN1C(=O)[C@@H]2CC[C@H]3[C@H]([C@@H]2C1=O)[C@@...</td>\n",
       "      <td>0</td>\n",
       "    </tr>\n",
       "    <tr>\n",
       "      <th>17139</th>\n",
       "      <td>16758816.0</td>\n",
       "      <td>False</td>\n",
       "      <td>Inactive</td>\n",
       "      <td>NaN</td>\n",
       "      <td>C1COC2([C@@H]3[C@H](O3)[C@H]([C@@H]4C2=CC[C@H]...</td>\n",
       "      <td>0</td>\n",
       "    </tr>\n",
       "    <tr>\n",
       "      <th>17140</th>\n",
       "      <td>16758817.0</td>\n",
       "      <td>True</td>\n",
       "      <td>Active</td>\n",
       "      <td>1.584890</td>\n",
       "      <td>CCN1C(=O)[C@H]2CC=C3[C@H]([C@H]2C1=O)[C@@H]([C...</td>\n",
       "      <td>1</td>\n",
       "    </tr>\n",
       "    <tr>\n",
       "      <th>17141</th>\n",
       "      <td>16758818.0</td>\n",
       "      <td>False</td>\n",
       "      <td>Inactive</td>\n",
       "      <td>NaN</td>\n",
       "      <td>C[C@H](C1=CC=CC=C1)N2C(=O)[C@@H]3CC[C@H]4[C@H]...</td>\n",
       "      <td>0</td>\n",
       "    </tr>\n",
       "    <tr>\n",
       "      <th>17142</th>\n",
       "      <td>10847630.0</td>\n",
       "      <td>False</td>\n",
       "      <td>Inactive</td>\n",
       "      <td>NaN</td>\n",
       "      <td>COC(=O)NC/C=C\\\\C1=NC(=CO1)CCCO</td>\n",
       "      <td>0</td>\n",
       "    </tr>\n",
       "  </tbody>\n",
       "</table>\n",
       "<p>13427 rows × 6 columns</p>\n",
       "</div>"
      ],
      "text/plain": [
       "       PUBCHEM_CID  Inhibition Observed Activity Outcome  \\\n",
       "0        6602638.0                 True         Inactive   \n",
       "3         644675.0                 True           Active   \n",
       "4         644851.0                 True           Active   \n",
       "5         644890.0                 True           Active   \n",
       "6         644968.0                 True           Active   \n",
       "...            ...                  ...              ...   \n",
       "17137   16758814.0                 True         Inactive   \n",
       "17139   16758816.0                False         Inactive   \n",
       "17140   16758817.0                 True           Active   \n",
       "17141   16758818.0                False         Inactive   \n",
       "17142   10847630.0                False         Inactive   \n",
       "\n",
       "       p450-cyp2c19-Potency  \\\n",
       "0                       NaN   \n",
       "3                  0.316228   \n",
       "4                 17.782800   \n",
       "5                  2.238720   \n",
       "6                  8.912510   \n",
       "...                     ...   \n",
       "17137                   NaN   \n",
       "17139                   NaN   \n",
       "17140              1.584890   \n",
       "17141                   NaN   \n",
       "17142                   NaN   \n",
       "\n",
       "                                                  SMILES  Label  \n",
       "0              CCCC(=O)NC1=CC(=C(C=C1)N2CCN(CC2)CC)Cl.Cl      0  \n",
       "3      CC(=O)N(C1=CC2=C(C=C1)OC(=O)S2)S(=O)(=O)C3=CC=CS3      1  \n",
       "4                  C1=CC=C(C=C1)C2=NNC(=N2)C3=CC=CC=C3Cl      1  \n",
       "5      CC(C)(C)N1C(=NN=N1)C(C2=CC=CC=C2OC)N3CCN(CC3)C...      1  \n",
       "6            COC1=CC=CC=C1CNC(=O)CN2N=C(N=N2)C3=CC=NC=C3      1  \n",
       "...                                                  ...    ...  \n",
       "17137  CCN1C(=O)[C@@H]2CC[C@H]3[C@H]([C@@H]2C1=O)[C@@...      0  \n",
       "17139  C1COC2([C@@H]3[C@H](O3)[C@H]([C@@H]4C2=CC[C@H]...      0  \n",
       "17140  CCN1C(=O)[C@H]2CC=C3[C@H]([C@H]2C1=O)[C@@H]([C...      1  \n",
       "17141  C[C@H](C1=CC=CC=C1)N2C(=O)[C@@H]3CC[C@H]4[C@H]...      0  \n",
       "17142                     COC(=O)NC/C=C\\\\C1=NC(=CO1)CCCO      0  \n",
       "\n",
       "[13427 rows x 6 columns]"
      ]
     },
     "execution_count": 312,
     "metadata": {},
     "output_type": "execute_result"
    }
   ],
   "source": [
    "df_cyp"
   ]
  },
  {
   "cell_type": "code",
   "execution_count": 323,
   "metadata": {},
   "outputs": [
    {
     "data": {
      "text/html": [
       "<div>\n",
       "<style scoped>\n",
       "    .dataframe tbody tr th:only-of-type {\n",
       "        vertical-align: middle;\n",
       "    }\n",
       "\n",
       "    .dataframe tbody tr th {\n",
       "        vertical-align: top;\n",
       "    }\n",
       "\n",
       "    .dataframe thead th {\n",
       "        text-align: right;\n",
       "    }\n",
       "</style>\n",
       "<table border=\"1\" class=\"dataframe\">\n",
       "  <thead>\n",
       "    <tr style=\"text-align: right;\">\n",
       "      <th></th>\n",
       "      <th>PUBCHEM_CID</th>\n",
       "      <th>Inhibition Observed</th>\n",
       "      <th>Activity Outcome</th>\n",
       "      <th>p450-cyp2c19-Potency</th>\n",
       "      <th>SMILES</th>\n",
       "      <th>Label</th>\n",
       "    </tr>\n",
       "  </thead>\n",
       "  <tbody>\n",
       "    <tr>\n",
       "      <th>0</th>\n",
       "      <td>6602638.0</td>\n",
       "      <td>True</td>\n",
       "      <td>Inactive</td>\n",
       "      <td>NaN</td>\n",
       "      <td>CCCC(=O)NC1=CC(=C(C=C1)N2CCN(CC2)CC)Cl.Cl</td>\n",
       "      <td>0</td>\n",
       "    </tr>\n",
       "    <tr>\n",
       "      <th>1</th>\n",
       "      <td>644675.0</td>\n",
       "      <td>True</td>\n",
       "      <td>Active</td>\n",
       "      <td>0.316228</td>\n",
       "      <td>CC(=O)N(C1=CC2=C(C=C1)OC(=O)S2)S(=O)(=O)C3=CC=CS3</td>\n",
       "      <td>1</td>\n",
       "    </tr>\n",
       "    <tr>\n",
       "      <th>2</th>\n",
       "      <td>644851.0</td>\n",
       "      <td>True</td>\n",
       "      <td>Active</td>\n",
       "      <td>17.782800</td>\n",
       "      <td>C1=CC=C(C=C1)C2=NNC(=N2)C3=CC=CC=C3Cl</td>\n",
       "      <td>1</td>\n",
       "    </tr>\n",
       "    <tr>\n",
       "      <th>3</th>\n",
       "      <td>644890.0</td>\n",
       "      <td>True</td>\n",
       "      <td>Active</td>\n",
       "      <td>2.238720</td>\n",
       "      <td>CC(C)(C)N1C(=NN=N1)C(C2=CC=CC=C2OC)N3CCN(CC3)C...</td>\n",
       "      <td>1</td>\n",
       "    </tr>\n",
       "    <tr>\n",
       "      <th>4</th>\n",
       "      <td>644968.0</td>\n",
       "      <td>True</td>\n",
       "      <td>Active</td>\n",
       "      <td>8.912510</td>\n",
       "      <td>COC1=CC=CC=C1CNC(=O)CN2N=C(N=N2)C3=CC=NC=C3</td>\n",
       "      <td>1</td>\n",
       "    </tr>\n",
       "    <tr>\n",
       "      <th>...</th>\n",
       "      <td>...</td>\n",
       "      <td>...</td>\n",
       "      <td>...</td>\n",
       "      <td>...</td>\n",
       "      <td>...</td>\n",
       "      <td>...</td>\n",
       "    </tr>\n",
       "    <tr>\n",
       "      <th>13422</th>\n",
       "      <td>16758814.0</td>\n",
       "      <td>True</td>\n",
       "      <td>Inactive</td>\n",
       "      <td>NaN</td>\n",
       "      <td>CCN1C(=O)[C@@H]2CC[C@H]3[C@H]([C@@H]2C1=O)[C@@...</td>\n",
       "      <td>0</td>\n",
       "    </tr>\n",
       "    <tr>\n",
       "      <th>13423</th>\n",
       "      <td>16758816.0</td>\n",
       "      <td>False</td>\n",
       "      <td>Inactive</td>\n",
       "      <td>NaN</td>\n",
       "      <td>C1COC2([C@@H]3[C@H](O3)[C@H]([C@@H]4C2=CC[C@H]...</td>\n",
       "      <td>0</td>\n",
       "    </tr>\n",
       "    <tr>\n",
       "      <th>13424</th>\n",
       "      <td>16758817.0</td>\n",
       "      <td>True</td>\n",
       "      <td>Active</td>\n",
       "      <td>1.584890</td>\n",
       "      <td>CCN1C(=O)[C@H]2CC=C3[C@H]([C@H]2C1=O)[C@@H]([C...</td>\n",
       "      <td>1</td>\n",
       "    </tr>\n",
       "    <tr>\n",
       "      <th>13425</th>\n",
       "      <td>16758818.0</td>\n",
       "      <td>False</td>\n",
       "      <td>Inactive</td>\n",
       "      <td>NaN</td>\n",
       "      <td>C[C@H](C1=CC=CC=C1)N2C(=O)[C@@H]3CC[C@H]4[C@H]...</td>\n",
       "      <td>0</td>\n",
       "    </tr>\n",
       "    <tr>\n",
       "      <th>13426</th>\n",
       "      <td>10847630.0</td>\n",
       "      <td>False</td>\n",
       "      <td>Inactive</td>\n",
       "      <td>NaN</td>\n",
       "      <td>COC(=O)NC/C=C\\\\C1=NC(=CO1)CCCO</td>\n",
       "      <td>0</td>\n",
       "    </tr>\n",
       "  </tbody>\n",
       "</table>\n",
       "<p>12665 rows × 6 columns</p>\n",
       "</div>"
      ],
      "text/plain": [
       "       PUBCHEM_CID  Inhibition Observed Activity Outcome  \\\n",
       "0        6602638.0                 True         Inactive   \n",
       "1         644675.0                 True           Active   \n",
       "2         644851.0                 True           Active   \n",
       "3         644890.0                 True           Active   \n",
       "4         644968.0                 True           Active   \n",
       "...            ...                  ...              ...   \n",
       "13422   16758814.0                 True         Inactive   \n",
       "13423   16758816.0                False         Inactive   \n",
       "13424   16758817.0                 True           Active   \n",
       "13425   16758818.0                False         Inactive   \n",
       "13426   10847630.0                False         Inactive   \n",
       "\n",
       "       p450-cyp2c19-Potency  \\\n",
       "0                       NaN   \n",
       "1                  0.316228   \n",
       "2                 17.782800   \n",
       "3                  2.238720   \n",
       "4                  8.912510   \n",
       "...                     ...   \n",
       "13422                   NaN   \n",
       "13423                   NaN   \n",
       "13424              1.584890   \n",
       "13425                   NaN   \n",
       "13426                   NaN   \n",
       "\n",
       "                                                  SMILES  Label  \n",
       "0              CCCC(=O)NC1=CC(=C(C=C1)N2CCN(CC2)CC)Cl.Cl      0  \n",
       "1      CC(=O)N(C1=CC2=C(C=C1)OC(=O)S2)S(=O)(=O)C3=CC=CS3      1  \n",
       "2                  C1=CC=C(C=C1)C2=NNC(=N2)C3=CC=CC=C3Cl      1  \n",
       "3      CC(C)(C)N1C(=NN=N1)C(C2=CC=CC=C2OC)N3CCN(CC3)C...      1  \n",
       "4            COC1=CC=CC=C1CNC(=O)CN2N=C(N=N2)C3=CC=NC=C3      1  \n",
       "...                                                  ...    ...  \n",
       "13422  CCN1C(=O)[C@@H]2CC[C@H]3[C@H]([C@@H]2C1=O)[C@@...      0  \n",
       "13423  C1COC2([C@@H]3[C@H](O3)[C@H]([C@@H]4C2=CC[C@H]...      0  \n",
       "13424  CCN1C(=O)[C@H]2CC=C3[C@H]([C@H]2C1=O)[C@@H]([C...      1  \n",
       "13425  C[C@H](C1=CC=CC=C1)N2C(=O)[C@@H]3CC[C@H]4[C@H]...      0  \n",
       "13426                     COC(=O)NC/C=C\\\\C1=NC(=CO1)CCCO      0  \n",
       "\n",
       "[12665 rows x 6 columns]"
      ]
     },
     "execution_count": 323,
     "metadata": {},
     "output_type": "execute_result"
    }
   ],
   "source": [
    "df_cyp = df_cyp.reset_index(drop = True)\n",
    "df_cyp.iloc[df_cyp['SMILES'].drop_duplicates(keep = False).index.values]"
   ]
  },
  {
   "cell_type": "code",
   "execution_count": 170,
   "metadata": {},
   "outputs": [],
   "source": [
    "df_pubchem = df_db.PUBCHEM_CID.values"
   ]
  },
  {
   "cell_type": "code",
   "execution_count": 171,
   "metadata": {},
   "outputs": [],
   "source": [
    "f = open(\"cids.txt\", \"a\")\n",
    "for i in df_pubchem:\n",
    "    f.write(str(int(i)))\n",
    "    f.write(',')\n",
    "f.close()"
   ]
  },
  {
   "cell_type": "code",
   "execution_count": 184,
   "metadata": {},
   "outputs": [],
   "source": [
    "cid2smiles = dict([[i[0], i[1][:-1]] for i in pd.read_csv(\"cids_smiles.txt\", sep = '\\t', header = None).values])"
   ]
  },
  {
   "cell_type": "code",
   "execution_count": 190,
   "metadata": {},
   "outputs": [
    {
     "name": "stderr",
     "output_type": "stream",
     "text": [
      "/Users/kexinhuang/opt/anaconda3/envs/DeepPurpose/lib/python3.7/site-packages/ipykernel_launcher.py:1: SettingWithCopyWarning: \n",
      "A value is trying to be set on a copy of a slice from a DataFrame.\n",
      "Try using .loc[row_indexer,col_indexer] = value instead\n",
      "\n",
      "See the caveats in the documentation: https://pandas.pydata.org/pandas-docs/stable/user_guide/indexing.html#returning-a-view-versus-a-copy\n",
      "  \"\"\"Entry point for launching an IPython kernel.\n"
     ]
    }
   ],
   "source": [
    "df_cyp['SMILES'] = [cid2smiles[i] for i in df_cyp.PUBCHEM_CID.values]"
   ]
  },
  {
   "cell_type": "code",
   "execution_count": 1,
   "metadata": {},
   "outputs": [
    {
     "name": "stderr",
     "output_type": "stream",
     "text": [
      "Dataset already downloaded in the local system...\n",
      "There are 4200 unique drugs\n",
      "Done!\n",
      "100%|██████████| 4200/4200 [00:03<00:00, 1399.19it/s]\n"
     ]
    },
    {
     "data": {
      "text/html": [
       "<div>\n",
       "<style scoped>\n",
       "    .dataframe tbody tr th:only-of-type {\n",
       "        vertical-align: middle;\n",
       "    }\n",
       "\n",
       "    .dataframe tbody tr th {\n",
       "        vertical-align: top;\n",
       "    }\n",
       "\n",
       "    .dataframe thead th {\n",
       "        text-align: right;\n",
       "    }\n",
       "</style>\n",
       "<table border=\"1\" class=\"dataframe\">\n",
       "  <thead>\n",
       "    <tr style=\"text-align: right;\">\n",
       "      <th></th>\n",
       "      <th>Drug_ID</th>\n",
       "      <th>Drug</th>\n",
       "      <th>Y</th>\n",
       "    </tr>\n",
       "  </thead>\n",
       "  <tbody>\n",
       "    <tr>\n",
       "      <th>0</th>\n",
       "      <td>CHEMBL322122</td>\n",
       "      <td>CC(C)C(=O)NCCNCC(O)COc1ccc(O)cc1</td>\n",
       "      <td>-0.15</td>\n",
       "    </tr>\n",
       "    <tr>\n",
       "      <th>1</th>\n",
       "      <td>CHEMBL569</td>\n",
       "      <td>CCN(CC)CCOC(=O)c1ccc(N)cc1</td>\n",
       "      <td>0.00</td>\n",
       "    </tr>\n",
       "  </tbody>\n",
       "</table>\n",
       "</div>"
      ],
      "text/plain": [
       "        Drug_ID                              Drug     Y\n",
       "0  CHEMBL322122  CC(C)C(=O)NCCNCC(O)COc1ccc(O)cc1 -0.15\n",
       "1     CHEMBL569        CCN(CC)CCOC(=O)c1ccc(N)cc1  0.00"
      ]
     },
     "execution_count": 1,
     "metadata": {},
     "output_type": "execute_result"
    }
   ],
   "source": [
    "from DrugDataLoader import ADMET\n",
    "data = ADMET.DataLoader(name = 'Lipo_AZ')\n",
    "split = data.get_split(method = 'scaffold')\n",
    "split['train'].head(2)"
   ]
  },
  {
   "cell_type": "code",
   "execution_count": 2,
   "metadata": {},
   "outputs": [
    {
     "name": "stderr",
     "output_type": "stream",
     "text": [
      "Download zip file...\n",
      "Extract zip file...\n",
      "There are 161024 unique drugs\n",
      "Done!\n",
      " 19%|█▊        | 30102/161024 [00:18<01:21, 1612.20it/s]RDKit WARNING: [21:50:20] WARNING: not removing hydrogen atom without neighbors\n",
      " 65%|██████▍   | 104270/161024 [01:03<00:33, 1681.32it/s]RDKit WARNING: [21:51:04] WARNING: not removing hydrogen atom without neighbors\n",
      "100%|██████████| 161024/161024 [01:36<00:00, 1663.11it/s]\n"
     ]
    },
    {
     "data": {
      "text/html": [
       "<div>\n",
       "<style scoped>\n",
       "    .dataframe tbody tr th:only-of-type {\n",
       "        vertical-align: middle;\n",
       "    }\n",
       "\n",
       "    .dataframe tbody tr th {\n",
       "        vertical-align: top;\n",
       "    }\n",
       "\n",
       "    .dataframe thead th {\n",
       "        text-align: right;\n",
       "    }\n",
       "</style>\n",
       "<table border=\"1\" class=\"dataframe\">\n",
       "  <thead>\n",
       "    <tr style=\"text-align: right;\">\n",
       "      <th></th>\n",
       "      <th>Drug_ID</th>\n",
       "      <th>Drug</th>\n",
       "      <th>Y</th>\n",
       "    </tr>\n",
       "  </thead>\n",
       "  <tbody>\n",
       "    <tr>\n",
       "      <th>0</th>\n",
       "      <td>CID2958354</td>\n",
       "      <td>CCC(CO)NCC#Cc1ccccc1</td>\n",
       "      <td>0.0</td>\n",
       "    </tr>\n",
       "    <tr>\n",
       "      <th>1</th>\n",
       "      <td>CID294770</td>\n",
       "      <td>COc1cc(C=C(C(C)=O)C(C)=O)ccc1O</td>\n",
       "      <td>0.0</td>\n",
       "    </tr>\n",
       "  </tbody>\n",
       "</table>\n",
       "</div>"
      ],
      "text/plain": [
       "      Drug_ID                            Drug    Y\n",
       "0  CID2958354            CCC(CO)NCC#Cc1ccccc1  0.0\n",
       "1   CID294770  COc1cc(C=C(C(C)=O)C(C)=O)ccc1O  0.0"
      ]
     },
     "execution_count": 2,
     "metadata": {},
     "output_type": "execute_result"
    }
   ],
   "source": [
    "from DrugDataLoader import HTS\n",
    "data = HTS.DataLoader(name = 'PCBA', target = 'PCBA-1030')\n",
    "split = data.get_split(method = 'scaffold')\n",
    "split['train'].head(2)"
   ]
  },
  {
   "cell_type": "code",
   "execution_count": 1,
   "metadata": {},
   "outputs": [
    {
     "name": "stderr",
     "output_type": "stream",
     "text": [
      "Retrieving SMILES strings for the drugs...\n",
      "Dataset already downloaded in the local system...\n",
      "100%|██████████| 1952/1952 [04:53<00:00,  6.66it/s]\n",
      "There are 1952 unique drugs\n",
      "Done!\n",
      "  0%|          | 0/1952 [00:00<?, ?it/s]RDKit WARNING: [21:58:46] WARNING: not removing hydrogen atom without neighbors\n",
      " 69%|██████▊   | 1339/1952 [00:00<00:00, 1918.13it/s]RDKit WARNING: [21:58:47] WARNING: not removing hydrogen atom without neighbors\n",
      "RDKit WARNING: [21:58:47] WARNING: not removing hydrogen atom without neighbors\n",
      " 79%|███████▉  | 1548/1952 [00:00<00:00, 1964.63it/s]RDKit WARNING: [21:58:47] WARNING: not removing hydrogen atom without neighbors\n",
      "RDKit WARNING: [21:58:47] WARNING: not removing hydrogen atom without neighbors\n",
      "RDKit WARNING: [21:58:47] WARNING: not removing hydrogen atom without neighbors\n",
      "100%|██████████| 1952/1952 [00:01<00:00, 1890.39it/s]\n"
     ]
    },
    {
     "data": {
      "text/html": [
       "<div>\n",
       "<style scoped>\n",
       "    .dataframe tbody tr th:only-of-type {\n",
       "        vertical-align: middle;\n",
       "    }\n",
       "\n",
       "    .dataframe tbody tr th {\n",
       "        vertical-align: top;\n",
       "    }\n",
       "\n",
       "    .dataframe thead th {\n",
       "        text-align: right;\n",
       "    }\n",
       "</style>\n",
       "<table border=\"1\" class=\"dataframe\">\n",
       "  <thead>\n",
       "    <tr style=\"text-align: right;\">\n",
       "      <th></th>\n",
       "      <th>Drug_ID</th>\n",
       "      <th>Drug</th>\n",
       "      <th>Y</th>\n",
       "    </tr>\n",
       "  </thead>\n",
       "  <tbody>\n",
       "    <tr>\n",
       "      <th>0</th>\n",
       "      <td>97116.0</td>\n",
       "      <td>COc1cc(C(=O)O)c([N+](=O)[O-])c(OC)c1OC</td>\n",
       "      <td>0</td>\n",
       "    </tr>\n",
       "    <tr>\n",
       "      <th>1</th>\n",
       "      <td>265127.0</td>\n",
       "      <td>CC(=O)Nc1ccc(S(=O)(=O)N=S(C)C)cc1</td>\n",
       "      <td>1</td>\n",
       "    </tr>\n",
       "  </tbody>\n",
       "</table>\n",
       "</div>"
      ],
      "text/plain": [
       "    Drug_ID                                    Drug  Y\n",
       "0   97116.0  COc1cc(C(=O)O)c([N+](=O)[O-])c(OC)c1OC  0\n",
       "1  265127.0       CC(=O)Nc1ccc(S(=O)(=O)N=S(C)C)cc1  1"
      ]
     },
     "execution_count": 1,
     "metadata": {},
     "output_type": "execute_result"
    }
   ],
   "source": [
    "from DrugDataLoader import HTS\n",
    "data = HTS.DataLoader(name = 'PubChemAID', target = 376)\n",
    "split = data.get_split(method = 'scaffold')\n",
    "split['train'].head(2)"
   ]
  },
  {
   "cell_type": "code",
   "execution_count": null,
   "metadata": {},
   "outputs": [],
   "source": []
  },
  {
   "cell_type": "code",
   "execution_count": null,
   "metadata": {},
   "outputs": [],
   "source": []
  },
  {
   "cell_type": "code",
   "execution_count": null,
   "metadata": {},
   "outputs": [],
   "source": [
    "from DrugDataLoader import ADMET\n",
    "data = ADMET.DataLoader(name = 'Lipo_AZ')\n",
    "split = data.get_split(method = 'scaffold')\n",
    "split['train'].head(2)"
   ]
  },
  {
   "cell_type": "code",
   "execution_count": null,
   "metadata": {},
   "outputs": [],
   "source": []
  },
  {
   "cell_type": "code",
   "execution_count": 1,
   "metadata": {},
   "outputs": [],
   "source": [
    "import pandas as pd\n",
    "from tqdm import tqdm\n",
    "from DrugDataLoader import utils\n",
    "df = pd.read_csv('./data/AID_651741_datatable_all.csv')[['PUBCHEM_CID', 'PUBCHEM_ACTIVITY_OUTCOME']].drop_duplicates(keep = False)\n",
    "df = df[df.PUBCHEM_CID.notnull()]"
   ]
  },
  {
   "cell_type": "code",
   "execution_count": 5,
   "metadata": {},
   "outputs": [],
   "source": [
    "import numpy as np\n",
    "label_set = np.unique(df.PUBCHEM_ACTIVITY_OUTCOME.values)\n",
    "label_index = list(range(len(label_set)))\n",
    "label_dict = dict(zip(label_set, label_index))"
   ]
  },
  {
   "cell_type": "code",
   "execution_count": 8,
   "metadata": {},
   "outputs": [],
   "source": [
    "df['Label'] = df.PUBCHEM_ACTIVITY_OUTCOME.apply(lambda x: label_dict[x])"
   ]
  },
  {
   "cell_type": "code",
   "execution_count": 4,
   "metadata": {},
   "outputs": [
    {
     "data": {
      "text/plain": [
       "numpy.int64"
      ]
     },
     "execution_count": 4,
     "metadata": {},
     "output_type": "execute_result"
    }
   ],
   "source": [
    "type(df.PUBCHEM_CID.values[0])"
   ]
  },
  {
   "cell_type": "code",
   "execution_count": 12,
   "metadata": {},
   "outputs": [
    {
     "data": {
      "text/plain": [
       "'CCCOCC(=NC1=C(C=C(C=C1)Cl)C(F)(F)F)N2C=CN=C2'"
      ]
     },
     "execution_count": 12,
     "metadata": {},
     "output_type": "execute_result"
    }
   ],
   "source": [
    "utils.cid2smiles(91699)"
   ]
  },
  {
   "cell_type": "code",
   "execution_count": 5,
   "metadata": {},
   "outputs": [
    {
     "data": {
      "text/plain": [
       "array([2.604100e+04, 5.281575e+06, 5.280795e+06, ..., 8.467000e+03,\n",
       "       3.140400e+04, 9.920342e+06])"
      ]
     },
     "execution_count": 5,
     "metadata": {},
     "output_type": "execute_result"
    }
   ],
   "source": [
    "df.PUBCHEM_CID.values"
   ]
  },
  {
   "cell_type": "code",
   "execution_count": null,
   "metadata": {},
   "outputs": [
    {
     "name": "stderr",
     "output_type": "stream",
     "text": [
      "  2%|▏         | 47/2217 [00:16<13:08,  2.75it/s]"
     ]
    },
    {
     "name": "stdout",
     "output_type": "stream",
     "text": [
      "cid 8062 failed, use NULL string\n"
     ]
    },
    {
     "name": "stderr",
     "output_type": "stream",
     "text": [
      "  2%|▏         | 49/2217 [00:17<11:40,  3.09it/s]"
     ]
    },
    {
     "name": "stdout",
     "output_type": "stream",
     "text": [
      "cid 23668192 failed, use NULL string\n"
     ]
    },
    {
     "name": "stderr",
     "output_type": "stream",
     "text": [
      "  2%|▏         | 51/2217 [00:17<12:27,  2.90it/s]"
     ]
    },
    {
     "name": "stdout",
     "output_type": "stream",
     "text": [
      "cid 108005 failed, use NULL string\n"
     ]
    },
    {
     "name": "stderr",
     "output_type": "stream",
     "text": [
      "  3%|▎         | 58/2217 [00:20<12:04,  2.98it/s]"
     ]
    }
   ],
   "source": [
    "from DrugDataLoader import HTS\n",
    "data = HTS.DataLoader(name = 'PubChemAID', target = 651741)\n",
    "split = data.get_split(method = 'scaffold')\n",
    "split['train'].head(2)"
   ]
  },
  {
   "cell_type": "code",
   "execution_count": 2,
   "metadata": {},
   "outputs": [],
   "source": [
    "df = data.get_data()"
   ]
  },
  {
   "cell_type": "code",
   "execution_count": 3,
   "metadata": {},
   "outputs": [],
   "source": [
    "s = df.Drug.values"
   ]
  },
  {
   "cell_type": "code",
   "execution_count": 4,
   "metadata": {},
   "outputs": [],
   "source": [
    "from rdkit import Chem\n",
    "from rdkit.Chem.Scaffolds import MurckoScaffold\n",
    "from tqdm import tqdm"
   ]
  },
  {
   "cell_type": "code",
   "execution_count": 5,
   "metadata": {},
   "outputs": [],
   "source": [
    "def SMILES_to_Scaffold(smiles, chirality = False):\n",
    "    return MurckoScaffold.MurckoScaffoldSmiles(mol = Chem.MolFromSmiles(smiles), includeChirality = chirality)"
   ]
  },
  {
   "cell_type": "code",
   "execution_count": 6,
   "metadata": {},
   "outputs": [
    {
     "name": "stderr",
     "output_type": "stream",
     "text": [
      "100%|██████████| 578/578 [00:00<00:00, 1782.44it/s]\n"
     ]
    }
   ],
   "source": [
    "from collections import defaultdict\n",
    "scaffolds = defaultdict(set)\n",
    "idx2mol = dict(zip(list(range(len(s))),s))\n",
    "\n",
    "for i, mol in tqdm(enumerate(s), total=len(s)):\n",
    "    scaffold = SMILES_to_Scaffold(mol)\n",
    "    scaffolds[scaffold].add(i)"
   ]
  },
  {
   "cell_type": "code",
   "execution_count": 7,
   "metadata": {},
   "outputs": [],
   "source": [
    "index_sets = sorted(list(scaffolds.values()), key=lambda i: len(i), reverse=True)"
   ]
  },
  {
   "cell_type": "code",
   "execution_count": 14,
   "metadata": {},
   "outputs": [],
   "source": [
    "frac = [0.7, 0.1, 0.2]\n",
    "train, val, test = [], [], []\n",
    "train_size = int(len(df) * frac[0])\n",
    "val_size = int(len(df) * frac[1])\n",
    "test_size = len(df) - train_size - val_size\n",
    "train_scaffold_count, val_scaffold_count, test_scaffold_count = 0, 0, 0"
   ]
  },
  {
   "cell_type": "code",
   "execution_count": 15,
   "metadata": {},
   "outputs": [],
   "source": [
    "for index_set in index_sets:\n",
    "    if len(train) + len(index_set) <= train_size:\n",
    "        train += index_set\n",
    "        train_scaffold_count += 1\n",
    "    elif len(val) + len(index_set) <= val_size:\n",
    "        val += index_set\n",
    "        val_scaffold_count += 1\n",
    "    else:\n",
    "        test += index_set\n",
    "        test_scaffold_count += 1"
   ]
  },
  {
   "cell_type": "code",
   "execution_count": 18,
   "metadata": {},
   "outputs": [],
   "source": [
    "train = df.iloc[train].reset_index(drop = True)\n",
    "val = df.iloc[val].reset_index(drop = True)\n",
    "test = df.iloc[test].reset_index(drop = True)"
   ]
  },
  {
   "cell_type": "code",
   "execution_count": null,
   "metadata": {},
   "outputs": [],
   "source": []
  },
  {
   "cell_type": "code",
   "execution_count": 15,
   "metadata": {},
   "outputs": [],
   "source": [
    "def request(identifier, namespace='cid', domain='compound', operation=None, output='JSON', searchtype=None):\n",
    "    \"\"\"\n",
    "    copied from https://github.com/mcs07/PubChemPy/blob/e3c4f4a9b6120433e5cc3383464c7a79e9b2b86e/pubchempy.py#L238\n",
    "    Construct API request from parameters and return the response.\n",
    "    Full specification at http://pubchem.ncbi.nlm.nih.gov/pug_rest/PUG_REST.html\n",
    "    \"\"\"\n",
    "    API_BASE = 'https://pubchem.ncbi.nlm.nih.gov/rest/pug'\n",
    "    text_types = str, bytes\n",
    "    if not identifier:\n",
    "        raise ValueError('identifier/cid cannot be None')\n",
    "    # If identifier is a list, join with commas into string\n",
    "    if isinstance(identifier, int):\n",
    "        identifier = str(identifier)\n",
    "    if not isinstance(identifier, text_types):\n",
    "        identifier = ','.join(str(x) for x in identifier)\n",
    "    \n",
    "    # Build API URL\n",
    "    urlid, postdata = None, None\n",
    "    if namespace == 'sourceid':\n",
    "        identifier = identifier.replace('/', '.')\n",
    "    if namespace in ['listkey', 'formula', 'sourceid'] \\\n",
    "            or searchtype == 'xref' \\\n",
    "            or (searchtype and namespace == 'cid') or domain == 'sources':\n",
    "        urlid = quote(identifier.encode('utf8'))\n",
    "    else:\n",
    "        postdata = urlencode([(namespace, identifier)]).encode('utf8')\n",
    "    comps = filter(None, [API_BASE, domain, searchtype, namespace, urlid, operation, output])\n",
    "    apiurl = '/'.join(comps)\n",
    "    # Make request\n",
    "    #print('Request URL: %s', apiurl)\n",
    "    #print('Request data: %s', postdata)\n",
    "    response = urlopen(apiurl, postdata)\n",
    "    return response"
   ]
  },
  {
   "cell_type": "code",
   "execution_count": 16,
   "metadata": {},
   "outputs": [],
   "source": [
    "from urllib.error import HTTPError\n",
    "from urllib.parse import quote, urlencode\n",
    "from urllib.request import urlopen"
   ]
  },
  {
   "cell_type": "code",
   "execution_count": 31,
   "metadata": {},
   "outputs": [
    {
     "data": {
      "text/plain": [
       "dict_keys(['id', 'atoms', 'bonds', 'stereo', 'coords', 'charge', 'props', 'count'])"
      ]
     },
     "execution_count": 31,
     "metadata": {},
     "output_type": "execute_result"
    }
   ],
   "source": [
    "json.loads(request(1423).read().decode())['PC_Compounds'][0].keys()"
   ]
  },
  {
   "cell_type": "code",
   "execution_count": 38,
   "metadata": {},
   "outputs": [],
   "source": [
    "record = json.loads(request(1423).read().decode())['PC_Compounds'][0]"
   ]
  },
  {
   "cell_type": "code",
   "execution_count": 40,
   "metadata": {},
   "outputs": [
    {
     "data": {
      "text/plain": [
       "'CCCCCCCNC1CCCC1CCCCCCC(=O)O'"
      ]
     },
     "execution_count": 40,
     "metadata": {},
     "output_type": "execute_result"
    }
   ],
   "source": [
    "def _parse_prop(search, proplist):\n",
    "    \"\"\"Extract property value from record using the given urn search filter.\"\"\"\n",
    "    props = [i for i in proplist if all(item in i['urn'].items() for item in search.items())]\n",
    "    if len(props) > 0:\n",
    "        return props[0]['value'][list(props[0]['value'].keys())[0]]\n",
    "\n",
    "_parse_prop({'label': 'SMILES', 'name': 'Canonical'}, record['props'])"
   ]
  },
  {
   "cell_type": "code",
   "execution_count": 39,
   "metadata": {},
   "outputs": [
    {
     "data": {
      "text/plain": [
       "['props']"
      ]
     },
     "execution_count": 39,
     "metadata": {},
     "output_type": "execute_result"
    }
   ],
   "source": [
    "['props']"
   ]
  },
  {
   "cell_type": "code",
   "execution_count": 5,
   "metadata": {},
   "outputs": [],
   "source": [
    "import pandas as pd\n",
    "df = pd.read_csv('/Users/kexinhuang/Downloads/muv/muv.csv')"
   ]
  },
  {
   "cell_type": "code",
   "execution_count": 6,
   "metadata": {
    "scrolled": true
   },
   "outputs": [
    {
     "data": {
      "text/html": [
       "<div>\n",
       "<style scoped>\n",
       "    .dataframe tbody tr th:only-of-type {\n",
       "        vertical-align: middle;\n",
       "    }\n",
       "\n",
       "    .dataframe tbody tr th {\n",
       "        vertical-align: top;\n",
       "    }\n",
       "\n",
       "    .dataframe thead th {\n",
       "        text-align: right;\n",
       "    }\n",
       "</style>\n",
       "<table border=\"1\" class=\"dataframe\">\n",
       "  <thead>\n",
       "    <tr style=\"text-align: right;\">\n",
       "      <th></th>\n",
       "      <th>MUV-466</th>\n",
       "      <th>MUV-548</th>\n",
       "      <th>MUV-600</th>\n",
       "      <th>MUV-644</th>\n",
       "      <th>MUV-652</th>\n",
       "      <th>MUV-689</th>\n",
       "      <th>MUV-692</th>\n",
       "      <th>MUV-712</th>\n",
       "      <th>MUV-713</th>\n",
       "      <th>MUV-733</th>\n",
       "      <th>MUV-737</th>\n",
       "      <th>MUV-810</th>\n",
       "      <th>MUV-832</th>\n",
       "      <th>MUV-846</th>\n",
       "      <th>MUV-852</th>\n",
       "      <th>MUV-858</th>\n",
       "      <th>MUV-859</th>\n",
       "      <th>mol_id</th>\n",
       "      <th>smiles</th>\n",
       "    </tr>\n",
       "  </thead>\n",
       "  <tbody>\n",
       "    <tr>\n",
       "      <th>0</th>\n",
       "      <td>NaN</td>\n",
       "      <td>NaN</td>\n",
       "      <td>NaN</td>\n",
       "      <td>NaN</td>\n",
       "      <td>NaN</td>\n",
       "      <td>NaN</td>\n",
       "      <td>NaN</td>\n",
       "      <td>0.0</td>\n",
       "      <td>NaN</td>\n",
       "      <td>NaN</td>\n",
       "      <td>NaN</td>\n",
       "      <td>0.0</td>\n",
       "      <td>NaN</td>\n",
       "      <td>NaN</td>\n",
       "      <td>NaN</td>\n",
       "      <td>NaN</td>\n",
       "      <td>NaN</td>\n",
       "      <td>CID2999678</td>\n",
       "      <td>Cc1cccc(N2CCN(C(=O)C34CC5CC(CC(C5)C3)C4)CC2)c1C</td>\n",
       "    </tr>\n",
       "    <tr>\n",
       "      <th>1</th>\n",
       "      <td>0.0</td>\n",
       "      <td>0.0</td>\n",
       "      <td>NaN</td>\n",
       "      <td>NaN</td>\n",
       "      <td>0.0</td>\n",
       "      <td>0.0</td>\n",
       "      <td>0.0</td>\n",
       "      <td>NaN</td>\n",
       "      <td>NaN</td>\n",
       "      <td>NaN</td>\n",
       "      <td>0.0</td>\n",
       "      <td>NaN</td>\n",
       "      <td>0.0</td>\n",
       "      <td>NaN</td>\n",
       "      <td>NaN</td>\n",
       "      <td>0.0</td>\n",
       "      <td>0.0</td>\n",
       "      <td>CID2999679</td>\n",
       "      <td>Cn1ccnc1SCC(=O)Nc1ccc(Oc2ccccc2)cc1</td>\n",
       "    </tr>\n",
       "    <tr>\n",
       "      <th>2</th>\n",
       "      <td>NaN</td>\n",
       "      <td>NaN</td>\n",
       "      <td>0.0</td>\n",
       "      <td>NaN</td>\n",
       "      <td>NaN</td>\n",
       "      <td>NaN</td>\n",
       "      <td>NaN</td>\n",
       "      <td>NaN</td>\n",
       "      <td>NaN</td>\n",
       "      <td>NaN</td>\n",
       "      <td>NaN</td>\n",
       "      <td>NaN</td>\n",
       "      <td>NaN</td>\n",
       "      <td>NaN</td>\n",
       "      <td>NaN</td>\n",
       "      <td>NaN</td>\n",
       "      <td>0.0</td>\n",
       "      <td>CID2999672</td>\n",
       "      <td>COc1cc2c(cc1NC(=O)CN1C(=O)NC3(CCc4ccccc43)C1=O...</td>\n",
       "    </tr>\n",
       "    <tr>\n",
       "      <th>3</th>\n",
       "      <td>NaN</td>\n",
       "      <td>0.0</td>\n",
       "      <td>0.0</td>\n",
       "      <td>NaN</td>\n",
       "      <td>NaN</td>\n",
       "      <td>0.0</td>\n",
       "      <td>NaN</td>\n",
       "      <td>NaN</td>\n",
       "      <td>NaN</td>\n",
       "      <td>NaN</td>\n",
       "      <td>NaN</td>\n",
       "      <td>NaN</td>\n",
       "      <td>NaN</td>\n",
       "      <td>NaN</td>\n",
       "      <td>NaN</td>\n",
       "      <td>0.0</td>\n",
       "      <td>NaN</td>\n",
       "      <td>CID5390002</td>\n",
       "      <td>O=C1/C(=C/NC2CCS(=O)(=O)C2)c2ccccc2C(=O)N1c1cc...</td>\n",
       "    </tr>\n",
       "    <tr>\n",
       "      <th>4</th>\n",
       "      <td>0.0</td>\n",
       "      <td>NaN</td>\n",
       "      <td>NaN</td>\n",
       "      <td>NaN</td>\n",
       "      <td>0.0</td>\n",
       "      <td>NaN</td>\n",
       "      <td>0.0</td>\n",
       "      <td>0.0</td>\n",
       "      <td>NaN</td>\n",
       "      <td>NaN</td>\n",
       "      <td>NaN</td>\n",
       "      <td>NaN</td>\n",
       "      <td>NaN</td>\n",
       "      <td>NaN</td>\n",
       "      <td>NaN</td>\n",
       "      <td>NaN</td>\n",
       "      <td>NaN</td>\n",
       "      <td>CID2999670</td>\n",
       "      <td>NC(=O)NC(Cc1ccccc1)C(=O)O</td>\n",
       "    </tr>\n",
       "  </tbody>\n",
       "</table>\n",
       "</div>"
      ],
      "text/plain": [
       "   MUV-466  MUV-548  MUV-600  MUV-644  MUV-652  MUV-689  MUV-692  MUV-712  \\\n",
       "0      NaN      NaN      NaN      NaN      NaN      NaN      NaN      0.0   \n",
       "1      0.0      0.0      NaN      NaN      0.0      0.0      0.0      NaN   \n",
       "2      NaN      NaN      0.0      NaN      NaN      NaN      NaN      NaN   \n",
       "3      NaN      0.0      0.0      NaN      NaN      0.0      NaN      NaN   \n",
       "4      0.0      NaN      NaN      NaN      0.0      NaN      0.0      0.0   \n",
       "\n",
       "   MUV-713  MUV-733  MUV-737  MUV-810  MUV-832  MUV-846  MUV-852  MUV-858  \\\n",
       "0      NaN      NaN      NaN      0.0      NaN      NaN      NaN      NaN   \n",
       "1      NaN      NaN      0.0      NaN      0.0      NaN      NaN      0.0   \n",
       "2      NaN      NaN      NaN      NaN      NaN      NaN      NaN      NaN   \n",
       "3      NaN      NaN      NaN      NaN      NaN      NaN      NaN      0.0   \n",
       "4      NaN      NaN      NaN      NaN      NaN      NaN      NaN      NaN   \n",
       "\n",
       "   MUV-859      mol_id                                             smiles  \n",
       "0      NaN  CID2999678    Cc1cccc(N2CCN(C(=O)C34CC5CC(CC(C5)C3)C4)CC2)c1C  \n",
       "1      0.0  CID2999679                Cn1ccnc1SCC(=O)Nc1ccc(Oc2ccccc2)cc1  \n",
       "2      0.0  CID2999672  COc1cc2c(cc1NC(=O)CN1C(=O)NC3(CCc4ccccc43)C1=O...  \n",
       "3      NaN  CID5390002  O=C1/C(=C/NC2CCS(=O)(=O)C2)c2ccccc2C(=O)N1c1cc...  \n",
       "4      NaN  CID2999670                          NC(=O)NC(Cc1ccccc1)C(=O)O  "
      ]
     },
     "execution_count": 6,
     "metadata": {},
     "output_type": "execute_result"
    }
   ],
   "source": [
    "df.head(5)"
   ]
  },
  {
   "cell_type": "code",
   "execution_count": 8,
   "metadata": {},
   "outputs": [
    {
     "data": {
      "text/plain": [
       "93087"
      ]
     },
     "execution_count": 8,
     "metadata": {},
     "output_type": "execute_result"
    }
   ],
   "source": [
    "len(df)"
   ]
  },
  {
   "cell_type": "code",
   "execution_count": 1,
   "metadata": {},
   "outputs": [
    {
     "name": "stderr",
     "output_type": "stream",
     "text": [
      "Download zip file...\n",
      "Extract zip file...\n",
      "There are 14734 unique drugs\n",
      "Done!\n",
      "100%|██████████| 14734/14734 [00:08<00:00, 1659.18it/s]\n"
     ]
    },
    {
     "data": {
      "text/html": [
       "<div>\n",
       "<style scoped>\n",
       "    .dataframe tbody tr th:only-of-type {\n",
       "        vertical-align: middle;\n",
       "    }\n",
       "\n",
       "    .dataframe tbody tr th {\n",
       "        vertical-align: top;\n",
       "    }\n",
       "\n",
       "    .dataframe thead th {\n",
       "        text-align: right;\n",
       "    }\n",
       "</style>\n",
       "<table border=\"1\" class=\"dataframe\">\n",
       "  <thead>\n",
       "    <tr style=\"text-align: right;\">\n",
       "      <th></th>\n",
       "      <th>Drug_ID</th>\n",
       "      <th>Drug</th>\n",
       "      <th>Y</th>\n",
       "    </tr>\n",
       "  </thead>\n",
       "  <tbody>\n",
       "    <tr>\n",
       "      <th>0</th>\n",
       "      <td>CID3244428</td>\n",
       "      <td>CCN(CC)CCC(=O)NC(C)(C)Cc1ccc(O)cc1</td>\n",
       "      <td>0.0</td>\n",
       "    </tr>\n",
       "    <tr>\n",
       "      <th>1</th>\n",
       "      <td>CID664526</td>\n",
       "      <td>CC(C)CC(NC(=O)NCc1ccc(Cl)cc1)C(=O)O</td>\n",
       "      <td>0.0</td>\n",
       "    </tr>\n",
       "  </tbody>\n",
       "</table>\n",
       "</div>"
      ],
      "text/plain": [
       "      Drug_ID                                 Drug    Y\n",
       "0  CID3244428   CCN(CC)CCC(=O)NC(C)(C)Cc1ccc(O)cc1  0.0\n",
       "1   CID664526  CC(C)CC(NC(=O)NCc1ccc(Cl)cc1)C(=O)O  0.0"
      ]
     },
     "execution_count": 1,
     "metadata": {},
     "output_type": "execute_result"
    }
   ],
   "source": [
    "from DrugDataLoader import HTS\n",
    "data = HTS.DataLoader(name = 'MUV', target = 'MUV-548')\n",
    "split = data.get_split(method = 'scaffold')\n",
    "split['train'].head(2)"
   ]
  },
  {
   "cell_type": "code",
   "execution_count": 1,
   "metadata": {},
   "outputs": [
    {
     "name": "stderr",
     "output_type": "stream",
     "text": [
      "Dataset already downloaded in the local system...\n",
      "There are 41127 unique drugs\n",
      "Done!\n"
     ]
    },
    {
     "data": {
      "text/html": [
       "<div>\n",
       "<style scoped>\n",
       "    .dataframe tbody tr th:only-of-type {\n",
       "        vertical-align: middle;\n",
       "    }\n",
       "\n",
       "    .dataframe tbody tr th {\n",
       "        vertical-align: top;\n",
       "    }\n",
       "\n",
       "    .dataframe thead th {\n",
       "        text-align: right;\n",
       "    }\n",
       "</style>\n",
       "<table border=\"1\" class=\"dataframe\">\n",
       "  <thead>\n",
       "    <tr style=\"text-align: right;\">\n",
       "      <th></th>\n",
       "      <th>Drug_ID</th>\n",
       "      <th>Drug</th>\n",
       "      <th>Y</th>\n",
       "    </tr>\n",
       "  </thead>\n",
       "  <tbody>\n",
       "    <tr>\n",
       "      <th>0</th>\n",
       "      <td>0</td>\n",
       "      <td>CCC1=[O+][Cu-3]2([O+]=C(CC)C1)[O+]=C(CC)CC(CC)...</td>\n",
       "      <td>0</td>\n",
       "    </tr>\n",
       "    <tr>\n",
       "      <th>1</th>\n",
       "      <td>1</td>\n",
       "      <td>C(=Cc1ccccc1)C1=[O+][Cu-3]2([O+]=C(C=Cc3ccccc3...</td>\n",
       "      <td>0</td>\n",
       "    </tr>\n",
       "  </tbody>\n",
       "</table>\n",
       "</div>"
      ],
      "text/plain": [
       "   Drug_ID                                               Drug  Y\n",
       "0        0  CCC1=[O+][Cu-3]2([O+]=C(CC)C1)[O+]=C(CC)CC(CC)...  0\n",
       "1        1  C(=Cc1ccccc1)C1=[O+][Cu-3]2([O+]=C(C=Cc3ccccc3...  0"
      ]
     },
     "execution_count": 1,
     "metadata": {},
     "output_type": "execute_result"
    }
   ],
   "source": [
    "from DrugDataLoader import HTS\n",
    "data = HTS.DataLoader(name = 'HIV')\n",
    "split = data.get_split(method = 'cold_drug')\n",
    "split['train'].head(2)"
   ]
  },
  {
   "cell_type": "code",
   "execution_count": 1,
   "metadata": {},
   "outputs": [
    {
     "name": "stderr",
     "output_type": "stream",
     "text": [
      "Dataset already downloaded in the local system...\n",
      "There are 1513 unique drugs\n",
      "Done!\n"
     ]
    },
    {
     "data": {
      "text/html": [
       "<div>\n",
       "<style scoped>\n",
       "    .dataframe tbody tr th:only-of-type {\n",
       "        vertical-align: middle;\n",
       "    }\n",
       "\n",
       "    .dataframe tbody tr th {\n",
       "        vertical-align: top;\n",
       "    }\n",
       "\n",
       "    .dataframe thead th {\n",
       "        text-align: right;\n",
       "    }\n",
       "</style>\n",
       "<table border=\"1\" class=\"dataframe\">\n",
       "  <thead>\n",
       "    <tr style=\"text-align: right;\">\n",
       "      <th></th>\n",
       "      <th>Drug_ID</th>\n",
       "      <th>Drug</th>\n",
       "      <th>Y</th>\n",
       "    </tr>\n",
       "  </thead>\n",
       "  <tbody>\n",
       "    <tr>\n",
       "      <th>0</th>\n",
       "      <td>1</td>\n",
       "      <td>Fc1cc(cc(F)c1)C[C@H](NC(=O)[C@@H](N1CC[C@](NC(...</td>\n",
       "      <td>8.853872</td>\n",
       "    </tr>\n",
       "    <tr>\n",
       "      <th>1</th>\n",
       "      <td>2</td>\n",
       "      <td>S1(=O)(=O)N(c2cc(cc3c2n(cc3CC)CC1)C(=O)N[C@H](...</td>\n",
       "      <td>8.698970</td>\n",
       "    </tr>\n",
       "  </tbody>\n",
       "</table>\n",
       "</div>"
      ],
      "text/plain": [
       "   Drug_ID                                               Drug         Y\n",
       "0        1  Fc1cc(cc(F)c1)C[C@H](NC(=O)[C@@H](N1CC[C@](NC(...  8.853872\n",
       "1        2  S1(=O)(=O)N(c2cc(cc3c2n(cc3CC)CC1)C(=O)N[C@H](...  8.698970"
      ]
     },
     "execution_count": 1,
     "metadata": {},
     "output_type": "execute_result"
    }
   ],
   "source": [
    "from DrugDataLoader import HTS\n",
    "data = HTS.DataLoader(name = 'BACE', target = 'pIC50')\n",
    "split = data.get_split(method = 'cold_drug')\n",
    "split['train'].head(2)"
   ]
  },
  {
   "cell_type": "code",
   "execution_count": 14,
   "metadata": {},
   "outputs": [
    {
     "data": {
      "text/plain": [
       "437929"
      ]
     },
     "execution_count": 14,
     "metadata": {},
     "output_type": "execute_result"
    }
   ],
   "source": [
    "len(df)"
   ]
  },
  {
   "cell_type": "code",
   "execution_count": 17,
   "metadata": {},
   "outputs": [
    {
     "data": {
      "text/html": [
       "<div>\n",
       "<style scoped>\n",
       "    .dataframe tbody tr th:only-of-type {\n",
       "        vertical-align: middle;\n",
       "    }\n",
       "\n",
       "    .dataframe tbody tr th {\n",
       "        vertical-align: top;\n",
       "    }\n",
       "\n",
       "    .dataframe thead th {\n",
       "        text-align: right;\n",
       "    }\n",
       "</style>\n",
       "<table border=\"1\" class=\"dataframe\">\n",
       "  <thead>\n",
       "    <tr style=\"text-align: right;\">\n",
       "      <th></th>\n",
       "      <th>mol_id</th>\n",
       "      <th>smiles</th>\n",
       "    </tr>\n",
       "  </thead>\n",
       "  <tbody>\n",
       "    <tr>\n",
       "      <th>0</th>\n",
       "      <td>CID1511280</td>\n",
       "      <td>CC(=O)N1CCC2(CC1)NC(=O)N(c1ccccc1)N2</td>\n",
       "    </tr>\n",
       "    <tr>\n",
       "      <th>1</th>\n",
       "      <td>CID332939</td>\n",
       "      <td>N#Cc1nnn(-c2ccc(Cl)cc2)c1N</td>\n",
       "    </tr>\n",
       "    <tr>\n",
       "      <th>2</th>\n",
       "      <td>CID3800322</td>\n",
       "      <td>COC(=O)c1ccc(NC(=O)c2ccccc2CC[N+](=O)[O-])cc1</td>\n",
       "    </tr>\n",
       "    <tr>\n",
       "      <th>3</th>\n",
       "      <td>CID46904422</td>\n",
       "      <td>CCC1NC(=O)c2cccnc2-n2c1nc1ccc(F)cc1c2=O</td>\n",
       "    </tr>\n",
       "    <tr>\n",
       "      <th>4</th>\n",
       "      <td>CID16445987</td>\n",
       "      <td>CC1=CC(=O)/C(=C2/C=C(C(=O)Nc3ccc(S(=O)(=O)Nc4o...</td>\n",
       "    </tr>\n",
       "    <tr>\n",
       "      <th>...</th>\n",
       "      <td>...</td>\n",
       "      <td>...</td>\n",
       "    </tr>\n",
       "    <tr>\n",
       "      <th>437924</th>\n",
       "      <td>CID24761803</td>\n",
       "      <td>CC1CCC2C(C1)OS(=O)(=O)NC2(C)C</td>\n",
       "    </tr>\n",
       "    <tr>\n",
       "      <th>437925</th>\n",
       "      <td>CID24761802</td>\n",
       "      <td>O=Cc1cc(CCC(=O)O)ccc1O</td>\n",
       "    </tr>\n",
       "    <tr>\n",
       "      <th>437926</th>\n",
       "      <td>CID1861000</td>\n",
       "      <td>O=c1nc(CN2CCN(c3ccc(F)cc3)CC2)[nH]c2ccccc12</td>\n",
       "    </tr>\n",
       "    <tr>\n",
       "      <th>437927</th>\n",
       "      <td>CID24761809</td>\n",
       "      <td>Cc1ccc(C(C)C)c(OCC(O)CN(C)Cc2ccccc2)c1</td>\n",
       "    </tr>\n",
       "    <tr>\n",
       "      <th>437928</th>\n",
       "      <td>CID24761808</td>\n",
       "      <td>CCN(CC(=O)Nc1ccc(C)c(S(=O)(=O)N(C)C)c1)Cc1ccccc1</td>\n",
       "    </tr>\n",
       "  </tbody>\n",
       "</table>\n",
       "<p>437929 rows × 2 columns</p>\n",
       "</div>"
      ],
      "text/plain": [
       "             mol_id                                             smiles\n",
       "0        CID1511280               CC(=O)N1CCC2(CC1)NC(=O)N(c1ccccc1)N2\n",
       "1         CID332939                         N#Cc1nnn(-c2ccc(Cl)cc2)c1N\n",
       "2        CID3800322      COC(=O)c1ccc(NC(=O)c2ccccc2CC[N+](=O)[O-])cc1\n",
       "3       CID46904422            CCC1NC(=O)c2cccnc2-n2c1nc1ccc(F)cc1c2=O\n",
       "4       CID16445987  CC1=CC(=O)/C(=C2/C=C(C(=O)Nc3ccc(S(=O)(=O)Nc4o...\n",
       "...             ...                                                ...\n",
       "437924  CID24761803                      CC1CCC2C(C1)OS(=O)(=O)NC2(C)C\n",
       "437925  CID24761802                             O=Cc1cc(CCC(=O)O)ccc1O\n",
       "437926   CID1861000        O=c1nc(CN2CCN(c3ccc(F)cc3)CC2)[nH]c2ccccc12\n",
       "437927  CID24761809             Cc1ccc(C(C)C)c(OCC(O)CN(C)Cc2ccccc2)c1\n",
       "437928  CID24761808   CCN(CC(=O)Nc1ccc(C)c(S(=O)(=O)N(C)C)c1)Cc1ccccc1\n",
       "\n",
       "[437929 rows x 2 columns]"
      ]
     },
     "execution_count": 17,
     "metadata": {},
     "output_type": "execute_result"
    }
   ],
   "source": [
    "df[['mol_id', 'smiles']]"
   ]
  },
  {
   "cell_type": "code",
   "execution_count": 18,
   "metadata": {},
   "outputs": [
    {
     "data": {
      "text/plain": [
       "1511280"
      ]
     },
     "execution_count": 18,
     "metadata": {},
     "output_type": "execute_result"
    }
   ],
   "source": [
    "int('CID1511280'[3:])"
   ]
  },
  {
   "cell_type": "code",
   "execution_count": 19,
   "metadata": {},
   "outputs": [],
   "source": [
    "df['cid'] = df.mol_id.apply(lambda x: int(x[3:]))"
   ]
  },
  {
   "cell_type": "code",
   "execution_count": 21,
   "metadata": {},
   "outputs": [],
   "source": [
    "cid2smiles = dict(df[['cid', 'smiles']].values)"
   ]
  },
  {
   "cell_type": "code",
   "execution_count": 22,
   "metadata": {},
   "outputs": [],
   "source": [
    "import pickle\n",
    "with open('cid2smiles.pkl', 'wb') as f:\n",
    "    pickle.dump(cid2smiles, f)"
   ]
  },
  {
   "cell_type": "code",
   "execution_count": 16,
   "metadata": {},
   "outputs": [
    {
     "data": {
      "text/plain": [
       "0.0    145067\n",
       "1.0     15957\n",
       "Name: PCBA-1030, dtype: int64"
      ]
     },
     "execution_count": 16,
     "metadata": {},
     "output_type": "execute_result"
    }
   ],
   "source": [
    "df['PCBA-1030'].value_counts()"
   ]
  },
  {
   "cell_type": "code",
   "execution_count": null,
   "metadata": {},
   "outputs": [],
   "source": []
  },
  {
   "cell_type": "code",
   "execution_count": 1,
   "metadata": {},
   "outputs": [
    {
     "name": "stderr",
     "output_type": "stream",
     "text": [
      "Dataset already downloaded in the local system...\n",
      "100%|██████████| 68/68 [00:02<00:00, 33.77it/s]\n",
      "There are 68 unique drugs\n",
      "There are 379 unique targets\n",
      "There are 30056 drug-target pairs\n",
      "Done!\n"
     ]
    }
   ],
   "source": [
    "from DrugDataLoader import DTI\n",
    "data = DTI.DataLoader(name = 'DAVIS')"
   ]
  },
  {
   "cell_type": "code",
   "execution_count": 2,
   "metadata": {},
   "outputs": [
    {
     "data": {
      "text/plain": [
       "<DrugDataLoader.DTI.DataLoader at 0x7fc7f702d6d0>"
      ]
     },
     "execution_count": 2,
     "metadata": {},
     "output_type": "execute_result"
    }
   ],
   "source": [
    "data.get_split()"
   ]
  },
  {
   "cell_type": "code",
   "execution_count": 3,
   "metadata": {},
   "outputs": [
    {
     "name": "stderr",
     "output_type": "stream",
     "text": [
      "Dataset already downloaded in the local system...\n",
      "100%|██████████| 2111/2111 [00:02<00:00, 728.41it/s]\n",
      "There are 2068 unique drugs\n",
      "There are 229 unique targets\n",
      "There are 118254 drug-target pairs\n",
      "Done!\n"
     ]
    }
   ],
   "source": [
    "from DrugDataLoader import DTI\n",
    "data = DTI.DataLoader(name = 'KIBA')"
   ]
  },
  {
   "cell_type": "code",
   "execution_count": 1,
   "metadata": {},
   "outputs": [
    {
     "name": "stderr",
     "output_type": "stream",
     "text": [
      "Download zip file...\n",
      "Extract zip file...\n",
      "There are 10665 unique drugs\n",
      "There are 1413 unique targets\n",
      "There are 66444 drug-target pairs\n",
      "Done!\n"
     ]
    }
   ],
   "source": [
    "from DrugDataLoader import DTI\n",
    "data = DTI.DataLoader(name = 'BindingDB', target = 'Kd')"
   ]
  },
  {
   "cell_type": "code",
   "execution_count": 4,
   "metadata": {},
   "outputs": [
    {
     "name": "stderr",
     "output_type": "stream",
     "text": [
      "To log space...\n"
     ]
    },
    {
     "data": {
      "image/png": "[encoded data removed]",
      "text/plain": [
       "<Figure size 432x288 with 2 Axes>"
      ]
     },
     "metadata": {
      "needs_background": "light"
     },
     "output_type": "display_data"
    },
    {
     "name": "stderr",
     "output_type": "stream",
     "text": [
      "The median is 4.999995657076895\n",
      "The mean is 5.803903740328578\n"
     ]
    }
   ],
   "source": [
    "data.convert_to_log()\n",
    "data.label_distribution()"
   ]
  },
  {
   "cell_type": "code",
   "execution_count": 1,
   "metadata": {},
   "outputs": [
    {
     "name": "stderr",
     "output_type": "stream",
     "text": [
      "Download zip file...\n",
      "Extract zip file...\n",
      "There are 549205 unique drugs\n",
      "There are 5078 unique targets\n",
      "There are 1073803 drug-target pairs\n",
      "Done!\n"
     ]
    }
   ],
   "source": [
    "from DrugDataLoader import DTI\n",
    "data = DTI.DataLoader(name = 'BindingDB', target = 'IC50')"
   ]
  },
  {
   "cell_type": "code",
   "execution_count": 4,
   "metadata": {},
   "outputs": [
    {
     "name": "stderr",
     "output_type": "stream",
     "text": [
      "Dataset already downloaded in the local system...\n",
      "There are 174662 unique drugs\n",
      "There are 3070 unique targets\n",
      "There are 410478 drug-target pairs\n",
      "Done!\n"
     ]
    }
   ],
   "source": [
    "data = DTI.DataLoader(name = 'BindingDB', target = 'Ki')"
   ]
  },
  {
   "cell_type": "code",
   "execution_count": null,
   "metadata": {},
   "outputs": [],
   "source": []
  },
  {
   "cell_type": "code",
   "execution_count": null,
   "metadata": {},
   "outputs": [],
   "source": []
  },
  {
   "cell_type": "code",
   "execution_count": 1,
   "metadata": {},
   "outputs": [],
   "source": [
    "import pandas as pd\n",
    "from scipy import io\n",
    "df = io.loadmat('/Users/kexinhuang/Downloads/qm7b/qm7b.mat')"
   ]
  },
  {
   "cell_type": "code",
   "execution_count": 6,
   "metadata": {},
   "outputs": [
    {
     "data": {
      "text/plain": [
       "(7211, 23, 23)"
      ]
     },
     "execution_count": 6,
     "metadata": {},
     "output_type": "execute_result"
    }
   ],
   "source": [
    "df['X'].shape"
   ]
  },
  {
   "cell_type": "code",
   "execution_count": 5,
   "metadata": {},
   "outputs": [
    {
     "data": {
      "text/plain": [
       "(7211, 14)"
      ]
     },
     "execution_count": 5,
     "metadata": {},
     "output_type": "execute_result"
    }
   ],
   "source": [
    "df['T'].shape"
   ]
  },
  {
   "cell_type": "code",
   "execution_count": 10,
   "metadata": {},
   "outputs": [],
   "source": [
    "targets = [\"E_PBE0\", \"E_max_EINDO\", \"I_max_ZINDO\", \"HOMO_ZINDO\", \"LUMO_ZINDO\", \"E_1st_ZINDO\", \"IP_ZINDO\", \"EA_ZINDO\", \"HOMO_PBE0\", \"LUMO_PBE0\", \"HOMO_GW\", \"LUMO_GW\", \"alpha_PBE0\", \"alpha_SCS\"]\n",
    "targets_index = list(range(len(targets)))\n",
    "targets2index = dict(zip(targets, targets_index))"
   ]
  },
  {
   "cell_type": "code",
   "execution_count": 13,
   "metadata": {},
   "outputs": [
    {
     "data": {
      "text/plain": [
       "(7211,)"
      ]
     },
     "execution_count": 13,
     "metadata": {},
     "output_type": "execute_result"
    }
   ],
   "source": [
    "df['T'].T[targets2index['E_PBE0']]"
   ]
  },
  {
   "cell_type": "code",
   "execution_count": 9,
   "metadata": {},
   "outputs": [
    {
     "name": "stderr",
     "output_type": "stream",
     "text": [
      "Dataset already downloaded in the local system...\n",
      "There are 7211 unique drugs\n",
      "Done!\n"
     ]
    }
   ],
   "source": [
    "from DrugDataLoader import QM\n",
    "data = QM.DataLoader(name = 'QM7', target = 'E_PBE0')"
   ]
  },
  {
   "cell_type": "code",
   "execution_count": 4,
   "metadata": {},
   "outputs": [
    {
     "name": "stderr",
     "output_type": "stream",
     "text": [
      "cold drug is the same as random split for drug property prediction...\n"
     ]
    }
   ],
   "source": [
    "d = data.get_split(method = 'cold_drug')"
   ]
  },
  {
   "cell_type": "code",
   "execution_count": 3,
   "metadata": {},
   "outputs": [
    {
     "data": {
      "text/plain": [
       "dict_keys(['X_train', 'y_train', 'X_val', 'y_val', 'X_test', 'y_test'])"
      ]
     },
     "execution_count": 3,
     "metadata": {},
     "output_type": "execute_result"
    }
   ],
   "source": [
    "d.keys()"
   ]
  },
  {
   "cell_type": "code",
   "execution_count": 7,
   "metadata": {},
   "outputs": [
    {
     "name": "stderr",
     "output_type": "stream",
     "text": [
      "To log space...\n"
     ]
    },
    {
     "data": {
      "text/plain": [
       "<DrugDataLoader.QM.DataLoader at 0x7fbe55d7cf10>"
      ]
     },
     "execution_count": 7,
     "metadata": {},
     "output_type": "execute_result"
    }
   ],
   "source": [
    "data.convert_to_log()"
   ]
  },
  {
   "cell_type": "code",
   "execution_count": 10,
   "metadata": {},
   "outputs": [
    {
     "data": {
      "image/png": "[encoded data removed]",
      "text/plain": [
       "<Figure size 432x288 with 2 Axes>"
      ]
     },
     "metadata": {
      "needs_background": "light"
     },
     "output_type": "display_data"
    },
    {
     "name": "stderr",
     "output_type": "stream",
     "text": [
      "The median is -1570.0177001953125\n",
      "The mean is -1563.325120150638\n"
     ]
    }
   ],
   "source": [
    "data.label_distribution()"
   ]
  },
  {
   "cell_type": "code",
   "execution_count": 11,
   "metadata": {},
   "outputs": [],
   "source": [
    "import pandas as pd\n",
    "df = pd.read_csv('/Users/kexinhuang/Downloads/qm8/qm8.sdf.csv')"
   ]
  },
  {
   "cell_type": "code",
   "execution_count": 12,
   "metadata": {},
   "outputs": [
    {
     "data": {
      "text/html": [
       "<div>\n",
       "<style scoped>\n",
       "    .dataframe tbody tr th:only-of-type {\n",
       "        vertical-align: middle;\n",
       "    }\n",
       "\n",
       "    .dataframe tbody tr th {\n",
       "        vertical-align: top;\n",
       "    }\n",
       "\n",
       "    .dataframe thead th {\n",
       "        text-align: right;\n",
       "    }\n",
       "</style>\n",
       "<table border=\"1\" class=\"dataframe\">\n",
       "  <thead>\n",
       "    <tr style=\"text-align: right;\">\n",
       "      <th></th>\n",
       "      <th>gdb9_index</th>\n",
       "      <th>E1-CC2</th>\n",
       "      <th>E2-CC2</th>\n",
       "      <th>f1-CC2</th>\n",
       "      <th>f2-CC2</th>\n",
       "      <th>E1-PBE0</th>\n",
       "      <th>E2-PBE0</th>\n",
       "      <th>f1-PBE0</th>\n",
       "      <th>f2-PBE0</th>\n",
       "      <th>E1-PBE0.1</th>\n",
       "      <th>E2-PBE0.1</th>\n",
       "      <th>f1-PBE0.1</th>\n",
       "      <th>f2-PBE0.1</th>\n",
       "      <th>E1-CAM</th>\n",
       "      <th>E2-CAM</th>\n",
       "      <th>f1-CAM</th>\n",
       "      <th>f2-CAM</th>\n",
       "    </tr>\n",
       "  </thead>\n",
       "  <tbody>\n",
       "    <tr>\n",
       "      <th>0</th>\n",
       "      <td>1.0</td>\n",
       "      <td>0.432952</td>\n",
       "      <td>0.432960</td>\n",
       "      <td>0.249728</td>\n",
       "      <td>0.249736</td>\n",
       "      <td>0.430218</td>\n",
       "      <td>0.430236</td>\n",
       "      <td>0.181436</td>\n",
       "      <td>1.815015e-01</td>\n",
       "      <td>0.409858</td>\n",
       "      <td>0.409884</td>\n",
       "      <td>0.177723</td>\n",
       "      <td>1.774193e-01</td>\n",
       "      <td>0.409931</td>\n",
       "      <td>0.409939</td>\n",
       "      <td>0.1832</td>\n",
       "      <td>0.1832</td>\n",
       "    </tr>\n",
       "    <tr>\n",
       "      <th>1</th>\n",
       "      <td>2.0</td>\n",
       "      <td>0.265220</td>\n",
       "      <td>0.350081</td>\n",
       "      <td>0.067015</td>\n",
       "      <td>0.030049</td>\n",
       "      <td>0.268386</td>\n",
       "      <td>0.349106</td>\n",
       "      <td>0.040761</td>\n",
       "      <td>3.164115e-02</td>\n",
       "      <td>0.258196</td>\n",
       "      <td>0.337450</td>\n",
       "      <td>0.060058</td>\n",
       "      <td>2.623337e-02</td>\n",
       "      <td>0.253853</td>\n",
       "      <td>0.334481</td>\n",
       "      <td>0.0575</td>\n",
       "      <td>0.0238</td>\n",
       "    </tr>\n",
       "    <tr>\n",
       "      <th>2</th>\n",
       "      <td>3.0</td>\n",
       "      <td>0.286537</td>\n",
       "      <td>0.363579</td>\n",
       "      <td>0.037755</td>\n",
       "      <td>0.000000</td>\n",
       "      <td>0.291377</td>\n",
       "      <td>0.362091</td>\n",
       "      <td>0.019503</td>\n",
       "      <td>1.000000e-08</td>\n",
       "      <td>0.285334</td>\n",
       "      <td>0.355187</td>\n",
       "      <td>0.034026</td>\n",
       "      <td>1.000000e-08</td>\n",
       "      <td>0.278519</td>\n",
       "      <td>0.350074</td>\n",
       "      <td>0.0333</td>\n",
       "      <td>0.0000</td>\n",
       "    </tr>\n",
       "    <tr>\n",
       "      <th>3</th>\n",
       "      <td>4.0</td>\n",
       "      <td>0.358629</td>\n",
       "      <td>0.358629</td>\n",
       "      <td>0.000000</td>\n",
       "      <td>0.000000</td>\n",
       "      <td>0.256321</td>\n",
       "      <td>0.268469</td>\n",
       "      <td>0.000000</td>\n",
       "      <td>0.000000e+00</td>\n",
       "      <td>0.250365</td>\n",
       "      <td>0.260455</td>\n",
       "      <td>0.000000</td>\n",
       "      <td>0.000000e+00</td>\n",
       "      <td>0.244879</td>\n",
       "      <td>0.255051</td>\n",
       "      <td>0.0000</td>\n",
       "      <td>0.0000</td>\n",
       "    </tr>\n",
       "    <tr>\n",
       "      <th>4</th>\n",
       "      <td>5.0</td>\n",
       "      <td>0.319958</td>\n",
       "      <td>0.336074</td>\n",
       "      <td>0.000000</td>\n",
       "      <td>0.000000</td>\n",
       "      <td>0.295139</td>\n",
       "      <td>0.311657</td>\n",
       "      <td>0.000000</td>\n",
       "      <td>0.000000e+00</td>\n",
       "      <td>0.288590</td>\n",
       "      <td>0.302896</td>\n",
       "      <td>0.000000</td>\n",
       "      <td>0.000000e+00</td>\n",
       "      <td>0.283425</td>\n",
       "      <td>0.296993</td>\n",
       "      <td>0.0000</td>\n",
       "      <td>0.0000</td>\n",
       "    </tr>\n",
       "    <tr>\n",
       "      <th>...</th>\n",
       "      <td>...</td>\n",
       "      <td>...</td>\n",
       "      <td>...</td>\n",
       "      <td>...</td>\n",
       "      <td>...</td>\n",
       "      <td>...</td>\n",
       "      <td>...</td>\n",
       "      <td>...</td>\n",
       "      <td>...</td>\n",
       "      <td>...</td>\n",
       "      <td>...</td>\n",
       "      <td>...</td>\n",
       "      <td>...</td>\n",
       "      <td>...</td>\n",
       "      <td>...</td>\n",
       "      <td>...</td>\n",
       "      <td>...</td>\n",
       "    </tr>\n",
       "    <tr>\n",
       "      <th>21781</th>\n",
       "      <td>23923.0</td>\n",
       "      <td>0.271951</td>\n",
       "      <td>0.297488</td>\n",
       "      <td>0.049481</td>\n",
       "      <td>0.039746</td>\n",
       "      <td>0.279686</td>\n",
       "      <td>0.305949</td>\n",
       "      <td>0.045505</td>\n",
       "      <td>3.645832e-02</td>\n",
       "      <td>0.268390</td>\n",
       "      <td>0.291318</td>\n",
       "      <td>0.035758</td>\n",
       "      <td>3.592669e-02</td>\n",
       "      <td>0.276414</td>\n",
       "      <td>0.297798</td>\n",
       "      <td>0.0314</td>\n",
       "      <td>0.0409</td>\n",
       "    </tr>\n",
       "    <tr>\n",
       "      <th>21782</th>\n",
       "      <td>23924.0</td>\n",
       "      <td>0.343606</td>\n",
       "      <td>0.344621</td>\n",
       "      <td>0.044959</td>\n",
       "      <td>0.017041</td>\n",
       "      <td>0.347063</td>\n",
       "      <td>0.348212</td>\n",
       "      <td>0.003887</td>\n",
       "      <td>5.704017e-02</td>\n",
       "      <td>0.329207</td>\n",
       "      <td>0.329372</td>\n",
       "      <td>0.040139</td>\n",
       "      <td>9.026870e-03</td>\n",
       "      <td>0.336025</td>\n",
       "      <td>0.337881</td>\n",
       "      <td>0.0376</td>\n",
       "      <td>0.0107</td>\n",
       "    </tr>\n",
       "    <tr>\n",
       "      <th>21783</th>\n",
       "      <td>23925.0</td>\n",
       "      <td>0.256356</td>\n",
       "      <td>0.279425</td>\n",
       "      <td>0.005103</td>\n",
       "      <td>0.010683</td>\n",
       "      <td>0.264920</td>\n",
       "      <td>0.280065</td>\n",
       "      <td>0.002531</td>\n",
       "      <td>9.899310e-03</td>\n",
       "      <td>0.249890</td>\n",
       "      <td>0.266450</td>\n",
       "      <td>0.003669</td>\n",
       "      <td>7.881000e-03</td>\n",
       "      <td>0.253210</td>\n",
       "      <td>0.279390</td>\n",
       "      <td>0.0037</td>\n",
       "      <td>0.0086</td>\n",
       "    </tr>\n",
       "    <tr>\n",
       "      <th>21784</th>\n",
       "      <td>23926.0</td>\n",
       "      <td>0.271197</td>\n",
       "      <td>0.292573</td>\n",
       "      <td>0.000831</td>\n",
       "      <td>0.019204</td>\n",
       "      <td>0.279916</td>\n",
       "      <td>0.302611</td>\n",
       "      <td>0.000742</td>\n",
       "      <td>2.232390e-02</td>\n",
       "      <td>0.267942</td>\n",
       "      <td>0.288471</td>\n",
       "      <td>0.000550</td>\n",
       "      <td>1.681102e-02</td>\n",
       "      <td>0.274602</td>\n",
       "      <td>0.299852</td>\n",
       "      <td>0.0004</td>\n",
       "      <td>0.0195</td>\n",
       "    </tr>\n",
       "    <tr>\n",
       "      <th>21785</th>\n",
       "      <td>23927.0</td>\n",
       "      <td>0.262279</td>\n",
       "      <td>0.284981</td>\n",
       "      <td>0.000044</td>\n",
       "      <td>0.024138</td>\n",
       "      <td>0.276903</td>\n",
       "      <td>0.292604</td>\n",
       "      <td>0.001943</td>\n",
       "      <td>2.376646e-02</td>\n",
       "      <td>0.262374</td>\n",
       "      <td>0.280531</td>\n",
       "      <td>0.000039</td>\n",
       "      <td>2.213837e-02</td>\n",
       "      <td>0.266829</td>\n",
       "      <td>0.292043</td>\n",
       "      <td>0.0001</td>\n",
       "      <td>0.0266</td>\n",
       "    </tr>\n",
       "  </tbody>\n",
       "</table>\n",
       "<p>21786 rows × 17 columns</p>\n",
       "</div>"
      ],
      "text/plain": [
       "       gdb9_index    E1-CC2    E2-CC2    f1-CC2    f2-CC2   E1-PBE0   E2-PBE0  \\\n",
       "0             1.0  0.432952  0.432960  0.249728  0.249736  0.430218  0.430236   \n",
       "1             2.0  0.265220  0.350081  0.067015  0.030049  0.268386  0.349106   \n",
       "2             3.0  0.286537  0.363579  0.037755  0.000000  0.291377  0.362091   \n",
       "3             4.0  0.358629  0.358629  0.000000  0.000000  0.256321  0.268469   \n",
       "4             5.0  0.319958  0.336074  0.000000  0.000000  0.295139  0.311657   \n",
       "...           ...       ...       ...       ...       ...       ...       ...   \n",
       "21781     23923.0  0.271951  0.297488  0.049481  0.039746  0.279686  0.305949   \n",
       "21782     23924.0  0.343606  0.344621  0.044959  0.017041  0.347063  0.348212   \n",
       "21783     23925.0  0.256356  0.279425  0.005103  0.010683  0.264920  0.280065   \n",
       "21784     23926.0  0.271197  0.292573  0.000831  0.019204  0.279916  0.302611   \n",
       "21785     23927.0  0.262279  0.284981  0.000044  0.024138  0.276903  0.292604   \n",
       "\n",
       "        f1-PBE0       f2-PBE0  E1-PBE0.1  E2-PBE0.1  f1-PBE0.1     f2-PBE0.1  \\\n",
       "0      0.181436  1.815015e-01   0.409858   0.409884   0.177723  1.774193e-01   \n",
       "1      0.040761  3.164115e-02   0.258196   0.337450   0.060058  2.623337e-02   \n",
       "2      0.019503  1.000000e-08   0.285334   0.355187   0.034026  1.000000e-08   \n",
       "3      0.000000  0.000000e+00   0.250365   0.260455   0.000000  0.000000e+00   \n",
       "4      0.000000  0.000000e+00   0.288590   0.302896   0.000000  0.000000e+00   \n",
       "...         ...           ...        ...        ...        ...           ...   \n",
       "21781  0.045505  3.645832e-02   0.268390   0.291318   0.035758  3.592669e-02   \n",
       "21782  0.003887  5.704017e-02   0.329207   0.329372   0.040139  9.026870e-03   \n",
       "21783  0.002531  9.899310e-03   0.249890   0.266450   0.003669  7.881000e-03   \n",
       "21784  0.000742  2.232390e-02   0.267942   0.288471   0.000550  1.681102e-02   \n",
       "21785  0.001943  2.376646e-02   0.262374   0.280531   0.000039  2.213837e-02   \n",
       "\n",
       "         E1-CAM    E2-CAM  f1-CAM  f2-CAM  \n",
       "0      0.409931  0.409939  0.1832  0.1832  \n",
       "1      0.253853  0.334481  0.0575  0.0238  \n",
       "2      0.278519  0.350074  0.0333  0.0000  \n",
       "3      0.244879  0.255051  0.0000  0.0000  \n",
       "4      0.283425  0.296993  0.0000  0.0000  \n",
       "...         ...       ...     ...     ...  \n",
       "21781  0.276414  0.297798  0.0314  0.0409  \n",
       "21782  0.336025  0.337881  0.0376  0.0107  \n",
       "21783  0.253210  0.279390  0.0037  0.0086  \n",
       "21784  0.274602  0.299852  0.0004  0.0195  \n",
       "21785  0.266829  0.292043  0.0001  0.0266  \n",
       "\n",
       "[21786 rows x 17 columns]"
      ]
     },
     "execution_count": 12,
     "metadata": {},
     "output_type": "execute_result"
    }
   ],
   "source": [
    "df"
   ]
  },
  {
   "cell_type": "code",
   "execution_count": 17,
   "metadata": {},
   "outputs": [],
   "source": [
    "from rdkit.Chem import PandasTools\n"
   ]
  },
  {
   "cell_type": "code",
   "execution_count": 26,
   "metadata": {},
   "outputs": [
    {
     "name": "stderr",
     "output_type": "stream",
     "text": [
      "RDKit WARNING: [10:04:56] Warning: molecule is tagged as 3D, but all Z coords are zero\n",
      "RDKit WARNING: [10:04:56] WARNING: not removing hydrogen atom without neighbors\n",
      "RDKit WARNING: [10:04:56] WARNING: not removing hydrogen atom without neighbors\n",
      "RDKit WARNING: [10:04:56] Warning: molecule is tagged as 3D, but all Z coords are zero\n",
      "RDKit WARNING: [10:04:57] WARNING: not removing hydrogen atom without neighbors\n",
      "RDKit WARNING: [10:04:57] WARNING: not removing hydrogen atom without neighbors\n",
      "RDKit WARNING: [10:04:57] WARNING: not removing hydrogen atom without neighbors\n",
      "RDKit WARNING: [10:04:57] WARNING: not removing hydrogen atom without neighbors\n",
      "RDKit WARNING: [10:04:57] WARNING: not removing hydrogen atom without neighbors\n",
      "RDKit WARNING: [10:04:57] WARNING: not removing hydrogen atom without neighbors\n",
      "RDKit WARNING: [10:04:57] WARNING: not removing hydrogen atom without neighbors\n",
      "RDKit WARNING: [10:04:57] WARNING: not removing hydrogen atom without neighbors\n",
      "RDKit WARNING: [10:04:57] WARNING: not removing hydrogen atom without neighbors\n",
      "RDKit WARNING: [10:04:57] WARNING: not removing hydrogen atom without neighbors\n",
      "RDKit WARNING: [10:04:57] WARNING: not removing hydrogen atom without neighbors\n",
      "RDKit WARNING: [10:04:57] WARNING: not removing hydrogen atom without neighbors\n",
      "RDKit WARNING: [10:04:57] WARNING: not removing hydrogen atom without neighbors\n",
      "RDKit WARNING: [10:04:57] WARNING: not removing hydrogen atom without neighbors\n",
      "RDKit WARNING: [10:04:57] WARNING: not removing hydrogen atom without neighbors\n",
      "RDKit WARNING: [10:04:57] WARNING: not removing hydrogen atom without neighbors\n",
      "RDKit WARNING: [10:04:58] WARNING: not removing hydrogen atom without neighbors\n",
      "RDKit WARNING: [10:04:59] WARNING: not removing hydrogen atom without neighbors\n",
      "RDKit WARNING: [10:04:59] WARNING: not removing hydrogen atom without neighbors\n",
      "RDKit ERROR: [09:56:50] ERROR: Explicit valence for atom # 4 N, 4, is greater than permitted\n",
      "RDKit ERROR: [10:04:59] Explicit valence for atom # 3 N, 4, is greater than permitted\n",
      "RDKit ERROR: [10:04:59] ERROR: Could not sanitize molecule ending on line 536762\n",
      "RDKit WARNING: [10:05:00] WARNING: not removing hydrogen atom without neighbors\n",
      "RDKit WARNING: [10:05:00] WARNING: not removing hydrogen atom without neighbors\n",
      "RDKit ERROR: [10:04:59] ERROR: Explicit valence for atom # 3 N, 4, is greater than permitted\n",
      "RDKit ERROR: [10:05:00] Explicit valence for atom # 6 N, 4, is greater than permitted\n",
      "RDKit ERROR: [10:05:00] ERROR: Could not sanitize molecule ending on line 678301\n",
      "RDKit ERROR: [10:05:00] ERROR: Explicit valence for atom # 6 N, 4, is greater than permitted\n",
      "RDKit ERROR: [10:05:00] Explicit valence for atom # 4 N, 4, is greater than permitted\n",
      "RDKit ERROR: [10:05:00] ERROR: Could not sanitize molecule ending on line 698935\n",
      "RDKit WARNING: [10:05:01] WARNING: not removing hydrogen atom without neighbors\n",
      "RDKit WARNING: [10:05:01] WARNING: not removing hydrogen atom without neighbors\n",
      "RDKit WARNING: [10:05:01] WARNING: not removing hydrogen atom without neighbors\n",
      "RDKit WARNING: [10:05:01] WARNING: not removing hydrogen atom without neighbors\n"
     ]
    }
   ],
   "source": [
    "Ligs = PandasTools.LoadSDF('/Users/kexinhuang/Downloads/qm8/qm8.sdf')"
   ]
  },
  {
   "cell_type": "code",
   "execution_count": 25,
   "metadata": {},
   "outputs": [
    {
     "data": {
      "text/plain": [
       "1"
      ]
     },
     "execution_count": 25,
     "metadata": {},
     "output_type": "execute_result"
    }
   ],
   "source": [
    "int(Ligs.ID.iloc[0].split('\\t')[0].split()[1])"
   ]
  },
  {
   "cell_type": "code",
   "execution_count": 41,
   "metadata": {},
   "outputs": [
    {
     "data": {
      "text/plain": [
       "'gdb 104\\t7.51163\\t5.3853\\t3.80314\\t2.4925\\t38.43\\t-0.2369\\t0.0642\\t0.3011\\t370.2795\\t0.090396\\t-268.251114\\t-268.245852\\t-268.244908\\t-268.278934\\t19.173'"
      ]
     },
     "execution_count": 41,
     "metadata": {},
     "output_type": "execute_result"
    }
   ],
   "source": [
    "Ligs.ID.iloc[100]"
   ]
  },
  {
   "cell_type": "code",
   "execution_count": 40,
   "metadata": {},
   "outputs": [
    {
     "data": {
      "image/png": "[encoded data removed]",
      "text/plain": [
       "<rdkit.Chem.rdchem.Mol at 0x7fbe3ea612b0>"
      ]
     },
     "execution_count": 40,
     "metadata": {},
     "output_type": "execute_result"
    }
   ],
   "source": [
    "Ligs.ROMol.iloc[100]"
   ]
  },
  {
   "cell_type": "code",
   "execution_count": null,
   "metadata": {},
   "outputs": [],
   "source": []
  }
 ],
 "metadata": {
  "kernelspec": {
   "display_name": "Python [conda env:gradio_deeppurpose]",
   "language": "python",
   "name": "conda-env-gradio_deeppurpose-py"
  },
  "language_info": {
   "codemirror_mode": {
    "name": "ipython",
    "version": 3
   },
   "file_extension": ".py",
   "mimetype": "text/x-python",
   "name": "python",
   "nbconvert_exporter": "python",
   "pygments_lexer": "ipython3",
   "version": "3.7.7"
  }
 },
 "nbformat": 4,
 "nbformat_minor": 4
}
