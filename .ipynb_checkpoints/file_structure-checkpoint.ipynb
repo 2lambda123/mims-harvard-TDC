{
 "cells": [
  {
   "cell_type": "code",
   "execution_count": 1,
   "metadata": {},
   "outputs": [
    {
     "name": "stderr",
     "output_type": "stream",
     "text": [
      "Dataset already downloaded in the local system...\n",
      "There are 7265 unique drugs\n",
      "Done!\n"
     ]
    }
   ],
   "source": [
    "from OTD.PropertyPred import Toxicity\n",
    "data = Toxicity(name = 'Tox21', target = 'NR-AR')"
   ]
  },
  {
   "cell_type": "code",
   "execution_count": 3,
   "metadata": {},
   "outputs": [
    {
     "name": "stderr",
     "output_type": "stream",
     "text": [
      "There are 9982 unique drugs\n",
      "Done!\n"
     ]
    }
   ],
   "source": [
    "from tdc.property_pred import ADME\n",
    "data = ADME(name = 'Solubility_AqSolDB')"
   ]
  },
  {
   "cell_type": "code",
   "execution_count": 1,
   "metadata": {},
   "outputs": [],
   "source": [
    "map_ = {'Lipo_AZ': 'Lipophilicity_AstraZeneca', 'AqSolDB': 'Solubility_AqSolDB', 'FreeSolv': 'HydrationFreeEnergy_FreeSolv',\n",
    "'Caco2': 'Caco2_Wang', 'HIA': 'HIA_Hou', 'Pgp_inhibitor': 'Pgp_Broccatelli',\n",
    "'Bioavailability_F20_eDrug3D': 'F20_eDrug3D', 'Bioavailability_F30_eDrug3D': 'F30_eDrug3D',\n",
    "'Bioavailability': 'Bioavailability_Ma', 'VD_eDrug3D': 'VD_eDrug3D', 'CYP2C19': 'CYP2C19_Veith',\n",
    "'CYP2D6': 'CYP2D6_Veith', 'CYP3A4': 'CYP3A4_Veith', 'CYP1A2': 'CYP1A2_Veith',\n",
    "'CYP2C9': 'CYP2C9_Veith', 'Half_life_eDrug3D': 'HalfLife_eDrug3D', 'Clearance_eDrug3D': 'Clearance_eDrug3D',\n",
    "'BBB': 'BBB_Adenot', 'BBB_MolNet': 'BBB_MolNet', 'PPBR': 'PPBR_Ma', 'PPBR_eDrug3D': 'PPBR_eDrug3D'}\n"
   ]
  },
  {
   "cell_type": "code",
   "execution_count": 8,
   "metadata": {},
   "outputs": [
    {
     "data": {
      "text/plain": [
       "['Lipophilicity_AstraZeneca',\n",
       " 'Solubility_AqSolDB',\n",
       " 'HydrationFreeEnergy_FreeSolv',\n",
       " 'Caco2_Wang',\n",
       " 'HIA_Hou',\n",
       " 'Pgp_Broccatelli',\n",
       " 'F20_eDrug3D',\n",
       " 'F30_eDrug3D',\n",
       " 'Bioavailability_Ma',\n",
       " 'VD_eDrug3D',\n",
       " 'CYP2C19_Veith',\n",
       " 'CYP2D6_Veith',\n",
       " 'CYP3A4_Veith',\n",
       " 'CYP1A2_Veith',\n",
       " 'CYP2C9_Veith',\n",
       " 'HalfLife_eDrug3D',\n",
       " 'Clearance_eDrug3D',\n",
       " 'BBB_Adenot',\n",
       " 'BBB_MolNet',\n",
       " 'PPBR_Ma',\n",
       " 'PPBR_eDrug3D']"
      ]
     },
     "execution_count": 8,
     "metadata": {},
     "output_type": "execute_result"
    }
   ],
   "source": [
    "list(map_.values())"
   ]
  },
  {
   "cell_type": "code",
   "execution_count": 6,
   "metadata": {},
   "outputs": [
    {
     "name": "stderr",
     "output_type": "stream",
     "text": [
      "Dataset already downloaded in the local system...\n",
      "There are 4200 unique drugs\n",
      "Done!\n",
      "Dataset already downloaded in the local system...\n",
      "There are 9982 unique drugs\n",
      "Done!\n",
      "Dataset already downloaded in the local system...\n",
      "There are 642 unique drugs\n",
      "Done!\n",
      "Dataset already downloaded in the local system...\n",
      "There are 910 unique drugs\n",
      "Done!\n",
      "Dataset already downloaded in the local system...\n",
      "There are 578 unique drugs\n",
      "Done!\n",
      "Dataset already downloaded in the local system...\n",
      "There are 1267 unique drugs\n",
      "Done!\n",
      "Dataset already downloaded in the local system...\n",
      "There are 403 unique drugs\n",
      "Done!\n",
      "Dataset already downloaded in the local system...\n",
      "There are 403 unique drugs\n",
      "Done!\n",
      "Dataset already downloaded in the local system...\n",
      "There are 640 unique drugs\n",
      "Done!\n",
      "Dataset already downloaded in the local system...\n",
      "There are 749 unique drugs\n",
      "Done!\n",
      "There are 12665 unique drugs\n",
      "Done!\n",
      "Dataset already downloaded in the local system...\n",
      "There are 13130 unique drugs\n",
      "Done!\n",
      "Dataset already downloaded in the local system...\n",
      "There are 12328 unique drugs\n",
      "Done!\n",
      "Dataset already downloaded in the local system...\n",
      "There are 12579 unique drugs\n",
      "Done!\n",
      "Dataset already downloaded in the local system...\n",
      "There are 12092 unique drugs\n",
      "Done!\n",
      "Dataset already downloaded in the local system...\n",
      "There are 942 unique drugs\n",
      "Done!\n",
      "Dataset already downloaded in the local system...\n",
      "There are 731 unique drugs\n",
      "Done!\n",
      "Dataset already downloaded in the local system...\n",
      "There are 1581 unique drugs\n",
      "Done!\n",
      "Dataset already downloaded in the local system...\n",
      "There are 2050 unique drugs\n",
      "Done!\n",
      "Dataset already downloaded in the local system...\n",
      "There are 765 unique drugs\n",
      "Done!\n",
      "Dataset already downloaded in the local system...\n",
      "There are 828 unique drugs\n",
      "Done!\n"
     ]
    }
   ],
   "source": [
    "from OTD.PropertyPred import ADME\n",
    "for i in list(map_.keys()):\n",
    "    data = ADME(name = i)\n",
    "    df = data.get_data()\n",
    "    df = df.rename(columns = {'Drug_ID': 'ID', 'Drug': 'X'})\n",
    "    df.to_csv('./data/data_clean/' + map_[i] + '.csv', index = False)"
   ]
  },
  {
   "cell_type": "code",
   "execution_count": 2,
   "metadata": {},
   "outputs": [
    {
     "ename": "AttributeError",
     "evalue": "Please use the correct and available dataset name!",
     "output_type": "error",
     "traceback": [
      "\u001b[0;31m---------------------------------------------------------------------------\u001b[0m",
      "\u001b[0;31mAttributeError\u001b[0m                            Traceback (most recent call last)",
      "\u001b[0;32m<ipython-input-2-7984fb5ef58e>\u001b[0m in \u001b[0;36m<module>\u001b[0;34m\u001b[0m\n\u001b[1;32m      1\u001b[0m \u001b[0;32mfrom\u001b[0m \u001b[0mOTD\u001b[0m\u001b[0;34m.\u001b[0m\u001b[0mPropertyPred\u001b[0m \u001b[0;32mimport\u001b[0m \u001b[0mADME\u001b[0m\u001b[0;34m\u001b[0m\u001b[0;34m\u001b[0m\u001b[0m\n\u001b[0;32m----> 2\u001b[0;31m \u001b[0mdata\u001b[0m \u001b[0;34m=\u001b[0m \u001b[0mADME\u001b[0m\u001b[0;34m(\u001b[0m\u001b[0mname\u001b[0m \u001b[0;34m=\u001b[0m \u001b[0;34m'ClinTox'\u001b[0m\u001b[0;34m)\u001b[0m\u001b[0;34m\u001b[0m\u001b[0;34m\u001b[0m\u001b[0m\n\u001b[0m",
      "\u001b[0;32m~/Desktop/Research/OTD/OTD/PropertyPred/DataLoader.py\u001b[0m in \u001b[0;36m__init__\u001b[0;34m(self, name, path, target, print_stats)\u001b[0m\n\u001b[1;32m     29\u001b[0m                     \u001b[0mDescription\u001b[0m\u001b[0;34m\u001b[0m\u001b[0;34m\u001b[0m\u001b[0m\n\u001b[1;32m     30\u001b[0m \t\t\"\"\"\n\u001b[0;32m---> 31\u001b[0;31m                 \u001b[0msuper\u001b[0m\u001b[0;34m(\u001b[0m\u001b[0;34m)\u001b[0m\u001b[0;34m.\u001b[0m\u001b[0m__init__\u001b[0m\u001b[0;34m(\u001b[0m\u001b[0mname\u001b[0m\u001b[0;34m,\u001b[0m \u001b[0mpath\u001b[0m\u001b[0;34m,\u001b[0m \u001b[0mtarget\u001b[0m\u001b[0;34m,\u001b[0m \u001b[0mdataset_names\u001b[0m \u001b[0;34m=\u001b[0m \u001b[0madme_dataset_names\u001b[0m\u001b[0;34m)\u001b[0m\u001b[0;34m\u001b[0m\u001b[0;34m\u001b[0m\u001b[0m\n\u001b[0m\u001b[1;32m     32\u001b[0m \u001b[0;34m\u001b[0m\u001b[0m\n\u001b[1;32m     33\u001b[0m \u001b[0;32mclass\u001b[0m \u001b[0mToxicity\u001b[0m\u001b[0;34m(\u001b[0m\u001b[0mPropertyDataset\u001b[0m\u001b[0;34m.\u001b[0m\u001b[0mDataLoader\u001b[0m\u001b[0;34m)\u001b[0m\u001b[0;34m:\u001b[0m\u001b[0;34m\u001b[0m\u001b[0;34m\u001b[0m\u001b[0m\n",
      "\u001b[0;32m~/Desktop/Research/OTD/OTD/PropertyPred/PropertyDataset.py\u001b[0m in \u001b[0;36m__init__\u001b[0;34m(self, name, path, target, print_stats, dataset_names)\u001b[0m\n\u001b[1;32m     13\u001b[0m                         \u001b[0mentity1\u001b[0m\u001b[0;34m,\u001b[0m \u001b[0my\u001b[0m\u001b[0;34m,\u001b[0m \u001b[0mentity1_idx\u001b[0m \u001b[0;34m=\u001b[0m \u001b[0mdataset_load\u001b[0m\u001b[0;34m(\u001b[0m\u001b[0mname\u001b[0m\u001b[0;34m,\u001b[0m \u001b[0mpath\u001b[0m\u001b[0;34m,\u001b[0m \u001b[0mtarget\u001b[0m\u001b[0;34m,\u001b[0m \u001b[0;34m'csv'\u001b[0m\u001b[0;34m)\u001b[0m\u001b[0;34m\u001b[0m\u001b[0;34m\u001b[0m\u001b[0m\n\u001b[1;32m     14\u001b[0m                 \u001b[0;32melse\u001b[0m\u001b[0;34m:\u001b[0m\u001b[0;34m\u001b[0m\u001b[0;34m\u001b[0m\u001b[0m\n\u001b[0;32m---> 15\u001b[0;31m                         \u001b[0;32mraise\u001b[0m \u001b[0mAttributeError\u001b[0m\u001b[0;34m(\u001b[0m\u001b[0;34m\"Please use the correct and available dataset name!\"\u001b[0m\u001b[0;34m)\u001b[0m\u001b[0;34m\u001b[0m\u001b[0;34m\u001b[0m\u001b[0m\n\u001b[0m\u001b[1;32m     16\u001b[0m \u001b[0;34m\u001b[0m\u001b[0m\n\u001b[1;32m     17\u001b[0m                 \u001b[0mself\u001b[0m\u001b[0;34m.\u001b[0m\u001b[0mentity1\u001b[0m \u001b[0;34m=\u001b[0m \u001b[0mentity1\u001b[0m\u001b[0;34m\u001b[0m\u001b[0;34m\u001b[0m\u001b[0m\n",
      "\u001b[0;31mAttributeError\u001b[0m: Please use the correct and available dataset name!"
     ]
    }
   ],
   "source": [
    "from OTD.PropertyPred import ADME\n",
    "data = ADME(name = 'ClinTox')"
   ]
  },
  {
   "cell_type": "code",
   "execution_count": 2,
   "metadata": {},
   "outputs": [],
   "source": [
    "import pandas as pd\n",
    "df = pd.read_csv('./data/tox21.csv')"
   ]
  },
  {
   "cell_type": "code",
   "execution_count": 4,
   "metadata": {},
   "outputs": [],
   "source": [
    "df = df.rename(columns = {'smiles': 'X', 'mol_id': 'ID'})"
   ]
  },
  {
   "cell_type": "code",
   "execution_count": 3,
   "metadata": {},
   "outputs": [
    {
     "data": {
      "text/html": [
       "<div>\n",
       "<style scoped>\n",
       "    .dataframe tbody tr th:only-of-type {\n",
       "        vertical-align: middle;\n",
       "    }\n",
       "\n",
       "    .dataframe tbody tr th {\n",
       "        vertical-align: top;\n",
       "    }\n",
       "\n",
       "    .dataframe thead th {\n",
       "        text-align: right;\n",
       "    }\n",
       "</style>\n",
       "<table border=\"1\" class=\"dataframe\">\n",
       "  <thead>\n",
       "    <tr style=\"text-align: right;\">\n",
       "      <th></th>\n",
       "      <th>NR-AR</th>\n",
       "      <th>NR-AR-LBD</th>\n",
       "      <th>NR-AhR</th>\n",
       "      <th>NR-Aromatase</th>\n",
       "      <th>NR-ER</th>\n",
       "      <th>NR-ER-LBD</th>\n",
       "      <th>NR-PPAR-gamma</th>\n",
       "      <th>SR-ARE</th>\n",
       "      <th>SR-ATAD5</th>\n",
       "      <th>SR-HSE</th>\n",
       "      <th>SR-MMP</th>\n",
       "      <th>SR-p53</th>\n",
       "      <th>mol_id</th>\n",
       "      <th>smiles</th>\n",
       "    </tr>\n",
       "  </thead>\n",
       "  <tbody>\n",
       "    <tr>\n",
       "      <th>0</th>\n",
       "      <td>0.0</td>\n",
       "      <td>0.0</td>\n",
       "      <td>1.0</td>\n",
       "      <td>NaN</td>\n",
       "      <td>NaN</td>\n",
       "      <td>0.0</td>\n",
       "      <td>0.0</td>\n",
       "      <td>1.0</td>\n",
       "      <td>0.0</td>\n",
       "      <td>0.0</td>\n",
       "      <td>0.0</td>\n",
       "      <td>0.0</td>\n",
       "      <td>TOX3021</td>\n",
       "      <td>CCOc1ccc2nc(S(N)(=O)=O)sc2c1</td>\n",
       "    </tr>\n",
       "    <tr>\n",
       "      <th>1</th>\n",
       "      <td>0.0</td>\n",
       "      <td>0.0</td>\n",
       "      <td>0.0</td>\n",
       "      <td>0.0</td>\n",
       "      <td>0.0</td>\n",
       "      <td>0.0</td>\n",
       "      <td>0.0</td>\n",
       "      <td>NaN</td>\n",
       "      <td>0.0</td>\n",
       "      <td>NaN</td>\n",
       "      <td>0.0</td>\n",
       "      <td>0.0</td>\n",
       "      <td>TOX3020</td>\n",
       "      <td>CCN1C(=O)NC(c2ccccc2)C1=O</td>\n",
       "    </tr>\n",
       "    <tr>\n",
       "      <th>2</th>\n",
       "      <td>NaN</td>\n",
       "      <td>NaN</td>\n",
       "      <td>NaN</td>\n",
       "      <td>NaN</td>\n",
       "      <td>NaN</td>\n",
       "      <td>NaN</td>\n",
       "      <td>NaN</td>\n",
       "      <td>0.0</td>\n",
       "      <td>NaN</td>\n",
       "      <td>0.0</td>\n",
       "      <td>NaN</td>\n",
       "      <td>NaN</td>\n",
       "      <td>TOX3024</td>\n",
       "      <td>CC[C@]1(O)CC[C@H]2[C@@H]3CCC4=CCCC[C@@H]4[C@H]...</td>\n",
       "    </tr>\n",
       "    <tr>\n",
       "      <th>3</th>\n",
       "      <td>0.0</td>\n",
       "      <td>0.0</td>\n",
       "      <td>0.0</td>\n",
       "      <td>0.0</td>\n",
       "      <td>0.0</td>\n",
       "      <td>0.0</td>\n",
       "      <td>0.0</td>\n",
       "      <td>NaN</td>\n",
       "      <td>0.0</td>\n",
       "      <td>NaN</td>\n",
       "      <td>0.0</td>\n",
       "      <td>0.0</td>\n",
       "      <td>TOX3027</td>\n",
       "      <td>CCCN(CC)C(CC)C(=O)Nc1c(C)cccc1C</td>\n",
       "    </tr>\n",
       "    <tr>\n",
       "      <th>4</th>\n",
       "      <td>0.0</td>\n",
       "      <td>0.0</td>\n",
       "      <td>0.0</td>\n",
       "      <td>0.0</td>\n",
       "      <td>0.0</td>\n",
       "      <td>0.0</td>\n",
       "      <td>0.0</td>\n",
       "      <td>0.0</td>\n",
       "      <td>0.0</td>\n",
       "      <td>0.0</td>\n",
       "      <td>0.0</td>\n",
       "      <td>0.0</td>\n",
       "      <td>TOX20800</td>\n",
       "      <td>CC(O)(P(=O)(O)O)P(=O)(O)O</td>\n",
       "    </tr>\n",
       "    <tr>\n",
       "      <th>...</th>\n",
       "      <td>...</td>\n",
       "      <td>...</td>\n",
       "      <td>...</td>\n",
       "      <td>...</td>\n",
       "      <td>...</td>\n",
       "      <td>...</td>\n",
       "      <td>...</td>\n",
       "      <td>...</td>\n",
       "      <td>...</td>\n",
       "      <td>...</td>\n",
       "      <td>...</td>\n",
       "      <td>...</td>\n",
       "      <td>...</td>\n",
       "      <td>...</td>\n",
       "    </tr>\n",
       "    <tr>\n",
       "      <th>7826</th>\n",
       "      <td>NaN</td>\n",
       "      <td>NaN</td>\n",
       "      <td>NaN</td>\n",
       "      <td>NaN</td>\n",
       "      <td>NaN</td>\n",
       "      <td>NaN</td>\n",
       "      <td>NaN</td>\n",
       "      <td>0.0</td>\n",
       "      <td>NaN</td>\n",
       "      <td>0.0</td>\n",
       "      <td>NaN</td>\n",
       "      <td>NaN</td>\n",
       "      <td>TOX2725</td>\n",
       "      <td>CCOc1nc2cccc(C(=O)O)c2n1Cc1ccc(-c2ccccc2-c2nnn...</td>\n",
       "    </tr>\n",
       "    <tr>\n",
       "      <th>7827</th>\n",
       "      <td>1.0</td>\n",
       "      <td>1.0</td>\n",
       "      <td>0.0</td>\n",
       "      <td>0.0</td>\n",
       "      <td>1.0</td>\n",
       "      <td>0.0</td>\n",
       "      <td>NaN</td>\n",
       "      <td>NaN</td>\n",
       "      <td>0.0</td>\n",
       "      <td>0.0</td>\n",
       "      <td>NaN</td>\n",
       "      <td>0.0</td>\n",
       "      <td>TOX2370</td>\n",
       "      <td>CC(=O)[C@H]1CC[C@H]2[C@@H]3CCC4=CC(=O)CC[C@]4(...</td>\n",
       "    </tr>\n",
       "    <tr>\n",
       "      <th>7828</th>\n",
       "      <td>1.0</td>\n",
       "      <td>1.0</td>\n",
       "      <td>0.0</td>\n",
       "      <td>0.0</td>\n",
       "      <td>1.0</td>\n",
       "      <td>1.0</td>\n",
       "      <td>0.0</td>\n",
       "      <td>1.0</td>\n",
       "      <td>0.0</td>\n",
       "      <td>0.0</td>\n",
       "      <td>0.0</td>\n",
       "      <td>0.0</td>\n",
       "      <td>TOX2371</td>\n",
       "      <td>C[C@]12CC[C@H]3[C@@H](CCC4=CC(=O)CC[C@@]43C)[C...</td>\n",
       "    </tr>\n",
       "    <tr>\n",
       "      <th>7829</th>\n",
       "      <td>1.0</td>\n",
       "      <td>1.0</td>\n",
       "      <td>0.0</td>\n",
       "      <td>NaN</td>\n",
       "      <td>1.0</td>\n",
       "      <td>1.0</td>\n",
       "      <td>0.0</td>\n",
       "      <td>0.0</td>\n",
       "      <td>0.0</td>\n",
       "      <td>0.0</td>\n",
       "      <td>1.0</td>\n",
       "      <td>1.0</td>\n",
       "      <td>TOX2377</td>\n",
       "      <td>C[C@]12CC[C@@H]3c4ccc(O)cc4CC[C@H]3[C@@H]1CC[C...</td>\n",
       "    </tr>\n",
       "    <tr>\n",
       "      <th>7830</th>\n",
       "      <td>0.0</td>\n",
       "      <td>0.0</td>\n",
       "      <td>NaN</td>\n",
       "      <td>0.0</td>\n",
       "      <td>0.0</td>\n",
       "      <td>0.0</td>\n",
       "      <td>0.0</td>\n",
       "      <td>0.0</td>\n",
       "      <td>0.0</td>\n",
       "      <td>0.0</td>\n",
       "      <td>1.0</td>\n",
       "      <td>0.0</td>\n",
       "      <td>TOX2724</td>\n",
       "      <td>COc1ccc2c(c1OC)CN1CCc3cc4c(cc3C1C2)OCO4</td>\n",
       "    </tr>\n",
       "  </tbody>\n",
       "</table>\n",
       "<p>7831 rows × 14 columns</p>\n",
       "</div>"
      ],
      "text/plain": [
       "      NR-AR  NR-AR-LBD  NR-AhR  NR-Aromatase  NR-ER  NR-ER-LBD  NR-PPAR-gamma  \\\n",
       "0       0.0        0.0     1.0           NaN    NaN        0.0            0.0   \n",
       "1       0.0        0.0     0.0           0.0    0.0        0.0            0.0   \n",
       "2       NaN        NaN     NaN           NaN    NaN        NaN            NaN   \n",
       "3       0.0        0.0     0.0           0.0    0.0        0.0            0.0   \n",
       "4       0.0        0.0     0.0           0.0    0.0        0.0            0.0   \n",
       "...     ...        ...     ...           ...    ...        ...            ...   \n",
       "7826    NaN        NaN     NaN           NaN    NaN        NaN            NaN   \n",
       "7827    1.0        1.0     0.0           0.0    1.0        0.0            NaN   \n",
       "7828    1.0        1.0     0.0           0.0    1.0        1.0            0.0   \n",
       "7829    1.0        1.0     0.0           NaN    1.0        1.0            0.0   \n",
       "7830    0.0        0.0     NaN           0.0    0.0        0.0            0.0   \n",
       "\n",
       "      SR-ARE  SR-ATAD5  SR-HSE  SR-MMP  SR-p53    mol_id  \\\n",
       "0        1.0       0.0     0.0     0.0     0.0   TOX3021   \n",
       "1        NaN       0.0     NaN     0.0     0.0   TOX3020   \n",
       "2        0.0       NaN     0.0     NaN     NaN   TOX3024   \n",
       "3        NaN       0.0     NaN     0.0     0.0   TOX3027   \n",
       "4        0.0       0.0     0.0     0.0     0.0  TOX20800   \n",
       "...      ...       ...     ...     ...     ...       ...   \n",
       "7826     0.0       NaN     0.0     NaN     NaN   TOX2725   \n",
       "7827     NaN       0.0     0.0     NaN     0.0   TOX2370   \n",
       "7828     1.0       0.0     0.0     0.0     0.0   TOX2371   \n",
       "7829     0.0       0.0     0.0     1.0     1.0   TOX2377   \n",
       "7830     0.0       0.0     0.0     1.0     0.0   TOX2724   \n",
       "\n",
       "                                                 smiles  \n",
       "0                          CCOc1ccc2nc(S(N)(=O)=O)sc2c1  \n",
       "1                             CCN1C(=O)NC(c2ccccc2)C1=O  \n",
       "2     CC[C@]1(O)CC[C@H]2[C@@H]3CCC4=CCCC[C@@H]4[C@H]...  \n",
       "3                       CCCN(CC)C(CC)C(=O)Nc1c(C)cccc1C  \n",
       "4                             CC(O)(P(=O)(O)O)P(=O)(O)O  \n",
       "...                                                 ...  \n",
       "7826  CCOc1nc2cccc(C(=O)O)c2n1Cc1ccc(-c2ccccc2-c2nnn...  \n",
       "7827  CC(=O)[C@H]1CC[C@H]2[C@@H]3CCC4=CC(=O)CC[C@]4(...  \n",
       "7828  C[C@]12CC[C@H]3[C@@H](CCC4=CC(=O)CC[C@@]43C)[C...  \n",
       "7829  C[C@]12CC[C@@H]3c4ccc(O)cc4CC[C@H]3[C@@H]1CC[C...  \n",
       "7830            COc1ccc2c(c1OC)CN1CCc3cc4c(cc3C1C2)OCO4  \n",
       "\n",
       "[7831 rows x 14 columns]"
      ]
     },
     "execution_count": 3,
     "metadata": {},
     "output_type": "execute_result"
    }
   ],
   "source": [
    "df = df[df[target].notnull()].reset_index(drop = True)\n",
    "df = df.iloc[df['X'].drop_duplicates(keep = False).index.values]\n",
    "\n",
    "y = df[target].values\n",
    "drugs = df.smiles.values\n",
    "drugs_idx = df[\"ID\"].values"
   ]
  },
  {
   "cell_type": "code",
   "execution_count": 4,
   "metadata": {},
   "outputs": [
    {
     "name": "stderr",
     "output_type": "stream",
     "text": [
      "There are 549205 unique drugs\n",
      "There are 5078 unique targets\n",
      "There are 885650 drug-target pairs\n",
      "Done!\n"
     ]
    }
   ],
   "source": [
    "from tdc.interaction_pred import DTI\n",
    "data = DTI(name = 'BindingDB_IC50')"
   ]
  },
  {
   "cell_type": "code",
   "execution_count": 2,
   "metadata": {},
   "outputs": [
    {
     "name": "stderr",
     "output_type": "stream",
     "text": [
      "Dataset already downloaded in the local system...\n",
      "There are 68 unique drugs\n",
      "There are 379 unique targets\n",
      "There are 25772 drug-target pairs\n",
      "Done!\n"
     ]
    }
   ],
   "source": [
    "from tdc.interaction_pred import DTI\n",
    "data = DTI(name = 'DAVIS')"
   ]
  },
  {
   "cell_type": "code",
   "execution_count": 6,
   "metadata": {},
   "outputs": [],
   "source": [
    "df = data.get_data()\n",
    "df = df.rename(columns = {'Drug_ID': 'ID1', 'Drug': 'X1', 'Target_ID': 'ID2', 'Target': 'X2'})\n",
    "df.to_csv('./data/data_clean/DTI/DAVIS.csv', index = False)"
   ]
  },
  {
   "cell_type": "code",
   "execution_count": 7,
   "metadata": {},
   "outputs": [
    {
     "name": "stderr",
     "output_type": "stream",
     "text": [
      "Dataset already downloaded in the local system...\n",
      "100%|██████████| 2111/2111 [00:02<00:00, 828.85it/s]\n",
      "There are 2068 unique drugs\n",
      "There are 229 unique targets\n",
      "There are 118254 drug-target pairs\n",
      "Done!\n"
     ]
    }
   ],
   "source": [
    "data = DTI(name = 'KIBA')"
   ]
  },
  {
   "cell_type": "code",
   "execution_count": 8,
   "metadata": {},
   "outputs": [],
   "source": [
    "df = data.get_data()\n",
    "df = df.rename(columns = {'Drug_ID': 'ID1', 'Drug': 'X1', 'Target_ID': 'ID2', 'Target': 'X2'})\n",
    "df.to_csv('./data/data_clean/DTI/KIBA.csv', index = False)"
   ]
  },
  {
   "cell_type": "code",
   "execution_count": null,
   "metadata": {},
   "outputs": [],
   "source": []
  },
  {
   "cell_type": "code",
   "execution_count": 13,
   "metadata": {},
   "outputs": [
    {
     "name": "stderr",
     "output_type": "stream",
     "text": [
      "Dataset already downloaded in the local system...\n",
      "There are 549205 unique drugs\n",
      "There are 5078 unique targets\n",
      "There are 1073803 drug-target pairs\n",
      "Done!\n"
     ]
    }
   ],
   "source": [
    "data = DTI(name = 'BindingDB', target = 'IC50')"
   ]
  },
  {
   "cell_type": "code",
   "execution_count": 14,
   "metadata": {},
   "outputs": [],
   "source": [
    "df = data.get_data()\n",
    "df = df.rename(columns = {'Drug_ID': 'ID1', 'Drug': 'X1', 'Target_ID': 'ID2', 'Target': 'X2'})\n",
    "df.to_csv('./data/data_clean/DTI/BindingDB_IC50.csv', index = False)"
   ]
  },
  {
   "cell_type": "code",
   "execution_count": 6,
   "metadata": {},
   "outputs": [],
   "source": [
    "from tdc.generation import MolGenPaired\n",
    "data = MolGenPaired(name = 'LogP')"
   ]
  },
  {
   "cell_type": "code",
   "execution_count": 7,
   "metadata": {},
   "outputs": [],
   "source": [
    "data.get_data().to_csv('./data/data_clean/generation/MolGenPaired/LogP.csv', index = False)"
   ]
  },
  {
   "cell_type": "code",
   "execution_count": null,
   "metadata": {},
   "outputs": [],
   "source": []
  },
  {
   "cell_type": "code",
   "execution_count": 13,
   "metadata": {},
   "outputs": [],
   "source": [
    "import pandas as pd\n",
    "# Download from HuRI\n",
    "df = pd.read_csv('/Users/kexinhuang/Downloads/HuRI.tsv', sep = '\\t', header = None).rename(columns = {0: 'ID1', 1: 'ID2'})"
   ]
  },
  {
   "cell_type": "code",
   "execution_count": 22,
   "metadata": {},
   "outputs": [],
   "source": [
    "# process to line by line ensembl IDs and sent to biomart for batch query\n",
    "import numpy as np\n",
    "with open('./data/huri_protein.txt', 'w') as f:\n",
    "    for i in np.unique(np.array(df.ID1.values.tolist() + df.ID2.values.tolist())):\n",
    "        f.write(i)\n",
    "        f.write('\\n')"
   ]
  },
  {
   "cell_type": "code",
   "execution_count": 76,
   "metadata": {},
   "outputs": [
    {
     "name": "stderr",
     "output_type": "stream",
     "text": [
      "/Users/kexinhuang/opt/anaconda3/envs/gradio_deeppurpose/lib/python3.7/site-packages/ipykernel/ipkernel.py:287: DeprecationWarning: `should_run_async` will not call `transform_cell` automatically in the future. Please pass the result to `transformed_cell` argument and any exception that happen during thetransform in `preprocessing_exc_tuple` in IPython 7.17 and above.\n",
      "  and should_run_async(code)\n"
     ]
    }
   ],
   "source": [
    "# select peptide output in the biomart and process\n",
    "import fastaparser\n",
    "IDs = []\n",
    "Seqs = []\n",
    "with open(\"/Users/kexinhuang/Downloads/mart_export.txt\") as fasta_file:\n",
    "    parser = fastaparser.Reader(fasta_file)\n",
    "    for seq in parser:\n",
    "        # seq is a FastaSequence object\n",
    "        IDs.append(seq.id.split('|')[0])\n",
    "        Seqs.append(seq.sequence_as_string())"
   ]
  },
  {
   "cell_type": "code",
   "execution_count": 102,
   "metadata": {},
   "outputs": [
    {
     "name": "stderr",
     "output_type": "stream",
     "text": [
      "/Users/kexinhuang/opt/anaconda3/envs/gradio_deeppurpose/lib/python3.7/site-packages/ipykernel/ipkernel.py:287: DeprecationWarning: `should_run_async` will not call `transform_cell` automatically in the future. Please pass the result to `transformed_cell` argument and any exception that happen during thetransform in `preprocessing_exc_tuple` in IPython 7.17 and above.\n",
      "  and should_run_async(code)\n"
     ]
    }
   ],
   "source": [
    "df_t = pd.DataFrame(zip(IDs, Seqs)).drop_duplicates()"
   ]
  },
  {
   "cell_type": "code",
   "execution_count": 104,
   "metadata": {},
   "outputs": [
    {
     "name": "stderr",
     "output_type": "stream",
     "text": [
      "/Users/kexinhuang/opt/anaconda3/envs/gradio_deeppurpose/lib/python3.7/site-packages/ipykernel/ipkernel.py:287: DeprecationWarning: `should_run_async` will not call `transform_cell` automatically in the future. Please pass the result to `transformed_cell` argument and any exception that happen during thetransform in `preprocessing_exc_tuple` in IPython 7.17 and above.\n",
      "  and should_run_async(code)\n"
     ]
    }
   ],
   "source": [
    "df_t = df_t.rename(columns = {0: 'ID', 1: 'Seq'})"
   ]
  },
  {
   "cell_type": "code",
   "execution_count": 109,
   "metadata": {},
   "outputs": [
    {
     "name": "stderr",
     "output_type": "stream",
     "text": [
      "/Users/kexinhuang/opt/anaconda3/envs/gradio_deeppurpose/lib/python3.7/site-packages/ipykernel/ipkernel.py:287: DeprecationWarning: `should_run_async` will not call `transform_cell` automatically in the future. Please pass the result to `transformed_cell` argument and any exception that happen during thetransform in `preprocessing_exc_tuple` in IPython 7.17 and above.\n",
      "  and should_run_async(code)\n"
     ]
    }
   ],
   "source": [
    "df_t = df_t[df_t.Seq != 'SEQUENCE UNAVAILABLE']"
   ]
  },
  {
   "cell_type": "code",
   "execution_count": 112,
   "metadata": {},
   "outputs": [
    {
     "name": "stderr",
     "output_type": "stream",
     "text": [
      "/Users/kexinhuang/opt/anaconda3/envs/gradio_deeppurpose/lib/python3.7/site-packages/ipykernel/ipkernel.py:287: DeprecationWarning: `should_run_async` will not call `transform_cell` automatically in the future. Please pass the result to `transformed_cell` argument and any exception that happen during thetransform in `preprocessing_exc_tuple` in IPython 7.17 and above.\n",
      "  and should_run_async(code)\n"
     ]
    }
   ],
   "source": [
    "df_t = df_t.drop_duplicates()"
   ]
  },
  {
   "cell_type": "code",
   "execution_count": 120,
   "metadata": {},
   "outputs": [
    {
     "name": "stderr",
     "output_type": "stream",
     "text": [
      "/Users/kexinhuang/opt/anaconda3/envs/gradio_deeppurpose/lib/python3.7/site-packages/ipykernel/ipkernel.py:287: DeprecationWarning: `should_run_async` will not call `transform_cell` automatically in the future. Please pass the result to `transformed_cell` argument and any exception that happen during thetransform in `preprocessing_exc_tuple` in IPython 7.17 and above.\n",
      "  and should_run_async(code)\n"
     ]
    }
   ],
   "source": [
    "# When one gene id associated with multiple peptides, we concatenate them with separate sign *\n",
    "df_t = df_t.groupby('ID').Seq.apply(lambda x: ''.join(x))"
   ]
  },
  {
   "cell_type": "code",
   "execution_count": 126,
   "metadata": {},
   "outputs": [
    {
     "name": "stderr",
     "output_type": "stream",
     "text": [
      "/Users/kexinhuang/opt/anaconda3/envs/gradio_deeppurpose/lib/python3.7/site-packages/ipykernel/ipkernel.py:287: DeprecationWarning: `should_run_async` will not call `transform_cell` automatically in the future. Please pass the result to `transformed_cell` argument and any exception that happen during thetransform in `preprocessing_exc_tuple` in IPython 7.17 and above.\n",
      "  and should_run_async(code)\n"
     ]
    }
   ],
   "source": [
    "df_t = df_t.reset_index()"
   ]
  },
  {
   "cell_type": "code",
   "execution_count": 127,
   "metadata": {},
   "outputs": [
    {
     "name": "stderr",
     "output_type": "stream",
     "text": [
      "/Users/kexinhuang/opt/anaconda3/envs/gradio_deeppurpose/lib/python3.7/site-packages/ipykernel/ipkernel.py:287: DeprecationWarning: `should_run_async` will not call `transform_cell` automatically in the future. Please pass the result to `transformed_cell` argument and any exception that happen during thetransform in `preprocessing_exc_tuple` in IPython 7.17 and above.\n",
      "  and should_run_async(code)\n"
     ]
    }
   ],
   "source": [
    "id2seq = dict(zip(df_t['ID'].values, df_t['Seq'].values))"
   ]
  },
  {
   "cell_type": "code",
   "execution_count": 128,
   "metadata": {},
   "outputs": [
    {
     "name": "stderr",
     "output_type": "stream",
     "text": [
      "/Users/kexinhuang/opt/anaconda3/envs/gradio_deeppurpose/lib/python3.7/site-packages/ipykernel/ipkernel.py:287: DeprecationWarning: `should_run_async` will not call `transform_cell` automatically in the future. Please pass the result to `transformed_cell` argument and any exception that happen during thetransform in `preprocessing_exc_tuple` in IPython 7.17 and above.\n",
      "  and should_run_async(code)\n"
     ]
    },
    {
     "data": {
      "text/plain": [
       "8248"
      ]
     },
     "execution_count": 128,
     "metadata": {},
     "output_type": "execute_result"
    }
   ],
   "source": [
    "len(id2seq)"
   ]
  },
  {
   "cell_type": "code",
   "execution_count": null,
   "metadata": {},
   "outputs": [],
   "source": [
    "# 8272 to 8248, filter out"
   ]
  },
  {
   "cell_type": "code",
   "execution_count": 131,
   "metadata": {},
   "outputs": [
    {
     "name": "stderr",
     "output_type": "stream",
     "text": [
      "/Users/kexinhuang/opt/anaconda3/envs/gradio_deeppurpose/lib/python3.7/site-packages/ipykernel/ipkernel.py:287: DeprecationWarning: `should_run_async` will not call `transform_cell` automatically in the future. Please pass the result to `transformed_cell` argument and any exception that happen during thetransform in `preprocessing_exc_tuple` in IPython 7.17 and above.\n",
      "  and should_run_async(code)\n"
     ]
    }
   ],
   "source": [
    "df = df[df.ID1.isin(list(id2seq.keys()))]\n",
    "df = df[df.ID2.isin(list(id2seq.keys()))]\n",
    "df['X1'] = [id2seq[i] for i in df.ID1.values]"
   ]
  },
  {
   "cell_type": "code",
   "execution_count": 132,
   "metadata": {},
   "outputs": [
    {
     "name": "stderr",
     "output_type": "stream",
     "text": [
      "/Users/kexinhuang/opt/anaconda3/envs/gradio_deeppurpose/lib/python3.7/site-packages/ipykernel/ipkernel.py:287: DeprecationWarning: `should_run_async` will not call `transform_cell` automatically in the future. Please pass the result to `transformed_cell` argument and any exception that happen during thetransform in `preprocessing_exc_tuple` in IPython 7.17 and above.\n",
      "  and should_run_async(code)\n"
     ]
    }
   ],
   "source": [
    "df['X2'] = [id2seq[i] for i in df.ID2.values]"
   ]
  },
  {
   "cell_type": "code",
   "execution_count": 134,
   "metadata": {},
   "outputs": [
    {
     "name": "stderr",
     "output_type": "stream",
     "text": [
      "/Users/kexinhuang/opt/anaconda3/envs/gradio_deeppurpose/lib/python3.7/site-packages/ipykernel/ipkernel.py:287: DeprecationWarning: `should_run_async` will not call `transform_cell` automatically in the future. Please pass the result to `transformed_cell` argument and any exception that happen during thetransform in `preprocessing_exc_tuple` in IPython 7.17 and above.\n",
      "  and should_run_async(code)\n"
     ]
    },
    {
     "data": {
      "text/plain": [
       "52369"
      ]
     },
     "execution_count": 134,
     "metadata": {},
     "output_type": "execute_result"
    }
   ],
   "source": [
    "len(df)"
   ]
  },
  {
   "cell_type": "code",
   "execution_count": null,
   "metadata": {},
   "outputs": [],
   "source": []
  },
  {
   "cell_type": "code",
   "execution_count": 135,
   "metadata": {},
   "outputs": [
    {
     "name": "stderr",
     "output_type": "stream",
     "text": [
      "/Users/kexinhuang/opt/anaconda3/envs/gradio_deeppurpose/lib/python3.7/site-packages/ipykernel/ipkernel.py:287: DeprecationWarning: `should_run_async` will not call `transform_cell` automatically in the future. Please pass the result to `transformed_cell` argument and any exception that happen during thetransform in `preprocessing_exc_tuple` in IPython 7.17 and above.\n",
      "  and should_run_async(code)\n"
     ]
    }
   ],
   "source": [
    "df.reset_index(drop = True).to_csv('./data/data_clean/interaction_prediction/PPI/HuRI.csv', index = False)"
   ]
  },
  {
   "cell_type": "code",
   "execution_count": null,
   "metadata": {},
   "outputs": [],
   "source": []
  },
  {
   "cell_type": "code",
   "execution_count": 2,
   "metadata": {},
   "outputs": [
    {
     "name": "stderr",
     "output_type": "stream",
     "text": [
      "There are 6149 unique protein1s\n",
      "There are 6400 unique protein2s\n",
      "There are 51813 protein1-protein2 pairs\n",
      "Done!\n"
     ]
    }
   ],
   "source": [
    "from tdc.interaction_pred import PPI\n",
    "data = PPI(name = 'HuRI')"
   ]
  },
  {
   "cell_type": "code",
   "execution_count": null,
   "metadata": {},
   "outputs": [],
   "source": []
  },
  {
   "cell_type": "code",
   "execution_count": 1,
   "metadata": {},
   "outputs": [],
   "source": [
    "import pandas as pd\n",
    "df = pd.read_csv('/Users/kexinhuang/Downloads/TWOSIDES.csv')"
   ]
  },
  {
   "cell_type": "code",
   "execution_count": 2,
   "metadata": {},
   "outputs": [
    {
     "data": {
      "text/plain": [
       "645"
      ]
     },
     "execution_count": 2,
     "metadata": {},
     "output_type": "execute_result"
    }
   ],
   "source": [
    "import numpy as np\n",
    "len(np.unique(df[['# STITCH 1', 'STITCH 2']].values.reshape(-1,)))"
   ]
  },
  {
   "cell_type": "code",
   "execution_count": 3,
   "metadata": {},
   "outputs": [
    {
     "name": "stderr",
     "output_type": "stream",
     "text": [
      "100%|██████████| 645/645 [06:33<00:00,  1.64it/s]\n"
     ]
    }
   ],
   "source": [
    "from tdc.utils import cid2smiles\n",
    "from tqdm import tqdm\n",
    "smiles = []\n",
    "for i in tqdm(np.unique(df[['# STITCH 1', 'STITCH 2']].values.reshape(-1,))):\n",
    "    try:\n",
    "        smiles.append(cid2smiles(int(i.split('CID')[-1])))\n",
    "    except:\n",
    "        smiles.append('ERROR')\n",
    "        print(i)"
   ]
  },
  {
   "cell_type": "code",
   "execution_count": 7,
   "metadata": {},
   "outputs": [],
   "source": [
    "id2smiles = dict(zip(np.unique(df[['# STITCH 1', 'STITCH 2']].values.reshape(-1,)), smiles))"
   ]
  },
  {
   "cell_type": "code",
   "execution_count": 11,
   "metadata": {},
   "outputs": [],
   "source": [
    "df['X1'] = [id2smiles[i] for i in df['# STITCH 1'].values]\n",
    "df['X2'] = [id2smiles[i] for i in df['STITCH 2'].values]"
   ]
  },
  {
   "cell_type": "code",
   "execution_count": 14,
   "metadata": {},
   "outputs": [],
   "source": [
    "df = df.rename(columns = {'# STITCH 1': 'X1', 'STITCH 2': 'X2', 'Polypharmacy Side Effect': 'Y'})"
   ]
  },
  {
   "cell_type": "code",
   "execution_count": 17,
   "metadata": {},
   "outputs": [],
   "source": [
    "y_unique = np.unique(df.Y.values)\n",
    "c2y = dict(zip(y_unique, list(range(len(y_unique)))))"
   ]
  },
  {
   "cell_type": "code",
   "execution_count": 19,
   "metadata": {},
   "outputs": [],
   "source": [
    "df['Y'] = [c2y[i] for i in df['Y'].values]"
   ]
  },
  {
   "cell_type": "code",
   "execution_count": 21,
   "metadata": {},
   "outputs": [],
   "source": [
    "df = df.rename({'Side Effect Name': 'Map'})"
   ]
  },
  {
   "cell_type": "code",
   "execution_count": 23,
   "metadata": {},
   "outputs": [],
   "source": [
    "df.to_csv('./data/data_clean/TWOSIDES.csv', index = False)"
   ]
  },
  {
   "cell_type": "code",
   "execution_count": 2,
   "metadata": {},
   "outputs": [],
   "source": [
    "import pandas as pd\n",
    "df = pd.read_csv('./data/data_clean/TWOSIDES.csv')"
   ]
  },
  {
   "cell_type": "code",
   "execution_count": 4,
   "metadata": {},
   "outputs": [],
   "source": [
    "df = df.rename(columns = {'X1': 'ID1', 'X2': 'ID2', 'X1.1': 'X1', 'X2.1': 'X2'})"
   ]
  },
  {
   "cell_type": "code",
   "execution_count": 5,
   "metadata": {},
   "outputs": [],
   "source": [
    "df.to_csv('./data/data_clean/TWOSIDES.csv', index = False)"
   ]
  },
  {
   "cell_type": "code",
   "execution_count": 24,
   "metadata": {},
   "outputs": [],
   "source": [
    "df_db = pd.read_csv('/Users/kexinhuang/Desktop/Research/temp_repo/deepddi/data/KnownDDI.csv')"
   ]
  },
  {
   "cell_type": "code",
   "execution_count": 26,
   "metadata": {},
   "outputs": [],
   "source": [
    "effect = pd.read_csv('/Users/kexinhuang/Desktop/Research/temp_repo/deepddi/data/Interaction_information.csv')"
   ]
  },
  {
   "cell_type": "code",
   "execution_count": 56,
   "metadata": {},
   "outputs": [
    {
     "data": {
      "text/plain": [
       "86"
      ]
     },
     "execution_count": 56,
     "metadata": {},
     "output_type": "execute_result"
    }
   ],
   "source": [
    "len(effect)"
   ]
  },
  {
   "cell_type": "code",
   "execution_count": 36,
   "metadata": {},
   "outputs": [],
   "source": [
    "label2effect = dict(zip(effect['Interaction type'].values, effect['Description'].values))\n"
   ]
  },
  {
   "cell_type": "code",
   "execution_count": 37,
   "metadata": {},
   "outputs": [],
   "source": [
    "df_db['Map'] = [label2effect[i] for i in df_db.Label.values]"
   ]
  },
  {
   "cell_type": "code",
   "execution_count": 40,
   "metadata": {},
   "outputs": [],
   "source": [
    "df_db = df_db.rename(columns = {'Drug1': 'ID1', 'Drug2': 'ID2', 'Label': 'Y'})"
   ]
  },
  {
   "cell_type": "code",
   "execution_count": 27,
   "metadata": {},
   "outputs": [],
   "source": [
    "db_smiles = pd.read_csv('/Users/kexinhuang/Downloads/structure links 3.csv')"
   ]
  },
  {
   "cell_type": "code",
   "execution_count": 31,
   "metadata": {},
   "outputs": [],
   "source": [
    "dbid2smiles = dict(zip(db_smiles['DrugBank ID'].values, db_smiles['SMILES'].values))"
   ]
  },
  {
   "cell_type": "code",
   "execution_count": 52,
   "metadata": {},
   "outputs": [],
   "source": [
    "dbid2smiles['DB09323'] = 'O.O.O.O.C(CNCC1=CC=CC=C1)NCC1=CC=CC=C1.[H][C@]12SC(C)(C)[C@@H](N1C(=O)[C@H]2NC(=O)CC1=CC=CC=C1)C(O)=O.[H][C@]12SC(C)(C)[C@@H](N1C(=O)[C@H]2NC(=O)CC1=CC=CC=C1)C(O)=O'\n",
    "dbid2smiles['DB13450'] = '[O-]S(=O)(=O)C1=CC=CC=C1.[O-]S(=O)(=O)C1=CC=CC=C1.COC1=CC2=C(C=C1OC)[C@@H](CC1=CC(OC)=C(OC)C=C1)[N@@+](C)(CCC(=O)OCCCCCOC(=O)CC[N@@+]1(C)CCC3=C(C=C(OC)C(OC)=C3)[C@H]1CC1=CC(OC)=C(OC)C=C1)CC2'\n",
    "dbid2smiles['DB09396'] = 'O.OS(=O)(=O)C1=CC2=CC=CC=C2C=C1.CCC(=O)O[C@@](CC1=CC=CC=C1)([C@H](C)CN(C)C)C1=CC=CC=C1'\n",
    "dbid2smiles['DB09162'] = '[Fe+3].OC(CC([O-])=O)(CC([O-])=O)C([O-])=O'\n",
    "dbid2smiles['DB11106'] = 'CC(C)(N)CO.CN1C2=C(NC(Br)=N2)C(=O)N(C)C1=O'"
   ]
  },
  {
   "cell_type": "code",
   "execution_count": 53,
   "metadata": {},
   "outputs": [],
   "source": [
    "df_db['X1'] = [dbid2smiles[i] for i in df_db.ID1.values]\n",
    "df_db['X2'] = [dbid2smiles[i] for i in df_db.ID2.values]"
   ]
  },
  {
   "cell_type": "code",
   "execution_count": 55,
   "metadata": {},
   "outputs": [],
   "source": [
    "df_db.to_csv('./data/data_clean/DrugBank.csv', index = False)"
   ]
  },
  {
   "cell_type": "code",
   "execution_count": 9,
   "metadata": {},
   "outputs": [],
   "source": [
    "df_db = pd.read_csv('./data/data_clean/DrugBank.csv')"
   ]
  },
  {
   "cell_type": "code",
   "execution_count": 20,
   "metadata": {},
   "outputs": [],
   "source": [
    "df_db = df_db[df_db.X1.notnull()]\n",
    "df_db = df_db[df_db.X2.notnull()]"
   ]
  },
  {
   "cell_type": "code",
   "execution_count": 23,
   "metadata": {},
   "outputs": [],
   "source": [
    "df_db.reset_index(drop = True).to_csv('./data/data_clean/DrugBank.csv', index = False)"
   ]
  },
  {
   "cell_type": "code",
   "execution_count": 21,
   "metadata": {},
   "outputs": [
    {
     "data": {
      "text/plain": [
       "1638"
      ]
     },
     "execution_count": 21,
     "metadata": {},
     "output_type": "execute_result"
    }
   ],
   "source": [
    "import numpy as np\n",
    "len(np.unique(df_db['X1'].values))"
   ]
  },
  {
   "cell_type": "code",
   "execution_count": 1,
   "metadata": {},
   "outputs": [
    {
     "name": "stderr",
     "output_type": "stream",
     "text": [
      "Dataset already downloaded in the local system...\n",
      "There are 1706 unique drugs\n",
      "There are 191808 drug-drug pairs\n",
      "Done!\n"
     ]
    }
   ],
   "source": [
    "from tdc.interaction_pred import DDI\n",
    "data = DDI(name = 'DrugBank')"
   ]
  },
  {
   "cell_type": "code",
   "execution_count": 2,
   "metadata": {},
   "outputs": [
    {
     "data": {
      "image/png": "[encoded data removed]",
      "text/plain": [
       "<Figure size 432x288 with 2 Axes>"
      ]
     },
     "metadata": {
      "needs_background": "light"
     },
     "output_type": "display_data"
    },
    {
     "name": "stderr",
     "output_type": "stream",
     "text": [
      "The median is 49.0\n",
      "The mean is 49.830345970970974\n"
     ]
    }
   ],
   "source": [
    "data.label_distribution()"
   ]
  },
  {
   "cell_type": "code",
   "execution_count": 6,
   "metadata": {},
   "outputs": [],
   "source": [
    "label_map = data.get_label_map()"
   ]
  },
  {
   "cell_type": "code",
   "execution_count": 10,
   "metadata": {},
   "outputs": [
    {
     "name": "stderr",
     "output_type": "stream",
     "text": [
      "Dataset already downloaded in the local system...\n"
     ]
    }
   ],
   "source": [
    "from tdc import utils\n",
    "import pandas as pd\n",
    "import os\n",
    "utils.S3_download('https://drugdataloader.s3.amazonaws.com/logd74.tsv', './data')\n",
    "df = pd.read_csv(os.path.join('./data','logd74.tsv'), sep='\\t')\n",
    "df = df.iloc[df['SMILES'].drop_duplicates(keep = False).index.values]"
   ]
  },
  {
   "cell_type": "code",
   "execution_count": 12,
   "metadata": {},
   "outputs": [],
   "source": [
    "df = df.rename(columns = {'SMILES': 'X', 'logD7.4': 'Y'})"
   ]
  },
  {
   "cell_type": "code",
   "execution_count": 14,
   "metadata": {},
   "outputs": [],
   "source": [
    "df.to_csv('./data/data_clean/property_prediction/Lipophilicity_Wang.csv', index = False)"
   ]
  },
  {
   "cell_type": "code",
   "execution_count": null,
   "metadata": {},
   "outputs": [],
   "source": []
  },
  {
   "cell_type": "code",
   "execution_count": 15,
   "metadata": {},
   "outputs": [],
   "source": [
    "df = pd.read_csv('/Users/kexinhuang/Downloads/curated_gene_disease_associations.tsv', sep = '\\t')"
   ]
  },
  {
   "cell_type": "code",
   "execution_count": null,
   "metadata": {},
   "outputs": [],
   "source": []
  },
  {
   "cell_type": "code",
   "execution_count": 19,
   "metadata": {},
   "outputs": [],
   "source": [
    "df = pd.read_csv('/Users/kexinhuang/Desktop/amu_sars_cov_2_in_vitro.csv')"
   ]
  },
  {
   "cell_type": "code",
   "execution_count": 23,
   "metadata": {},
   "outputs": [],
   "source": [
    "df.reset_index().rename(columns = {'index': 'ID', 'smiles': 'X', 'fda': 'Y'}).to_csv('./data/data_clean/property_prediction/SARSCoV2_Vitro_Touret.csv')"
   ]
  },
  {
   "cell_type": "code",
   "execution_count": null,
   "metadata": {},
   "outputs": [],
   "source": []
  },
  {
   "cell_type": "code",
   "execution_count": 24,
   "metadata": {},
   "outputs": [],
   "source": [
    "df = pd.read_csv('/Users/kexinhuang/Desktop/mpro_xchem.csv')"
   ]
  },
  {
   "cell_type": "code",
   "execution_count": 27,
   "metadata": {},
   "outputs": [],
   "source": [
    "df.reset_index().rename(columns = {'index': 'ID', 'smiles': 'X', 'activity': 'Y'}).to_csv('./data/data_clean/property_prediction/SARSCoV2_3CLPro_Diamond.csv')"
   ]
  },
  {
   "cell_type": "code",
   "execution_count": null,
   "metadata": {},
   "outputs": [],
   "source": []
  },
  {
   "cell_type": "code",
   "execution_count": 29,
   "metadata": {},
   "outputs": [
    {
     "name": "stdout",
     "output_type": "stream",
     "text": [
      "['apple']\n"
     ]
    },
    {
     "data": {
      "text/plain": [
       "0.030154943466186523"
      ]
     },
     "execution_count": 29,
     "metadata": {},
     "output_type": "execute_result"
    }
   ],
   "source": [
    "from difflib import get_close_matches\n",
    "import time\n",
    "s = time.time()\n",
    "print(get_close_matches('appel', ['ape', 'apple', 'peach', 'puppy'], 1))\n",
    "time.time() - s"
   ]
  },
  {
   "cell_type": "code",
   "execution_count": null,
   "metadata": {},
   "outputs": [],
   "source": []
  },
  {
   "cell_type": "code",
   "execution_count": 1,
   "metadata": {},
   "outputs": [
    {
     "name": "stderr",
     "output_type": "stream",
     "text": [
      "There are 880 unique drugs\n",
      "Done!\n"
     ]
    }
   ],
   "source": [
    "from tdc.property_pred import HTS\n",
    "data = HTS(name = 'SARSCoV2_3CLPro_Diamond')"
   ]
  },
  {
   "cell_type": "code",
   "execution_count": null,
   "metadata": {},
   "outputs": [],
   "source": []
  }
 ],
 "metadata": {
  "kernelspec": {
   "display_name": "Python [conda env:gradio_deeppurpose]",
   "language": "python",
   "name": "conda-env-gradio_deeppurpose-py"
  },
  "language_info": {
   "codemirror_mode": {
    "name": "ipython",
    "version": 3
   },
   "file_extension": ".py",
   "mimetype": "text/x-python",
   "name": "python",
   "nbconvert_exporter": "python",
   "pygments_lexer": "ipython3",
   "version": "3.7.7"
  }
 },
 "nbformat": 4,
 "nbformat_minor": 2
}
