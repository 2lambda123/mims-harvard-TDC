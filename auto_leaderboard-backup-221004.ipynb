{
 "cells": [
  {
   "cell_type": "code",
   "execution_count": 116,
   "metadata": {},
   "outputs": [],
   "source": [
    "from ast import literal_eval\n",
    "import pandas as pd\n",
    "import numpy as np\n",
    "df = pd.read_csv('/Users/kexinhuang/Downloads/TDC Leaderboard Submission Form 10.csv')"
   ]
  },
  {
   "cell_type": "code",
   "execution_count": 117,
   "metadata": {
    "scrolled": true
   },
   "outputs": [
    {
     "data": {
      "text/plain": [
       "Index(['Timestamp', 'Please provide your full name.', 'Contact email address.',\n",
       "       'Please select the TDC benchmark that you are submitting to.',\n",
       "       'What is the name of your submission (i.e., ML model name)?',\n",
       "       'Paper URL for your model.', 'GitHub URL for your model.',\n",
       "       'Please report the performance of your model on the TEST SET.  Include mean performance and standard deviation across at least five random seeds. ',\n",
       "       'Hardware details.', 'The number of parameters in the model. ',\n",
       "       'Honor Code',\n",
       "       'Please upload performance of your model.  Include the average performance and standard deviation across at least three random seeds. Use group.evaluate_many(predictions, save_file_name = 'XXX.pkl', m1_api = 'ABC') and upload the 'XXX.pkl' file here:',\n",
       "       'Please report the performance of your model on the PCC of the overall out-of-distribution test set.  Include mean performance and standard deviation across at least five random seeds. Example: {'bindingdb_patent': [0.241, 0.005]}. You can use `group.evaluate_many(predictions_list)` function to obtain this submission ready format, where `predictions_list` is a list of test set predictions, each from a random seed.  See example here: https://tdcommons.ai/benchmark/overview/#step-by-step-instructions'],\n",
       "      dtype='object')"
      ]
     },
     "execution_count": 117,
     "metadata": {},
     "output_type": "execute_result"
    }
   ],
   "source": [
    "df.columns"
   ]
  },
  {
   "cell_type": "code",
   "execution_count": 118,
   "metadata": {},
   "outputs": [],
   "source": [
    "df = df.rename(columns = {\n",
    "    'Timestamp': 'Time',\n",
    "    'Please provide your full name.': 'Name',\n",
    "    'Contact email address.': 'Email',\n",
    "    'What is the name of your submission (i.e., ML model name)?': 'Model',\n",
    "    'Paper URL for your model.': 'Paper_URL',\n",
    "    'GitHub URL for your model.': 'Code_URL',\n",
    "     'Hardware details.': 'Hardware',\n",
    "    'The number of parameters in the model. ': '#Params',\n",
    "    'Please select the TDC benchmark that you are submitting to.': 'Group',\n",
    "    'Please report the performance of your model on the TEST SET.  Include mean performance and standard deviation across at least five random seeds. ': 'Text_Result',\n",
    "    df.columns.values[-1]: 'PKL_Result',    \n",
    "})\n",
    "df = df.drop(df.columns.values[11], axis = 1)"
   ]
  },
  {
   "cell_type": "code",
   "execution_count": 119,
   "metadata": {
    "scrolled": false
   },
   "outputs": [],
   "source": [
    "df.loc[df.Name == 'Parker Burchett', 'Text_Result'] = \"{'cyp2c9_veith': [0.767, 0.003]}\"\n",
    "df.loc[df.Name == 'Parker Burchett', 'Hardware'] = 'NaN'\n",
    "df.loc[df.Name == 'Parker Burchett', '#Params'] = 68"
   ]
  },
  {
   "cell_type": "code",
   "execution_count": 120,
   "metadata": {},
   "outputs": [],
   "source": [
    "def return_text(x):\n",
    "    try:\n",
    "        y = literal_eval(x)\n",
    "    except:\n",
    "        y = x\n",
    "    return y\n",
    "df['Result'] = df.Text_Result.apply(lambda x: return_text(x))"
   ]
  },
  {
   "cell_type": "code",
   "execution_count": 121,
   "metadata": {},
   "outputs": [],
   "source": [
    "metrics_direction = {\n",
    "    'mae': 'desc',\n",
    "    'roc-auc': 'asc', \n",
    "    'pr-auc': 'asc',\n",
    "    'pcc': 'asc'\n",
    "}"
   ]
  },
  {
   "cell_type": "code",
   "execution_count": 122,
   "metadata": {},
   "outputs": [],
   "source": [
    "def retrieve_mean(x, categories):\n",
    "    l = []\n",
    "    for i in categories:\n",
    "        l.append(x[i][0])\n",
    "    return np.array(l)"
   ]
  },
  {
   "cell_type": "markdown",
   "metadata": {},
   "source": [
    "## ADMET Group"
   ]
  },
  {
   "cell_type": "code",
   "execution_count": 123,
   "metadata": {},
   "outputs": [],
   "source": [
    "df_admet = df[df.Group == 'ADMET Group']"
   ]
  },
  {
   "cell_type": "code",
   "execution_count": 124,
   "metadata": {
    "scrolled": false
   },
   "outputs": [],
   "source": [
    "df_admet = df_admet[~df_admet.Time.isin(['9/21/2022 13:50:58', '7/2/2022 23:17:04'])]"
   ]
  },
  {
   "cell_type": "code",
   "execution_count": 125,
   "metadata": {},
   "outputs": [],
   "source": [
    "## bug\n",
    "df_admet = df_admet[df_admet.Name != 'GCN']"
   ]
  },
  {
   "cell_type": "code",
   "execution_count": 126,
   "metadata": {},
   "outputs": [],
   "source": [
    "name2stats = {\n",
    "\t'caco2_wang': 906,\n",
    "\t'hia_hou': 578,\n",
    "\t'pgp_broccatelli': 1212,\n",
    "\t'bioavailability_ma': 640,\n",
    "\t'lipophilicity_astrazeneca': 4200,\n",
    "\t'solubility_aqsoldb': 9982,\n",
    "\t'bbb_martins': 1975,\n",
    "\t'ppbr_az': 1797,\n",
    "\t'vdss_lombardo': 1130,\n",
    "\t'cyp2c19_veith': 12092,\n",
    "\t'cyp2d6_veith': 13130,\n",
    "\t'cyp3a4_veith': 12328,\n",
    "\t'cyp1a2_veith': 12579,\n",
    "\t'cyp2c9_veith': 12092,\n",
    "\t'cyp2c9_substrate_carbonmangels': 666,\n",
    "\t'cyp2d6_substrate_carbonmangels': 664,\n",
    "\t'cyp3a4_substrate_carbonmangels': 667,\n",
    "\t'half_life_obach': 667,\n",
    "\t'clearance_hepatocyte_az': 1020,\n",
    "\t'clearance_microsome_az': 1102,\n",
    "\t'ld50_zhu': 7385,\n",
    "\t'herg': 648,\n",
    "\t'ames': 7255,\n",
    "\t'dili': 475\n",
    "}"
   ]
  },
  {
   "cell_type": "code",
   "execution_count": 127,
   "metadata": {},
   "outputs": [],
   "source": [
    "admet_metrics = {'caco2_wang': 'mae',\n",
    "            'hia_hou': 'roc-auc',\n",
    "            'pgp_broccatelli': 'roc-auc', \n",
    "            'bioavailability_ma': 'roc-auc',\n",
    "            'lipophilicity_astrazeneca': 'mae',\n",
    "            'solubility_aqsoldb': 'mae',\n",
    "            'bbb_martins': 'roc-auc',\n",
    "            'ppbr_az': 'mae',\n",
    "            'vdss_lombardo': 'pcc',\n",
    "            'cyp2c9_veith': 'pr-auc',\n",
    "            'cyp2d6_veith': 'pr-auc',\n",
    "            'cyp3a4_veith': 'pr-auc',\n",
    "            'cyp2c9_substrate_carbonmangels': 'pr-auc',\n",
    "            'cyp3a4_substrate_carbonmangels': 'roc-auc',\n",
    "            'cyp2d6_substrate_carbonmangels': 'pr-auc',\n",
    "            'half_life_obach': 'pcc',\n",
    "            'clearance_hepatocyte_az': 'pcc',\n",
    "            'clearance_microsome_az': 'pcc',\n",
    "            'ld50_zhu': 'mae',\n",
    "            'herg': 'roc-auc',\n",
    "            'ames': 'roc-auc',\n",
    "            'dili': 'roc-auc'\n",
    "            }"
   ]
  },
  {
   "cell_type": "code",
   "execution_count": 128,
   "metadata": {},
   "outputs": [],
   "source": [
    "ADMET = {\n",
    "    'Absorption': ['caco2_wang', 'hia_hou', 'pgp_broccatelli', 'bioavailability_ma', 'lipophilicity_astrazeneca', 'solubility_aqsoldb'],\n",
    "    'Distribution': ['bbb_martins', 'ppbr_az', 'vdss_lombardo'],\n",
    "    'Metabolism': ['cyp2c9_veith', 'cyp2d6_veith', 'cyp3a4_veith', 'cyp2c9_substrate_carbonmangels', 'cyp2d6_substrate_carbonmangels', 'cyp3a4_substrate_carbonmangels'],\n",
    "    'Excretion': ['half_life_obach', 'clearance_hepatocyte_az', 'clearance_microsome_az'],\n",
    "    'Toxicity': ['ld50_zhu', 'herg', 'ames', 'dili']\n",
    "}"
   ]
  },
  {
   "cell_type": "code",
   "execution_count": 129,
   "metadata": {},
   "outputs": [],
   "source": [
    "#df_admet = df_admet[df_admet.Name != 'Parker Burchett']"
   ]
  },
  {
   "cell_type": "code",
   "execution_count": 130,
   "metadata": {},
   "outputs": [],
   "source": [
    "def remove_leaked_dataset(x):\n",
    "    \n",
    "    return {i:j for i,j in x.items() if i not in ['cyp2d6_veith', 'cyp3a4_veith', 'cyp2c9_veith', \\\n",
    "                                                 'cyp2d6_substrate_carbonmangels', 'cyp3a4_substrate_carbonmangels', \\\n",
    "                                                 'cyp2c9_substrate_carbonmangels']}\n",
    "    \n",
    "df_admet.loc[df_admet.Model.isin(['AttrMasking', 'ContextPred']), 'Result'] = df_admet.loc[df_admet.Model.isin(['AttrMasking', 'ContextPred']), 'Result'].apply(lambda x: remove_leaked_dataset(x))"
   ]
  },
  {
   "cell_type": "code",
   "execution_count": 134,
   "metadata": {},
   "outputs": [],
   "source": [
    "def get_entries(bm):\n",
    "    df_subset = df_admet[df_admet.Result.apply(lambda x: bm in x)]\n",
    "    results = df_subset.Result.apply(lambda x: x[bm][0]).values\n",
    "    print(results)\n",
    "    \n",
    "    '''\n",
    "    rank_dict = dict(zip(range(results.shape[0]), list([0] * results.shape[0])))\n",
    "    \n",
    "    for idx, i in enumerate(range(results.T.shape[0])):\n",
    "        # for every benchmark\n",
    "        sort_idx = np.argsort(results.T[i], axis = 0)\n",
    "        if metrics_direction[admet_metrics[ADMET[category][idx]]] == 'desc':\n",
    "            sort_idx = np.argsort(results.T[i], axis = 0)\n",
    "        else:\n",
    "            sort_idx = np.argsort(results.T[i], axis = 0)[::-1]\n",
    "        \n",
    "        for pos, val in enumerate(sort_idx):\n",
    "            rank_dict[val] = rank_dict[val] + pos\n",
    "    \n",
    "    rank = [] # [rank for 1, rank for 2, ...]\n",
    "    for i in range(results.shape[0]):\n",
    "        rank.append(rank_dict[i])\n",
    "        \n",
    "    out = np.argsort(rank)\n",
    "    \n",
    "    idx2rank = dict(zip(out, list(range(len(out)))))\n",
    "    rank2idx = dict(zip(list(range(len(out))), out))\n",
    "    '''\n",
    "    \n",
    "    if metrics_direction[admet_metrics[bm]] == 'desc':\n",
    "        out = np.argsort(results)\n",
    "    else:\n",
    "        out = np.argsort(results)[::-1]\n",
    "        \n",
    "    idx2rank = dict(zip(out, list(range(len(out)))))\n",
    "    rank2idx = dict(zip(list(range(len(out))), out))\n",
    "    \n",
    "    print('---- ' + bm + ' ------')\n",
    "    print('---- ' + admet_metrics[bm] + ' ------')\n",
    "    entries = []\n",
    "    for submit_idx in range(len(df_subset)):\n",
    "        temp = df_subset.iloc[submit_idx]\n",
    "        html_code = '<tr> \\n'\n",
    "        html_code = html_code + '  <td> ' + str(idx2rank[submit_idx] + 1) + ' </td> \\n'        \n",
    "        html_code = html_code + '  <td> ' + temp.Model + ' </td> \\n'\n",
    "        html_code = html_code + '  <td><a href=\"mailto:' + temp.Email + '\">' + temp.Name + '</a></td> \\n'\n",
    "        html_code = html_code + '  <td><a href=\"' + temp.Code_URL + '\"> GitHub</a>, <a href=\"' + temp.Paper_URL + '\">Paper </a></td> \\n'\n",
    "        try:\n",
    "            value = int(temp['#Params'])\n",
    "            html_code = html_code + '  <td> ' + f'{value:,}' + ' </td> \\n'\n",
    "        except:\n",
    "            html_code = html_code + '  <td> N/A </td> \\n'\n",
    "        html_code = html_code + '  <td>' + format(temp.Result[bm][0], '.3f') + ' <span>&#177;</span> ' + format(temp.Result[bm][1], '.3f') +' </td> \\n'\n",
    "        html_code += '</tr>'\n",
    "\n",
    "        entries.append(html_code)\n",
    "    \n",
    "    for i in range(len(out)):\n",
    "        print(entries[rank2idx[i]])"
   ]
  },
  {
   "cell_type": "code",
   "execution_count": 135,
   "metadata": {},
   "outputs": [],
   "source": [
    "df_admet.loc[df_admet[df_admet.Name == 'Suman Kalyan Bera'].index.values[0], '#Params'] = 1103000"
   ]
  },
  {
   "cell_type": "code",
   "execution_count": 136,
   "metadata": {},
   "outputs": [],
   "source": [
    "df_admet = df_admet.drop_duplicates(subset = ['Paper_URL', 'Group', 'Model'], keep = 'last')"
   ]
  },
  {
   "cell_type": "code",
   "execution_count": 137,
   "metadata": {},
   "outputs": [],
   "source": [
    "df_admet = df_admet.fillna('NaN')"
   ]
  },
  {
   "cell_type": "code",
   "execution_count": null,
   "metadata": {
    "scrolled": false
   },
   "outputs": [
    {
     "name": "stdout",
     "output_type": "stream",
     "text": [
      "[0.446 0.393 0.908 0.53  0.401 0.502 0.546 0.599 0.291 0.288 0.289]\n",
      "---- caco2_wang ------\n",
      "---- mae ------\n",
      "<tr> \n",
      "  <td> 1 </td> \n",
      "  <td> XGBoost </td> \n",
      "  <td><a href=\"mailto:haot@smu.edu\">Hao Tian</a></td> \n",
      "  <td><a href=\"https://github.com/smu-tao-group/ADMET_XGBoost\"> GitHub</a>, <a href=\"https://arxiv.org/abs/2204.07532v2\">Paper </a></td> \n",
      "  <td> 29 </td> \n",
      "  <td>0.288 <span>&#177;</span> 0.011 </td> \n",
      "</tr>\n",
      "<tr> \n",
      "  <td> 2 </td> \n",
      "  <td> XGBoost </td> \n",
      "  <td><a href=\"mailto:andrew@oloren.ai\">Andrew Li</a></td> \n",
      "  <td><a href=\"https://github.com/Oloren-AI/OCE-TDC/blob/main/submission.ipynb\"> GitHub</a>, <a href=\"https://github.com/Oloren-AI/OCE-TDC/blob/main/Report.pdf\">Paper </a></td> \n",
      "  <td> 12 </td> \n",
      "  <td>0.289 <span>&#177;</span> 0.011 </td> \n",
      "</tr>\n",
      "<tr> \n",
      "  <td> 3 </td> \n",
      "  <td> XGBoost </td> \n",
      "  <td><a href=\"mailto:haot@smu.edu\">Hao Tian</a></td> \n",
      "  <td><a href=\"https://github.com/smu-tao-group/ADMET_XGBoost\"> GitHub</a>, <a href=\"https://arxiv.org/abs/2204.07532\">Paper </a></td> \n",
      "  <td> 29 </td> \n",
      "  <td>0.291 <span>&#177;</span> 0.015 </td> \n",
      "</tr>\n",
      "<tr> \n",
      "  <td> 4 </td> \n",
      "  <td> RDKit2D + MLP (DeepPurpose) </td> \n",
      "  <td><a href=\"mailto:kexinhuang@hsph.harvard.edu\">Kexin Huang</a></td> \n",
      "  <td><a href=\"https://github.com/mims-harvard/TDC/tree/master/examples/single_pred/admet\"> GitHub</a>, <a href=\"https://doi.org/10.1093/bioinformatics/btaa1005\">Paper </a></td> \n",
      "  <td> 633,409 </td> \n",
      "  <td>0.393 <span>&#177;</span> 0.024 </td> \n",
      "</tr>\n",
      "<tr> \n",
      "  <td> 5 </td> \n",
      "  <td> AttentiveFP </td> \n",
      "  <td><a href=\"mailto:kexinh@stanford.edu\">Kexin Huang</a></td> \n",
      "  <td><a href=\"https://github.com/mims-harvard/TDC/tree/main/examples/single_pred/admet\"> GitHub</a>, <a href=\"https://pubmed.ncbi.nlm.nih.gov/31408336/\">Paper </a></td> \n",
      "  <td> 300,806 </td> \n",
      "  <td>0.401 <span>&#177;</span> 0.032 </td> \n",
      "</tr>\n",
      "<tr> \n",
      "  <td> 6 </td> \n",
      "  <td> CNN (DeepPurpose) </td> \n",
      "  <td><a href=\"mailto:kexinhuang@hsph.harvard.edu\">Kexin Huang</a></td> \n",
      "  <td><a href=\"https://github.com/mims-harvard/TDC/tree/master/examples/single_pred/admet\"> GitHub</a>, <a href=\"https://doi.org/10.1093/bioinformatics/btaa1005\">Paper </a></td> \n",
      "  <td> 226,625 </td> \n",
      "  <td>0.446 <span>&#177;</span> 0.036 </td> \n",
      "</tr>\n",
      "<tr> \n",
      "  <td> 7 </td> \n",
      "  <td> ContextPred </td> \n",
      "  <td><a href=\"mailto:kexinh@stanford.edu\">Kexin Huang</a></td> \n",
      "  <td><a href=\"https://github.com/mims-harvard/TDC/tree/main/examples/single_pred/admet\"> GitHub</a>, <a href=\"https://arxiv.org/abs/1905.12265\">Paper </a></td> \n",
      "  <td> 2,067,053 </td> \n",
      "  <td>0.502 <span>&#177;</span> 0.036 </td> \n",
      "</tr>\n",
      "<tr> \n",
      "  <td> 8 </td> \n",
      "  <td> NeuralFP </td> \n",
      "  <td><a href=\"mailto:kexinh@stanford.edu\">Kexin Huang</a></td> \n",
      "  <td><a href=\"https://github.com/mims-harvard/TDC/tree/main/examples/single_pred/admet\"> GitHub</a>, <a href=\"https://ieeexplore.ieee.org/document/9412489\">Paper </a></td> \n",
      "  <td> 480,193 </td> \n",
      "  <td>0.530 <span>&#177;</span> 0.102 </td> \n",
      "</tr>\n",
      "<tr> \n",
      "  <td> 9 </td> \n",
      "  <td> AttrMasking </td> \n",
      "  <td><a href=\"mailto:kexinh@stanford.edu\">Kexin Huang</a></td> \n",
      "  <td><a href=\"https://github.com/mims-harvard/TDC/tree/main/examples/single_pred/admet\"> GitHub</a>, <a href=\"https://arxiv.org/abs/1905.12265\">Paper </a></td> \n",
      "  <td> 2,067,053 </td> \n",
      "  <td>0.546 <span>&#177;</span> 0.052 </td> \n",
      "</tr>\n",
      "<tr> \n",
      "  <td> 10 </td> \n",
      "  <td> GCN </td> \n",
      "  <td><a href=\"mailto:kexinh@stanford.edu\">Kexin Huang</a></td> \n",
      "  <td><a href=\"https://github.com/mims-harvard/TDC/tree/main/examples/single_pred/admet\"> GitHub</a>, <a href=\"https://arxiv.org/abs/1609.02907\">Paper </a></td> \n",
      "  <td> 191,810 </td> \n",
      "  <td>0.599 <span>&#177;</span> 0.104 </td> \n",
      "</tr>\n",
      "<tr> \n",
      "  <td> 11 </td> \n",
      "  <td> Morgan + MLP (DeepPurpose) </td> \n",
      "  <td><a href=\"mailto:kexinhuang@hsph.harvard.edu\">Kexin Huang</a></td> \n",
      "  <td><a href=\"https://github.com/mims-harvard/TDC/tree/master/examples/single_pred/admet\"> GitHub</a>, <a href=\"https://doi.org/10.1093/bioinformatics/btaa1005\">Paper </a></td> \n",
      "  <td> 1,477,185 </td> \n",
      "  <td>0.908 <span>&#177;</span> 0.060 </td> \n",
      "</tr>\n"
     ]
    }
   ],
   "source": [
    "for x in list(df_admet[df_admet.Name == 'Kexin Huang'].Result.iloc[0].keys()):\n",
    "    get_entries(x)\n",
    "    input('next?')"
   ]
  },
  {
   "cell_type": "code",
   "execution_count": 42,
   "metadata": {},
   "outputs": [
    {
     "data": {
      "text/plain": [
       "['pgp_broccatelli',\n",
       " 'bioavailability_ma',\n",
       " 'bbb_martins',\n",
       " 'vdss_lombardo',\n",
       " 'cyp3a4_substrate_carbonmangels',\n",
       " 'cyp2c9_substrate_carbonmangels',\n",
       " 'half_life_obach',\n",
       " 'clearance_microsome_az',\n",
       " 'herg',\n",
       " 'dili']"
      ]
     },
     "execution_count": 42,
     "metadata": {},
     "output_type": "execute_result"
    }
   ],
   "source": [
    "list(df_admet[df_admet.Name == 'Suman Kalyan Bera'].Result.iloc[0].keys())"
   ]
  },
  {
   "cell_type": "code",
   "execution_count": 33,
   "metadata": {
    "scrolled": false
   },
   "outputs": [
    {
     "ename": "KeyError",
     "evalue": "'caco2_wang'",
     "output_type": "error",
     "traceback": [
      "\u001b[0;31m---------------------------------------------------------------------------\u001b[0m",
      "\u001b[0;31mKeyError\u001b[0m                                  Traceback (most recent call last)",
      "\u001b[0;32m<ipython-input-33-04894b3962e3>\u001b[0m in \u001b[0;36m<module>\u001b[0;34m\u001b[0m\n\u001b[1;32m      1\u001b[0m \u001b[0;32mfor\u001b[0m \u001b[0mi\u001b[0m\u001b[0;34m,\u001b[0m \u001b[0mj\u001b[0m \u001b[0;32min\u001b[0m \u001b[0mADMET\u001b[0m\u001b[0;34m.\u001b[0m\u001b[0mitems\u001b[0m\u001b[0;34m(\u001b[0m\u001b[0;34m)\u001b[0m\u001b[0;34m:\u001b[0m\u001b[0;34m\u001b[0m\u001b[0;34m\u001b[0m\u001b[0m\n\u001b[1;32m      2\u001b[0m     \u001b[0;32mfor\u001b[0m \u001b[0mx\u001b[0m \u001b[0;32min\u001b[0m \u001b[0mj\u001b[0m\u001b[0;34m:\u001b[0m\u001b[0;34m\u001b[0m\u001b[0;34m\u001b[0m\u001b[0m\n\u001b[0;32m----> 3\u001b[0;31m         \u001b[0mget_entries\u001b[0m\u001b[0;34m(\u001b[0m\u001b[0mx\u001b[0m\u001b[0;34m)\u001b[0m\u001b[0;34m\u001b[0m\u001b[0;34m\u001b[0m\u001b[0m\n\u001b[0m",
      "\u001b[0;32m<ipython-input-32-614b84a805bd>\u001b[0m in \u001b[0;36mget_entries\u001b[0;34m(bm)\u001b[0m\n\u001b[1;32m      1\u001b[0m \u001b[0;32mdef\u001b[0m \u001b[0mget_entries\u001b[0m\u001b[0;34m(\u001b[0m\u001b[0mbm\u001b[0m\u001b[0;34m)\u001b[0m\u001b[0;34m:\u001b[0m\u001b[0;34m\u001b[0m\u001b[0;34m\u001b[0m\u001b[0m\n\u001b[0;32m----> 2\u001b[0;31m     \u001b[0mresults\u001b[0m \u001b[0;34m=\u001b[0m \u001b[0mdf_admet\u001b[0m\u001b[0;34m.\u001b[0m\u001b[0mResult\u001b[0m\u001b[0;34m.\u001b[0m\u001b[0mapply\u001b[0m\u001b[0;34m(\u001b[0m\u001b[0;32mlambda\u001b[0m \u001b[0mx\u001b[0m\u001b[0;34m:\u001b[0m \u001b[0mx\u001b[0m\u001b[0;34m[\u001b[0m\u001b[0mbm\u001b[0m\u001b[0;34m]\u001b[0m\u001b[0;34m[\u001b[0m\u001b[0;36m0\u001b[0m\u001b[0;34m]\u001b[0m\u001b[0;34m)\u001b[0m\u001b[0;34m.\u001b[0m\u001b[0mvalues\u001b[0m\u001b[0;34m\u001b[0m\u001b[0;34m\u001b[0m\u001b[0m\n\u001b[0m\u001b[1;32m      3\u001b[0m     \u001b[0mprint\u001b[0m\u001b[0;34m(\u001b[0m\u001b[0mresults\u001b[0m\u001b[0;34m)\u001b[0m\u001b[0;34m\u001b[0m\u001b[0;34m\u001b[0m\u001b[0m\n\u001b[1;32m      4\u001b[0m \u001b[0;34m\u001b[0m\u001b[0m\n\u001b[1;32m      5\u001b[0m     '''\n",
      "\u001b[0;32m~/opt/anaconda3/envs/DeepPurpose/lib/python3.7/site-packages/pandas/core/series.py\u001b[0m in \u001b[0;36mapply\u001b[0;34m(self, func, convert_dtype, args, **kwargs)\u001b[0m\n\u001b[1;32m   4354\u001b[0m         \u001b[0mdtype\u001b[0m\u001b[0;34m:\u001b[0m \u001b[0mfloat64\u001b[0m\u001b[0;34m\u001b[0m\u001b[0;34m\u001b[0m\u001b[0m\n\u001b[1;32m   4355\u001b[0m         \"\"\"\n\u001b[0;32m-> 4356\u001b[0;31m         \u001b[0;32mreturn\u001b[0m \u001b[0mSeriesApply\u001b[0m\u001b[0;34m(\u001b[0m\u001b[0mself\u001b[0m\u001b[0;34m,\u001b[0m \u001b[0mfunc\u001b[0m\u001b[0;34m,\u001b[0m \u001b[0mconvert_dtype\u001b[0m\u001b[0;34m,\u001b[0m \u001b[0margs\u001b[0m\u001b[0;34m,\u001b[0m \u001b[0mkwargs\u001b[0m\u001b[0;34m)\u001b[0m\u001b[0;34m.\u001b[0m\u001b[0mapply\u001b[0m\u001b[0;34m(\u001b[0m\u001b[0;34m)\u001b[0m\u001b[0;34m\u001b[0m\u001b[0;34m\u001b[0m\u001b[0m\n\u001b[0m\u001b[1;32m   4357\u001b[0m \u001b[0;34m\u001b[0m\u001b[0m\n\u001b[1;32m   4358\u001b[0m     def _reduce(\n",
      "\u001b[0;32m~/opt/anaconda3/envs/DeepPurpose/lib/python3.7/site-packages/pandas/core/apply.py\u001b[0m in \u001b[0;36mapply\u001b[0;34m(self)\u001b[0m\n\u001b[1;32m   1034\u001b[0m             \u001b[0;32mreturn\u001b[0m \u001b[0mself\u001b[0m\u001b[0;34m.\u001b[0m\u001b[0mapply_str\u001b[0m\u001b[0;34m(\u001b[0m\u001b[0;34m)\u001b[0m\u001b[0;34m\u001b[0m\u001b[0;34m\u001b[0m\u001b[0m\n\u001b[1;32m   1035\u001b[0m \u001b[0;34m\u001b[0m\u001b[0m\n\u001b[0;32m-> 1036\u001b[0;31m         \u001b[0;32mreturn\u001b[0m \u001b[0mself\u001b[0m\u001b[0;34m.\u001b[0m\u001b[0mapply_standard\u001b[0m\u001b[0;34m(\u001b[0m\u001b[0;34m)\u001b[0m\u001b[0;34m\u001b[0m\u001b[0;34m\u001b[0m\u001b[0m\n\u001b[0m\u001b[1;32m   1037\u001b[0m \u001b[0;34m\u001b[0m\u001b[0m\n\u001b[1;32m   1038\u001b[0m     \u001b[0;32mdef\u001b[0m \u001b[0magg\u001b[0m\u001b[0;34m(\u001b[0m\u001b[0mself\u001b[0m\u001b[0;34m)\u001b[0m\u001b[0;34m:\u001b[0m\u001b[0;34m\u001b[0m\u001b[0;34m\u001b[0m\u001b[0m\n",
      "\u001b[0;32m~/opt/anaconda3/envs/DeepPurpose/lib/python3.7/site-packages/pandas/core/apply.py\u001b[0m in \u001b[0;36mapply_standard\u001b[0;34m(self)\u001b[0m\n\u001b[1;32m   1093\u001b[0m                     \u001b[0mvalues\u001b[0m\u001b[0;34m,\u001b[0m\u001b[0;34m\u001b[0m\u001b[0;34m\u001b[0m\u001b[0m\n\u001b[1;32m   1094\u001b[0m                     \u001b[0mf\u001b[0m\u001b[0;34m,\u001b[0m  \u001b[0;31m# type: ignore[arg-type]\u001b[0m\u001b[0;34m\u001b[0m\u001b[0;34m\u001b[0m\u001b[0m\n\u001b[0;32m-> 1095\u001b[0;31m                     \u001b[0mconvert\u001b[0m\u001b[0;34m=\u001b[0m\u001b[0mself\u001b[0m\u001b[0;34m.\u001b[0m\u001b[0mconvert_dtype\u001b[0m\u001b[0;34m,\u001b[0m\u001b[0;34m\u001b[0m\u001b[0;34m\u001b[0m\u001b[0m\n\u001b[0m\u001b[1;32m   1096\u001b[0m                 )\n\u001b[1;32m   1097\u001b[0m \u001b[0;34m\u001b[0m\u001b[0m\n",
      "\u001b[0;32m~/opt/anaconda3/envs/DeepPurpose/lib/python3.7/site-packages/pandas/_libs/lib.pyx\u001b[0m in \u001b[0;36mpandas._libs.lib.map_infer\u001b[0;34m()\u001b[0m\n",
      "\u001b[0;32m<ipython-input-32-614b84a805bd>\u001b[0m in \u001b[0;36m<lambda>\u001b[0;34m(x)\u001b[0m\n\u001b[1;32m      1\u001b[0m \u001b[0;32mdef\u001b[0m \u001b[0mget_entries\u001b[0m\u001b[0;34m(\u001b[0m\u001b[0mbm\u001b[0m\u001b[0;34m)\u001b[0m\u001b[0;34m:\u001b[0m\u001b[0;34m\u001b[0m\u001b[0;34m\u001b[0m\u001b[0m\n\u001b[0;32m----> 2\u001b[0;31m     \u001b[0mresults\u001b[0m \u001b[0;34m=\u001b[0m \u001b[0mdf_admet\u001b[0m\u001b[0;34m.\u001b[0m\u001b[0mResult\u001b[0m\u001b[0;34m.\u001b[0m\u001b[0mapply\u001b[0m\u001b[0;34m(\u001b[0m\u001b[0;32mlambda\u001b[0m \u001b[0mx\u001b[0m\u001b[0;34m:\u001b[0m \u001b[0mx\u001b[0m\u001b[0;34m[\u001b[0m\u001b[0mbm\u001b[0m\u001b[0;34m]\u001b[0m\u001b[0;34m[\u001b[0m\u001b[0;36m0\u001b[0m\u001b[0;34m]\u001b[0m\u001b[0;34m)\u001b[0m\u001b[0;34m.\u001b[0m\u001b[0mvalues\u001b[0m\u001b[0;34m\u001b[0m\u001b[0;34m\u001b[0m\u001b[0m\n\u001b[0m\u001b[1;32m      3\u001b[0m     \u001b[0mprint\u001b[0m\u001b[0;34m(\u001b[0m\u001b[0mresults\u001b[0m\u001b[0;34m)\u001b[0m\u001b[0;34m\u001b[0m\u001b[0;34m\u001b[0m\u001b[0m\n\u001b[1;32m      4\u001b[0m \u001b[0;34m\u001b[0m\u001b[0m\n\u001b[1;32m      5\u001b[0m     '''\n",
      "\u001b[0;31mKeyError\u001b[0m: 'caco2_wang'"
     ]
    }
   ],
   "source": [
    "for i, j in ADMET.items():\n",
    "    for x in j:\n",
    "        get_entries(x)"
   ]
  },
  {
   "cell_type": "code",
   "execution_count": 22,
   "metadata": {
    "scrolled": false
   },
   "outputs": [
    {
     "data": {
      "text/html": [
       "<div>\n",
       "<style scoped>\n",
       "    .dataframe tbody tr th:only-of-type {\n",
       "        vertical-align: middle;\n",
       "    }\n",
       "\n",
       "    .dataframe tbody tr th {\n",
       "        vertical-align: top;\n",
       "    }\n",
       "\n",
       "    .dataframe thead th {\n",
       "        text-align: right;\n",
       "    }\n",
       "</style>\n",
       "<table border=\"1\" class=\"dataframe\">\n",
       "  <thead>\n",
       "    <tr style=\"text-align: right;\">\n",
       "      <th></th>\n",
       "      <th>Time</th>\n",
       "      <th>Name</th>\n",
       "      <th>Email</th>\n",
       "      <th>Model</th>\n",
       "      <th>Paper_URL</th>\n",
       "      <th>Code_URL</th>\n",
       "      <th>Hardware</th>\n",
       "      <th>#Params</th>\n",
       "      <th>Group</th>\n",
       "      <th>Text_Result</th>\n",
       "      <th>PKL_Result</th>\n",
       "      <th>Result</th>\n",
       "    </tr>\n",
       "  </thead>\n",
       "  <tbody>\n",
       "    <tr>\n",
       "      <th>0</th>\n",
       "      <td>2020/12/23 2:46:51 PM PST</td>\n",
       "      <td>Kexin Huang</td>\n",
       "      <td>kexinhuang@hsph.harvard.edu</td>\n",
       "      <td>CNN (DeepPurpose)</td>\n",
       "      <td>https://doi.org/10.1093/bioinformatics/btaa1005</td>\n",
       "      <td>https://github.com/mims-harvard/TDC/tree/maste...</td>\n",
       "      <td>NVIDIA Tesla K80 GPU</td>\n",
       "      <td>226625</td>\n",
       "      <td>ADMET Group</td>\n",
       "      <td>{'caco2_wang': [0.446, 0.036],\\n 'hia_hou': [0...</td>\n",
       "      <td>NaN</td>\n",
       "      <td>{'caco2_wang': [0.446, 0.036], 'hia_hou': [0.8...</td>\n",
       "    </tr>\n",
       "    <tr>\n",
       "      <th>1</th>\n",
       "      <td>2020/12/23 2:47:41 PM PST</td>\n",
       "      <td>Kexin Huang</td>\n",
       "      <td>kexinhuang@hsph.harvard.edu</td>\n",
       "      <td>RDKit2D + MLP (DeepPurpose)</td>\n",
       "      <td>https://doi.org/10.1093/bioinformatics/btaa1005</td>\n",
       "      <td>https://github.com/mims-harvard/TDC/tree/maste...</td>\n",
       "      <td>NVIDIA Tesla K80 GPU</td>\n",
       "      <td>633409</td>\n",
       "      <td>ADMET Group</td>\n",
       "      <td>{'caco2_wang': [0.393, 0.024],\\n 'hia_hou': [0...</td>\n",
       "      <td>NaN</td>\n",
       "      <td>{'caco2_wang': [0.393, 0.024], 'hia_hou': [0.9...</td>\n",
       "    </tr>\n",
       "    <tr>\n",
       "      <th>2</th>\n",
       "      <td>2020/12/23 2:48:30 PM PST</td>\n",
       "      <td>Kexin Huang</td>\n",
       "      <td>kexinhuang@hsph.harvard.edu</td>\n",
       "      <td>Morgan + MLP (DeepPurpose)</td>\n",
       "      <td>https://doi.org/10.1093/bioinformatics/btaa1005</td>\n",
       "      <td>https://github.com/mims-harvard/TDC/tree/maste...</td>\n",
       "      <td>NVIDIA Tesla K80 GPU</td>\n",
       "      <td>1477185</td>\n",
       "      <td>ADMET Group</td>\n",
       "      <td>{'caco2_wang': [0.908, 0.06],\\n 'hia_hou': [0....</td>\n",
       "      <td>NaN</td>\n",
       "      <td>{'caco2_wang': [0.908, 0.06], 'hia_hou': [0.80...</td>\n",
       "    </tr>\n",
       "    <tr>\n",
       "      <th>11</th>\n",
       "      <td>2022/01/10 7:07:47 PM PST</td>\n",
       "      <td>Kexin Huang</td>\n",
       "      <td>kexinh@stanford.edu</td>\n",
       "      <td>NeuralFP</td>\n",
       "      <td>https://ieeexplore.ieee.org/document/9412489</td>\n",
       "      <td>https://github.com/mims-harvard/TDC/tree/main/...</td>\n",
       "      <td>NVIDIA GPU</td>\n",
       "      <td>480193</td>\n",
       "      <td>ADMET Group</td>\n",
       "      <td>{'caco2_wang': [0.530, 0.102],\\n'hia_hou': [0....</td>\n",
       "      <td>NaN</td>\n",
       "      <td>{'caco2_wang': [0.53, 0.102], 'hia_hou': [0.94...</td>\n",
       "    </tr>\n",
       "    <tr>\n",
       "      <th>12</th>\n",
       "      <td>2022/01/10 7:17:01 PM PST</td>\n",
       "      <td>Kexin Huang</td>\n",
       "      <td>kexinh@stanford.edu</td>\n",
       "      <td>AttentiveFP</td>\n",
       "      <td>https://pubmed.ncbi.nlm.nih.gov/31408336/</td>\n",
       "      <td>https://github.com/mims-harvard/TDC/tree/main/...</td>\n",
       "      <td>NVIDIA</td>\n",
       "      <td>300806</td>\n",
       "      <td>ADMET Group</td>\n",
       "      <td>{'caco2_wang': [0.401, 0.032],\\n'hia_hou': [0....</td>\n",
       "      <td>NaN</td>\n",
       "      <td>{'caco2_wang': [0.401, 0.032], 'hia_hou': [0.9...</td>\n",
       "    </tr>\n",
       "    <tr>\n",
       "      <th>13</th>\n",
       "      <td>2022/01/10 7:22:16 PM PST</td>\n",
       "      <td>Kexin Huang</td>\n",
       "      <td>kexinh@stanford.edu</td>\n",
       "      <td>ContextPred</td>\n",
       "      <td>https://arxiv.org/abs/1905.12265</td>\n",
       "      <td>https://github.com/mims-harvard/TDC/tree/main/...</td>\n",
       "      <td>Titan</td>\n",
       "      <td>2067053</td>\n",
       "      <td>ADMET Group</td>\n",
       "      <td>{'caco2_wang': [0.502, 0.036],\\n'hia_hou': [0....</td>\n",
       "      <td>NaN</td>\n",
       "      <td>{'caco2_wang': [0.502, 0.036], 'hia_hou': [0.9...</td>\n",
       "    </tr>\n",
       "    <tr>\n",
       "      <th>14</th>\n",
       "      <td>2022/01/10 7:23:20 PM PST</td>\n",
       "      <td>Kexin Huang</td>\n",
       "      <td>kexinh@stanford.edu</td>\n",
       "      <td>AttrMasking</td>\n",
       "      <td>https://arxiv.org/abs/1905.12265</td>\n",
       "      <td>https://github.com/mims-harvard/TDC/tree/main/...</td>\n",
       "      <td>Titan</td>\n",
       "      <td>2067053</td>\n",
       "      <td>ADMET Group</td>\n",
       "      <td>{'caco2_wang': [0.546, 0.052],\\n'hia_hou': [0....</td>\n",
       "      <td>NaN</td>\n",
       "      <td>{'caco2_wang': [0.546, 0.052], 'hia_hou': [0.9...</td>\n",
       "    </tr>\n",
       "    <tr>\n",
       "      <th>15</th>\n",
       "      <td>2022/01/10 7:24:57 PM PST</td>\n",
       "      <td>Kexin Huang</td>\n",
       "      <td>kexinh@stanford.edu</td>\n",
       "      <td>GCN</td>\n",
       "      <td>https://arxiv.org/abs/1609.02907</td>\n",
       "      <td>https://github.com/mims-harvard/TDC/tree/main/...</td>\n",
       "      <td>NVIDIA</td>\n",
       "      <td>191810</td>\n",
       "      <td>ADMET Group</td>\n",
       "      <td>{'caco2_wang': [0.599, 0.104],\\n'hia_hou': [0....</td>\n",
       "      <td>NaN</td>\n",
       "      <td>{'caco2_wang': [0.599, 0.104], 'hia_hou': [0.9...</td>\n",
       "    </tr>\n",
       "  </tbody>\n",
       "</table>\n",
       "</div>"
      ],
      "text/plain": [
       "                         Time         Name                        Email  \\\n",
       "0   2020/12/23 2:46:51 PM PST  Kexin Huang  kexinhuang@hsph.harvard.edu   \n",
       "1   2020/12/23 2:47:41 PM PST  Kexin Huang  kexinhuang@hsph.harvard.edu   \n",
       "2   2020/12/23 2:48:30 PM PST  Kexin Huang  kexinhuang@hsph.harvard.edu   \n",
       "11  2022/01/10 7:07:47 PM PST  Kexin Huang          kexinh@stanford.edu   \n",
       "12  2022/01/10 7:17:01 PM PST  Kexin Huang          kexinh@stanford.edu   \n",
       "13  2022/01/10 7:22:16 PM PST  Kexin Huang          kexinh@stanford.edu   \n",
       "14  2022/01/10 7:23:20 PM PST  Kexin Huang          kexinh@stanford.edu   \n",
       "15  2022/01/10 7:24:57 PM PST  Kexin Huang          kexinh@stanford.edu   \n",
       "\n",
       "                          Model  \\\n",
       "0             CNN (DeepPurpose)   \n",
       "1   RDKit2D + MLP (DeepPurpose)   \n",
       "2    Morgan + MLP (DeepPurpose)   \n",
       "11                     NeuralFP   \n",
       "12                  AttentiveFP   \n",
       "13                  ContextPred   \n",
       "14                  AttrMasking   \n",
       "15                          GCN   \n",
       "\n",
       "                                          Paper_URL  \\\n",
       "0   https://doi.org/10.1093/bioinformatics/btaa1005   \n",
       "1   https://doi.org/10.1093/bioinformatics/btaa1005   \n",
       "2   https://doi.org/10.1093/bioinformatics/btaa1005   \n",
       "11     https://ieeexplore.ieee.org/document/9412489   \n",
       "12        https://pubmed.ncbi.nlm.nih.gov/31408336/   \n",
       "13                 https://arxiv.org/abs/1905.12265   \n",
       "14                 https://arxiv.org/abs/1905.12265   \n",
       "15                 https://arxiv.org/abs/1609.02907   \n",
       "\n",
       "                                             Code_URL              Hardware  \\\n",
       "0   https://github.com/mims-harvard/TDC/tree/maste...  NVIDIA Tesla K80 GPU   \n",
       "1   https://github.com/mims-harvard/TDC/tree/maste...  NVIDIA Tesla K80 GPU   \n",
       "2   https://github.com/mims-harvard/TDC/tree/maste...  NVIDIA Tesla K80 GPU   \n",
       "11  https://github.com/mims-harvard/TDC/tree/main/...            NVIDIA GPU   \n",
       "12  https://github.com/mims-harvard/TDC/tree/main/...                NVIDIA   \n",
       "13  https://github.com/mims-harvard/TDC/tree/main/...                 Titan   \n",
       "14  https://github.com/mims-harvard/TDC/tree/main/...                 Titan   \n",
       "15  https://github.com/mims-harvard/TDC/tree/main/...                NVIDIA   \n",
       "\n",
       "    #Params        Group                                        Text_Result  \\\n",
       "0    226625  ADMET Group  {'caco2_wang': [0.446, 0.036],\\n 'hia_hou': [0...   \n",
       "1    633409  ADMET Group  {'caco2_wang': [0.393, 0.024],\\n 'hia_hou': [0...   \n",
       "2   1477185  ADMET Group  {'caco2_wang': [0.908, 0.06],\\n 'hia_hou': [0....   \n",
       "11   480193  ADMET Group  {'caco2_wang': [0.530, 0.102],\\n'hia_hou': [0....   \n",
       "12   300806  ADMET Group  {'caco2_wang': [0.401, 0.032],\\n'hia_hou': [0....   \n",
       "13  2067053  ADMET Group  {'caco2_wang': [0.502, 0.036],\\n'hia_hou': [0....   \n",
       "14  2067053  ADMET Group  {'caco2_wang': [0.546, 0.052],\\n'hia_hou': [0....   \n",
       "15   191810  ADMET Group  {'caco2_wang': [0.599, 0.104],\\n'hia_hou': [0....   \n",
       "\n",
       "   PKL_Result                                             Result  \n",
       "0         NaN  {'caco2_wang': [0.446, 0.036], 'hia_hou': [0.8...  \n",
       "1         NaN  {'caco2_wang': [0.393, 0.024], 'hia_hou': [0.9...  \n",
       "2         NaN  {'caco2_wang': [0.908, 0.06], 'hia_hou': [0.80...  \n",
       "11        NaN  {'caco2_wang': [0.53, 0.102], 'hia_hou': [0.94...  \n",
       "12        NaN  {'caco2_wang': [0.401, 0.032], 'hia_hou': [0.9...  \n",
       "13        NaN  {'caco2_wang': [0.502, 0.036], 'hia_hou': [0.9...  \n",
       "14        NaN  {'caco2_wang': [0.546, 0.052], 'hia_hou': [0.9...  \n",
       "15        NaN  {'caco2_wang': [0.599, 0.104], 'hia_hou': [0.9...  "
      ]
     },
     "execution_count": 22,
     "metadata": {},
     "output_type": "execute_result"
    }
   ],
   "source": [
    "df_admet"
   ]
  },
  {
   "cell_type": "markdown",
   "metadata": {},
   "source": [
    "## Docking Group"
   ]
  },
  {
   "cell_type": "code",
   "execution_count": 32,
   "metadata": {},
   "outputs": [],
   "source": [
    "df_docking = df[df.Group == 'Docking Group']"
   ]
  },
  {
   "cell_type": "code",
   "execution_count": 33,
   "metadata": {},
   "outputs": [
    {
     "data": {
      "text/html": [
       "<div>\n",
       "<style scoped>\n",
       "    .dataframe tbody tr th:only-of-type {\n",
       "        vertical-align: middle;\n",
       "    }\n",
       "\n",
       "    .dataframe tbody tr th {\n",
       "        vertical-align: top;\n",
       "    }\n",
       "\n",
       "    .dataframe thead th {\n",
       "        text-align: right;\n",
       "    }\n",
       "</style>\n",
       "<table border=\"1\" class=\"dataframe\">\n",
       "  <thead>\n",
       "    <tr style=\"text-align: right;\">\n",
       "      <th></th>\n",
       "      <th>Time</th>\n",
       "      <th>Name</th>\n",
       "      <th>Email</th>\n",
       "      <th>Model</th>\n",
       "      <th>Paper_URL</th>\n",
       "      <th>Code_URL</th>\n",
       "      <th>Hardware</th>\n",
       "      <th>#Params</th>\n",
       "      <th>Group</th>\n",
       "      <th>Text_Result</th>\n",
       "      <th>PKL_Result</th>\n",
       "      <th>Result</th>\n",
       "    </tr>\n",
       "  </thead>\n",
       "  <tbody>\n",
       "    <tr>\n",
       "      <th>4</th>\n",
       "      <td>2021/05/19 3:57:00 PM MDT</td>\n",
       "      <td>Tianfan Fu</td>\n",
       "      <td>tfu42@gatech.edu</td>\n",
       "      <td>GCPN</td>\n",
       "      <td>https://arxiv.org/abs/1806.02473</td>\n",
       "      <td>https://github.com/futianfan/GCPN</td>\n",
       "      <td>Titan GPU</td>\n",
       "      <td>17,600</td>\n",
       "      <td>Docking Group</td>\n",
       "      <td>NaN</td>\n",
       "      <td>https://drive.google.com/u/0/open?usp=forms_we...</td>\n",
       "      <td>NaN</td>\n",
       "    </tr>\n",
       "    <tr>\n",
       "      <th>5</th>\n",
       "      <td>2021/05/19 3:58:05 PM MDT</td>\n",
       "      <td>Tianfan Fu</td>\n",
       "      <td>tfu42@gatech.edu</td>\n",
       "      <td>SMILES-LSTM</td>\n",
       "      <td>https://pubs.acs.org/doi/10.1021/acscentsci.7b...</td>\n",
       "      <td>https://github.com/futianfan/guacamol_tdc</td>\n",
       "      <td>GPU Titan</td>\n",
       "      <td>3,149,000</td>\n",
       "      <td>Docking Group</td>\n",
       "      <td>NaN</td>\n",
       "      <td>https://drive.google.com/u/0/open?usp=forms_we...</td>\n",
       "      <td>NaN</td>\n",
       "    </tr>\n",
       "    <tr>\n",
       "      <th>6</th>\n",
       "      <td>2021/05/19 3:59:00 PM MDT</td>\n",
       "      <td>Tianfan Fu</td>\n",
       "      <td>tfu42@gatech.edu</td>\n",
       "      <td>Graph-GA</td>\n",
       "      <td>https://pubs.rsc.org/en/content/articlelanding...</td>\n",
       "      <td>https://github.com/futianfan/guacamol_tdc</td>\n",
       "      <td>CPU</td>\n",
       "      <td>0</td>\n",
       "      <td>Docking Group</td>\n",
       "      <td>NaN</td>\n",
       "      <td>https://drive.google.com/u/0/open?usp=forms_we...</td>\n",
       "      <td>NaN</td>\n",
       "    </tr>\n",
       "    <tr>\n",
       "      <th>7</th>\n",
       "      <td>2021/06/01 8:39:47 PM MDT</td>\n",
       "      <td>Tianfan Fu</td>\n",
       "      <td>tfu42@gatech.edu</td>\n",
       "      <td>MolDQN</td>\n",
       "      <td>https://www.nature.com/articles/s41598-019-471...</td>\n",
       "      <td>https://github.com/futianfan/mol_dqn_docking</td>\n",
       "      <td>GPUs</td>\n",
       "      <td>2694800</td>\n",
       "      <td>Docking Group</td>\n",
       "      <td>NaN</td>\n",
       "      <td>https://drive.google.com/u/0/open?usp=forms_we...</td>\n",
       "      <td>NaN</td>\n",
       "    </tr>\n",
       "    <tr>\n",
       "      <th>8</th>\n",
       "      <td>2021/06/01 8:41:21 PM MDT</td>\n",
       "      <td>Tianfan Fu</td>\n",
       "      <td>tfu42@gatech.edu</td>\n",
       "      <td>MARS</td>\n",
       "      <td>https://openreview.net/pdf?id=kHSu4ebxFXY</td>\n",
       "      <td>https://github.com/futianfan/MARS</td>\n",
       "      <td>GPUs</td>\n",
       "      <td>153000</td>\n",
       "      <td>Docking Group</td>\n",
       "      <td>NaN</td>\n",
       "      <td>https://drive.google.com/u/0/open?usp=forms_we...</td>\n",
       "      <td>NaN</td>\n",
       "    </tr>\n",
       "    <tr>\n",
       "      <th>9</th>\n",
       "      <td>2021/06/02 6:30:01 PM MDT</td>\n",
       "      <td>Tianfan Fu</td>\n",
       "      <td>tfu42@gatech.edu</td>\n",
       "      <td>Random</td>\n",
       "      <td>NaN</td>\n",
       "      <td>NaN</td>\n",
       "      <td>CPU</td>\n",
       "      <td>0</td>\n",
       "      <td>Docking Group</td>\n",
       "      <td>NaN</td>\n",
       "      <td>https://drive.google.com/u/0/open?usp=forms_we...</td>\n",
       "      <td>NaN</td>\n",
       "    </tr>\n",
       "  </tbody>\n",
       "</table>\n",
       "</div>"
      ],
      "text/plain": [
       "                        Time        Name             Email        Model  \\\n",
       "4  2021/05/19 3:57:00 PM MDT  Tianfan Fu  tfu42@gatech.edu         GCPN   \n",
       "5  2021/05/19 3:58:05 PM MDT  Tianfan Fu  tfu42@gatech.edu  SMILES-LSTM   \n",
       "6  2021/05/19 3:59:00 PM MDT  Tianfan Fu  tfu42@gatech.edu     Graph-GA   \n",
       "7  2021/06/01 8:39:47 PM MDT  Tianfan Fu  tfu42@gatech.edu       MolDQN   \n",
       "8  2021/06/01 8:41:21 PM MDT  Tianfan Fu  tfu42@gatech.edu         MARS   \n",
       "9  2021/06/02 6:30:01 PM MDT  Tianfan Fu  tfu42@gatech.edu       Random   \n",
       "\n",
       "                                           Paper_URL  \\\n",
       "4                   https://arxiv.org/abs/1806.02473   \n",
       "5  https://pubs.acs.org/doi/10.1021/acscentsci.7b...   \n",
       "6  https://pubs.rsc.org/en/content/articlelanding...   \n",
       "7  https://www.nature.com/articles/s41598-019-471...   \n",
       "8          https://openreview.net/pdf?id=kHSu4ebxFXY   \n",
       "9                                                NaN   \n",
       "\n",
       "                                       Code_URL   Hardware    #Params  \\\n",
       "4             https://github.com/futianfan/GCPN  Titan GPU     17,600   \n",
       "5     https://github.com/futianfan/guacamol_tdc  GPU Titan  3,149,000   \n",
       "6     https://github.com/futianfan/guacamol_tdc        CPU          0   \n",
       "7  https://github.com/futianfan/mol_dqn_docking       GPUs    2694800   \n",
       "8             https://github.com/futianfan/MARS       GPUs     153000   \n",
       "9                                           NaN        CPU          0   \n",
       "\n",
       "           Group Text_Result  \\\n",
       "4  Docking Group         NaN   \n",
       "5  Docking Group         NaN   \n",
       "6  Docking Group         NaN   \n",
       "7  Docking Group         NaN   \n",
       "8  Docking Group         NaN   \n",
       "9  Docking Group         NaN   \n",
       "\n",
       "                                          PKL_Result Result  \n",
       "4  https://drive.google.com/u/0/open?usp=forms_we...    NaN  \n",
       "5  https://drive.google.com/u/0/open?usp=forms_we...    NaN  \n",
       "6  https://drive.google.com/u/0/open?usp=forms_we...    NaN  \n",
       "7  https://drive.google.com/u/0/open?usp=forms_we...    NaN  \n",
       "8  https://drive.google.com/u/0/open?usp=forms_we...    NaN  \n",
       "9  https://drive.google.com/u/0/open?usp=forms_we...    NaN  "
      ]
     },
     "execution_count": 33,
     "metadata": {},
     "output_type": "execute_result"
    }
   ],
   "source": [
    "df_docking"
   ]
  },
  {
   "cell_type": "code",
   "execution_count": 7,
   "metadata": {},
   "outputs": [
    {
     "name": "stdout",
     "output_type": "stream",
     "text": [
      "client_secret_file.json-drive-v3-(['https://www.googleapis.com/auth/drive'],)\n",
      "['https://www.googleapis.com/auth/drive']\n"
     ]
    },
    {
     "ename": "RefreshError",
     "evalue": "('invalid_grant: Token has been expired or revoked.', '{\\n  \"error\": \"invalid_grant\",\\n  \"error_description\": \"Token has been expired or revoked.\"\\n}')",
     "output_type": "error",
     "traceback": [
      "\u001b[0;31m---------------------------------------------------------------------------\u001b[0m",
      "\u001b[0;31mRefreshError\u001b[0m                              Traceback (most recent call last)",
      "\u001b[0;32m<ipython-input-7-3a6cb60724d5>\u001b[0m in \u001b[0;36m<module>\u001b[0;34m\u001b[0m\n\u001b[1;32m      6\u001b[0m \u001b[0mSCOPES\u001b[0m \u001b[0;34m=\u001b[0m \u001b[0;34m[\u001b[0m\u001b[0;34m'https://www.googleapis.com/auth/drive'\u001b[0m\u001b[0;34m]\u001b[0m\u001b[0;34m\u001b[0m\u001b[0;34m\u001b[0m\u001b[0m\n\u001b[1;32m      7\u001b[0m \u001b[0;34m\u001b[0m\u001b[0m\n\u001b[0;32m----> 8\u001b[0;31m \u001b[0mservice\u001b[0m \u001b[0;34m=\u001b[0m \u001b[0mCreate_Service\u001b[0m\u001b[0;34m(\u001b[0m\u001b[0mCLIENT_SECRET_FILE\u001b[0m\u001b[0;34m,\u001b[0m \u001b[0mAPI_NAME\u001b[0m\u001b[0;34m,\u001b[0m \u001b[0mAPI_VERSION\u001b[0m\u001b[0;34m,\u001b[0m \u001b[0mSCOPES\u001b[0m\u001b[0;34m)\u001b[0m\u001b[0;34m\u001b[0m\u001b[0;34m\u001b[0m\u001b[0m\n\u001b[0m",
      "\u001b[0;32m~/Desktop/Research/tdc_website/Google.py\u001b[0m in \u001b[0;36mCreate_Service\u001b[0;34m(client_secret_file, api_name, api_version, *scopes)\u001b[0m\n\u001b[1;32m     26\u001b[0m     \u001b[0;32mif\u001b[0m \u001b[0;32mnot\u001b[0m \u001b[0mcred\u001b[0m \u001b[0;32mor\u001b[0m \u001b[0;32mnot\u001b[0m \u001b[0mcred\u001b[0m\u001b[0;34m.\u001b[0m\u001b[0mvalid\u001b[0m\u001b[0;34m:\u001b[0m\u001b[0;34m\u001b[0m\u001b[0;34m\u001b[0m\u001b[0m\n\u001b[1;32m     27\u001b[0m         \u001b[0;32mif\u001b[0m \u001b[0mcred\u001b[0m \u001b[0;32mand\u001b[0m \u001b[0mcred\u001b[0m\u001b[0;34m.\u001b[0m\u001b[0mexpired\u001b[0m \u001b[0;32mand\u001b[0m \u001b[0mcred\u001b[0m\u001b[0;34m.\u001b[0m\u001b[0mrefresh_token\u001b[0m\u001b[0;34m:\u001b[0m\u001b[0;34m\u001b[0m\u001b[0;34m\u001b[0m\u001b[0m\n\u001b[0;32m---> 28\u001b[0;31m             \u001b[0mcred\u001b[0m\u001b[0;34m.\u001b[0m\u001b[0mrefresh\u001b[0m\u001b[0;34m(\u001b[0m\u001b[0mRequest\u001b[0m\u001b[0;34m(\u001b[0m\u001b[0;34m)\u001b[0m\u001b[0;34m)\u001b[0m\u001b[0;34m\u001b[0m\u001b[0;34m\u001b[0m\u001b[0m\n\u001b[0m\u001b[1;32m     29\u001b[0m         \u001b[0;32melse\u001b[0m\u001b[0;34m:\u001b[0m\u001b[0;34m\u001b[0m\u001b[0;34m\u001b[0m\u001b[0m\n\u001b[1;32m     30\u001b[0m             \u001b[0mflow\u001b[0m \u001b[0;34m=\u001b[0m \u001b[0mInstalledAppFlow\u001b[0m\u001b[0;34m.\u001b[0m\u001b[0mfrom_client_secrets_file\u001b[0m\u001b[0;34m(\u001b[0m\u001b[0mCLIENT_SECRET_FILE\u001b[0m\u001b[0;34m,\u001b[0m \u001b[0mSCOPES\u001b[0m\u001b[0;34m)\u001b[0m\u001b[0;34m\u001b[0m\u001b[0;34m\u001b[0m\u001b[0m\n",
      "\u001b[0;32m~/opt/anaconda3/envs/DeepPurpose/lib/python3.7/site-packages/google/oauth2/credentials.py\u001b[0m in \u001b[0;36mrefresh\u001b[0;34m(self, request)\u001b[0m\n\u001b[1;32m    204\u001b[0m             \u001b[0mself\u001b[0m\u001b[0;34m.\u001b[0m\u001b[0m_client_id\u001b[0m\u001b[0;34m,\u001b[0m\u001b[0;34m\u001b[0m\u001b[0;34m\u001b[0m\u001b[0m\n\u001b[1;32m    205\u001b[0m             \u001b[0mself\u001b[0m\u001b[0;34m.\u001b[0m\u001b[0m_client_secret\u001b[0m\u001b[0;34m,\u001b[0m\u001b[0;34m\u001b[0m\u001b[0;34m\u001b[0m\u001b[0m\n\u001b[0;32m--> 206\u001b[0;31m             \u001b[0mself\u001b[0m\u001b[0;34m.\u001b[0m\u001b[0m_scopes\u001b[0m\u001b[0;34m,\u001b[0m\u001b[0;34m\u001b[0m\u001b[0;34m\u001b[0m\u001b[0m\n\u001b[0m\u001b[1;32m    207\u001b[0m         )\n\u001b[1;32m    208\u001b[0m \u001b[0;34m\u001b[0m\u001b[0m\n",
      "\u001b[0;32m~/opt/anaconda3/envs/DeepPurpose/lib/python3.7/site-packages/google/oauth2/_client.py\u001b[0m in \u001b[0;36mrefresh_grant\u001b[0;34m(request, token_uri, refresh_token, client_id, client_secret, scopes)\u001b[0m\n\u001b[1;32m    246\u001b[0m         \u001b[0mbody\u001b[0m\u001b[0;34m[\u001b[0m\u001b[0;34m\"scope\"\u001b[0m\u001b[0;34m]\u001b[0m \u001b[0;34m=\u001b[0m \u001b[0;34m\" \"\u001b[0m\u001b[0;34m.\u001b[0m\u001b[0mjoin\u001b[0m\u001b[0;34m(\u001b[0m\u001b[0mscopes\u001b[0m\u001b[0;34m)\u001b[0m\u001b[0;34m\u001b[0m\u001b[0;34m\u001b[0m\u001b[0m\n\u001b[1;32m    247\u001b[0m \u001b[0;34m\u001b[0m\u001b[0m\n\u001b[0;32m--> 248\u001b[0;31m     \u001b[0mresponse_data\u001b[0m \u001b[0;34m=\u001b[0m \u001b[0m_token_endpoint_request\u001b[0m\u001b[0;34m(\u001b[0m\u001b[0mrequest\u001b[0m\u001b[0;34m,\u001b[0m \u001b[0mtoken_uri\u001b[0m\u001b[0;34m,\u001b[0m \u001b[0mbody\u001b[0m\u001b[0;34m)\u001b[0m\u001b[0;34m\u001b[0m\u001b[0;34m\u001b[0m\u001b[0m\n\u001b[0m\u001b[1;32m    249\u001b[0m \u001b[0;34m\u001b[0m\u001b[0m\n\u001b[1;32m    250\u001b[0m     \u001b[0;32mtry\u001b[0m\u001b[0;34m:\u001b[0m\u001b[0;34m\u001b[0m\u001b[0;34m\u001b[0m\u001b[0m\n",
      "\u001b[0;32m~/opt/anaconda3/envs/DeepPurpose/lib/python3.7/site-packages/google/oauth2/_client.py\u001b[0m in \u001b[0;36m_token_endpoint_request\u001b[0;34m(request, token_uri, body)\u001b[0m\n\u001b[1;32m    122\u001b[0m                 \u001b[0mretry\u001b[0m \u001b[0;34m+=\u001b[0m \u001b[0;36m1\u001b[0m\u001b[0;34m\u001b[0m\u001b[0;34m\u001b[0m\u001b[0m\n\u001b[1;32m    123\u001b[0m                 \u001b[0;32mcontinue\u001b[0m\u001b[0;34m\u001b[0m\u001b[0;34m\u001b[0m\u001b[0m\n\u001b[0;32m--> 124\u001b[0;31m             \u001b[0m_handle_error_response\u001b[0m\u001b[0;34m(\u001b[0m\u001b[0mresponse_body\u001b[0m\u001b[0;34m)\u001b[0m\u001b[0;34m\u001b[0m\u001b[0;34m\u001b[0m\u001b[0m\n\u001b[0m\u001b[1;32m    125\u001b[0m \u001b[0;34m\u001b[0m\u001b[0m\n\u001b[1;32m    126\u001b[0m     \u001b[0;32mreturn\u001b[0m \u001b[0mresponse_data\u001b[0m\u001b[0;34m\u001b[0m\u001b[0;34m\u001b[0m\u001b[0m\n",
      "\u001b[0;32m~/opt/anaconda3/envs/DeepPurpose/lib/python3.7/site-packages/google/oauth2/_client.py\u001b[0m in \u001b[0;36m_handle_error_response\u001b[0;34m(response_body)\u001b[0m\n\u001b[1;32m     58\u001b[0m         \u001b[0merror_details\u001b[0m \u001b[0;34m=\u001b[0m \u001b[0mresponse_body\u001b[0m\u001b[0;34m\u001b[0m\u001b[0;34m\u001b[0m\u001b[0m\n\u001b[1;32m     59\u001b[0m \u001b[0;34m\u001b[0m\u001b[0m\n\u001b[0;32m---> 60\u001b[0;31m     \u001b[0;32mraise\u001b[0m \u001b[0mexceptions\u001b[0m\u001b[0;34m.\u001b[0m\u001b[0mRefreshError\u001b[0m\u001b[0;34m(\u001b[0m\u001b[0merror_details\u001b[0m\u001b[0;34m,\u001b[0m \u001b[0mresponse_body\u001b[0m\u001b[0;34m)\u001b[0m\u001b[0;34m\u001b[0m\u001b[0;34m\u001b[0m\u001b[0m\n\u001b[0m\u001b[1;32m     61\u001b[0m \u001b[0;34m\u001b[0m\u001b[0m\n\u001b[1;32m     62\u001b[0m \u001b[0;34m\u001b[0m\u001b[0m\n",
      "\u001b[0;31mRefreshError\u001b[0m: ('invalid_grant: Token has been expired or revoked.', '{\\n  \"error\": \"invalid_grant\",\\n  \"error_description\": \"Token has been expired or revoked.\"\\n}')"
     ]
    }
   ],
   "source": [
    "from Google import Create_Service\n",
    "\n",
    "CLIENT_SECRET_FILE = 'client_secret_file.json'\n",
    "API_NAME = 'drive'\n",
    "API_VERSION = 'v3'\n",
    "SCOPES = ['https://www.googleapis.com/auth/drive']\n",
    "\n",
    "service = Create_Service(CLIENT_SECRET_FILE, API_NAME, API_VERSION, SCOPES)"
   ]
  },
  {
   "cell_type": "code",
   "execution_count": 8,
   "metadata": {},
   "outputs": [
    {
     "name": "stdout",
     "output_type": "stream",
     "text": [
      "Download progress 100.0\n",
      "Download progress 100.0\n",
      "Download progress 100.0\n"
     ]
    }
   ],
   "source": [
    "import os, io\n",
    "from googleapiclient.http import MediaIoBaseDownload\n",
    "\n",
    "file_ids = [i.split('id=')[1] for i in df_docking.PKL_Result.values]\n",
    "file_names = [i + '.pkl' for i in df_docking.Model.values]\n",
    "\n",
    "for file_id, file_name in zip(file_ids, file_names):\n",
    "    request = service.files().get_media(fileId = file_id)\n",
    "    fh = io.BytesIO()\n",
    "    downloader = MediaIoBaseDownload(fd = fh, request = request)\n",
    "    \n",
    "    done = False\n",
    "    while not done:\n",
    "        status, done = downloader.next_chunk()\n",
    "        print('Download progress {0}'.format(status.progress() * 100))\n",
    "\n",
    "    fh.seek(0)\n",
    "\n",
    "    with open(os.path.join('./docking_result', file_name), 'wb') as f:\n",
    "        f.write(fh.read())\n",
    "        f.close()"
   ]
  },
  {
   "cell_type": "code",
   "execution_count": 34,
   "metadata": {},
   "outputs": [
    {
     "name": "stderr",
     "output_type": "stream",
     "text": [
      "/Users/kexinhuang/opt/anaconda3/envs/DeepPurpose/lib/python3.7/site-packages/ipykernel_launcher.py:9: SettingWithCopyWarning: \n",
      "A value is trying to be set on a copy of a slice from a DataFrame.\n",
      "Try using .loc[row_indexer,col_indexer] = value instead\n",
      "\n",
      "See the caveats in the documentation: https://pandas.pydata.org/pandas-docs/stable/user_guide/indexing.html#returning-a-view-versus-a-copy\n",
      "  if __name__ == '__main__':\n"
     ]
    }
   ],
   "source": [
    "import pickle\n",
    "import os, io\n",
    "\n",
    "def get_result(x):\n",
    "    with open(os.path.join('./docking_result', x + '.pkl'), 'rb') as f:      \n",
    "        x = pickle.load(f)\n",
    "    return x\n",
    "              \n",
    "df_docking['Result'] = df_docking.Model.apply(lambda x: get_result(x))"
   ]
  },
  {
   "cell_type": "code",
   "execution_count": 60,
   "metadata": {},
   "outputs": [],
   "source": [
    "metrics = ['top100', 'top10', 'top1', 'diversity', 'novelty', '%pass', 'top1_%pass', 'm1']\n",
    "vs = ['-12.080', '-12.590', '-12.800', '0.864', '-', '0.780', '-11.700', '5.100']\n",
    "metric2vs = dict(zip(metrics, vs))"
   ]
  },
  {
   "cell_type": "code",
   "execution_count": 51,
   "metadata": {},
   "outputs": [],
   "source": [
    "metric2metric_latex = {'top100': 'Top100 ($\\\\downarrow$)',\n",
    "                      'top10': 'Top10 ($\\\\downarrow$)',\n",
    "                      'top1': 'Top1 ($\\\\downarrow$)',\n",
    "                      'diversity': 'Diversity ($\\\\uparrow$)',\n",
    "                      'novelty': 'Novelty ($\\\\uparrow$)',\n",
    "                      '%pass': '\\%Pass ($\\\\uparrow$)',\n",
    "                      'top1_%pass': 'Top1 \\\\%Pass ($\\\\downarrow$)',\n",
    "                      'm1': 'm1 ($\\\\downarrow$)'}"
   ]
  },
  {
   "cell_type": "code",
   "execution_count": 63,
   "metadata": {},
   "outputs": [
    {
     "name": "stdout",
     "output_type": "stream",
     "text": [
      "m1 ($\\downarrow$) & \\multirow{8}{*}{5000} & 5.100\n"
     ]
    }
   ],
   "source": [
    "print(\"{:s} & \\\\multirow{{8}}{{*}}{{{:s}}} & {:s}\".format(metric2metric_latex[x], str(call), metric2vs[x]))"
   ]
  },
  {
   "cell_type": "code",
   "execution_count": 78,
   "metadata": {},
   "outputs": [],
   "source": [
    "metric_arrow = {'top100': 'down', 'top10': 'down', 'top1':'down', 'diversity': 'up', 'novelty':'up', '%pass':'up', 'top1_%pass':'down', 'm1': 'down'}"
   ]
  },
  {
   "cell_type": "code",
   "execution_count": 85,
   "metadata": {},
   "outputs": [
    {
     "data": {
      "text/plain": [
       "0"
      ]
     },
     "execution_count": 85,
     "metadata": {},
     "output_type": "execute_result"
    }
   ],
   "source": [
    "np.where(np.argsort(all_mean) == 0)[0][0]"
   ]
  },
  {
   "cell_type": "code",
   "execution_count": 86,
   "metadata": {},
   "outputs": [
    {
     "data": {
      "text/plain": [
       "5"
      ]
     },
     "execution_count": 86,
     "metadata": {},
     "output_type": "execute_result"
    }
   ],
   "source": [
    "np.where(np.argsort(all_mean)[::-1] == 0)[0][0]"
   ]
  },
  {
   "cell_type": "code",
   "execution_count": 94,
   "metadata": {},
   "outputs": [
    {
     "data": {
      "text/plain": [
       "array([0, 2, 5, 1, 3, 4])"
      ]
     },
     "execution_count": 94,
     "metadata": {},
     "output_type": "execute_result"
    }
   ],
   "source": [
    "np.argsort(np.array(all_mean))"
   ]
  },
  {
   "cell_type": "code",
   "execution_count": 93,
   "metadata": {},
   "outputs": [
    {
     "data": {
      "text/plain": [
       "[5.61, 9.669, 5.826, 10.0, 10.0, 7.073]"
      ]
     },
     "execution_count": 93,
     "metadata": {},
     "output_type": "execute_result"
    }
   ],
   "source": [
    "all_mean"
   ]
  },
  {
   "cell_type": "code",
   "execution_count": 88,
   "metadata": {},
   "outputs": [
    {
     "data": {
      "text/plain": [
       "[5.61, 9.669, 5.826, 10.0, 10.0, 7.073]"
      ]
     },
     "execution_count": 88,
     "metadata": {},
     "output_type": "execute_result"
    }
   ],
   "source": [
    "all_mean"
   ]
  },
  {
   "cell_type": "code",
   "execution_count": 99,
   "metadata": {},
   "outputs": [
    {
     "data": {
      "text/plain": [
       "array([ 5.61 ,  5.826,  7.073,  9.669, 10.   , 10.   ])"
      ]
     },
     "execution_count": 99,
     "metadata": {},
     "output_type": "execute_result"
    }
   ],
   "source": [
    "np.array(all_mean)[np.argsort(all_mean)]"
   ]
  },
  {
   "cell_type": "code",
   "execution_count": 110,
   "metadata": {},
   "outputs": [
    {
     "name": "stdout",
     "output_type": "stream",
     "text": [
      "Top100 ($\\downarrow$) & -12.080 & \\multirow{8}{*}{100}& \\underline{-7.554\\std{0.065}}& -7.222\\std{0.013}& \\bf -7.594\\std{0.182}& 3.860\\std{0.102}& -5.178\\std{0.341}& -5.928\\std{0.298}\\\\\n",
      "Top10 ($\\downarrow$) & -12.590 & & -9.727\\std{0.276}& \\bf -10.177\\std{0.158}& \\underline{-10.033\\std{0.186}}& -5.617\\std{0.413}& -6.438\\std{0.176}& -8.133\\std{0.328}\\\\\n",
      "Top1 ($\\downarrow$) & -12.800 & & -10.367\\std{0.464}& \\bf -11.767\\std{1.087}& -11.133\\std{0.634}& \\underline{-11.633\\std{2.217}}& -7.020\\std{0.194}& -9.100\\std{0.712}\\\\\n",
      "Diversity ($\\uparrow$) & 0.864 & & 0.881\\std{0.002}& 0.885\\std{0.001}& 0.884\\std{0.002}& \\bf 0.909\\std{0.001}& \\underline{0.907\\std{0.001}}& 0.873\\std{0.010}\\\\\n",
      "Novelty ($\\uparrow$) & - & & -& 1.000\\std{0.000}& 1.000\\std{0.000}& 1.000\\std{0.000}& 1.000\\std{0.000}& 1.000\\std{0.000}\\\\\n",
      "\\%Pass ($\\uparrow$) & 0.780 & & 0.717\\std{0.005}& 0.693\\std{0.037}& \\underline{0.763\\std{0.019}}& 0.093\\std{0.009}& 0.017\\std{0.012}& \\bf 0.807\\std{0.033}\\\\\n",
      "Top1 \\%Pass ($\\downarrow$) & -11.700 & & -2.467\\std{2.229}& 0.000\\std{0.000}& -1.100\\std{1.417}& 7.667\\std{0.262}& \\underline{-3.630\\std{2.588}}& \\bf -3.633\\std{0.946}\\\\\n",
      "m1 ($\\downarrow$) & 5.100 & & \\underline{4.845\\std{0.235}}& 5.223\\std{0.256}& 5.219\\std{0.247}& 10.000\\std{0.000}& 10.000\\std{0.000}& \\bf 4.470\\std{1.047}\\\\\n",
      "\\midrule\n",
      "Top100 ($\\downarrow$) & -12.080 & \\multirow{8}{*}{500}& -9.341\\std{0.039}& \\bf -10.036\\std{0.221}& \\underline{-9.419\\std{0.173}}& -8.119\\std{0.104}& -6.357\\std{0.084}& -7.278\\std{0.198}\\\\\n",
      "Top10 ($\\downarrow$) & -12.590 & & -10.517\\std{0.135}& \\bf -11.527\\std{0.533}& \\underline{-10.687\\std{0.335}}& -10.230\\std{0.354}& -7.173\\std{0.166}& -9.067\\std{0.377}\\\\\n",
      "Top1 ($\\downarrow$) & -12.800 & & -11.167\\std{0.309}& \\bf -12.500\\std{0.748}& -11.367\\std{0.579}& \\underline{-11.967\\std{0.680}}& -7.620\\std{0.185}& -9.833\\std{0.309}\\\\\n",
      "Diversity ($\\uparrow$) & 0.864 & & 0.870\\std{0.003}& 0.857\\std{0.005}& 0.875\\std{0.005}& \\bf 0.914\\std{0.001}& \\underline{0.903\\std{0.002}}& 0.866\\std{0.005}\\\\\n",
      "Novelty ($\\uparrow$) & - & & -& 1.000\\std{0.000}& 1.000\\std{0.000}& 1.000\\std{0.000}& 1.000\\std{0.000}& 1.000\\std{0.000}\\\\\n",
      "\\%Pass ($\\uparrow$) & 0.780 & & \\bf 0.770\\std{0.029}& 0.710\\std{0.080}& \\underline{0.727\\std{0.012}}& 0.127\\std{0.005}& 0.030\\std{0.016}& 0.660\\std{0.050}\\\\\n",
      "Top1 \\%Pass ($\\downarrow$) & -11.700 & & \\underline{-8.767\\std{0.047}}& \\bf -9.300\\std{0.163}& -8.767\\std{0.170}& -7.200\\std{0.141}& -6.030\\std{0.073}& -6.100\\std{0.141}\\\\\n",
      "m1 ($\\downarrow$) & 5.100 & & \\bf 5.672\\std{1.211}& 6.493\\std{0.341}& \\underline{5.787\\std{0.934}}& 10.000\\std{0.000}& 10.000\\std{0.000}& 5.827\\std{0.937}\\\\\n",
      "\\midrule\n",
      "Top100 ($\\downarrow$) & -12.080 & \\multirow{8}{*}{1000}& -9.693\\std{0.019}& \\bf -11.224\\std{0.484}& \\underline{-9.971\\std{0.115}}& -9.053\\std{0.080}& -6.738\\std{0.042}& -8.224\\std{0.196}\\\\\n",
      "Top10 ($\\downarrow$) & -12.590 & & -10.777\\std{0.189}& \\bf -12.400\\std{0.782}& \\underline{-11.163\\std{0.141}}& -11.027\\std{0.273}& -7.506\\std{0.085}& -9.843\\std{0.068}\\\\\n",
      "Top1 ($\\downarrow$) & -12.800 & & -11.500\\std{0.432}& \\bf -13.233\\std{0.713}& -11.967\\std{0.205}& \\underline{-12.033\\std{0.618}}& -7.800\\std{0.042}& -11.100\\std{0.141}\\\\\n",
      "Diversity ($\\uparrow$) & 0.864 & & 0.873\\std{0.003}& 0.815\\std{0.046}& 0.871\\std{0.004}& \\bf 0.913\\std{0.001}& \\underline{0.904\\std{0.001}}& 0.871\\std{0.004}\\\\\n",
      "Novelty ($\\uparrow$) & - & & -& 1.000\\std{0.000}& 1.000\\std{0.000}& 1.000\\std{0.000}& 1.000\\std{0.000}& 1.000\\std{0.000}\\\\\n",
      "\\%Pass ($\\uparrow$) & 0.780 & & 0.757\\std{0.026}& \\bf 0.777\\std{0.096}& \\underline{0.777\\std{0.026}}& 0.170\\std{0.022}& 0.033\\std{0.005}& 0.563\\std{0.052}\\\\\n",
      "Top1 \\%Pass ($\\downarrow$) & -11.700 & & -9.167\\std{0.047}& \\bf -10.600\\std{0.374}& \\underline{-9.367\\std{0.094}}& -8.167\\std{0.047}& -6.450\\std{0.085}& -7.367\\std{0.205}\\\\\n",
      "m1 ($\\downarrow$) & 5.100 & & \\underline{5.527\\std{0.780}}& 7.695\\std{0.909}& \\bf 4.818\\std{0.541}& 10.000\\std{0.000}& 10.000\\std{0.000}& 6.037\\std{0.137}\\\\\n",
      "\\midrule\n",
      "Top100 ($\\downarrow$) & -12.080 & \\multirow{8}{*}{5000}& -10.542\\std{0.035}& \\bf -14.811\\std{0.413}& \\underline{-13.017\\std{0.385}}& -10.045\\std{0.226}& -8.236\\std{0.089}& -9.509\\std{0.035}\\\\\n",
      "Top10 ($\\downarrow$) & -12.590 & & -11.483\\std{0.056}& \\bf -15.930\\std{0.336}& \\underline{-14.030\\std{0.421}}& -11.483\\std{0.581}& -9.348\\std{0.188}& -10.693\\std{0.172}\\\\\n",
      "Top1 ($\\downarrow$) & -12.800 & & -12.100\\std{0.356}& \\bf -16.533\\std{0.309}& \\underline{-14.533\\std{0.525}}& -12.300\\std{0.993}& -9.990\\std{0.194}& -11.433\\std{0.450}\\\\\n",
      "Diversity ($\\uparrow$) & 0.864 & & 0.872\\std{0.003}& 0.626\\std{0.092}& 0.740\\std{0.056}& \\bf 0.922\\std{0.002}& \\underline{0.893\\std{0.005}}& 0.873\\std{0.002}\\\\\n",
      "Novelty ($\\uparrow$) & - & & -& 1.000\\std{0.000}& 1.000\\std{0.000}& 1.000\\std{0.000}& 1.000\\std{0.000}& 1.000\\std{0.000}\\\\\n",
      "\\%Pass ($\\uparrow$) & 0.780 & & \\bf 0.683\\std{0.073}& 0.393\\std{0.308}& 0.257\\std{0.103}& 0.167\\std{0.045}& 0.023\\std{0.012}& \\underline{0.527\\std{0.087}}\\\\\n",
      "Top1 \\%Pass ($\\downarrow$) & -11.700 & & -10.100\\std{0.000}& \\bf -14.267\\std{0.450}& \\underline{-12.533\\std{0.403}}& -9.367\\std{0.170}& -7.980\\std{0.112}& -9.000\\std{0.082}\\\\\n",
      "m1 ($\\downarrow$) & 5.100 & & \\bf 5.610\\std{0.805}& 9.669\\std{0.468}& \\underline{5.826\\std{1.908}}& 10.000\\std{0.000}& 10.000\\std{0.000}& 7.073\\std{0.798}\\\\\n",
      "\n"
     ]
    }
   ],
   "source": [
    "out = {df_docking.Model.iloc[ind]: df_docking.Result.iloc[ind]['DRD3'] for ind in range(len(df_docking))}\n",
    "method_order = ['Random', 'Graph-GA', 'SMILES-LSTM', 'GCPN', 'MolDQN', 'MARS']\n",
    "\n",
    "for call in [100, 500, 1000, 5000]:    \n",
    "    for x in metrics:\n",
    "        \n",
    "        if x == 'top100':\n",
    "            table = \"{:s} & {:s} & \\\\multirow{{8}}{{*}}{{{:s}}}\".format(metric2metric_latex[x], metric2vs[x], str(call))\n",
    "        else:\n",
    "            table = \"{:s} & {:s} & \".format(metric2metric_latex[x], metric2vs[x])\n",
    "            \n",
    "        all_mean = [out[method][call][x][0] for method in method_order]\n",
    "        \n",
    "        if metric_arrow[x] == 'down':\n",
    "            idx_1st = np.argsort(np.array(all_mean))[0]\n",
    "            idx_2nd = np.argsort(np.array(all_mean))[1]\n",
    "        else:\n",
    "            idx_1st = np.argsort(-1 * np.array(all_mean))[0]\n",
    "            idx_2nd = np.argsort(-1 * np.array(all_mean))[1]\n",
    "        if x == 'novelty':\n",
    "            for i, method in enumerate(method_order):\n",
    "                if method == 'Random':\n",
    "                    table += '& -'\n",
    "                else:\n",
    "                    table += '& {:.3f}\\std{{{:.3f}}}'.format(out[method][call][x][0], out[method][call][x][1])\n",
    "        else:\n",
    "        \n",
    "            for i, method in enumerate(method_order):\n",
    "                \n",
    "                if i == idx_1st:\n",
    "                    table += '& \\\\bf {:.3f}\\std{{{:.3f}}}'.format(out[method][call][x][0], out[method][call][x][1])\n",
    "                elif i == idx_2nd:\n",
    "                    table += '& \\\\underline{{{:.3f}\\std{{{:.3f}}}}}'.format(out[method][call][x][0], out[method][call][x][1])\n",
    "                else:\n",
    "                    table += '& {:.3f}\\std{{{:.3f}}}'.format(out[method][call][x][0], out[method][call][x][1])\n",
    "        table = table + '\\\\\\\\'\n",
    "        print(table)\n",
    "    if call != 5000:\n",
    "        print('\\\\midrule')\n",
    "    else:\n",
    "        print('')"
   ]
  },
  {
   "cell_type": "code",
   "execution_count": 18,
   "metadata": {},
   "outputs": [],
   "source": [
    "## generate molecule images\n",
    "from rdkit import Chem\n",
    "from rdkit.Chem import Draw\n",
    "\n",
    "for submit_idx in range(len(df_docking)):\n",
    "    temp = df_docking.iloc[submit_idx]\n",
    "\n",
    "    for target in temp.Result.keys():\n",
    "        for max_calls in temp.Result[target].keys():\n",
    "            mols = [Chem.MolFromSmiles(i) for i in temp.Result[target][max_calls]['top smiles']]\n",
    "            img = Draw.MolsToGridImage(mols, molsPerRow=6, subImgSize=(200, 200), maxMols=300)\n",
    "            file_path = 'benchmark/docking_group/smiles/' + target.lower() + '/img/' + temp.Model + '_' + str(max_calls) + '.png'\n",
    "            img.save(file_path)"
   ]
  },
  {
   "cell_type": "code",
   "execution_count": 11,
   "metadata": {},
   "outputs": [],
   "source": [
    "## best in data\n",
    "pred = dict(pd.read_csv('../tdc_leaderboard/docking_zinc_drd3_top100', sep = '\\t', header = None).values)\n",
    "\n",
    "mols = [Chem.MolFromSmiles(i) for i in list(pred.keys())]\n",
    "img = Draw.MolsToGridImage(mols, molsPerRow=6, subImgSize=(200, 200), maxMols=300)\n",
    "file_path = 'benchmark/docking_group/smiles/' + target.lower() + '/img/best_in_data.png'\n",
    "img.save(file_path)"
   ]
  },
  {
   "cell_type": "code",
   "execution_count": 19,
   "metadata": {},
   "outputs": [],
   "source": [
    "## generate html page for that image\n",
    "html_code = ''\n",
    "all_targets = list(temp.Result.keys())\n",
    "\n",
    "for target in all_targets:    \n",
    "    for submit_idx in range(len(df_docking)):\n",
    "        temp = df_docking.iloc[submit_idx]\n",
    "        html_code += '# Generated Molecules for '+ target + ' Docking Leaderboard - ' + temp.Model + ' \\n'\n",
    "        for max_calls in temp.Result[target].keys():\n",
    "            html_code += '### ' + temp.Model + ' ' + str(max_calls) + ' Maximum Calls Top Generated Molecules\\n'\n",
    "            html_code += \"\\n\"\n",
    "            html_code += \"<b> <i class='fas fa-long-arrow-alt-left'></i> <a href='/benchmark/docking_group/\"+ target.lower() + \"'> Go Back To Leaderboard</a> </b>\"\n",
    "            html_code += \"\\n\"\n",
    "            html_code += \"<img src='/benchmark/docking_group/smiles/\" + target.lower() + \"/img/\" + temp.Model + \"_\" + str(max_calls) + \".png'> \\n\"\n",
    "            html_code += \"\\n\"\n",
    "            html_code += \"\\n\""
   ]
  },
  {
   "cell_type": "code",
   "execution_count": 20,
   "metadata": {
    "scrolled": false
   },
   "outputs": [
    {
     "name": "stdout",
     "output_type": "stream",
     "text": [
      "# Generated Molecules for DRD3 Docking Leaderboard - GCPN \n",
      "### GCPN 100 Maximum Calls Top Generated Molecules\n",
      "\n",
      "<b> <i class='fas fa-long-arrow-alt-left'></i> <a href='/benchmark/docking_group/drd3'> Go Back To Leaderboard</a> </b>\n",
      "<img src='/benchmark/docking_group/smiles/drd3/img/GCPN_100.png'> \n",
      "\n",
      "\n",
      "### GCPN 500 Maximum Calls Top Generated Molecules\n",
      "\n",
      "<b> <i class='fas fa-long-arrow-alt-left'></i> <a href='/benchmark/docking_group/drd3'> Go Back To Leaderboard</a> </b>\n",
      "<img src='/benchmark/docking_group/smiles/drd3/img/GCPN_500.png'> \n",
      "\n",
      "\n",
      "### GCPN 1000 Maximum Calls Top Generated Molecules\n",
      "\n",
      "<b> <i class='fas fa-long-arrow-alt-left'></i> <a href='/benchmark/docking_group/drd3'> Go Back To Leaderboard</a> </b>\n",
      "<img src='/benchmark/docking_group/smiles/drd3/img/GCPN_1000.png'> \n",
      "\n",
      "\n",
      "### GCPN 5000 Maximum Calls Top Generated Molecules\n",
      "\n",
      "<b> <i class='fas fa-long-arrow-alt-left'></i> <a href='/benchmark/docking_group/drd3'> Go Back To Leaderboard</a> </b>\n",
      "<img src='/benchmark/docking_group/smiles/drd3/img/GCPN_5000.png'> \n",
      "\n",
      "\n",
      "# Generated Molecules for DRD3 Docking Leaderboard - SMILES-LSTM \n",
      "### SMILES-LSTM 100 Maximum Calls Top Generated Molecules\n",
      "\n",
      "<b> <i class='fas fa-long-arrow-alt-left'></i> <a href='/benchmark/docking_group/drd3'> Go Back To Leaderboard</a> </b>\n",
      "<img src='/benchmark/docking_group/smiles/drd3/img/SMILES-LSTM_100.png'> \n",
      "\n",
      "\n",
      "### SMILES-LSTM 500 Maximum Calls Top Generated Molecules\n",
      "\n",
      "<b> <i class='fas fa-long-arrow-alt-left'></i> <a href='/benchmark/docking_group/drd3'> Go Back To Leaderboard</a> </b>\n",
      "<img src='/benchmark/docking_group/smiles/drd3/img/SMILES-LSTM_500.png'> \n",
      "\n",
      "\n",
      "### SMILES-LSTM 1000 Maximum Calls Top Generated Molecules\n",
      "\n",
      "<b> <i class='fas fa-long-arrow-alt-left'></i> <a href='/benchmark/docking_group/drd3'> Go Back To Leaderboard</a> </b>\n",
      "<img src='/benchmark/docking_group/smiles/drd3/img/SMILES-LSTM_1000.png'> \n",
      "\n",
      "\n",
      "### SMILES-LSTM 5000 Maximum Calls Top Generated Molecules\n",
      "\n",
      "<b> <i class='fas fa-long-arrow-alt-left'></i> <a href='/benchmark/docking_group/drd3'> Go Back To Leaderboard</a> </b>\n",
      "<img src='/benchmark/docking_group/smiles/drd3/img/SMILES-LSTM_5000.png'> \n",
      "\n",
      "\n",
      "# Generated Molecules for DRD3 Docking Leaderboard - Graph-GA \n",
      "### Graph-GA 100 Maximum Calls Top Generated Molecules\n",
      "\n",
      "<b> <i class='fas fa-long-arrow-alt-left'></i> <a href='/benchmark/docking_group/drd3'> Go Back To Leaderboard</a> </b>\n",
      "<img src='/benchmark/docking_group/smiles/drd3/img/Graph-GA_100.png'> \n",
      "\n",
      "\n",
      "### Graph-GA 500 Maximum Calls Top Generated Molecules\n",
      "\n",
      "<b> <i class='fas fa-long-arrow-alt-left'></i> <a href='/benchmark/docking_group/drd3'> Go Back To Leaderboard</a> </b>\n",
      "<img src='/benchmark/docking_group/smiles/drd3/img/Graph-GA_500.png'> \n",
      "\n",
      "\n",
      "### Graph-GA 1000 Maximum Calls Top Generated Molecules\n",
      "\n",
      "<b> <i class='fas fa-long-arrow-alt-left'></i> <a href='/benchmark/docking_group/drd3'> Go Back To Leaderboard</a> </b>\n",
      "<img src='/benchmark/docking_group/smiles/drd3/img/Graph-GA_1000.png'> \n",
      "\n",
      "\n",
      "### Graph-GA 5000 Maximum Calls Top Generated Molecules\n",
      "\n",
      "<b> <i class='fas fa-long-arrow-alt-left'></i> <a href='/benchmark/docking_group/drd3'> Go Back To Leaderboard</a> </b>\n",
      "<img src='/benchmark/docking_group/smiles/drd3/img/Graph-GA_5000.png'> \n",
      "\n",
      "\n",
      "# Generated Molecules for DRD3 Docking Leaderboard - MolDQN \n",
      "### MolDQN 100 Maximum Calls Top Generated Molecules\n",
      "\n",
      "<b> <i class='fas fa-long-arrow-alt-left'></i> <a href='/benchmark/docking_group/drd3'> Go Back To Leaderboard</a> </b>\n",
      "<img src='/benchmark/docking_group/smiles/drd3/img/MolDQN_100.png'> \n",
      "\n",
      "\n",
      "### MolDQN 500 Maximum Calls Top Generated Molecules\n",
      "\n",
      "<b> <i class='fas fa-long-arrow-alt-left'></i> <a href='/benchmark/docking_group/drd3'> Go Back To Leaderboard</a> </b>\n",
      "<img src='/benchmark/docking_group/smiles/drd3/img/MolDQN_500.png'> \n",
      "\n",
      "\n",
      "### MolDQN 1000 Maximum Calls Top Generated Molecules\n",
      "\n",
      "<b> <i class='fas fa-long-arrow-alt-left'></i> <a href='/benchmark/docking_group/drd3'> Go Back To Leaderboard</a> </b>\n",
      "<img src='/benchmark/docking_group/smiles/drd3/img/MolDQN_1000.png'> \n",
      "\n",
      "\n",
      "### MolDQN 5000 Maximum Calls Top Generated Molecules\n",
      "\n",
      "<b> <i class='fas fa-long-arrow-alt-left'></i> <a href='/benchmark/docking_group/drd3'> Go Back To Leaderboard</a> </b>\n",
      "<img src='/benchmark/docking_group/smiles/drd3/img/MolDQN_5000.png'> \n",
      "\n",
      "\n",
      "# Generated Molecules for DRD3 Docking Leaderboard - MARS \n",
      "### MARS 100 Maximum Calls Top Generated Molecules\n",
      "\n",
      "<b> <i class='fas fa-long-arrow-alt-left'></i> <a href='/benchmark/docking_group/drd3'> Go Back To Leaderboard</a> </b>\n",
      "<img src='/benchmark/docking_group/smiles/drd3/img/MARS_100.png'> \n",
      "\n",
      "\n",
      "### MARS 500 Maximum Calls Top Generated Molecules\n",
      "\n",
      "<b> <i class='fas fa-long-arrow-alt-left'></i> <a href='/benchmark/docking_group/drd3'> Go Back To Leaderboard</a> </b>\n",
      "<img src='/benchmark/docking_group/smiles/drd3/img/MARS_500.png'> \n",
      "\n",
      "\n",
      "### MARS 1000 Maximum Calls Top Generated Molecules\n",
      "\n",
      "<b> <i class='fas fa-long-arrow-alt-left'></i> <a href='/benchmark/docking_group/drd3'> Go Back To Leaderboard</a> </b>\n",
      "<img src='/benchmark/docking_group/smiles/drd3/img/MARS_1000.png'> \n",
      "\n",
      "\n",
      "### MARS 5000 Maximum Calls Top Generated Molecules\n",
      "\n",
      "<b> <i class='fas fa-long-arrow-alt-left'></i> <a href='/benchmark/docking_group/drd3'> Go Back To Leaderboard</a> </b>\n",
      "<img src='/benchmark/docking_group/smiles/drd3/img/MARS_5000.png'> \n",
      "\n",
      "\n",
      "\n"
     ]
    }
   ],
   "source": [
    "print(html_code)"
   ]
  },
  {
   "cell_type": "code",
   "execution_count": 21,
   "metadata": {},
   "outputs": [],
   "source": [
    "def get_entries(bm, max_calls):\n",
    "    results = df_docking.Result.apply(lambda x: x[bm][max_calls]['top100'][0]).values\n",
    "    \n",
    "    out = np.argsort(results)\n",
    "    idx2rank = dict(zip(out, list(range(len(out)))))\n",
    "    rank2idx = dict(zip(list(range(len(out))), out))\n",
    "    \n",
    "    print('---- ' + bm + ' ------')\n",
    "    entries = []\n",
    "    for submit_idx in range(len(df_docking)):\n",
    "        temp = df_docking.iloc[submit_idx]\n",
    "        html_code = '<tr> \\n'\n",
    "        html_code = html_code + '  <td> ' + str(idx2rank[submit_idx] + 1) + ' </td> \\n'        \n",
    "        html_code = html_code + '  <td> ' + temp.Model + ' </td> \\n'\n",
    "        html_code = html_code + '  <td><a href=\"mailto:' + temp.Email + '\">' + temp.Name + '</a></td> \\n'\n",
    "        html_code = html_code + '  <td><a href=\"' + temp.Code_URL + '\"> GitHub</a>, <a href=\"' + temp.Paper_URL + '\">Paper </a></td> \\n'\n",
    "        value = temp['#Params']\n",
    "        value = int(str(value).replace(',', ''))\n",
    "        html_code = html_code + '  <td> ' + f'{value:,}' + ' </td> \\n'\n",
    "        for metric in ['top100', 'top10', 'top1', 'diversity', 'novelty', '%pass', 'top1_%pass', 'm1']:\n",
    "            html_code = html_code + '  <td>' + format(temp.Result[bm][max_calls][metric][0], '.3f') + ' <span>&#177;</span> ' + format(temp.Result[bm][max_calls][metric][1], '.3f') +' </td> \\n'\n",
    "        \n",
    "        html_code += \"  <td> <a href='/benchmark/docking_group/smiles/\" + bm.lower() + \"/\" + temp.Model.lower() + \"_smiles/#\" + temp.Model.lower() + \"-\" + str(max_calls) +\"-maximum-calls-top-generated-molecules'> Link </a> </td> \\n\"\n",
    "        html_code += '</tr>'\n",
    "\n",
    "        entries.append(html_code)\n",
    "    \n",
    "    for i in range(len(out)):\n",
    "        print(entries[rank2idx[i]])"
   ]
  },
  {
   "cell_type": "code",
   "execution_count": 26,
   "metadata": {
    "scrolled": false
   },
   "outputs": [
    {
     "name": "stdout",
     "output_type": "stream",
     "text": [
      "---- DRD3 ------\n",
      "<tr> \n",
      "  <td> 1 </td> \n",
      "  <td> SMILES-LSTM </td> \n",
      "  <td><a href=\"mailto:tfu42@gatech.edu\">Tianfan Fu</a></td> \n",
      "  <td><a href=\"https://github.com/futianfan/guacamol_tdc\"> GitHub</a>, <a href=\"https://pubs.acs.org/doi/10.1021/acscentsci.7b00512\">Paper </a></td> \n",
      "  <td> 3,149,000 </td> \n",
      "  <td>-7.594 <span>&#177;</span> 0.182 </td> \n",
      "  <td>-10.033 <span>&#177;</span> 0.186 </td> \n",
      "  <td>-11.133 <span>&#177;</span> 0.634 </td> \n",
      "  <td>0.884 <span>&#177;</span> 0.002 </td> \n",
      "  <td>1.000 <span>&#177;</span> 0.000 </td> \n",
      "  <td>0.763 <span>&#177;</span> 0.019 </td> \n",
      "  <td>-1.100 <span>&#177;</span> 1.417 </td> \n",
      "  <td>5.219 <span>&#177;</span> 0.247 </td> \n",
      "  <td> <a href='/benchmark/docking_group/smiles/drd3/smiles-lstm_smiles/#smiles-lstm-100-maximum-calls-top-generated-molecules'> Link </a> </td> \n",
      "</tr>\n",
      "<tr> \n",
      "  <td> 2 </td> \n",
      "  <td> Graph-GA </td> \n",
      "  <td><a href=\"mailto:tfu42@gatech.edu\">Tianfan Fu</a></td> \n",
      "  <td><a href=\"https://github.com/futianfan/guacamol_tdc\"> GitHub</a>, <a href=\"https://pubs.rsc.org/en/content/articlelanding/2019/sc/c8sc05372c#!divAbstract\">Paper </a></td> \n",
      "  <td> 0 </td> \n",
      "  <td>-7.222 <span>&#177;</span> 0.013 </td> \n",
      "  <td>-10.177 <span>&#177;</span> 0.158 </td> \n",
      "  <td>-11.767 <span>&#177;</span> 1.087 </td> \n",
      "  <td>0.885 <span>&#177;</span> 0.001 </td> \n",
      "  <td>1.000 <span>&#177;</span> 0.000 </td> \n",
      "  <td>0.693 <span>&#177;</span> 0.037 </td> \n",
      "  <td>0.000 <span>&#177;</span> 0.000 </td> \n",
      "  <td>5.223 <span>&#177;</span> 0.256 </td> \n",
      "  <td> <a href='/benchmark/docking_group/smiles/drd3/graph-ga_smiles/#graph-ga-100-maximum-calls-top-generated-molecules'> Link </a> </td> \n",
      "</tr>\n",
      "<tr> \n",
      "  <td> 3 </td> \n",
      "  <td> MARS </td> \n",
      "  <td><a href=\"mailto:tfu42@gatech.edu\">Tianfan Fu</a></td> \n",
      "  <td><a href=\"https://github.com/futianfan/MARS\"> GitHub</a>, <a href=\"https://openreview.net/pdf?id=kHSu4ebxFXY\">Paper </a></td> \n",
      "  <td> 153,000 </td> \n",
      "  <td>-5.928 <span>&#177;</span> 0.298 </td> \n",
      "  <td>-8.133 <span>&#177;</span> 0.328 </td> \n",
      "  <td>-9.100 <span>&#177;</span> 0.712 </td> \n",
      "  <td>0.873 <span>&#177;</span> 0.010 </td> \n",
      "  <td>1.000 <span>&#177;</span> 0.000 </td> \n",
      "  <td>0.807 <span>&#177;</span> 0.033 </td> \n",
      "  <td>-3.633 <span>&#177;</span> 0.946 </td> \n",
      "  <td>4.470 <span>&#177;</span> 1.047 </td> \n",
      "  <td> <a href='/benchmark/docking_group/smiles/drd3/mars_smiles/#mars-100-maximum-calls-top-generated-molecules'> Link </a> </td> \n",
      "</tr>\n",
      "<tr> \n",
      "  <td> 4 </td> \n",
      "  <td> MolDQN </td> \n",
      "  <td><a href=\"mailto:tfu42@gatech.edu\">Tianfan Fu</a></td> \n",
      "  <td><a href=\"https://github.com/futianfan/mol_dqn_docking\"> GitHub</a>, <a href=\"https://www.nature.com/articles/s41598-019-47148-x\">Paper </a></td> \n",
      "  <td> 2,694,800 </td> \n",
      "  <td>-5.178 <span>&#177;</span> 0.341 </td> \n",
      "  <td>-6.438 <span>&#177;</span> 0.176 </td> \n",
      "  <td>-7.020 <span>&#177;</span> 0.194 </td> \n",
      "  <td>0.907 <span>&#177;</span> 0.001 </td> \n",
      "  <td>1.000 <span>&#177;</span> 0.000 </td> \n",
      "  <td>0.017 <span>&#177;</span> 0.012 </td> \n",
      "  <td>-3.630 <span>&#177;</span> 2.588 </td> \n",
      "  <td>10.000 <span>&#177;</span> 0.000 </td> \n",
      "  <td> <a href='/benchmark/docking_group/smiles/drd3/moldqn_smiles/#moldqn-100-maximum-calls-top-generated-molecules'> Link </a> </td> \n",
      "</tr>\n",
      "<tr> \n",
      "  <td> 5 </td> \n",
      "  <td> GCPN </td> \n",
      "  <td><a href=\"mailto:tfu42@gatech.edu\">Tianfan Fu</a></td> \n",
      "  <td><a href=\"https://github.com/futianfan/GCPN\"> GitHub</a>, <a href=\"https://arxiv.org/abs/1806.02473\">Paper </a></td> \n",
      "  <td> 17,600 </td> \n",
      "  <td>3.860 <span>&#177;</span> 0.102 </td> \n",
      "  <td>-5.617 <span>&#177;</span> 0.413 </td> \n",
      "  <td>-11.633 <span>&#177;</span> 2.217 </td> \n",
      "  <td>0.909 <span>&#177;</span> 0.001 </td> \n",
      "  <td>1.000 <span>&#177;</span> 0.000 </td> \n",
      "  <td>0.093 <span>&#177;</span> 0.009 </td> \n",
      "  <td>7.667 <span>&#177;</span> 0.262 </td> \n",
      "  <td>10.000 <span>&#177;</span> 0.000 </td> \n",
      "  <td> <a href='/benchmark/docking_group/smiles/drd3/gcpn_smiles/#gcpn-100-maximum-calls-top-generated-molecules'> Link </a> </td> \n",
      "</tr>\n"
     ]
    }
   ],
   "source": [
    "get_entries('DRD3', 100)"
   ]
  },
  {
   "cell_type": "code",
   "execution_count": null,
   "metadata": {},
   "outputs": [],
   "source": []
  }
 ],
 "metadata": {
  "kernelspec": {
   "display_name": "Python [conda env:DeepPurpose]",
   "language": "python",
   "name": "conda-env-DeepPurpose-py"
  },
  "language_info": {
   "codemirror_mode": {
    "name": "ipython",
    "version": 3
   },
   "file_extension": ".py",
   "mimetype": "text/x-python",
   "name": "python",
   "nbconvert_exporter": "python",
   "pygments_lexer": "ipython3",
   "version": "3.7.7"
  }
 },
 "nbformat": 4,
 "nbformat_minor": 2
}
