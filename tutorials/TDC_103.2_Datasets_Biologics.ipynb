{
 "cells": [
  {
   "cell_type": "markdown",
   "metadata": {},
   "source": [
    "# TDC 103: Datasets Part 2 - Biologics\n",
    "\n",
    "[Kexin](https://twitter.com/KexinHuang5)\n",
    "\n",
    "In this tutorial, we will continue the dataset exploration and now walk through various biologics datasets provided in TDC!\n",
    "\n",
    "We assume you have familiarize yourself with the installations, data loaders, and data functions. If not, please visit [TDC 101 Data Loaders](https://github.com/mims-harvard/TDC/blob/master/tutorials/TDC_101_Data_Loader.ipynb) and [TDC 102 Data Functions](https://github.com/mims-harvard/TDC/blob/master/tutorials/TDC_102_Data_Functions.ipynb) first!\n",
    "\n",
    "TDC has 10 biologics datasets in the first release. We will go with the order of discovery and development stage. \n",
    "\n",
    "### Target Discovery\n",
    "\n",
    "For target discovery, gene disease associtation prediction that we discussed in the last tutotorial also applies here. In addition to that, we include miRNA-Target Interaction (MTI) prediction dataset. miRNAs (microRNAs) are small non-coding RNAs that control expression of target genes at the post-transcriptional level. It was shown by recent research that they play important roles in disease pathology and celluar processes. miRNA therapeutics refer to insert miRNA into cells whereas sometimes miRNA is also regarded as biomarker for other drug products to target upon. miRNA-target interaction is thus very important because it can identify which miRNA can regulate the target of interest. In TDC, we include the miRTarBase database, which was collected by manually surveying literature and are later validated experimentally. TDC also provides miRNA mature sequence and target amino acid sequence as the features for miRNA and target gene. You can obtain it via:\n"
   ]
  },
  {
   "cell_type": "code",
   "execution_count": 1,
   "metadata": {
    "scrolled": false
   },
   "outputs": [
    {
     "name": "stderr",
     "output_type": "stream",
     "text": [
      "Downloading...\n",
      "100%|██████████| 338M/338M [00:17<00:00, 19.8MiB/s] \n",
      "Loading...\n",
      "Done!\n"
     ]
    },
    {
     "data": {
      "text/html": [
       "<div>\n",
       "<style scoped>\n",
       "    .dataframe tbody tr th:only-of-type {\n",
       "        vertical-align: middle;\n",
       "    }\n",
       "\n",
       "    .dataframe tbody tr th {\n",
       "        vertical-align: top;\n",
       "    }\n",
       "\n",
       "    .dataframe thead th {\n",
       "        text-align: right;\n",
       "    }\n",
       "</style>\n",
       "<table border=\"1\" class=\"dataframe\">\n",
       "  <thead>\n",
       "    <tr style=\"text-align: right;\">\n",
       "      <th></th>\n",
       "      <th>miRNA_ID</th>\n",
       "      <th>miRNA</th>\n",
       "      <th>Target_ID</th>\n",
       "      <th>Target</th>\n",
       "      <th>Y</th>\n",
       "    </tr>\n",
       "  </thead>\n",
       "  <tbody>\n",
       "    <tr>\n",
       "      <th>0</th>\n",
       "      <td>ath-miR398c-3p</td>\n",
       "      <td>UGUGUUCUCAGGUCACCCCUG</td>\n",
       "      <td>817365</td>\n",
       "      <td>MAATNTILAFSSPSRLLIPPSSNPSTLRSSFRGVSLNNNNLHRLQS...</td>\n",
       "      <td>1</td>\n",
       "    </tr>\n",
       "    <tr>\n",
       "      <th>1</th>\n",
       "      <td>ath-miR398b-3p</td>\n",
       "      <td>UGUGUUCUCAGGUCACCCCUG</td>\n",
       "      <td>817365</td>\n",
       "      <td>MAATNTILAFSSPSRLLIPPSSNPSTLRSSFRGVSLNNNNLHRLQS...</td>\n",
       "      <td>1</td>\n",
       "    </tr>\n",
       "  </tbody>\n",
       "</table>\n",
       "</div>"
      ],
      "text/plain": [
       "         miRNA_ID                  miRNA  Target_ID  \\\n",
       "0  ath-miR398c-3p  UGUGUUCUCAGGUCACCCCUG     817365   \n",
       "1  ath-miR398b-3p  UGUGUUCUCAGGUCACCCCUG     817365   \n",
       "\n",
       "                                              Target  Y  \n",
       "0  MAATNTILAFSSPSRLLIPPSSNPSTLRSSFRGVSLNNNNLHRLQS...  1  \n",
       "1  MAATNTILAFSSPSRLLIPPSSNPSTLRSSFRGVSLNNNNLHRLQS...  1  "
      ]
     },
     "execution_count": 1,
     "metadata": {},
     "output_type": "execute_result"
    }
   ],
   "source": [
    "from tdc.multi_pred import MTI\n",
    "data = MTI(name = 'miRTarBase')\n",
    "data.get_data().head(2)"
   ]
  },
  {
   "cell_type": "markdown",
   "metadata": {},
   "source": [
    "### Activity Screening\n",
    "\n",
    "We include four therapeutics tasks for activity of antibodies and peptides. "
   ]
  }
 ],
 "metadata": {
  "kernelspec": {
   "display_name": "Python [conda env:DeepPurpose]",
   "language": "python",
   "name": "conda-env-DeepPurpose-py"
  },
  "language_info": {
   "codemirror_mode": {
    "name": "ipython",
    "version": 3
   },
   "file_extension": ".py",
   "mimetype": "text/x-python",
   "name": "python",
   "nbconvert_exporter": "python",
   "pygments_lexer": "ipython3",
   "version": "3.7.7"
  }
 },
 "nbformat": 4,
 "nbformat_minor": 2
}
