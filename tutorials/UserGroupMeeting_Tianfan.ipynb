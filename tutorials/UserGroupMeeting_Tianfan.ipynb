{
 "cells": [
  {
   "cell_type": "markdown",
   "metadata": {},
   "source": [
    "## DataLoader & DeepPurpose Demo\n",
    "\n",
    "[Tianfan](futianfan.github.io)\n",
    "\n",
    "\n"
   ]
  },
  {
   "attachments": {
    "image.png": {
     "image/png": "[encoded data removed]"
    }
   },
   "cell_type": "markdown",
   "metadata": {},
   "source": [
    "### DataLoader\n",
    "\n",
    "Supposed a dataset X is from therapeutic task Y with machine learning problem Z, then to obtain the data and splits, simply type:\n",
    "\n",
    "\n",
    "\n",
    "```python\n",
    "from tdc.Z import Y\n",
    "data = Y(name = 'X')\n",
    "split = data.split()\n",
    "```\n",
    "\n",
    "Z can be \n",
    "- `single_pred`\n",
    "- `multi_pred`\n",
    "- `generation`\n",
    "\n",
    "The circle can be small molecule, protein. \n",
    "\n",
    "![image.png](attachment:image.png)"
   ]
  },
  {
   "cell_type": "markdown",
   "metadata": {},
   "source": [
    "#### `single_pred`: Prediction of property for an individual biomedical entity."
   ]
  },
  {
   "cell_type": "code",
   "execution_count": 12,
   "metadata": {},
   "outputs": [
    {
     "name": "stderr",
     "output_type": "stream",
     "text": [
      "Found local copy...\n",
      "Loading...\n",
      "Done!\n"
     ]
    }
   ],
   "source": [
    "from tdc.single_pred import ADME\n",
    "data = ADME(name = 'Caco2_Wang', convert_format = 'DGL')"
   ]
  },
  {
   "cell_type": "markdown",
   "metadata": {},
   "source": [
    "#### `multi_pred`: Prediction of property for multiple biomedical entities."
   ]
  },
  {
   "cell_type": "code",
   "execution_count": 13,
   "metadata": {},
   "outputs": [
    {
     "name": "stderr",
     "output_type": "stream",
     "text": [
      "Found local copy...\n",
      "Loading...\n",
      "Done!\n"
     ]
    },
    {
     "data": {
      "text/html": [
       "<div>\n",
       "<style scoped>\n",
       "    .dataframe tbody tr th:only-of-type {\n",
       "        vertical-align: middle;\n",
       "    }\n",
       "\n",
       "    .dataframe tbody tr th {\n",
       "        vertical-align: top;\n",
       "    }\n",
       "\n",
       "    .dataframe thead th {\n",
       "        text-align: right;\n",
       "    }\n",
       "</style>\n",
       "<table border=\"1\" class=\"dataframe\">\n",
       "  <thead>\n",
       "    <tr style=\"text-align: right;\">\n",
       "      <th></th>\n",
       "      <th>Protein1_ID</th>\n",
       "      <th>Protein1</th>\n",
       "      <th>Protein2_ID</th>\n",
       "      <th>Protein2</th>\n",
       "      <th>Y</th>\n",
       "    </tr>\n",
       "  </thead>\n",
       "  <tbody>\n",
       "    <tr>\n",
       "      <th>0</th>\n",
       "      <td>ENSG00000102119</td>\n",
       "      <td>MDNYADLSDTELTTLLRRYNIPHGPVVDLNSTRGDADMYDLPKKED...</td>\n",
       "      <td>ENSG00000176435</td>\n",
       "      <td>MRPAFALCLLWQALWPGPGGGEHPTADRAGCSASGACYSLHHATMK...</td>\n",
       "      <td>1</td>\n",
       "    </tr>\n",
       "    <tr>\n",
       "      <th>1</th>\n",
       "      <td>ENSG00000157110</td>\n",
       "      <td>MNNGGKAEKENTPSEANLQEEEVRTLFVSGLPLDIKPRELYLLFRP...</td>\n",
       "      <td>ENSG00000227151</td>\n",
       "      <td>MEEPRPSKRLRSMAPNQASGGPPPEPGCCVADPEGSVEADGPAQPA...</td>\n",
       "      <td>1</td>\n",
       "    </tr>\n",
       "  </tbody>\n",
       "</table>\n",
       "</div>"
      ],
      "text/plain": [
       "       Protein1_ID                                           Protein1  \\\n",
       "0  ENSG00000102119  MDNYADLSDTELTTLLRRYNIPHGPVVDLNSTRGDADMYDLPKKED...   \n",
       "1  ENSG00000157110  MNNGGKAEKENTPSEANLQEEEVRTLFVSGLPLDIKPRELYLLFRP...   \n",
       "\n",
       "       Protein2_ID                                           Protein2  Y  \n",
       "0  ENSG00000176435  MRPAFALCLLWQALWPGPGGGEHPTADRAGCSASGACYSLHHATMK...  1  \n",
       "1  ENSG00000227151  MEEPRPSKRLRSMAPNQASGGPPPEPGCCVADPEGSVEADGPAQPA...  1  "
      ]
     },
     "execution_count": 13,
     "metadata": {},
     "output_type": "execute_result"
    }
   ],
   "source": [
    "from tdc.multi_pred import PPI\n",
    "data = PPI(name = 'HuRI')\n",
    "split = data.get_split()\n",
    "split['valid'].head(2)"
   ]
  },
  {
   "cell_type": "markdown",
   "metadata": {},
   "source": [
    "#### `generation`: Generation of a new desirable biomedical entity."
   ]
  },
  {
   "cell_type": "code",
   "execution_count": 14,
   "metadata": {},
   "outputs": [
    {
     "name": "stderr",
     "output_type": "stream",
     "text": [
      "Found local copy...\n",
      "Loading...\n",
      "Done!\n"
     ]
    },
    {
     "data": {
      "text/html": [
       "<div>\n",
       "<style scoped>\n",
       "    .dataframe tbody tr th:only-of-type {\n",
       "        vertical-align: middle;\n",
       "    }\n",
       "\n",
       "    .dataframe tbody tr th {\n",
       "        vertical-align: top;\n",
       "    }\n",
       "\n",
       "    .dataframe thead th {\n",
       "        text-align: right;\n",
       "    }\n",
       "</style>\n",
       "<table border=\"1\" class=\"dataframe\">\n",
       "  <thead>\n",
       "    <tr style=\"text-align: right;\">\n",
       "      <th></th>\n",
       "      <th>smiles</th>\n",
       "    </tr>\n",
       "  </thead>\n",
       "  <tbody>\n",
       "    <tr>\n",
       "      <th>0</th>\n",
       "      <td>CCCS(=O)c1ccc2[nH]c(=NC(=O)OC)[nH]c2c1</td>\n",
       "    </tr>\n",
       "    <tr>\n",
       "      <th>1</th>\n",
       "      <td>CC(C)(C)C(=O)C(Oc1ccc(Cl)cc1)n1ccnc1</td>\n",
       "    </tr>\n",
       "  </tbody>\n",
       "</table>\n",
       "</div>"
      ],
      "text/plain": [
       "                                   smiles\n",
       "0  CCCS(=O)c1ccc2[nH]c(=NC(=O)OC)[nH]c2c1\n",
       "1    CC(C)(C)C(=O)C(Oc1ccc(Cl)cc1)n1ccnc1"
      ]
     },
     "execution_count": 14,
     "metadata": {},
     "output_type": "execute_result"
    }
   ],
   "source": [
    "from tdc.generation import MolGen\n",
    "data = MolGen(name = 'MOSES')\n",
    "split = data.get_split()\n",
    "split['train'].head(2)"
   ]
  },
  {
   "cell_type": "code",
   "execution_count": 15,
   "metadata": {},
   "outputs": [
    {
     "name": "stderr",
     "output_type": "stream",
     "text": [
      "Found local copy...\n",
      "Loading...\n",
      "Done!\n"
     ]
    },
    {
     "data": {
      "text/html": [
       "<div>\n",
       "<style scoped>\n",
       "    .dataframe tbody tr th:only-of-type {\n",
       "        vertical-align: middle;\n",
       "    }\n",
       "\n",
       "    .dataframe tbody tr th {\n",
       "        vertical-align: top;\n",
       "    }\n",
       "\n",
       "    .dataframe thead th {\n",
       "        text-align: right;\n",
       "    }\n",
       "</style>\n",
       "<table border=\"1\" class=\"dataframe\">\n",
       "  <thead>\n",
       "    <tr style=\"text-align: right;\">\n",
       "      <th></th>\n",
       "      <th>input</th>\n",
       "      <th>output</th>\n",
       "    </tr>\n",
       "  </thead>\n",
       "  <tbody>\n",
       "    <tr>\n",
       "      <th>0</th>\n",
       "      <td>COC(=O)CCC(=O)c1ccc(OC2CCCCO2)cc1O</td>\n",
       "      <td>C1=COCCC1.COC(=O)CCC(=O)c1ccc(O)cc1O</td>\n",
       "    </tr>\n",
       "    <tr>\n",
       "      <th>1</th>\n",
       "      <td>COC(=O)c1cccc(-c2nc3cccnc3[nH]2)c1</td>\n",
       "      <td>COC(=O)c1cccc(C(=O)O)c1.Nc1cccnc1N</td>\n",
       "    </tr>\n",
       "  </tbody>\n",
       "</table>\n",
       "</div>"
      ],
      "text/plain": [
       "                                input                                output\n",
       "0  COC(=O)CCC(=O)c1ccc(OC2CCCCO2)cc1O  C1=COCCC1.COC(=O)CCC(=O)c1ccc(O)cc1O\n",
       "1  COC(=O)c1cccc(-c2nc3cccnc3[nH]2)c1    COC(=O)c1cccc(C(=O)O)c1.Nc1cccnc1N"
      ]
     },
     "execution_count": 15,
     "metadata": {},
     "output_type": "execute_result"
    }
   ],
   "source": [
    "from tdc.generation import RetroSyn\n",
    "data = RetroSyn(name = 'USPTO-50K')\n",
    "split = data.get_split()\n",
    "split['train'].head(2)"
   ]
  },
  {
   "cell_type": "markdown",
   "metadata": {},
   "source": [
    "\n",
    "\n",
    "### ML-ready example: DeepPurpose Overview\n",
    "DeepPurpose is a scikit learn style Deep Learning Based Molecular Modeling and Prediction Toolkit on Drug-Target Interaction Prediction, Compound Property Prediction, Protein-Protein Interaction Prediction, and Protein Function prediction. Using DeepPurpose, we can rapidly build model prototypes for various drug discovery tasks covered in TDC, such as ADME, Tox, HTS, Developability prediction, DTI, DDI, PPI, Antibody Affinity predictions. \n",
    "\n",
    "Note that DeepPurpose is developed by two of the core teams in TDC, Kexin and Tianfan, and it is now published in Bioinformatics. To start with this tutorial, please follow [DeepPurpose instructions](https://github.com/kexinhuang12345/DeepPurpose#install--usage) to set up the necessary packages. DeepPurpose also provides [tutorials](https://github.com/kexinhuang12345/DeepPurpose/blob/master/Tutorial_1_DTI_Prediction.ipynb) for you to familiarize with it. \n",
    "\n",
    "### DeepPurpose Installation\n",
    "\n",
    "```bash\n",
    "conda create -n DeepPurpose python=3.6\n",
    "conda activate DeepPurpose\n",
    "conda install -c conda-forge rdkit\n",
    "pip install git+https://github.com/bp-kelley/descriptastorus \n",
    "pip install DeepPurpose\n",
    "pip install PyTDC --upgrade\n",
    "```\n",
    "\n",
    "\n",
    "We assume now you have set up the right environment. Now, we show you how to build an ADME predictor using Message Passing Neural Network (MPNN)! \n",
    "\n",
    "### Predicting HIA using MPNN with 10 Lines of Code\n",
    "\n",
    "First, let's load DeepPurpose and TDC:"
   ]
  },
  {
   "cell_type": "code",
   "execution_count": 26,
   "metadata": {},
   "outputs": [],
   "source": [
    "from DeepPurpose import utils, CompoundPred\n",
    "from tdc.single_pred import ADME"
   ]
  },
  {
   "cell_type": "markdown",
   "metadata": {},
   "source": [
    "Now, you can get the HIA dataset from TDC. HIA is from ADME task from Single-instance prediction and we want to predict whether or not can a compound be absorped in human intestinal, i.e. given SMILES X, predict 1/0. Note that for drug property prediction, DeepPurpose takes in an array of drug SMILES string and an array of labels. You could access that directly by setting the `get_data(format = 'dict')`:"
   ]
  },
  {
   "cell_type": "code",
   "execution_count": 27,
   "metadata": {},
   "outputs": [
    {
     "name": "stderr",
     "output_type": "stream",
     "text": [
      "Found local copy...\n",
      "Loading...\n",
      "Done!\n"
     ]
    }
   ],
   "source": [
    "data = ADME(name = 'HIA_Hou', convert_format='DGL').get_data(format = 'dict')\n",
    "X, y = data['Drug'], data['Y']"
   ]
  },
  {
   "cell_type": "markdown",
   "metadata": {},
   "source": [
    "or for simplicity. We also provide a DeepPurpose format, where you can directly get the correct input data:"
   ]
  },
  {
   "cell_type": "code",
   "execution_count": 28,
   "metadata": {},
   "outputs": [
    {
     "name": "stderr",
     "output_type": "stream",
     "text": [
      "Found local copy...\n",
      "Loading...\n",
      "Done!\n"
     ]
    }
   ],
   "source": [
    "X, y = ADME(name = 'HIA_Hou', convert_format = 'DGL').get_data(format = 'DeepPurpose')"
   ]
  },
  {
   "cell_type": "markdown",
   "metadata": {},
   "source": [
    "DeepPurpose provides 8 encoders for compound, ranging from MLP on classic cheminformatics fingerprint such as Morgan, RDKit2D to deep learning models such as CNN, transformer, and MPNN. To specify the encoder, simply types the encoder name. Here, we use MPNN as an example:"
   ]
  },
  {
   "cell_type": "markdown",
   "metadata": {},
   "source": [
    "Now, we encode the data into the specified format, using `utils.data_process` function. It specifies train/validation/test split fractions, and random seed to ensure same data splits for reproducibility. **We have made DeepPurpose to accomodate the TDC benchmark split.** Simply type 'TDC' in the random seed will generate the same split as in TDC split function. The function outputs train, val, test pandas dataframes."
   ]
  },
  {
   "cell_type": "code",
   "execution_count": 29,
   "metadata": {},
   "outputs": [
    {
     "name": "stdout",
     "output_type": "stream",
     "text": [
      "Drug Property Prediction Mode...\n",
      "in total: 578 drugs\n",
      "encoding drug...\n",
      "unique drugs: 578\n",
      "Done.\n"
     ]
    }
   ],
   "source": [
    "drug_encoding = 'MPNN'\n",
    "train, val, test = utils.data_process(X_drug = X, \n",
    "                                      y = y, \n",
    "                                      drug_encoding = drug_encoding,\n",
    "                                      random_seed = 'TDC')"
   ]
  },
  {
   "cell_type": "code",
   "execution_count": 21,
   "metadata": {},
   "outputs": [
    {
     "data": {
      "text/html": [
       "<div>\n",
       "<style scoped>\n",
       "    .dataframe tbody tr th:only-of-type {\n",
       "        vertical-align: middle;\n",
       "    }\n",
       "\n",
       "    .dataframe tbody tr th {\n",
       "        vertical-align: top;\n",
       "    }\n",
       "\n",
       "    .dataframe thead th {\n",
       "        text-align: right;\n",
       "    }\n",
       "</style>\n",
       "<table border=\"1\" class=\"dataframe\">\n",
       "  <thead>\n",
       "    <tr style=\"text-align: right;\">\n",
       "      <th></th>\n",
       "      <th>SMILES</th>\n",
       "      <th>Label</th>\n",
       "      <th>drug_encoding</th>\n",
       "    </tr>\n",
       "  </thead>\n",
       "  <tbody>\n",
       "    <tr>\n",
       "      <th>0</th>\n",
       "      <td>CC(=O)Nc1ccccc1</td>\n",
       "      <td>1</td>\n",
       "      <td>[[[tensor(1.), tensor(0.), tensor(0.), tensor(...</td>\n",
       "    </tr>\n",
       "    <tr>\n",
       "      <th>1</th>\n",
       "      <td>CC(=O)Nc1nnc(S(N)(=O)=O)s1</td>\n",
       "      <td>1</td>\n",
       "      <td>[[[tensor(1.), tensor(0.), tensor(0.), tensor(...</td>\n",
       "    </tr>\n",
       "  </tbody>\n",
       "</table>\n",
       "</div>"
      ],
      "text/plain": [
       "                       SMILES  Label  \\\n",
       "0             CC(=O)Nc1ccccc1      1   \n",
       "1  CC(=O)Nc1nnc(S(N)(=O)=O)s1      1   \n",
       "\n",
       "                                       drug_encoding  \n",
       "0  [[[tensor(1.), tensor(0.), tensor(0.), tensor(...  \n",
       "1  [[[tensor(1.), tensor(0.), tensor(0.), tensor(...  "
      ]
     },
     "execution_count": 21,
     "metadata": {},
     "output_type": "execute_result"
    }
   ],
   "source": [
    "train.head(2)"
   ]
  },
  {
   "cell_type": "markdown",
   "metadata": {},
   "source": [
    "Build and train model within 4 lines of code, in less than 1 minute. "
   ]
  },
  {
   "cell_type": "code",
   "execution_count": 30,
   "metadata": {},
   "outputs": [],
   "source": [
    "config = utils.generate_config(drug_encoding = drug_encoding, \n",
    "                               train_epoch = 3, \n",
    "                               LR = 0.001, \n",
    "                               batch_size = 128,\n",
    "                               mpnn_hidden_size = 32,\n",
    "                               mpnn_depth = 2)\n",
    "model = CompoundPred.model_initialize(**config)\n",
    "model.train(train, val, test)\n",
    "model.save_model('./tutorial_model')"
   ]
  },
  {
   "cell_type": "markdown",
   "metadata": {},
   "source": [
    "Now, you need to initialize the model. You can also load from pretrained model by `CompoundPred.model_pretrained(path_dir = PATH)`. Here, we initialize a new model:"
   ]
  },
  {
   "cell_type": "code",
   "execution_count": 18,
   "metadata": {},
   "outputs": [
    {
     "name": "stderr",
     "output_type": "stream",
     "text": [
      "Found local copy...\n",
      "Loading...\n",
      "Done!\n"
     ]
    },
    {
     "name": "stdout",
     "output_type": "stream",
     "text": [
      "Drug Property Prediction Mode...\n",
      "in total: 4200 drugs\n",
      "encoding drug...\n",
      "unique drugs: 4200\n",
      "Done.\n",
      "Let's use CPU/s!\n",
      "--- Data Preparation ---\n",
      "--- Go for Training ---\n",
      "Training at Epoch 1 iteration 0 with loss 5.90903. Total time 0.0 hours\n",
      "Validation at Epoch 1 , MSE: 1.41579 , Pearson Correlation: 0.37311 with p-value: 2.54608 , Concordance Index: 0.64290\n",
      "Training at Epoch 2 iteration 0 with loss 1.52792. Total time 0.00055 hours\n",
      "Validation at Epoch 2 , MSE: 1.22507 , Pearson Correlation: 0.50885 with p-value: 4.79928 , Concordance Index: 0.68076\n",
      "Training at Epoch 3 iteration 0 with loss 1.15630. Total time 0.00138 hours\n",
      "Validation at Epoch 3 , MSE: 0.84279 , Pearson Correlation: 0.65883 with p-value: 1.25813 , Concordance Index: 0.73375\n",
      "Training at Epoch 4 iteration 0 with loss 0.51819. Total time 0.00222 hours\n",
      "Validation at Epoch 4 , MSE: 0.75855 , Pearson Correlation: 0.70421 with p-value: 3.68311 , Concordance Index: 0.75331\n",
      "Training at Epoch 5 iteration 0 with loss 0.33011. Total time 0.00305 hours\n",
      "Validation at Epoch 5 , MSE: 0.69485 , Pearson Correlation: 0.72552 with p-value: 7.82142 , Concordance Index: 0.76026\n",
      "--- Go for Testing ---\n",
      "Testing MSE: 0.7593171636956104 , Pearson Correlation: 0.7131383536969743 with p-value: 2.043242715936754e-131 , Concordance Index: 0.7595001609351901\n",
      "--- Training Finished ---\n"
     ]
    },
    {
     "name": "stderr",
     "output_type": "stream",
     "text": [
      "Found local copy...\n",
      "Loading...\n",
      "Done!\n",
      "RDKit WARNING: [11:52:39] WARNING: not removing hydrogen atom without neighbors\n"
     ]
    },
    {
     "name": "stdout",
     "output_type": "stream",
     "text": [
      "Drug Property Prediction Mode...\n",
      "in total: 9982 drugs\n",
      "encoding drug...\n",
      "unique drugs: 9982\n"
     ]
    },
    {
     "name": "stderr",
     "output_type": "stream",
     "text": [
      "RDKit WARNING: [11:52:39] WARNING: not removing hydrogen atom without neighbors\n",
      "RDKit WARNING: [11:52:39] WARNING: not removing hydrogen atom without neighbors\n",
      "RDKit WARNING: [11:52:39] WARNING: not removing hydrogen atom without neighbors\n",
      "RDKit WARNING: [11:52:39] WARNING: not removing hydrogen atom without neighbors\n",
      "RDKit WARNING: [11:52:40] WARNING: not removing hydrogen atom without neighbors\n",
      "RDKit WARNING: [11:52:40] WARNING: not removing hydrogen atom without neighbors\n",
      "RDKit WARNING: [11:52:40] WARNING: not removing hydrogen atom without neighbors\n",
      "RDKit WARNING: [11:52:40] WARNING: not removing hydrogen atom without neighbors\n",
      "RDKit WARNING: [11:52:40] WARNING: not removing hydrogen atom without neighbors\n",
      "RDKit WARNING: [11:52:40] WARNING: not removing hydrogen atom without neighbors\n",
      "RDKit WARNING: [11:52:40] WARNING: not removing hydrogen atom without neighbors\n",
      "RDKit WARNING: [11:52:40] WARNING: not removing hydrogen atom without neighbors\n",
      "RDKit WARNING: [11:52:40] WARNING: not removing hydrogen atom without neighbors\n",
      "RDKit WARNING: [11:52:40] WARNING: not removing hydrogen atom without neighbors\n",
      "RDKit WARNING: [11:52:40] WARNING: not removing hydrogen atom without neighbors\n",
      "RDKit WARNING: [11:52:40] WARNING: not removing hydrogen atom without neighbors\n",
      "RDKit WARNING: [11:52:40] WARNING: not removing hydrogen atom without neighbors\n",
      "RDKit WARNING: [11:52:40] WARNING: not removing hydrogen atom without neighbors\n",
      "RDKit WARNING: [11:52:40] WARNING: not removing hydrogen atom without neighbors\n",
      "RDKit WARNING: [11:52:40] WARNING: not removing hydrogen atom without neighbors\n",
      "RDKit WARNING: [11:52:40] WARNING: not removing hydrogen atom without neighbors\n",
      "RDKit WARNING: [11:52:40] WARNING: not removing hydrogen atom without neighbors\n",
      "RDKit WARNING: [11:52:40] WARNING: not removing hydrogen atom without neighbors\n",
      "RDKit WARNING: [11:52:40] WARNING: not removing hydrogen atom without neighbors\n",
      "RDKit WARNING: [11:52:40] WARNING: not removing hydrogen atom without neighbors\n",
      "RDKit WARNING: [11:52:40] WARNING: not removing hydrogen atom without neighbors\n",
      "RDKit WARNING: [11:52:40] WARNING: not removing hydrogen atom without neighbors\n",
      "RDKit WARNING: [11:52:40] WARNING: not removing hydrogen atom without neighbors\n",
      "RDKit WARNING: [11:52:40] WARNING: not removing hydrogen atom without neighbors\n",
      "RDKit WARNING: [11:52:40] WARNING: not removing hydrogen atom without neighbors\n",
      "RDKit WARNING: [11:52:40] WARNING: not removing hydrogen atom without neighbors\n",
      "RDKit WARNING: [11:52:40] WARNING: not removing hydrogen atom without neighbors\n",
      "RDKit WARNING: [11:52:40] WARNING: not removing hydrogen atom without neighbors\n",
      "RDKit WARNING: [11:52:40] WARNING: not removing hydrogen atom without neighbors\n",
      "RDKit WARNING: [11:52:40] WARNING: not removing hydrogen atom without neighbors\n",
      "RDKit WARNING: [11:52:40] WARNING: not removing hydrogen atom without neighbors\n",
      "RDKit WARNING: [11:52:40] WARNING: not removing hydrogen atom without neighbors\n",
      "RDKit WARNING: [11:52:40] WARNING: not removing hydrogen atom without neighbors\n",
      "RDKit WARNING: [11:52:40] WARNING: not removing hydrogen atom without neighbors\n",
      "RDKit WARNING: [11:52:40] WARNING: not removing hydrogen atom without neighbors\n",
      "RDKit WARNING: [11:52:40] WARNING: not removing hydrogen atom without neighbors\n",
      "RDKit WARNING: [11:52:40] WARNING: not removing hydrogen atom without neighbors\n",
      "RDKit WARNING: [11:52:41] WARNING: not removing hydrogen atom without neighbors\n",
      "RDKit WARNING: [11:52:41] WARNING: not removing hydrogen atom without neighbors\n",
      "RDKit WARNING: [11:52:41] WARNING: not removing hydrogen atom without neighbors\n",
      "RDKit WARNING: [11:52:41] WARNING: not removing hydrogen atom without neighbors\n",
      "RDKit WARNING: [11:52:41] WARNING: not removing hydrogen atom without neighbors\n",
      "RDKit WARNING: [11:52:41] WARNING: not removing hydrogen atom without neighbors\n",
      "RDKit WARNING: [11:52:41] WARNING: not removing hydrogen atom without neighbors\n",
      "RDKit WARNING: [11:52:41] WARNING: not removing hydrogen atom without neighbors\n",
      "RDKit WARNING: [11:52:41] WARNING: not removing hydrogen atom without neighbors\n",
      "RDKit WARNING: [11:52:41] WARNING: not removing hydrogen atom without neighbors\n",
      "RDKit WARNING: [11:52:41] WARNING: not removing hydrogen atom without neighbors\n",
      "RDKit WARNING: [11:52:41] WARNING: not removing hydrogen atom without neighbors\n",
      "RDKit WARNING: [11:52:41] WARNING: not removing hydrogen atom without neighbors\n",
      "RDKit WARNING: [11:52:41] WARNING: not removing hydrogen atom without neighbors\n",
      "RDKit WARNING: [11:52:41] WARNING: not removing hydrogen atom without neighbors\n",
      "RDKit WARNING: [11:52:41] WARNING: not removing hydrogen atom without neighbors\n",
      "RDKit WARNING: [11:52:41] WARNING: not removing hydrogen atom without neighbors\n",
      "RDKit WARNING: [11:52:41] WARNING: not removing hydrogen atom without neighbors\n",
      "RDKit WARNING: [11:52:42] WARNING: not removing hydrogen atom without neighbors\n",
      "RDKit WARNING: [11:52:42] WARNING: not removing hydrogen atom without neighbors\n",
      "RDKit WARNING: [11:52:42] WARNING: not removing hydrogen atom without neighbors\n",
      "RDKit WARNING: [11:52:42] WARNING: not removing hydrogen atom without neighbors\n"
     ]
    },
    {
     "name": "stdout",
     "output_type": "stream",
     "text": [
      "Done.\n",
      "Let's use CPU/s!\n",
      "--- Data Preparation ---\n",
      "--- Go for Training ---\n",
      "Training at Epoch 1 iteration 0 with loss 15.5877. Total time 0.0 hours\n",
      "Validation at Epoch 1 , MSE: 2.88394 , Pearson Correlation: 0.74493 with p-value: 2.79317 , Concordance Index: 0.77344\n",
      "Training at Epoch 2 iteration 0 with loss 2.05276. Total time 0.00166 hours\n",
      "Validation at Epoch 2 , MSE: 1.86287 , Pearson Correlation: 0.81162 with p-value: 9.42479 , Concordance Index: 0.80429\n",
      "Training at Epoch 3 iteration 0 with loss 1.26623. Total time 0.00361 hours\n",
      "Validation at Epoch 3 , MSE: 1.63036 , Pearson Correlation: 0.83546 with p-value: 3.35991 , Concordance Index: 0.81997\n",
      "Training at Epoch 4 iteration 0 with loss 0.43174. Total time 0.00555 hours\n",
      "Validation at Epoch 4 , MSE: 1.63094 , Pearson Correlation: 0.84401 with p-value: 9.69951 , Concordance Index: 0.82573\n",
      "Training at Epoch 5 iteration 0 with loss 0.72359. Total time 0.00722 hours\n",
      "Validation at Epoch 5 , MSE: 1.50493 , Pearson Correlation: 0.85094 with p-value: 9.22381 , Concordance Index: 0.82935\n",
      "--- Go for Testing ---\n",
      "Testing MSE: 1.7789291148616666 , Pearson Correlation: 0.8288306520287492 with p-value: 0.0 , Concordance Index: 0.8242986654450325\n",
      "--- Training Finished ---\n"
     ]
    },
    {
     "name": "stderr",
     "output_type": "stream",
     "text": [
      "Found local copy...\n",
      "Loading...\n",
      "Done!\n"
     ]
    },
    {
     "name": "stdout",
     "output_type": "stream",
     "text": [
      "Drug Property Prediction Mode...\n",
      "in total: 642 drugs\n",
      "encoding drug...\n",
      "unique drugs: 642\n",
      "Done.\n",
      "Let's use CPU/s!\n",
      "--- Data Preparation ---\n",
      "--- Go for Training ---\n",
      "Training at Epoch 1 iteration 0 with loss 23.5426. Total time 0.0 hours\n",
      "Validation at Epoch 1 , MSE: 26.8948 , Pearson Correlation: 0.36681 with p-value: 0.00287 , Concordance Index: 0.61712\n",
      "Training at Epoch 2 iteration 0 with loss 16.4240. Total time 0.0 hours\n",
      "Validation at Epoch 2 , MSE: 11.6538 , Pearson Correlation: 0.54223 with p-value: 3.69227 , Concordance Index: 0.68362\n",
      "Training at Epoch 3 iteration 0 with loss 11.9912. Total time 0.00027 hours\n",
      "Validation at Epoch 3 , MSE: 13.4426 , Pearson Correlation: 0.67749 with p-value: 7.84624 , Concordance Index: 0.74615\n",
      "Training at Epoch 4 iteration 0 with loss 8.60779. Total time 0.00027 hours\n",
      "Validation at Epoch 4 , MSE: 7.15313 , Pearson Correlation: 0.71875 with p-value: 2.26142 , Concordance Index: 0.76997\n",
      "Training at Epoch 5 iteration 0 with loss 5.00369. Total time 0.00055 hours\n",
      "Validation at Epoch 5 , MSE: 7.52913 , Pearson Correlation: 0.76604 with p-value: 1.64171 , Concordance Index: 0.79925\n",
      "--- Go for Testing ---\n",
      "Testing MSE: 11.317673287547535 , Pearson Correlation: 0.6324948329293663 with p-value: 1.1645233127312205e-15 , Concordance Index: 0.7654807337190693\n",
      "--- Training Finished ---\n"
     ]
    },
    {
     "name": "stderr",
     "output_type": "stream",
     "text": [
      "Found local copy...\n",
      "Loading...\n",
      "Done!\n"
     ]
    },
    {
     "name": "stdout",
     "output_type": "stream",
     "text": [
      "Drug Property Prediction Mode...\n",
      "in total: 910 drugs\n",
      "encoding drug...\n",
      "unique drugs: 906\n",
      "Done.\n",
      "Let's use CPU/s!\n",
      "--- Data Preparation ---\n",
      "--- Go for Training ---\n",
      "Training at Epoch 1 iteration 0 with loss 27.6825. Total time 0.0 hours\n",
      "Validation at Epoch 1 , MSE: 1.19345 , Pearson Correlation: 0.28202 with p-value: 0.00676 , Concordance Index: 0.58139\n",
      "Training at Epoch 2 iteration 0 with loss 1.15736. Total time 0.0 hours\n",
      "Validation at Epoch 2 , MSE: 6.71028 , Pearson Correlation: 0.41273 with p-value: 4.79113 , Concordance Index: 0.62208\n",
      "Training at Epoch 3 iteration 0 with loss 6.21552. Total time 0.00027 hours\n",
      "Validation at Epoch 3 , MSE: 0.47933 , Pearson Correlation: 0.49117 with p-value: 7.67586 , Concordance Index: 0.67087\n",
      "Training at Epoch 4 iteration 0 with loss 0.38179. Total time 0.00027 hours\n",
      "Validation at Epoch 4 , MSE: 0.44025 , Pearson Correlation: 0.53784 with p-value: 3.84546 , Concordance Index: 0.68582\n",
      "Training at Epoch 5 iteration 0 with loss 0.36843. Total time 0.00055 hours\n",
      "Validation at Epoch 5 , MSE: 1.26663 , Pearson Correlation: 0.56622 with p-value: 4.92866 , Concordance Index: 0.69661\n",
      "--- Go for Testing ---\n",
      "Testing MSE: 0.4790713827533789 , Pearson Correlation: 0.6176990970246373 with p-value: 1.5718585071790566e-20 , Concordance Index: 0.7252219384652803\n",
      "--- Training Finished ---\n"
     ]
    },
    {
     "name": "stderr",
     "output_type": "stream",
     "text": [
      "Found local copy...\n",
      "Loading...\n",
      "Done!\n"
     ]
    },
    {
     "name": "stdout",
     "output_type": "stream",
     "text": [
      "Drug Property Prediction Mode...\n",
      "in total: 578 drugs\n",
      "encoding drug...\n",
      "unique drugs: 578\n",
      "Done.\n",
      "Let's use CPU/s!\n",
      "--- Data Preparation ---\n",
      "--- Go for Training ---\n",
      "Training at Epoch 1 iteration 0 with loss 0.69091. Total time 0.0 hours\n",
      "Validation at Epoch 1 , AUROC: 0.59103 , AUPRC: 0.90914 , F1: 0.93577\n",
      "Training at Epoch 2 iteration 0 with loss 0.38046. Total time 0.0 hours\n",
      "Validation at Epoch 2 , AUROC: 0.77310 , AUPRC: 0.96125 , F1: 0.93577\n",
      "Training at Epoch 3 iteration 0 with loss 0.47578. Total time 0.00027 hours\n",
      "Validation at Epoch 3 , AUROC: 0.81512 , AUPRC: 0.96938 , F1: 0.93577\n",
      "Training at Epoch 4 iteration 0 with loss 0.36816. Total time 0.00027 hours\n",
      "Validation at Epoch 4 , AUROC: 0.81512 , AUPRC: 0.96989 , F1: 0.93577\n",
      "Training at Epoch 5 iteration 0 with loss 0.26490. Total time 0.00027 hours\n",
      "Validation at Epoch 5 , AUROC: 0.80392 , AUPRC: 0.96649 , F1: 0.93577\n",
      "--- Go for Testing ---\n",
      "Testing AUROC: 0.8554455445544554 , AUPRC: 0.9718182388272016 , F1: 0.9308755760368664\n",
      "--- Training Finished ---\n"
     ]
    },
    {
     "name": "stderr",
     "output_type": "stream",
     "text": [
      "Found local copy...\n",
      "Loading...\n",
      "Done!\n"
     ]
    },
    {
     "name": "stdout",
     "output_type": "stream",
     "text": [
      "Drug Property Prediction Mode...\n",
      "in total: 1218 drugs\n",
      "encoding drug...\n",
      "unique drugs: 1212\n",
      "Done.\n",
      "Let's use CPU/s!\n",
      "--- Data Preparation ---\n",
      "--- Go for Training ---\n",
      "Training at Epoch 1 iteration 0 with loss 0.69268. Total time 0.0 hours\n",
      "Validation at Epoch 1 , AUROC: 0.86722 , AUPRC: 0.92053 , F1: 0.74226\n",
      "Training at Epoch 2 iteration 0 with loss 0.55338. Total time 0.00027 hours\n",
      "Validation at Epoch 2 , AUROC: 0.74055 , AUPRC: 0.86822 , F1: 0.76923\n",
      "Training at Epoch 3 iteration 0 with loss 0.41887. Total time 0.00027 hours\n",
      "Validation at Epoch 3 , AUROC: 0.92555 , AUPRC: 0.95890 , F1: 0.84444\n",
      "Training at Epoch 4 iteration 0 with loss 0.15789. Total time 0.00055 hours\n",
      "Validation at Epoch 4 , AUROC: 0.93944 , AUPRC: 0.96686 , F1: 0.87769\n",
      "Training at Epoch 5 iteration 0 with loss 0.14575. Total time 0.00083 hours\n",
      "Validation at Epoch 5 , AUROC: 0.93416 , AUPRC: 0.96338 , F1: 0.87417\n",
      "--- Go for Testing ---\n",
      "Testing AUROC: 0.9208333333333334 , AUPRC: 0.9396058214113587 , F1: 0.8653061224489798\n",
      "--- Training Finished ---\n"
     ]
    },
    {
     "name": "stderr",
     "output_type": "stream",
     "text": [
      "Found local copy...\n",
      "Loading...\n",
      "Done!\n"
     ]
    },
    {
     "name": "stdout",
     "output_type": "stream",
     "text": [
      "Drug Property Prediction Mode...\n",
      "in total: 640 drugs\n",
      "encoding drug...\n",
      "unique drugs: 640\n",
      "Done.\n",
      "Let's use CPU/s!\n",
      "--- Data Preparation ---\n",
      "--- Go for Training ---\n",
      "Training at Epoch 1 iteration 0 with loss 0.68636. Total time 0.0 hours\n",
      "Validation at Epoch 1 , AUROC: 0.55374 , AUPRC: 0.82469 , F1: 0.86725\n",
      "Training at Epoch 2 iteration 0 with loss 0.54784. Total time 0.0 hours\n",
      "Validation at Epoch 2 , AUROC: 0.73061 , AUPRC: 0.88931 , F1: 0.86725\n",
      "Training at Epoch 3 iteration 0 with loss 0.52629. Total time 0.00027 hours\n",
      "Validation at Epoch 3 , AUROC: 0.73877 , AUPRC: 0.90023 , F1: 0.86725\n",
      "Training at Epoch 4 iteration 0 with loss 0.57089. Total time 0.00027 hours\n",
      "Validation at Epoch 4 , AUROC: 0.74829 , AUPRC: 0.90443 , F1: 0.86725\n",
      "Training at Epoch 5 iteration 0 with loss 0.53500. Total time 0.00055 hours\n",
      "Validation at Epoch 5 , AUROC: 0.75510 , AUPRC: 0.90969 , F1: 0.86725\n",
      "--- Go for Testing ---\n",
      "Testing AUROC: 0.6981132075471699 , AUPRC: 0.9118915686711747 , F1: 0.905982905982906\n",
      "--- Training Finished ---\n"
     ]
    },
    {
     "name": "stderr",
     "output_type": "stream",
     "text": [
      "Found local copy...\n",
      "Loading...\n",
      "Done!\n"
     ]
    },
    {
     "name": "stdout",
     "output_type": "stream",
     "text": [
      "Drug Property Prediction Mode...\n",
      "in total: 1130 drugs\n",
      "encoding drug...\n",
      "unique drugs: 1111\n",
      "Done.\n",
      "Let's use CPU/s!\n",
      "--- Data Preparation ---\n",
      "--- Go for Training ---\n",
      "Training at Epoch 1 iteration 0 with loss 3947.78. Total time 0.0 hours\n",
      "Validation at Epoch 1 , MSE: 25.2327 , Pearson Correlation: 0.31796 with p-value: 0.00059 , Concordance Index: 0.57532\n",
      "Training at Epoch 2 iteration 0 with loss 43.1675. Total time 0.00027 hours\n",
      "Validation at Epoch 2 , MSE: 20.2340 , Pearson Correlation: 0.50347 with p-value: 1.31610 , Concordance Index: 0.70179\n",
      "Training at Epoch 3 iteration 0 with loss 174.218. Total time 0.00027 hours\n",
      "Validation at Epoch 3 , MSE: 27.1888 , Pearson Correlation: 0.52019 with p-value: 3.52286 , Concordance Index: 0.72438\n",
      "Training at Epoch 4 iteration 0 with loss 49.7871. Total time 0.00055 hours\n",
      "Validation at Epoch 4 , MSE: 27.9079 , Pearson Correlation: 0.45143 with p-value: 5.20720 , Concordance Index: 0.72391\n",
      "Training at Epoch 5 iteration 0 with loss 29.4060. Total time 0.00083 hours\n",
      "Validation at Epoch 5 , MSE: 21.9334 , Pearson Correlation: 0.07671 with p-value: 0.41930 , Concordance Index: 0.63227\n",
      "--- Go for Testing ---\n",
      "Testing MSE: 73.45534536456775 , Pearson Correlation: 0.5286495843822958 with p-value: 1.1359191801195306e-17 , Concordance Index: 0.6308115380049856\n",
      "--- Training Finished ---\n"
     ]
    },
    {
     "name": "stderr",
     "output_type": "stream",
     "text": [
      "Found local copy...\n",
      "Loading...\n",
      "Done!\n"
     ]
    },
    {
     "name": "stdout",
     "output_type": "stream",
     "text": [
      "Drug Property Prediction Mode...\n",
      "in total: 12665 drugs\n",
      "encoding drug...\n",
      "unique drugs: 12665\n",
      "Done.\n",
      "Let's use CPU/s!\n",
      "--- Data Preparation ---\n",
      "--- Go for Training ---\n",
      "Training at Epoch 1 iteration 0 with loss 0.69315. Total time 0.0 hours\n",
      "Validation at Epoch 1 , AUROC: 0.85831 , AUPRC: 0.82900 , F1: 0.76959\n",
      "Training at Epoch 2 iteration 0 with loss 0.41192. Total time 0.00222 hours\n",
      "Validation at Epoch 2 , AUROC: 0.86138 , AUPRC: 0.83598 , F1: 0.78013\n",
      "Training at Epoch 3 iteration 0 with loss 0.29112. Total time 0.00472 hours\n",
      "Validation at Epoch 3 , AUROC: 0.86080 , AUPRC: 0.83186 , F1: 0.78588\n",
      "Training at Epoch 4 iteration 0 with loss 0.12776. Total time 0.00722 hours\n",
      "Validation at Epoch 4 , AUROC: 0.84874 , AUPRC: 0.81534 , F1: 0.76710\n",
      "Training at Epoch 5 iteration 0 with loss 0.08446. Total time 0.00972 hours\n",
      "Validation at Epoch 5 , AUROC: 0.83640 , AUPRC: 0.81061 , F1: 0.75675\n",
      "--- Go for Testing ---\n",
      "Testing AUROC: 0.8708743768631085 , AUPRC: 0.826356941297399 , F1: 0.7703513281919451\n",
      "--- Training Finished ---\n"
     ]
    },
    {
     "name": "stderr",
     "output_type": "stream",
     "text": [
      "Found local copy...\n",
      "Loading...\n",
      "Done!\n"
     ]
    },
    {
     "name": "stdout",
     "output_type": "stream",
     "text": [
      "Drug Property Prediction Mode...\n",
      "in total: 13130 drugs\n",
      "encoding drug...\n",
      "unique drugs: 13130\n",
      "Done.\n",
      "Let's use CPU/s!\n",
      "--- Data Preparation ---\n",
      "--- Go for Training ---\n",
      "Training at Epoch 1 iteration 0 with loss 0.68747. Total time 0.0 hours\n",
      "Validation at Epoch 1 , AUROC: 0.79295 , AUPRC: 0.55778 , F1: 0.45251\n",
      "Training at Epoch 2 iteration 0 with loss 0.31054. Total time 0.00222 hours\n",
      "Validation at Epoch 2 , AUROC: 0.81633 , AUPRC: 0.57601 , F1: 0.53393\n",
      "Training at Epoch 3 iteration 0 with loss 0.18249. Total time 0.00472 hours\n",
      "Validation at Epoch 3 , AUROC: 0.80012 , AUPRC: 0.55655 , F1: 0.50666\n",
      "Training at Epoch 4 iteration 0 with loss 0.12316. Total time 0.00722 hours\n",
      "Validation at Epoch 4 , AUROC: 0.81148 , AUPRC: 0.55862 , F1: 0.50112\n",
      "Training at Epoch 5 iteration 0 with loss 0.07584. Total time 0.00944 hours\n",
      "Validation at Epoch 5 , AUROC: 0.80723 , AUPRC: 0.57244 , F1: 0.49400\n",
      "--- Go for Testing ---\n",
      "Testing AUROC: 0.8453736467335302 , AUPRC: 0.6764851123742811 , F1: 0.6003898635477583\n",
      "--- Training Finished ---\n"
     ]
    },
    {
     "name": "stderr",
     "output_type": "stream",
     "text": [
      "Found local copy...\n",
      "Loading...\n",
      "Done!\n"
     ]
    },
    {
     "name": "stdout",
     "output_type": "stream",
     "text": [
      "Drug Property Prediction Mode...\n",
      "in total: 12328 drugs\n",
      "encoding drug...\n",
      "unique drugs: 12328\n",
      "Done.\n",
      "Let's use CPU/s!\n",
      "--- Data Preparation ---\n",
      "--- Go for Training ---\n",
      "Training at Epoch 1 iteration 0 with loss 0.69248. Total time 0.0 hours\n",
      "Validation at Epoch 1 , AUROC: 0.85884 , AUPRC: 0.82051 , F1: 0.73581\n",
      "Training at Epoch 2 iteration 0 with loss 0.41407. Total time 0.00222 hours\n",
      "Validation at Epoch 2 , AUROC: 0.88375 , AUPRC: 0.85861 , F1: 0.77074\n",
      "Training at Epoch 3 iteration 0 with loss 0.20424. Total time 0.00444 hours\n",
      "Validation at Epoch 3 , AUROC: 0.86710 , AUPRC: 0.84144 , F1: 0.74215\n",
      "Training at Epoch 4 iteration 0 with loss 0.11601. Total time 0.00638 hours\n",
      "Validation at Epoch 4 , AUROC: 0.87853 , AUPRC: 0.85237 , F1: 0.76102\n",
      "Training at Epoch 5 iteration 0 with loss 0.04398. Total time 0.00861 hours\n",
      "Validation at Epoch 5 , AUROC: 0.87259 , AUPRC: 0.84827 , F1: 0.74224\n",
      "--- Go for Testing ---\n",
      "Testing AUROC: 0.8796599479320433 , AUPRC: 0.8481695438752704 , F1: 0.7776286353467561\n",
      "--- Training Finished ---\n"
     ]
    },
    {
     "name": "stderr",
     "output_type": "stream",
     "text": [
      "Found local copy...\n",
      "Loading...\n",
      "Done!\n"
     ]
    },
    {
     "name": "stdout",
     "output_type": "stream",
     "text": [
      "Drug Property Prediction Mode...\n",
      "in total: 12579 drugs\n",
      "encoding drug...\n",
      "unique drugs: 12579\n",
      "Done.\n",
      "Let's use CPU/s!\n",
      "--- Data Preparation ---\n",
      "--- Go for Training ---\n",
      "Training at Epoch 1 iteration 0 with loss 0.69368. Total time 0.0 hours\n",
      "Validation at Epoch 1 , AUROC: 0.90001 , AUPRC: 0.88533 , F1: 0.80854\n",
      "Training at Epoch 2 iteration 0 with loss 0.30478. Total time 0.00222 hours\n",
      "Validation at Epoch 2 , AUROC: 0.91278 , AUPRC: 0.90684 , F1: 0.80583\n",
      "Training at Epoch 3 iteration 0 with loss 0.16535. Total time 0.00472 hours\n",
      "Validation at Epoch 3 , AUROC: 0.90588 , AUPRC: 0.89928 , F1: 0.80524\n",
      "Training at Epoch 4 iteration 0 with loss 0.09002. Total time 0.00694 hours\n",
      "Validation at Epoch 4 , AUROC: 0.90421 , AUPRC: 0.89388 , F1: 0.82110\n",
      "Training at Epoch 5 iteration 0 with loss 0.07560. Total time 0.00944 hours\n",
      "Validation at Epoch 5 , AUROC: 0.90728 , AUPRC: 0.89880 , F1: 0.82161\n",
      "--- Go for Testing ---\n",
      "Testing AUROC: 0.8824296671295863 , AUPRC: 0.8722500643261843 , F1: 0.7734410049349485\n",
      "--- Training Finished ---\n"
     ]
    },
    {
     "name": "stderr",
     "output_type": "stream",
     "text": [
      "Downloading...\n",
      "100%|██████████| 740k/740k [00:01<00:00, 439kiB/s] \n",
      "Loading...\n",
      "Done!\n"
     ]
    },
    {
     "name": "stdout",
     "output_type": "stream",
     "text": [
      "Drug Property Prediction Mode...\n",
      "in total: 12092 drugs\n",
      "encoding drug...\n",
      "unique drugs: 12092\n",
      "Done.\n",
      "Let's use CPU/s!\n",
      "--- Data Preparation ---\n",
      "--- Go for Training ---\n",
      "Training at Epoch 1 iteration 0 with loss 0.69969. Total time 0.0 hours\n",
      "Validation at Epoch 1 , AUROC: 0.85434 , AUPRC: 0.72014 , F1: 0.68409\n",
      "Training at Epoch 2 iteration 0 with loss 0.49054. Total time 0.00194 hours\n",
      "Validation at Epoch 2 , AUROC: 0.87117 , AUPRC: 0.73898 , F1: 0.72082\n",
      "Training at Epoch 3 iteration 0 with loss 0.29819. Total time 0.005 hours\n",
      "Validation at Epoch 3 , AUROC: 0.87410 , AUPRC: 0.74778 , F1: 0.70324\n",
      "Training at Epoch 4 iteration 0 with loss 0.11092. Total time 0.0075 hours\n",
      "Validation at Epoch 4 , AUROC: 0.86696 , AUPRC: 0.74451 , F1: 0.68897\n",
      "Training at Epoch 5 iteration 0 with loss 0.08073. Total time 0.00972 hours\n",
      "Validation at Epoch 5 , AUROC: 0.86758 , AUPRC: 0.75186 , F1: 0.70388\n",
      "--- Go for Testing ---\n",
      "Testing AUROC: 0.867069523892246 , AUPRC: 0.7685155395085637 , F1: 0.7070457354758962\n",
      "--- Training Finished ---\n"
     ]
    },
    {
     "name": "stderr",
     "output_type": "stream",
     "text": [
      "Downloading...\n",
      "100%|██████████| 45.6k/45.6k [00:00<00:00, 1.70MiB/s]\n",
      "Loading...\n",
      "Done!\n"
     ]
    },
    {
     "name": "stdout",
     "output_type": "stream",
     "text": [
      "Drug Property Prediction Mode...\n",
      "in total: 669 drugs\n",
      "encoding drug...\n",
      "unique drugs: 666\n",
      "Done.\n",
      "Let's use CPU/s!\n",
      "--- Data Preparation ---\n",
      "--- Go for Training ---\n",
      "Training at Epoch 1 iteration 0 with loss 0.68925. Total time 0.0 hours\n",
      "Validation at Epoch 1 , AUROC: 0.52179 , AUPRC: 0.24969 , F1: 0.0\n",
      "Training at Epoch 2 iteration 0 with loss 0.47461. Total time 0.0 hours\n",
      "Validation at Epoch 2 , AUROC: 0.58717 , AUPRC: 0.27934 , F1: 0.0\n",
      "Training at Epoch 3 iteration 0 with loss 0.52962. Total time 0.0 hours\n",
      "Validation at Epoch 3 , AUROC: 0.59743 , AUPRC: 0.28544 , F1: 0.0\n",
      "Training at Epoch 4 iteration 0 with loss 0.43987. Total time 0.00027 hours\n",
      "Validation at Epoch 4 , AUROC: 0.59615 , AUPRC: 0.29071 , F1: 0.0\n",
      "Training at Epoch 5 iteration 0 with loss 0.37587. Total time 0.00027 hours\n",
      "Validation at Epoch 5 , AUROC: 0.59871 , AUPRC: 0.29042 , F1: 0.0\n",
      "--- Go for Testing ---\n",
      "Testing AUROC: 0.6178608515057114 , AUPRC: 0.3441341212947574 , F1: 0.0\n",
      "--- Training Finished ---\n"
     ]
    },
    {
     "name": "stderr",
     "output_type": "stream",
     "text": [
      "Downloading...\n",
      "100%|██████████| 45.4k/45.4k [00:01<00:00, 39.6kiB/s]\n",
      "Loading...\n",
      "Done!\n"
     ]
    },
    {
     "name": "stdout",
     "output_type": "stream",
     "text": [
      "Drug Property Prediction Mode...\n",
      "in total: 667 drugs\n",
      "encoding drug...\n",
      "unique drugs: 664\n",
      "Done.\n",
      "Let's use CPU/s!\n",
      "--- Data Preparation ---\n",
      "--- Go for Training ---\n",
      "Training at Epoch 1 iteration 0 with loss 0.70148. Total time 0.0 hours\n",
      "Validation at Epoch 1 , AUROC: 0.63354 , AUPRC: 0.43380 , F1: 0.0\n",
      "Training at Epoch 2 iteration 0 with loss 0.59671. Total time 0.0 hours\n",
      "Validation at Epoch 2 , AUROC: 0.76086 , AUPRC: 0.61636 , F1: 0.0\n",
      "Training at Epoch 3 iteration 0 with loss 0.56336. Total time 0.00027 hours\n",
      "Validation at Epoch 3 , AUROC: 0.77018 , AUPRC: 0.64350 , F1: 0.0\n",
      "Training at Epoch 4 iteration 0 with loss 0.34480. Total time 0.00027 hours\n",
      "Validation at Epoch 4 , AUROC: 0.79813 , AUPRC: 0.70107 , F1: 0.0\n",
      "Training at Epoch 5 iteration 0 with loss 0.30903. Total time 0.00027 hours\n",
      "Validation at Epoch 5 , AUROC: 0.76397 , AUPRC: 0.66185 , F1: 0.0\n",
      "--- Go for Testing ---\n",
      "Testing AUROC: 0.7875 , AUPRC: 0.6836921856577965 , F1: 0.0\n",
      "--- Training Finished ---\n"
     ]
    },
    {
     "name": "stderr",
     "output_type": "stream",
     "text": [
      "Downloading...\n",
      "100%|██████████| 46.0k/46.0k [00:01<00:00, 41.7kiB/s]\n",
      "Loading...\n",
      "Done!\n"
     ]
    },
    {
     "name": "stdout",
     "output_type": "stream",
     "text": [
      "Drug Property Prediction Mode...\n",
      "in total: 670 drugs\n",
      "encoding drug...\n",
      "unique drugs: 667\n",
      "Done.\n",
      "Let's use CPU/s!\n",
      "--- Data Preparation ---\n",
      "--- Go for Training ---\n",
      "Training at Epoch 1 iteration 0 with loss 0.69551. Total time 0.0 hours\n",
      "Validation at Epoch 1 , AUROC: 0.63709 , AUPRC: 0.62023 , F1: 0.63265\n",
      "Training at Epoch 2 iteration 0 with loss 0.70291. Total time 0.0 hours\n",
      "Validation at Epoch 2 , AUROC: 0.62724 , AUPRC: 0.60592 , F1: 0.63265\n",
      "Training at Epoch 3 iteration 0 with loss 0.65236. Total time 0.0 hours\n",
      "Validation at Epoch 3 , AUROC: 0.63978 , AUPRC: 0.63554 , F1: 0.63265\n",
      "Training at Epoch 4 iteration 0 with loss 0.55061. Total time 0.00027 hours\n",
      "Validation at Epoch 4 , AUROC: 0.66487 , AUPRC: 0.66110 , F1: 0.61764\n",
      "Training at Epoch 5 iteration 0 with loss 0.39404. Total time 0.00027 hours\n",
      "Validation at Epoch 5 , AUROC: 0.66442 , AUPRC: 0.66122 , F1: 0.61176\n",
      "--- Go for Testing ---\n",
      "Testing AUROC: 0.6951871657754012 , AUPRC: 0.6480300131326664 , F1: 0.6474820143884891\n",
      "--- Training Finished ---\n"
     ]
    },
    {
     "name": "stderr",
     "output_type": "stream",
     "text": [
      "Downloading...\n",
      "100%|██████████| 138k/138k [00:01<00:00, 97.8kiB/s]\n",
      "Loading...\n",
      "Done!\n",
      "RDKit WARNING: [11:58:46] WARNING: not removing hydrogen atom without neighbors\n",
      "RDKit WARNING: [11:58:46] WARNING: not removing hydrogen atom without neighbors\n",
      "RDKit WARNING: [11:58:46] WARNING: not removing hydrogen atom without neighbors\n",
      "RDKit WARNING: [11:58:46] WARNING: not removing hydrogen atom without neighbors\n",
      "RDKit WARNING: [11:58:46] WARNING: not removing hydrogen atom without neighbors\n",
      "RDKit WARNING: [11:58:46] WARNING: not removing hydrogen atom without neighbors\n",
      "RDKit WARNING: [11:58:46] WARNING: not removing hydrogen atom without neighbors\n"
     ]
    },
    {
     "name": "stdout",
     "output_type": "stream",
     "text": [
      "Drug Property Prediction Mode...\n",
      "in total: 2030 drugs\n",
      "encoding drug...\n",
      "unique drugs: 1975\n"
     ]
    },
    {
     "name": "stderr",
     "output_type": "stream",
     "text": [
      "RDKit WARNING: [11:58:46] WARNING: not removing hydrogen atom without neighbors\n",
      "RDKit WARNING: [11:58:46] WARNING: not removing hydrogen atom without neighbors\n",
      "RDKit WARNING: [11:58:46] WARNING: not removing hydrogen atom without neighbors\n",
      "RDKit WARNING: [11:58:46] WARNING: not removing hydrogen atom without neighbors\n",
      "RDKit WARNING: [11:58:47] WARNING: not removing hydrogen atom without neighbors\n",
      "RDKit WARNING: [11:58:47] WARNING: not removing hydrogen atom without neighbors\n",
      "RDKit WARNING: [11:58:47] WARNING: not removing hydrogen atom without neighbors\n",
      "RDKit WARNING: [11:58:47] WARNING: not removing hydrogen atom without neighbors\n",
      "RDKit WARNING: [11:58:47] WARNING: not removing hydrogen atom without neighbors\n",
      "RDKit WARNING: [11:58:47] WARNING: not removing hydrogen atom without neighbors\n",
      "RDKit WARNING: [11:58:47] WARNING: not removing hydrogen atom without neighbors\n",
      "RDKit WARNING: [11:58:47] WARNING: not removing hydrogen atom without neighbors\n",
      "RDKit WARNING: [11:58:47] WARNING: not removing hydrogen atom without neighbors\n",
      "RDKit WARNING: [11:58:47] WARNING: not removing hydrogen atom without neighbors\n",
      "RDKit WARNING: [11:58:47] WARNING: not removing hydrogen atom without neighbors\n",
      "RDKit WARNING: [11:58:47] WARNING: not removing hydrogen atom without neighbors\n",
      "RDKit WARNING: [11:58:47] WARNING: not removing hydrogen atom without neighbors\n",
      "RDKit WARNING: [11:58:47] WARNING: not removing hydrogen atom without neighbors\n",
      "RDKit WARNING: [11:58:47] WARNING: not removing hydrogen atom without neighbors\n",
      "RDKit WARNING: [11:58:47] WARNING: not removing hydrogen atom without neighbors\n",
      "RDKit WARNING: [11:58:47] WARNING: not removing hydrogen atom without neighbors\n",
      "RDKit WARNING: [11:58:47] WARNING: not removing hydrogen atom without neighbors\n",
      "RDKit WARNING: [11:58:47] WARNING: not removing hydrogen atom without neighbors\n",
      "RDKit WARNING: [11:58:47] WARNING: not removing hydrogen atom without neighbors\n",
      "RDKit WARNING: [11:58:47] WARNING: not removing hydrogen atom without neighbors\n",
      "RDKit WARNING: [11:58:47] WARNING: not removing hydrogen atom without neighbors\n",
      "RDKit WARNING: [11:58:47] WARNING: not removing hydrogen atom without neighbors\n",
      "RDKit WARNING: [11:58:47] WARNING: not removing hydrogen atom without neighbors\n",
      "RDKit WARNING: [11:58:47] WARNING: not removing hydrogen atom without neighbors\n",
      "RDKit WARNING: [11:58:47] WARNING: not removing hydrogen atom without neighbors\n",
      "RDKit WARNING: [11:58:47] WARNING: not removing hydrogen atom without neighbors\n",
      "RDKit WARNING: [11:58:47] WARNING: not removing hydrogen atom without neighbors\n",
      "RDKit WARNING: [11:58:47] WARNING: not removing hydrogen atom without neighbors\n"
     ]
    },
    {
     "name": "stdout",
     "output_type": "stream",
     "text": [
      "Done.\n",
      "Let's use CPU/s!\n",
      "--- Data Preparation ---\n",
      "--- Go for Training ---\n",
      "Training at Epoch 1 iteration 0 with loss 0.70210. Total time 0.0 hours\n",
      "Validation at Epoch 1 , AUROC: 0.87137 , AUPRC: 0.95259 , F1: 0.86592\n",
      "Training at Epoch 2 iteration 0 with loss 0.51447. Total time 0.00027 hours\n",
      "Validation at Epoch 2 , AUROC: 0.91424 , AUPRC: 0.96753 , F1: 0.86592\n",
      "Training at Epoch 3 iteration 0 with loss 0.32830. Total time 0.00055 hours\n",
      "Validation at Epoch 3 , AUROC: 0.91841 , AUPRC: 0.97024 , F1: 0.91205\n",
      "Training at Epoch 4 iteration 0 with loss 0.16257. Total time 0.00083 hours\n",
      "Validation at Epoch 4 , AUROC: 0.91048 , AUPRC: 0.96784 , F1: 0.92834\n",
      "Training at Epoch 5 iteration 0 with loss 0.09300. Total time 0.00138 hours\n",
      "Validation at Epoch 5 , AUROC: 0.90026 , AUPRC: 0.96532 , F1: 0.90384\n",
      "--- Go for Testing ---\n",
      "Testing AUROC: 0.8515221878224974 , AUPRC: 0.9242517678035056 , F1: 0.897226753670473\n",
      "--- Training Finished ---\n"
     ]
    },
    {
     "name": "stderr",
     "output_type": "stream",
     "text": [
      "Downloading...\n",
      "100%|██████████| 214k/214k [00:00<00:00, 2.80MiB/s]\n",
      "Loading...\n",
      "Done!\n"
     ]
    },
    {
     "name": "stdout",
     "output_type": "stream",
     "text": [
      "Drug Property Prediction Mode...\n",
      "in total: 2790 drugs\n",
      "encoding drug...\n",
      "unique drugs: 1797\n",
      "Done.\n",
      "Let's use CPU/s!\n",
      "--- Data Preparation ---\n",
      "--- Go for Training ---\n",
      "Training at Epoch 1 iteration 0 with loss 7625.08. Total time 0.0 hours\n",
      "Validation at Epoch 1 , MSE: 1254.30 , Pearson Correlation: 0.32314 with p-value: 3.34856 , Concordance Index: 0.57641\n",
      "Training at Epoch 2 iteration 0 with loss 1216.75. Total time 0.00027 hours\n",
      "Validation at Epoch 2 , MSE: 315.088 , Pearson Correlation: 0.51325 with p-value: 3.75916 , Concordance Index: 0.65970\n",
      "Training at Epoch 3 iteration 0 with loss 364.828. Total time 0.00083 hours\n",
      "Validation at Epoch 3 , MSE: 224.695 , Pearson Correlation: 0.63706 with p-value: 3.61616 , Concordance Index: 0.71135\n",
      "Training at Epoch 4 iteration 0 with loss 228.636. Total time 0.00138 hours\n",
      "Validation at Epoch 4 , MSE: 231.617 , Pearson Correlation: 0.70029 with p-value: 1.92002 , Concordance Index: 0.73068\n",
      "Training at Epoch 5 iteration 0 with loss 147.830. Total time 0.00166 hours\n",
      "Validation at Epoch 5 , MSE: 179.212 , Pearson Correlation: 0.72664 with p-value: 4.53544 , Concordance Index: 0.73198\n",
      "--- Go for Testing ---\n",
      "Testing MSE: 181.87555168261437 , Pearson Correlation: 0.5894974192140936 with p-value: 1.6192951443805767e-53 , Concordance Index: 0.6967537839130379\n",
      "--- Training Finished ---\n"
     ]
    },
    {
     "name": "stderr",
     "output_type": "stream",
     "text": [
      "Downloading...\n",
      "100%|██████████| 53.6k/53.6k [00:00<00:00, 1.70MiB/s]\n",
      "Loading...\n",
      "Done!\n"
     ]
    },
    {
     "name": "stdout",
     "output_type": "stream",
     "text": [
      "Drug Property Prediction Mode...\n",
      "in total: 667 drugs\n",
      "encoding drug...\n",
      "unique drugs: 665\n",
      "Done.\n",
      "Let's use CPU/s!\n",
      "--- Data Preparation ---\n",
      "--- Go for Training ---\n",
      "Training at Epoch 1 iteration 0 with loss 567.930. Total time 0.0 hours\n",
      "Validation at Epoch 1 , MSE: 561.249 , Pearson Correlation: 0.25670 with p-value: 0.03599 , Concordance Index: 0.47490\n",
      "Training at Epoch 2 iteration 0 with loss 5711.53. Total time 0.0 hours\n",
      "Validation at Epoch 2 , MSE: 491.178 , Pearson Correlation: 0.27104 with p-value: 0.02651 , Concordance Index: 0.49087\n",
      "Training at Epoch 3 iteration 0 with loss 5595.78. Total time 0.0 hours\n",
      "Validation at Epoch 3 , MSE: 452.711 , Pearson Correlation: 0.29795 with p-value: 0.01433 , Concordance Index: 0.56706\n",
      "Training at Epoch 4 iteration 0 with loss 7487.57. Total time 0.00027 hours\n",
      "Validation at Epoch 4 , MSE: 607.645 , Pearson Correlation: 0.18558 with p-value: 0.13269 , Concordance Index: 0.61815\n",
      "Training at Epoch 5 iteration 0 with loss 3692.16. Total time 0.00027 hours\n",
      "Validation at Epoch 5 , MSE: 1089.14 , Pearson Correlation: 0.16498 with p-value: 0.18214 , Concordance Index: 0.59945\n",
      "--- Go for Testing ---\n",
      "Testing MSE: 15314.539055760173 , Pearson Correlation: 0.18020001430706833 with p-value: 0.03793336929629036 , Concordance Index: 0.6121662062615101\n",
      "--- Training Finished ---\n"
     ]
    },
    {
     "name": "stderr",
     "output_type": "stream",
     "text": [
      "Downloading...\n",
      "100%|██████████| 91.6k/91.6k [00:01<00:00, 60.5kiB/s]\n",
      "Loading...\n",
      "Done!\n"
     ]
    },
    {
     "name": "stdout",
     "output_type": "stream",
     "text": [
      "Drug Property Prediction Mode...\n",
      "in total: 1213 drugs\n",
      "encoding drug...\n",
      "unique drugs: 1020\n",
      "Done.\n",
      "Let's use CPU/s!\n",
      "--- Data Preparation ---\n",
      "--- Go for Training ---\n",
      "Training at Epoch 1 iteration 0 with loss 4556.68. Total time 0.0 hours\n",
      "Validation at Epoch 1 , MSE: 2542.56 , Pearson Correlation: -0.1479 with p-value: 0.10545 , Concordance Index: 0.45186\n",
      "Training at Epoch 2 iteration 0 with loss 3147.03. Total time 0.0 hours\n",
      "Validation at Epoch 2 , MSE: 2431.79 , Pearson Correlation: 0.01996 with p-value: 0.82797 , Concordance Index: 0.51531\n",
      "Training at Epoch 3 iteration 0 with loss 2735.28. Total time 0.00027 hours\n",
      "Validation at Epoch 3 , MSE: 2240.46 , Pearson Correlation: 0.20326 with p-value: 0.02534 , Concordance Index: 0.58722\n",
      "Training at Epoch 4 iteration 0 with loss 2210.22. Total time 0.00055 hours\n",
      "Validation at Epoch 4 , MSE: 2448.70 , Pearson Correlation: 0.30698 with p-value: 0.00061 , Concordance Index: 0.62733\n",
      "Training at Epoch 5 iteration 0 with loss 2074.55. Total time 0.00083 hours\n",
      "Validation at Epoch 5 , MSE: 2034.31 , Pearson Correlation: 0.36398 with p-value: 4.06145 , Concordance Index: 0.64892\n",
      "--- Go for Testing ---\n",
      "Testing MSE: 1917.1275749482263 , Pearson Correlation: 0.43327887338460547 with p-value: 1.531642937687935e-12 , Concordance Index: 0.6557699811983397\n",
      "--- Training Finished ---\n"
     ]
    },
    {
     "name": "stderr",
     "output_type": "stream",
     "text": [
      "Downloading...\n",
      "100%|██████████| 81.7k/81.7k [00:01<00:00, 54.0kiB/s]\n",
      "Loading...\n",
      "Done!\n"
     ]
    },
    {
     "name": "stdout",
     "output_type": "stream",
     "text": [
      "Drug Property Prediction Mode...\n",
      "in total: 1102 drugs\n",
      "encoding drug...\n",
      "unique drugs: 1102\n",
      "Done.\n",
      "Let's use CPU/s!\n",
      "--- Data Preparation ---\n",
      "--- Go for Training ---\n",
      "Training at Epoch 1 iteration 0 with loss 2664.26. Total time 0.0 hours\n",
      "Validation at Epoch 1 , MSE: 2348.95 , Pearson Correlation: 0.14874 with p-value: 0.12092 , Concordance Index: 0.56792\n",
      "Training at Epoch 2 iteration 0 with loss 1995.89. Total time 0.00027 hours\n",
      "Validation at Epoch 2 , MSE: 2038.06 , Pearson Correlation: 0.34638 with p-value: 0.00020 , Concordance Index: 0.69464\n",
      "Training at Epoch 3 iteration 0 with loss 1615.50. Total time 0.00027 hours\n",
      "Validation at Epoch 3 , MSE: 1809.44 , Pearson Correlation: 0.39875 with p-value: 1.59765 , Concordance Index: 0.72389\n",
      "Training at Epoch 4 iteration 0 with loss 1257.21. Total time 0.00055 hours\n",
      "Validation at Epoch 4 , MSE: 1741.09 , Pearson Correlation: 0.41307 with p-value: 7.29808 , Concordance Index: 0.73560\n",
      "Training at Epoch 5 iteration 0 with loss 1247.47. Total time 0.00083 hours\n",
      "Validation at Epoch 5 , MSE: 1725.78 , Pearson Correlation: 0.41485 with p-value: 6.60129 , Concordance Index: 0.72828\n",
      "--- Go for Testing ---\n",
      "Testing MSE: 1747.1296922314555 , Pearson Correlation: 0.5427715109618315 with p-value: 2.9675245583705565e-18 , Concordance Index: 0.714672930972172\n",
      "--- Training Finished ---\n"
     ]
    },
    {
     "data": {
      "image/png": "[encoded data removed]",
      "text/plain": [
       "<Figure size 432x288 with 1 Axes>"
      ]
     },
     "metadata": {
      "needs_background": "light"
     },
     "output_type": "display_data"
    },
    {
     "data": {
      "image/png": "[encoded data removed]",
      "text/plain": [
       "<Figure size 432x288 with 1 Axes>"
      ]
     },
     "metadata": {
      "needs_background": "light"
     },
     "output_type": "display_data"
    },
    {
     "data": {
      "image/png": "[encoded data removed]",
      "text/plain": [
       "<Figure size 432x288 with 1 Axes>"
      ]
     },
     "metadata": {
      "needs_background": "light"
     },
     "output_type": "display_data"
    }
   ],
   "source": [
    "from tdc.utils import retrieve_dataset_names\n",
    "adme_datasets = retrieve_dataset_names('ADME')\n",
    "\n",
    "for dataset_name in adme_datasets:\n",
    "    X, y = ADME(name = dataset_name).get_data(format = 'DeepPurpose')\n",
    "    drug_encoding = 'Morgan'\n",
    "    train, val, test = utils.data_process(X_drug = X, \n",
    "                                      y = y, \n",
    "                                      drug_encoding = drug_encoding,\n",
    "                                      random_seed = 'TDC')\n",
    "    config = utils.generate_config(drug_encoding = drug_encoding, \n",
    "                         train_epoch = 5, \n",
    "                         LR = 0.001, \n",
    "                         batch_size = 128,\n",
    "                         mpnn_hidden_size = 32,\n",
    "                         mpnn_depth = 2\n",
    "                        )\n",
    "    model = CompoundPred.model_initialize(**config)\n",
    "    model.train(train, val, test)\n",
    "    model.save_model('./' + dataset_name + '_model')"
   ]
  },
  {
   "cell_type": "markdown",
   "metadata": {},
   "source": [
    "We have tested the above code and it would print out all the training process. We omit the output here since it is a bit long. But hopefully, you could get the gist of it. DeepPurpose also allows to do similar modeling for DTI, DDI, PPI and protein function prediction! Checkout the [repository](https://github.com/kexinhuang12345/DeepPurpose)!\n",
    "\n",
    "That's it for this tutorial!"
   ]
  }
 ],
 "metadata": {
  "kernelspec": {
   "display_name": "Python 3",
   "language": "python",
   "name": "python3"
  },
  "language_info": {
   "codemirror_mode": {
    "name": "ipython",
    "version": 3
   },
   "file_extension": ".py",
   "mimetype": "text/x-python",
   "name": "python",
   "nbconvert_exporter": "python",
   "pygments_lexer": "ipython3",
   "version": "3.7.9"
  }
 },
 "nbformat": 4,
 "nbformat_minor": 4
}
