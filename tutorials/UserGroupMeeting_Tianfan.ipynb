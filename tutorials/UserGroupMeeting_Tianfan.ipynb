{
 "cells": [
  {
   "cell_type": "markdown",
   "metadata": {},
   "source": [
    "## DataLoader & Leaderboard\n",
    "\n",
    "[Tianfan Fu@Gatech](futianfan.github.io)\n",
    "\n",
    "\n",
    "Agenda\n",
    "\n",
    "- dataloader\n",
    "    - `single_pred`\n",
    "    - `multi_pred`\n",
    "    - `generation`\n",
    "    - demo\n",
    "        - scikit-learn demo\n",
    "        - deeppurpose demo\n",
    "- leaderboard\n",
    "    - ADMET leaderboard\n",
    "    - DTI leaderboard\n",
    "\n",
    "\n",
    "Let's start!\n"
   ]
  },
  {
   "attachments": {
    "image.png": {
     "image/png": "[encoded data removed]"
    }
   },
   "cell_type": "markdown",
   "metadata": {},
   "source": [
    "### DataLoader\n",
    "\n",
    "Supposed a dataset X is from therapeutic task Y with machine learning problem Z, then to obtain the data and splits, simply type:\n",
    "\n",
    "\n",
    "\n",
    "```python\n",
    "from tdc.Z import Y\n",
    "data = Y(name = 'X')\n",
    "split = data.split()\n",
    "```\n",
    "\n",
    "Z can be \n",
    "- `single_pred`\n",
    "- `multi_pred`\n",
    "- `generation`\n",
    "\n",
    "The circle can be small molecule, protein. \n",
    "\n",
    "![image.png](attachment:image.png)"
   ]
  },
  {
   "cell_type": "markdown",
   "metadata": {},
   "source": [
    "#### `single_pred`: Prediction of property for an individual biomedical entity."
   ]
  },
  {
   "cell_type": "code",
   "execution_count": 65,
   "metadata": {},
   "outputs": [
    {
     "name": "stderr",
     "output_type": "stream",
     "text": [
      "Found local copy...\n",
      "Loading...\n",
      "Done!\n"
     ]
    }
   ],
   "source": [
    "from tdc.single_pred import ADME\n",
    "data = ADME(name = 'Caco2_Wang', convert_format = 'DGL')"
   ]
  },
  {
   "cell_type": "markdown",
   "metadata": {},
   "source": [
    "#### `multi_pred`: Prediction of property for multiple biomedical entities."
   ]
  },
  {
   "cell_type": "code",
   "execution_count": 66,
   "metadata": {},
   "outputs": [
    {
     "name": "stderr",
     "output_type": "stream",
     "text": [
      "Found local copy...\n",
      "Loading...\n",
      "Done!\n"
     ]
    },
    {
     "data": {
      "text/html": [
       "<div>\n",
       "<style scoped>\n",
       "    .dataframe tbody tr th:only-of-type {\n",
       "        vertical-align: middle;\n",
       "    }\n",
       "\n",
       "    .dataframe tbody tr th {\n",
       "        vertical-align: top;\n",
       "    }\n",
       "\n",
       "    .dataframe thead th {\n",
       "        text-align: right;\n",
       "    }\n",
       "</style>\n",
       "<table border=\"1\" class=\"dataframe\">\n",
       "  <thead>\n",
       "    <tr style=\"text-align: right;\">\n",
       "      <th></th>\n",
       "      <th>Protein1_ID</th>\n",
       "      <th>Protein1</th>\n",
       "      <th>Protein2_ID</th>\n",
       "      <th>Protein2</th>\n",
       "      <th>Y</th>\n",
       "    </tr>\n",
       "  </thead>\n",
       "  <tbody>\n",
       "    <tr>\n",
       "      <th>0</th>\n",
       "      <td>ENSG00000102119</td>\n",
       "      <td>MDNYADLSDTELTTLLRRYNIPHGPVVDLNSTRGDADMYDLPKKED...</td>\n",
       "      <td>ENSG00000176435</td>\n",
       "      <td>MRPAFALCLLWQALWPGPGGGEHPTADRAGCSASGACYSLHHATMK...</td>\n",
       "      <td>1</td>\n",
       "    </tr>\n",
       "    <tr>\n",
       "      <th>1</th>\n",
       "      <td>ENSG00000157110</td>\n",
       "      <td>MNNGGKAEKENTPSEANLQEEEVRTLFVSGLPLDIKPRELYLLFRP...</td>\n",
       "      <td>ENSG00000227151</td>\n",
       "      <td>MEEPRPSKRLRSMAPNQASGGPPPEPGCCVADPEGSVEADGPAQPA...</td>\n",
       "      <td>1</td>\n",
       "    </tr>\n",
       "  </tbody>\n",
       "</table>\n",
       "</div>"
      ],
      "text/plain": [
       "       Protein1_ID                                           Protein1  \\\n",
       "0  ENSG00000102119  MDNYADLSDTELTTLLRRYNIPHGPVVDLNSTRGDADMYDLPKKED...   \n",
       "1  ENSG00000157110  MNNGGKAEKENTPSEANLQEEEVRTLFVSGLPLDIKPRELYLLFRP...   \n",
       "\n",
       "       Protein2_ID                                           Protein2  Y  \n",
       "0  ENSG00000176435  MRPAFALCLLWQALWPGPGGGEHPTADRAGCSASGACYSLHHATMK...  1  \n",
       "1  ENSG00000227151  MEEPRPSKRLRSMAPNQASGGPPPEPGCCVADPEGSVEADGPAQPA...  1  "
      ]
     },
     "execution_count": 66,
     "metadata": {},
     "output_type": "execute_result"
    }
   ],
   "source": [
    "from tdc.multi_pred import PPI\n",
    "data = PPI(name = 'HuRI')\n",
    "split = data.get_split()\n",
    "split['valid'].head(2)"
   ]
  },
  {
   "cell_type": "markdown",
   "metadata": {},
   "source": [
    "#### `generation`: Generation of a new desirable biomedical entity."
   ]
  },
  {
   "cell_type": "code",
   "execution_count": 67,
   "metadata": {},
   "outputs": [
    {
     "name": "stderr",
     "output_type": "stream",
     "text": [
      "Found local copy...\n",
      "Loading...\n",
      "Done!\n"
     ]
    },
    {
     "data": {
      "text/html": [
       "<div>\n",
       "<style scoped>\n",
       "    .dataframe tbody tr th:only-of-type {\n",
       "        vertical-align: middle;\n",
       "    }\n",
       "\n",
       "    .dataframe tbody tr th {\n",
       "        vertical-align: top;\n",
       "    }\n",
       "\n",
       "    .dataframe thead th {\n",
       "        text-align: right;\n",
       "    }\n",
       "</style>\n",
       "<table border=\"1\" class=\"dataframe\">\n",
       "  <thead>\n",
       "    <tr style=\"text-align: right;\">\n",
       "      <th></th>\n",
       "      <th>smiles</th>\n",
       "    </tr>\n",
       "  </thead>\n",
       "  <tbody>\n",
       "    <tr>\n",
       "      <th>0</th>\n",
       "      <td>CCCS(=O)c1ccc2[nH]c(=NC(=O)OC)[nH]c2c1</td>\n",
       "    </tr>\n",
       "    <tr>\n",
       "      <th>1</th>\n",
       "      <td>CC(C)(C)C(=O)C(Oc1ccc(Cl)cc1)n1ccnc1</td>\n",
       "    </tr>\n",
       "  </tbody>\n",
       "</table>\n",
       "</div>"
      ],
      "text/plain": [
       "                                   smiles\n",
       "0  CCCS(=O)c1ccc2[nH]c(=NC(=O)OC)[nH]c2c1\n",
       "1    CC(C)(C)C(=O)C(Oc1ccc(Cl)cc1)n1ccnc1"
      ]
     },
     "execution_count": 67,
     "metadata": {},
     "output_type": "execute_result"
    }
   ],
   "source": [
    "from tdc.generation import MolGen\n",
    "data = MolGen(name = 'MOSES')\n",
    "split = data.get_split()\n",
    "split['train'].head(2)"
   ]
  },
  {
   "cell_type": "code",
   "execution_count": 68,
   "metadata": {},
   "outputs": [
    {
     "name": "stderr",
     "output_type": "stream",
     "text": [
      "Found local copy...\n",
      "Loading...\n",
      "Done!\n"
     ]
    },
    {
     "data": {
      "text/html": [
       "<div>\n",
       "<style scoped>\n",
       "    .dataframe tbody tr th:only-of-type {\n",
       "        vertical-align: middle;\n",
       "    }\n",
       "\n",
       "    .dataframe tbody tr th {\n",
       "        vertical-align: top;\n",
       "    }\n",
       "\n",
       "    .dataframe thead th {\n",
       "        text-align: right;\n",
       "    }\n",
       "</style>\n",
       "<table border=\"1\" class=\"dataframe\">\n",
       "  <thead>\n",
       "    <tr style=\"text-align: right;\">\n",
       "      <th></th>\n",
       "      <th>input</th>\n",
       "      <th>output</th>\n",
       "    </tr>\n",
       "  </thead>\n",
       "  <tbody>\n",
       "    <tr>\n",
       "      <th>0</th>\n",
       "      <td>COC(=O)CCC(=O)c1ccc(OC2CCCCO2)cc1O</td>\n",
       "      <td>C1=COCCC1.COC(=O)CCC(=O)c1ccc(O)cc1O</td>\n",
       "    </tr>\n",
       "    <tr>\n",
       "      <th>1</th>\n",
       "      <td>COC(=O)c1cccc(-c2nc3cccnc3[nH]2)c1</td>\n",
       "      <td>COC(=O)c1cccc(C(=O)O)c1.Nc1cccnc1N</td>\n",
       "    </tr>\n",
       "  </tbody>\n",
       "</table>\n",
       "</div>"
      ],
      "text/plain": [
       "                                input                                output\n",
       "0  COC(=O)CCC(=O)c1ccc(OC2CCCCO2)cc1O  C1=COCCC1.COC(=O)CCC(=O)c1ccc(O)cc1O\n",
       "1  COC(=O)c1cccc(-c2nc3cccnc3[nH]2)c1    COC(=O)c1cccc(C(=O)O)c1.Nc1cccnc1N"
      ]
     },
     "execution_count": 68,
     "metadata": {},
     "output_type": "execute_result"
    }
   ],
   "source": [
    "from tdc.generation import RetroSyn\n",
    "data = RetroSyn(name = 'USPTO-50K')\n",
    "split = data.get_split()\n",
    "split['train'].head(2)"
   ]
  },
  {
   "cell_type": "markdown",
   "metadata": {},
   "source": [
    "### ML-ready example (I): Scikit-learn\n",
    "\n"
   ]
  },
  {
   "cell_type": "code",
   "execution_count": 69,
   "metadata": {},
   "outputs": [
    {
     "name": "stderr",
     "output_type": "stream",
     "text": [
      "Found local copy...\n",
      "Loading...\n",
      "Done!\n"
     ]
    }
   ],
   "source": [
    "data = ADME(name = 'HIA_Hou', convert_format='ECFP2').get_data(format = 'dict')\n",
    "X, y = data['Drug_ECFP2'], data['Y']"
   ]
  },
  {
   "cell_type": "code",
   "execution_count": 70,
   "metadata": {},
   "outputs": [
    {
     "name": "stderr",
     "output_type": "stream",
     "text": [
      "Found local copy...\n",
      "Loading...\n",
      "Done!\n"
     ]
    }
   ],
   "source": [
    "import numpy as np\n",
    "from tdc.single_pred import ADME\n",
    "data = ADME(name = 'HIA_Hou', convert_format='ECFP2')#.get_data(format = 'dict')\n",
    "split = data.get_split(method = 'random', seed = 42, frac = [0.7, 0.1, 0.2])\n",
    "train_data, valid_data, test_data = split['train'], split['valid'], split['test']"
   ]
  },
  {
   "cell_type": "code",
   "execution_count": 71,
   "metadata": {},
   "outputs": [
    {
     "name": "stdout",
     "output_type": "stream",
     "text": [
      "accuracy 0.9137931034482759\n"
     ]
    }
   ],
   "source": [
    "def train_LR(train_data, valid_data, test_data):\n",
    "    from sklearn.linear_model import LogisticRegression\n",
    "    random_states = [1,2,3]\n",
    "    X_train, y_train = train_data['Drug_ECFP2'], train_data['Y']\n",
    "    X_train = np.concatenate([i.reshape(1,-1) for i in X_train.to_numpy()],0)\n",
    "    y_train = y_train.to_numpy().reshape(-1)\n",
    "    X_valid, y_valid = valid_data['Drug_ECFP2'], valid_data['Y']\n",
    "    X_valid = np.concatenate([i.reshape(1,-1) for i in X_valid.to_numpy()],0)\n",
    "    y_valid = y_valid.to_numpy()\n",
    "    X_test, y_test = test_data['Drug_ECFP2'], test_data['Y']\n",
    "    X_test = np.concatenate([i.reshape(1,-1) for i in X_test.to_numpy()],0)\n",
    "    y_test = y_test.to_numpy()\n",
    "    best_accuracy = 0\n",
    "    for random_state in random_states: \n",
    "        lr = LogisticRegression(fit_intercept=True,\n",
    "                                max_iter=10,\n",
    "                                random_state=42,\n",
    "                                solver='liblinear')\n",
    "        lr.fit(X_train, y_train)\n",
    "        y_pred = lr.predict(X_valid)\n",
    "        valid_accuracy = np.sum(y_pred == y_valid) / y_valid.shape[0]\n",
    "        if valid_accuracy > best_accuracy:\n",
    "            best_accuracy = valid_accuracy \n",
    "        best_lr = lr \n",
    "    y_pred = best_lr.predict(X_test)\n",
    "    accuracy = np.sum(y_pred == y_test) / y_test.shape[0]\n",
    "    return accuracy\n",
    "\n",
    "print(\"accuracy\", train_LR(train_data, valid_data, test_data))\n"
   ]
  },
  {
   "cell_type": "markdown",
   "metadata": {},
   "source": [
    "### ML-ready example (II): DeepPurpose\n",
    "\n",
    "DeepPurpose is a scikit learn style Deep Learning Based Molecular Modeling and Prediction Toolkit on Drug-Target Interaction Prediction, Compound Property Prediction, Protein-Protein Interaction Prediction, and Protein Function prediction. Using DeepPurpose, we can rapidly build model prototypes for various drug discovery tasks covered in TDC, such as ADME, Tox, HTS, Developability prediction, DTI, DDI, PPI, Antibody Affinity predictions. \n",
    "\n",
    "Note that DeepPurpose is developed by two of the core teams in TDC, Kexin and Tianfan, and it is now published in Bioinformatics. To start with this tutorial, please follow [DeepPurpose instructions](https://github.com/kexinhuang12345/DeepPurpose#install--usage) to set up the necessary packages. DeepPurpose also provides [tutorials](https://github.com/kexinhuang12345/DeepPurpose/blob/master/Tutorial_1_DTI_Prediction.ipynb) for you to familiarize with it. \n",
    "\n",
    "### DeepPurpose Installation\n",
    "\n",
    "```bash\n",
    "conda create -n DeepPurpose python=3.6\n",
    "conda activate DeepPurpose\n",
    "conda install -c conda-forge rdkit\n",
    "pip install git+https://github.com/bp-kelley/descriptastorus \n",
    "pip install DeepPurpose\n",
    "pip install PyTDC --upgrade\n",
    "```\n",
    "\n",
    "\n",
    "We assume now you have set up the right environment. Now, we show you how to build an ADME predictor using Message Passing Neural Network (MPNN)! \n",
    "\n",
    "### Predicting HIA using MPNN with 10 Lines of Code\n",
    "\n",
    "First, let's load DeepPurpose and TDC:"
   ]
  },
  {
   "cell_type": "code",
   "execution_count": 72,
   "metadata": {},
   "outputs": [],
   "source": [
    "from DeepPurpose import utils, CompoundPred\n",
    "from tdc.single_pred import ADME"
   ]
  },
  {
   "cell_type": "markdown",
   "metadata": {},
   "source": [
    "Now, you can get the HIA dataset from TDC. HIA is from ADME task from Single-instance prediction and we want to predict whether or not can a compound be absorped in human intestinal, i.e. given SMILES X, predict 1/0. Note that for drug property prediction, DeepPurpose takes in an array of drug SMILES string and an array of labels. You could access that directly by setting the `get_data(format = 'dict')`:"
   ]
  },
  {
   "cell_type": "code",
   "execution_count": 73,
   "metadata": {},
   "outputs": [
    {
     "name": "stderr",
     "output_type": "stream",
     "text": [
      "Found local copy...\n",
      "Loading...\n",
      "Done!\n"
     ]
    }
   ],
   "source": [
    "data = ADME(name = 'HIA_Hou', convert_format='DGL').get_data(format = 'dict')\n",
    "X, y = data['Drug'], data['Y']"
   ]
  },
  {
   "cell_type": "markdown",
   "metadata": {},
   "source": [
    " We also provide a DeepPurpose format, where you can directly get the correct input data:"
   ]
  },
  {
   "cell_type": "code",
   "execution_count": 74,
   "metadata": {},
   "outputs": [
    {
     "name": "stderr",
     "output_type": "stream",
     "text": [
      "Found local copy...\n",
      "Loading...\n",
      "Done!\n"
     ]
    }
   ],
   "source": [
    "X, y = ADME(name = 'HIA_Hou', convert_format = 'DGL').get_data(format = 'DeepPurpose')"
   ]
  },
  {
   "cell_type": "markdown",
   "metadata": {},
   "source": [
    "DeepPurpose provides 8 encoders for compound, ranging from MLP on classic cheminformatics fingerprint such as Morgan, RDKit2D to deep learning models such as CNN, transformer, and MPNN. To specify the encoder, simply types the encoder name. Here, we use MPNN as an example:"
   ]
  },
  {
   "cell_type": "markdown",
   "metadata": {},
   "source": [
    "Now, we encode the data into the specified format, using `utils.data_process` function. It specifies train/validation/test split fractions, and random seed to ensure same data splits for reproducibility. **We have made DeepPurpose to accomodate the TDC benchmark split.** Simply type 'TDC' in the random seed will generate the same split as in TDC split function. The function outputs train, val, test pandas dataframes."
   ]
  },
  {
   "cell_type": "code",
   "execution_count": 75,
   "metadata": {},
   "outputs": [
    {
     "name": "stdout",
     "output_type": "stream",
     "text": [
      "Drug Property Prediction Mode...\n",
      "in total: 578 drugs\n",
      "encoding drug...\n",
      "unique drugs: 578\n",
      "Done.\n"
     ]
    }
   ],
   "source": [
    "drug_encoding = 'MPNN'\n",
    "train, val, test = utils.data_process(X_drug = X, \n",
    "                                      y = y, \n",
    "                                      drug_encoding = drug_encoding,\n",
    "                                      random_seed = 'TDC')"
   ]
  },
  {
   "cell_type": "code",
   "execution_count": 76,
   "metadata": {},
   "outputs": [
    {
     "data": {
      "text/html": [
       "<div>\n",
       "<style scoped>\n",
       "    .dataframe tbody tr th:only-of-type {\n",
       "        vertical-align: middle;\n",
       "    }\n",
       "\n",
       "    .dataframe tbody tr th {\n",
       "        vertical-align: top;\n",
       "    }\n",
       "\n",
       "    .dataframe thead th {\n",
       "        text-align: right;\n",
       "    }\n",
       "</style>\n",
       "<table border=\"1\" class=\"dataframe\">\n",
       "  <thead>\n",
       "    <tr style=\"text-align: right;\">\n",
       "      <th></th>\n",
       "      <th>SMILES</th>\n",
       "      <th>Label</th>\n",
       "      <th>drug_encoding</th>\n",
       "    </tr>\n",
       "  </thead>\n",
       "  <tbody>\n",
       "    <tr>\n",
       "      <th>0</th>\n",
       "      <td>CC(=O)Nc1ccccc1</td>\n",
       "      <td>1</td>\n",
       "      <td>[[[tensor(1.), tensor(0.), tensor(0.), tensor(...</td>\n",
       "    </tr>\n",
       "    <tr>\n",
       "      <th>1</th>\n",
       "      <td>CC(=O)Nc1nnc(S(N)(=O)=O)s1</td>\n",
       "      <td>1</td>\n",
       "      <td>[[[tensor(1.), tensor(0.), tensor(0.), tensor(...</td>\n",
       "    </tr>\n",
       "  </tbody>\n",
       "</table>\n",
       "</div>"
      ],
      "text/plain": [
       "                       SMILES  Label  \\\n",
       "0             CC(=O)Nc1ccccc1      1   \n",
       "1  CC(=O)Nc1nnc(S(N)(=O)=O)s1      1   \n",
       "\n",
       "                                       drug_encoding  \n",
       "0  [[[tensor(1.), tensor(0.), tensor(0.), tensor(...  \n",
       "1  [[[tensor(1.), tensor(0.), tensor(0.), tensor(...  "
      ]
     },
     "execution_count": 76,
     "metadata": {},
     "output_type": "execute_result"
    }
   ],
   "source": [
    "train.head(2)"
   ]
  },
  {
   "cell_type": "markdown",
   "metadata": {},
   "source": [
    "Build and train model within 4 lines of code, in less than 1 minute. "
   ]
  },
  {
   "cell_type": "code",
   "execution_count": null,
   "metadata": {},
   "outputs": [
    {
     "name": "stdout",
     "output_type": "stream",
     "text": [
      "Let's use CPU/s!\n",
      "--- Data Preparation ---\n",
      "--- Go for Training ---\n",
      "Training at Epoch 1 iteration 0 with loss 0.69631. Total time 0.0 hours\n",
      "Validation at Epoch 1 , AUROC: 0.46218 , AUPRC: 0.89574 , F1: 0.93577\n",
      "Training at Epoch 2 iteration 0 with loss 0.81288. Total time 0.00055 hours\n",
      "Validation at Epoch 2 , AUROC: 0.38095 , AUPRC: 0.86871 , F1: 0.93577\n",
      "Training at Epoch 3 iteration 0 with loss 0.47037. Total time 0.00138 hours\n",
      "Validation at Epoch 3 , AUROC: 0.33333 , AUPRC: 0.85542 , F1: 0.93577\n",
      "--- Go for Testing ---\n",
      "Testing AUROC: 0.47590759075907585 , AUPRC: 0.8737499648846907 , F1: 0.9308755760368664\n",
      "--- Training Finished ---\n"
     ]
    },
    {
     "data": {
      "image/png": "[encoded data removed]",
      "text/plain": [
       "<Figure size 432x288 with 1 Axes>"
      ]
     },
     "metadata": {
      "needs_background": "light"
     },
     "output_type": "display_data"
    },
    {
     "data": {
      "image/png": "[encoded data removed]",
      "text/plain": [
       "<Figure size 432x288 with 1 Axes>"
      ]
     },
     "metadata": {
      "needs_background": "light"
     },
     "output_type": "display_data"
    }
   ],
   "source": [
    "config = utils.generate_config(drug_encoding = drug_encoding, \n",
    "                               train_epoch = 3, \n",
    "                               LR = 0.001, \n",
    "                               batch_size = 128,\n",
    "                               mpnn_hidden_size = 32,\n",
    "                               mpnn_depth = 2)\n",
    "model = CompoundPred.model_initialize(**config)\n",
    "model.train(train, val, test)\n",
    "model.save_model('./tutorial_model')"
   ]
  },
  {
   "cell_type": "markdown",
   "metadata": {},
   "source": [
    "## ADMET leaderboard\n",
    "\n",
    "ADMET is a cornerstone of small molecule drug discovery, defining drug efficacy and toxicity profile. An ML model that could accurately predict all ADMET properties using structural information of compounds would be greatly valuable.\n",
    "We formulate the ADMET Benchmark Group using 22 ADMET datasets in TDC. \n"
   ]
  },
  {
   "cell_type": "code",
   "execution_count": null,
   "metadata": {},
   "outputs": [],
   "source": [
    "from tdc import BenchmarkGroup\n",
    "group = BenchmarkGroup(name = 'ADMET_Group', path = 'data/')\n",
    "predictions = {}\n",
    "from random import random\n",
    "\n",
    "\n",
    "predictions['Caco2_Wang'] = [random() - 5 for i in range(182)]\n",
    "group.evaluate(predictions)\n"
   ]
  },
  {
   "cell_type": "markdown",
   "metadata": {},
   "source": [
    "## DTI Leaderboard \n",
    "\n",
    "Drug-target interaction (**DTI**) measures the binding of drug molecules to the protein targets. \n",
    "Accurate identification of DTI is fundamental for drug discovery and supports many downstream tasks."
   ]
  },
  {
   "cell_type": "code",
   "execution_count": null,
   "metadata": {},
   "outputs": [],
   "source": [
    "from tdc import BenchmarkGroup\n",
    "group = BenchmarkGroup(name = 'DTI_DG_Group', path = './data')\n",
    "\n",
    "# y_pred = model.predict(test)\n",
    "predictions = {}\n",
    "# predictions['XXXX'] = [random() for i in range(10)]\n",
    "# group.evaluate(predictions)"
   ]
  },
  {
   "cell_type": "code",
   "execution_count": null,
   "metadata": {},
   "outputs": [],
   "source": []
  }
 ],
 "metadata": {
  "kernelspec": {
   "display_name": "Python 3 (ipykernel)",
   "language": "python",
   "name": "python3"
  },
  "language_info": {
   "codemirror_mode": {
    "name": "ipython",
    "version": 3
   },
   "file_extension": ".py",
   "mimetype": "text/x-python",
   "name": "python",
   "nbconvert_exporter": "python",
   "pygments_lexer": "ipython3",
   "version": "3.7.10"
  }
 },
 "nbformat": 4,
 "nbformat_minor": 4
}
