{
 "cells": [
  {
   "cell_type": "markdown",
   "metadata": {},
   "source": [
    "# TDC 101: Basics\n",
    "\n",
    "[Kexin](https://twitter.com/KexinHuang5)\n",
    "\n",
    "Welcome to the TDC community! In this first tutorial, we will cover the basics of TDC and after this tutorial, you will be able to access all of the TDC datasets!\n",
    "\n",
    "### What is TDC?\n",
    "\n",
    "Therapeutics Data Commons (TDC) is an open and extensive data hub that includes 50+ machine learning (ML) ready datasets across 20+ therapeutic tasks, ranging from target discovery, activity screening, efficacy, safety to manufacturing, covering small molecule, antibodies, miRNA and other therapeutics products.\n",
    "\n",
    "TDC mainly consists of two parts: the first core part is the datasets loaders where you can get the ML ready data; and the second part is the data functions where we provide numerous functions to help process the data, evaluate the ML models, etc. Let's get started!\n",
    "\n",
    "### Installation\n",
    "\n",
    "The core TDC library only relies on a few lightweight packages: pandas, scikit-learn, numpy, fuzzywuzzy, tqdm. For some specific use case requiring other packages, we provide instructions when you use it. To install TDC, simply type:\n",
    "\n",
    "```bash\n",
    "pip install PyTDC\n",
    "```\n",
    "\n",
    "Now, you have TDC installed! We can get started to introduce the dataset loader! \n",
    "\n",
    "TDC covers a wide range of therapeutics tasks with varying data structures. Thus, we organize it into three layers of hierarchies. First, we divide into three distinctive machine learning **problems**:\n",
    "\n",
    "* Single-instance prediction `single_pred`: Prediction of property given individual biomedical entity.\n",
    "* Multi-instance prediction `multi_pred`: Prediction of property given multiple biomedical entities. \n",
    "* Generation `generation`: Generation of new biomedical entity.\n",
    "\n",
    "The second layer is **task**. Each therapeutic task falls into one of the machine learning problem. We create a data loader class for every *task* that inherits from the base problem data loader. \n",
    "\n",
    "The last layer is **dataset**, where each task consists of many of them. As the data structure of most datasets in a task is the same, the dataset is used as a function input to the task data loader.\n",
    "\n",
    "Supposed a dataset X is from therapeutic task Y with machine learning problem Z, then to obtain the data and splits, simply type:\n",
    "\n",
    "```python\n",
    "from tdc.Z import Y\n",
    "data = Y(name = 'X')\n",
    "split = data.split()\n",
    "```\n",
    "For example, to obtain the Caco2 dataset from ADME therapeutic task in the single-instance prediction problem:"
   ]
  },
  {
   "cell_type": "code",
   "execution_count": 2,
   "metadata": {},
   "outputs": [
    {
     "name": "stderr",
     "output_type": "stream",
     "text": [
      "Downloading...\n",
      "100%|██████████| 84.3k/84.3k [00:00<00:00, 952kiB/s]\n",
      "Loading...\n",
      "Done!\n"
     ]
    }
   ],
   "source": [
    "from tdc.single_pred import ADME\n",
    "data = ADME(name = 'Caco2_Wang')"
   ]
  },
  {
   "cell_type": "markdown",
   "metadata": {},
   "source": [
    "The object `data` is a data loader class, which contains various functions. Note that as many dataset names are complicated with cases and stuff, in the backend, TDC supports fuzzy search, so you don't need to worry about typing wrong a few characters!\n",
    "\n",
    "You can then split the dataset into training, validation and testing pandas data frames, processed in ML ready format:"
   ]
  },
  {
   "cell_type": "code",
   "execution_count": 3,
   "metadata": {},
   "outputs": [
    {
     "data": {
      "text/html": [
       "<div>\n",
       "<style scoped>\n",
       "    .dataframe tbody tr th:only-of-type {\n",
       "        vertical-align: middle;\n",
       "    }\n",
       "\n",
       "    .dataframe tbody tr th {\n",
       "        vertical-align: top;\n",
       "    }\n",
       "\n",
       "    .dataframe thead th {\n",
       "        text-align: right;\n",
       "    }\n",
       "</style>\n",
       "<table border=\"1\" class=\"dataframe\">\n",
       "  <thead>\n",
       "    <tr style=\"text-align: right;\">\n",
       "      <th></th>\n",
       "      <th>Drug_ID</th>\n",
       "      <th>Drug</th>\n",
       "      <th>Y</th>\n",
       "    </tr>\n",
       "  </thead>\n",
       "  <tbody>\n",
       "    <tr>\n",
       "      <th>0</th>\n",
       "      <td>(-)-epicatechin</td>\n",
       "      <td>O1c2c(CC(O)C1c1cc(O)c(O)cc1)c(O)cc(O)c2</td>\n",
       "      <td>-6.22</td>\n",
       "    </tr>\n",
       "    <tr>\n",
       "      <th>1</th>\n",
       "      <td>(2E,4Z,8Z)-N-isobutyldodeca-2,4,10-triene-8 -y...</td>\n",
       "      <td>O=C(NCC(C)C)\\C=C\\C=C/CCC#C\\C=C/C</td>\n",
       "      <td>-3.86</td>\n",
       "    </tr>\n",
       "  </tbody>\n",
       "</table>\n",
       "</div>"
      ],
      "text/plain": [
       "                                             Drug_ID  \\\n",
       "0                                    (-)-epicatechin   \n",
       "1  (2E,4Z,8Z)-N-isobutyldodeca-2,4,10-triene-8 -y...   \n",
       "\n",
       "                                      Drug     Y  \n",
       "0  O1c2c(CC(O)C1c1cc(O)c(O)cc1)c(O)cc(O)c2 -6.22  \n",
       "1         O=C(NCC(C)C)\\C=C\\C=C/CCC#C\\C=C/C -3.86  "
      ]
     },
     "execution_count": 3,
     "metadata": {},
     "output_type": "execute_result"
    }
   ],
   "source": [
    "split = data.get_split()\n",
    "split['train'].head(2)"
   ]
  },
  {
   "cell_type": "markdown",
   "metadata": {},
   "source": [
    "You can specify the splitting method, random seed, and split fractions in the function by e.g. `data.get_split(method = 'random', seed = 1, frac = [0.7, 0.1, 0.2])`. In default, the split `method` is random split, the `seed` is the TDC benchmark seed (`seed = 'benchmark'`), and the fraction `frac` is 70%, 10%, 20% for training, validation and testing.\n",
    "\n",
    "We provide various data functions, for example, you can visualize the label distribution:"
   ]
  },
  {
   "cell_type": "code",
   "execution_count": 4,
   "metadata": {},
   "outputs": [
    {
     "data": {
      "image/png": "[encoded data removed]",
      "text/plain": [
       "<Figure size 432x288 with 2 Axes>"
      ]
     },
     "metadata": {
      "needs_background": "light"
     },
     "output_type": "display_data"
    },
    {
     "name": "stderr",
     "output_type": "stream",
     "text": [
      "The median is -5.131223899999999\n",
      "The mean is -5.239498353736264\n"
     ]
    }
   ],
   "source": [
    "data.label_distribution()"
   ]
  },
  {
   "cell_type": "markdown",
   "metadata": {},
   "source": [
    "You can also binarize the data if you want to do binary classification instead. For example, for Caco-2, we know higher than -4.7 is good, so we can do binarization by typing:"
   ]
  },
  {
   "cell_type": "code",
   "execution_count": 6,
   "metadata": {},
   "outputs": [
    {
     "name": "stderr",
     "output_type": "stream",
     "text": [
      "The data is already binarized!\n"
     ]
    },
    {
     "data": {
      "image/png": "[encoded data removed]",
      "text/plain": [
       "<Figure size 432x288 with 2 Axes>"
      ]
     },
     "metadata": {
      "needs_background": "light"
     },
     "output_type": "display_data"
    },
    {
     "name": "stderr",
     "output_type": "stream",
     "text": [
      "The median is 0.0\n",
      "The mean is 0.2934065934065934\n"
     ]
    }
   ],
   "source": [
    "data.binarize(threshold = -4.7, order = 'ascending')\n",
    "data.label_distribution()"
   ]
  },
  {
   "cell_type": "code",
   "execution_count": null,
   "metadata": {},
   "outputs": [],
   "source": []
  },
  {
   "cell_type": "code",
   "execution_count": 11,
   "metadata": {},
   "outputs": [
    {
     "name": "stderr",
     "output_type": "stream",
     "text": [
      "Downloading...\n",
      "100%|██████████| 15.1M/15.1M [00:02<00:00, 6.30MiB/s]\n",
      "Loading...\n",
      "Done!\n"
     ]
    }
   ],
   "source": [
    "from tdc.multi_pred import PeptideMHC\n",
    "data = PeptideMHC(name = 'MHC1_IEDB-IMGT_Nielsen')\n",
    "split = data.get_split()"
   ]
  },
  {
   "cell_type": "code",
   "execution_count": 12,
   "metadata": {},
   "outputs": [
    {
     "name": "stderr",
     "output_type": "stream",
     "text": [
      "Found local copy...\n",
      "Loading...\n",
      "Done!\n"
     ]
    }
   ],
   "source": [
    "from tdc.single_pred import Epitope\n",
    "data = Epitope(name = 'iedb_jespersen')"
   ]
  },
  {
   "cell_type": "code",
   "execution_count": 13,
   "metadata": {},
   "outputs": [
    {
     "name": "stderr",
     "output_type": "stream",
     "text": [
      "Found local copy...\n",
      "Loading...\n",
      "Done!\n"
     ]
    }
   ],
   "source": [
    "from tdc.multi_pred import DTI\n",
    "data = DTI(name = 'davis')\n",
    "split = data.get_split()"
   ]
  },
  {
   "cell_type": "code",
   "execution_count": 17,
   "metadata": {},
   "outputs": [
    {
     "name": "stderr",
     "output_type": "stream",
     "text": [
      "Downloading...\n",
      "100%|██████████| 139M/139M [00:08<00:00, 16.9MiB/s] \n",
      "Loading...\n",
      "Done!\n"
     ]
    }
   ],
   "source": [
    "from tdc.multi_pred import PPI\n",
    "data = PPI(name = 'HuRI')"
   ]
  },
  {
   "cell_type": "code",
   "execution_count": 3,
   "metadata": {},
   "outputs": [
    {
     "name": "stderr",
     "output_type": "stream",
     "text": [
      "Downloading...\n",
      "100%|██████████| 140M/140M [00:07<00:00, 20.0MiB/s] \n",
      "Loading...\n",
      "Done!\n"
     ]
    }
   ],
   "source": [
    "from tdc.multi_pred import DrugRes\n",
    "data = DrugRes(name = 'GDSC1')\n",
    "split = data.get_split()"
   ]
  },
  {
   "cell_type": "code",
   "execution_count": 1,
   "metadata": {},
   "outputs": [],
   "source": [
    "from tdc.utils import retrieve_label_name_list\n",
    "label_list = retrieve_label_name_list('qm9')"
   ]
  },
  {
   "cell_type": "code",
   "execution_count": 1,
   "metadata": {},
   "outputs": [
    {
     "name": "stderr",
     "output_type": "stream",
     "text": [
      "Tip: Use tdc.utils.retrieve_label_name_list('qm7b') to retrieve all available label names.\n",
      "Downloading...\n",
      "100%|██████████| 16.4M/16.4M [00:01<00:00, 14.0MiB/s]\n",
      "Loading...\n",
      "Done!\n"
     ]
    }
   ],
   "source": [
    "from tdc.single_pred import QM\n",
    "data = QM(name = 'qm7b', label_name = 'E_PBE0')"
   ]
  },
  {
   "cell_type": "code",
   "execution_count": 2,
   "metadata": {},
   "outputs": [
    {
     "name": "stderr",
     "output_type": "stream",
     "text": [
      "Downloading...\n",
      "100%|██████████| 922M/922M [00:38<00:00, 24.0MiB/s] \n",
      "Loading...\n",
      "Done!\n"
     ]
    }
   ],
   "source": [
    "from tdc.single_pred import QM\n",
    "data = QM(name = 'qm9', label_name = label_list[2])"
   ]
  },
  {
   "cell_type": "code",
   "execution_count": 1,
   "metadata": {},
   "outputs": [
    {
     "name": "stderr",
     "output_type": "stream",
     "text": [
      "Found local copy...\n",
      "Loading...\n",
      "Done!\n"
     ]
    }
   ],
   "source": [
    "from tdc.single_pred import Develop\n",
    "data = Develop(name = 'TAP', label_name = 'PNC')\n",
    "split = data.get_split()"
   ]
  },
  {
   "cell_type": "code",
   "execution_count": 5,
   "metadata": {},
   "outputs": [
    {
     "name": "stderr",
     "output_type": "stream",
     "text": [
      "Downloading...\n",
      "100%|██████████| 601k/601k [00:00<00:00, 1.48MiB/s]\n",
      "Loading...\n",
      "Done!\n"
     ]
    }
   ],
   "source": [
    "from tdc.single_pred import Develop\n",
    "data = Develop(name = 'SAbDab_Chen')\n",
    "split = data.get_split()"
   ]
  },
  {
   "cell_type": "code",
   "execution_count": 1,
   "metadata": {},
   "outputs": [
    {
     "name": "stderr",
     "output_type": "stream",
     "text": [
      "Downloading...\n",
      "100%|██████████| 330k/330k [00:00<00:00, 1.05MiB/s]\n",
      "Loading...\n",
      "Done!\n"
     ]
    }
   ],
   "source": [
    "from tdc.multi_pred import AntibodyAff\n",
    "data = AntibodyAff(name = 'Protein_SAbDab')\n",
    "split = data.get_split()"
   ]
  },
  {
   "cell_type": "code",
   "execution_count": 1,
   "metadata": {},
   "outputs": [
    {
     "name": "stderr",
     "output_type": "stream",
     "text": [
      "Found local copy...\n",
      "Loading...\n",
      "Done!\n"
     ]
    }
   ],
   "source": [
    "from tdc.multi_pred import DrugSyn\n",
    "data = DrugSyn(name = 'OncoPolyPharmacology')\n",
    "split = data.get_split()"
   ]
  },
  {
   "cell_type": "code",
   "execution_count": 5,
   "metadata": {},
   "outputs": [
    {
     "name": "stderr",
     "output_type": "stream",
     "text": [
      "Found local copy...\n",
      "Loading...\n",
      "Done!\n",
      "--- Dataset Statistics ---\n",
      "7399 unique genes.\n",
      "7095 unique diseases.\n",
      "52476 gene-disease pairs.\n",
      "--------------------------\n"
     ]
    }
   ],
   "source": [
    "from tdc.multi_pred import GDA\n",
    "data = GDA(name = 'DisGeNET')\n",
    "data.print_stats()"
   ]
  },
  {
   "cell_type": "code",
   "execution_count": 3,
   "metadata": {},
   "outputs": [
    {
     "name": "stderr",
     "output_type": "stream",
     "text": [
      "Downloading...\n",
      "100%|██████████| 338M/338M [00:15<00:00, 22.6MiB/s] \n",
      "Loading...\n",
      "Done!\n"
     ]
    }
   ],
   "source": [
    "from tdc.multi_pred import MTI\n",
    "data = MTI(name = 'miRTarBase')\n",
    "split = data.get_split(method = 'cold_split', column_name = 'miRNA')"
   ]
  },
  {
   "cell_type": "code",
   "execution_count": 2,
   "metadata": {},
   "outputs": [],
   "source": [
    "data = data.neg_sample(frac = 1)"
   ]
  },
  {
   "cell_type": "code",
   "execution_count": 4,
   "metadata": {},
   "outputs": [
    {
     "data": {
      "text/plain": [
       "1048028"
      ]
     },
     "execution_count": 4,
     "metadata": {},
     "output_type": "execute_result"
    }
   ],
   "source": [
    "len(data.get_data())"
   ]
  },
  {
   "cell_type": "code",
   "execution_count": 14,
   "metadata": {},
   "outputs": [
    {
     "name": "stderr",
     "output_type": "stream",
     "text": [
      "Downloading...\n",
      "100%|██████████| 63.9M/63.9M [00:03<00:00, 20.2MiB/s]\n",
      "Loading...\n",
      "Done!\n"
     ]
    }
   ],
   "source": [
    "from tdc.multi_pred import GDA\n",
    "data = GDA(name = 'DisGeNET')\n",
    "split = data.get_split()"
   ]
  },
  {
   "cell_type": "code",
   "execution_count": 1,
   "metadata": {},
   "outputs": [
    {
     "name": "stderr",
     "output_type": "stream",
     "text": [
      "Downloading...\n",
      "100%|██████████| 150k/150k [00:00<00:00, 712kiB/s] \n",
      "Loading...\n",
      "Done!\n"
     ]
    }
   ],
   "source": [
    "from tdc.single_pred import Paratope\n",
    "data = Paratope(name = 'SAbDab_Liberis')\n",
    "split = data.get_split()"
   ]
  },
  {
   "cell_type": "code",
   "execution_count": 2,
   "metadata": {},
   "outputs": [
    {
     "data": {
      "text/plain": [
       "1023"
      ]
     },
     "execution_count": 2,
     "metadata": {},
     "output_type": "execute_result"
    }
   ],
   "source": [
    "len(data.get_data())"
   ]
  },
  {
   "cell_type": "code",
   "execution_count": 1,
   "metadata": {},
   "outputs": [
    {
     "name": "stderr",
     "output_type": "stream",
     "text": [
      "Found local copy...\n",
      "Loading...\n",
      "Done!\n"
     ]
    }
   ],
   "source": [
    "from tdc.multi_pred import DTI\n",
    "data = DTI(name = 'DAVIS')\n",
    "split = data.get_split(method = 'cold_split', column_name = 'Drug')"
   ]
  },
  {
   "cell_type": "code",
   "execution_count": 2,
   "metadata": {},
   "outputs": [
    {
     "data": {
      "image/png": "[encoded data removed]",
      "text/plain": [
       "<Figure size 432x288 with 2 Axes>"
      ]
     },
     "metadata": {
      "needs_background": "light"
     },
     "output_type": "display_data"
    },
    {
     "name": "stderr",
     "output_type": "stream",
     "text": [
      "The median is 10000.0\n",
      "The mean is 7415.876611724781\n"
     ]
    }
   ],
   "source": [
    "data.label_distribution()"
   ]
  },
  {
   "cell_type": "code",
   "execution_count": 3,
   "metadata": {},
   "outputs": [
    {
     "name": "stderr",
     "output_type": "stream",
     "text": [
      "Binariztion using threshold 30, default, we assume the smaller values are 1 and larger ones is 0, you can change the order by 'binarize(order = 'ascending')'\n"
     ]
    },
    {
     "data": {
      "text/plain": [
       "<tdc.multi_pred.dataloader.DTI at 0x7fa3aa07e8d0>"
      ]
     },
     "execution_count": 3,
     "metadata": {},
     "output_type": "execute_result"
    }
   ],
   "source": [
    "data.binarize(threshold = 30, order = 'descending')"
   ]
  },
  {
   "cell_type": "code",
   "execution_count": 4,
   "metadata": {},
   "outputs": [
    {
     "data": {
      "image/png": "[encoded data removed]",
      "text/plain": [
       "<Figure size 432x288 with 2 Axes>"
      ]
     },
     "metadata": {
      "needs_background": "light"
     },
     "output_type": "display_data"
    },
    {
     "name": "stderr",
     "output_type": "stream",
     "text": [
      "The median is 0.0\n",
      "The mean is 0.050106467926537133\n"
     ]
    }
   ],
   "source": [
    "data.label_distribution()"
   ]
  },
  {
   "cell_type": "code",
   "execution_count": 29,
   "metadata": {},
   "outputs": [
    {
     "name": "stderr",
     "output_type": "stream",
     "text": [
      "Downloading...\n",
      "100%|██████████| 30.9k/30.9k [00:00<00:00, 7.47MiB/s]\n",
      "Loading...\n",
      "Done!\n"
     ]
    }
   ],
   "source": [
    "from tdc.single_pred import HTS\n",
    "data = HTS(name = 'SARSCoV2_3CLPro_Diamond')"
   ]
  },
  {
   "cell_type": "code",
   "execution_count": 30,
   "metadata": {},
   "outputs": [
    {
     "data": {
      "image/png": "[encoded data removed]",
      "text/plain": [
       "<Figure size 432x288 with 2 Axes>"
      ]
     },
     "metadata": {
      "needs_background": "light"
     },
     "output_type": "display_data"
    },
    {
     "name": "stderr",
     "output_type": "stream",
     "text": [
      "The median is 0.0\n",
      "The mean is 0.08863636363636364\n"
     ]
    }
   ],
   "source": [
    "data.label_distribution()"
   ]
  },
  {
   "cell_type": "code",
   "execution_count": 31,
   "metadata": {},
   "outputs": [
    {
     "data": {
      "text/plain": [
       "880"
      ]
     },
     "execution_count": 31,
     "metadata": {},
     "output_type": "execute_result"
    }
   ],
   "source": [
    "len(data)"
   ]
  },
  {
   "cell_type": "code",
   "execution_count": 32,
   "metadata": {},
   "outputs": [
    {
     "name": "stderr",
     "output_type": "stream",
     "text": [
      " Oversample of minority class is used. \n"
     ]
    },
    {
     "data": {
      "text/html": [
       "<div>\n",
       "<style scoped>\n",
       "    .dataframe tbody tr th:only-of-type {\n",
       "        vertical-align: middle;\n",
       "    }\n",
       "\n",
       "    .dataframe tbody tr th {\n",
       "        vertical-align: top;\n",
       "    }\n",
       "\n",
       "    .dataframe thead th {\n",
       "        text-align: right;\n",
       "    }\n",
       "</style>\n",
       "<table border=\"1\" class=\"dataframe\">\n",
       "  <thead>\n",
       "    <tr style=\"text-align: right;\">\n",
       "      <th></th>\n",
       "      <th>Drug_ID</th>\n",
       "      <th>Drug</th>\n",
       "      <th>Y</th>\n",
       "    </tr>\n",
       "  </thead>\n",
       "  <tbody>\n",
       "    <tr>\n",
       "      <th>0</th>\n",
       "      <td>47</td>\n",
       "      <td>OC=1C=CC=CN1</td>\n",
       "      <td>1</td>\n",
       "    </tr>\n",
       "    <tr>\n",
       "      <th>1</th>\n",
       "      <td>856</td>\n",
       "      <td>C[1C@@H]1CC[1C@@H](O1)C(=O)N2CCC=C(F)C2</td>\n",
       "      <td>0</td>\n",
       "    </tr>\n",
       "    <tr>\n",
       "      <th>2</th>\n",
       "      <td>494</td>\n",
       "      <td>CC1CCCCN1CCN</td>\n",
       "      <td>0</td>\n",
       "    </tr>\n",
       "    <tr>\n",
       "      <th>3</th>\n",
       "      <td>74</td>\n",
       "      <td>ClCC(=O)Nc1cccnc1Cl</td>\n",
       "      <td>1</td>\n",
       "    </tr>\n",
       "    <tr>\n",
       "      <th>4</th>\n",
       "      <td>54</td>\n",
       "      <td>CC(=O)NC(Cc1ccc(cc1)O)C(=O)NCC#CBr</td>\n",
       "      <td>1</td>\n",
       "    </tr>\n",
       "    <tr>\n",
       "      <th>...</th>\n",
       "      <td>...</td>\n",
       "      <td>...</td>\n",
       "      <td>...</td>\n",
       "    </tr>\n",
       "    <tr>\n",
       "      <th>1599</th>\n",
       "      <td>504</td>\n",
       "      <td>CC(=O)NCC1=NC=CN1</td>\n",
       "      <td>0</td>\n",
       "    </tr>\n",
       "    <tr>\n",
       "      <th>1600</th>\n",
       "      <td>353</td>\n",
       "      <td>ClCC(=O)N1CCN(CC1)C2CCS(=O)(=O)C2</td>\n",
       "      <td>0</td>\n",
       "    </tr>\n",
       "    <tr>\n",
       "      <th>1601</th>\n",
       "      <td>594</td>\n",
       "      <td>NC(=O)CN1CCN(CC1)C(=O)C2=CC=CO2</td>\n",
       "      <td>0</td>\n",
       "    </tr>\n",
       "    <tr>\n",
       "      <th>1602</th>\n",
       "      <td>71</td>\n",
       "      <td>ClCC(=O)NCc1ccc2OCOc2c1</td>\n",
       "      <td>1</td>\n",
       "    </tr>\n",
       "    <tr>\n",
       "      <th>1603</th>\n",
       "      <td>91</td>\n",
       "      <td>NC1=NC=CC(I)=C1</td>\n",
       "      <td>0</td>\n",
       "    </tr>\n",
       "  </tbody>\n",
       "</table>\n",
       "<p>1604 rows × 3 columns</p>\n",
       "</div>"
      ],
      "text/plain": [
       "      Drug_ID                                     Drug  Y\n",
       "0          47                             OC=1C=CC=CN1  1\n",
       "1         856  C[1C@@H]1CC[1C@@H](O1)C(=O)N2CCC=C(F)C2  0\n",
       "2         494                             CC1CCCCN1CCN  0\n",
       "3          74                      ClCC(=O)Nc1cccnc1Cl  1\n",
       "4          54       CC(=O)NC(Cc1ccc(cc1)O)C(=O)NCC#CBr  1\n",
       "...       ...                                      ... ..\n",
       "1599      504                        CC(=O)NCC1=NC=CN1  0\n",
       "1600      353        ClCC(=O)N1CCN(CC1)C2CCS(=O)(=O)C2  0\n",
       "1601      594          NC(=O)CN1CCN(CC1)C(=O)C2=CC=CO2  0\n",
       "1602       71                  ClCC(=O)NCc1ccc2OCOc2c1  1\n",
       "1603       91                          NC1=NC=CC(I)=C1  0\n",
       "\n",
       "[1604 rows x 3 columns]"
      ]
     },
     "execution_count": 32,
     "metadata": {},
     "output_type": "execute_result"
    }
   ],
   "source": [
    "data.balanced(oversample = True, seed = 'benchmark')"
   ]
  },
  {
   "cell_type": "code",
   "execution_count": 1,
   "metadata": {},
   "outputs": [
    {
     "name": "stderr",
     "output_type": "stream",
     "text": [
      "Downloading...\n",
      "100%|██████████| 26.7M/26.7M [00:03<00:00, 8.78MiB/s]\n",
      "Loading...\n",
      "Done!\n",
      "The dataset label consists of affinity scores. Binarization using threshold 30 is conducted to construct the positive edges in the network. Adjust the threshold by to_graph(threshold = X)\n",
      "Using backend: pytorch\n"
     ]
    }
   ],
   "source": [
    "from tdc.multi_pred import DTI\n",
    "data = DTI(name = 'DAVIS')\n",
    "out = data.to_graph(threshold = 30, format = 'dgl', split = True, frac = [0.7, 0.1, 0.2], seed = 'benchmark', order = 'descending')"
   ]
  },
  {
   "cell_type": "code",
   "execution_count": 13,
   "metadata": {},
   "outputs": [
    {
     "data": {
      "text/plain": [
       "dict_keys(['dgl_graph', 'index_to_entities', 'split'])"
      ]
     },
     "execution_count": 13,
     "metadata": {},
     "output_type": "execute_result"
    }
   ],
   "source": [
    "out.keys()"
   ]
  },
  {
   "cell_type": "code",
   "execution_count": 14,
   "metadata": {},
   "outputs": [
    {
     "name": "stderr",
     "output_type": "stream",
     "text": [
      "Downloading...\n",
      "100%|██████████| 139M/139M [00:06<00:00, 20.0MiB/s] \n",
      "Loading...\n",
      "Done!\n"
     ]
    }
   ],
   "source": [
    "from tdc.multi_pred import PPI\n",
    "data = PPI(name = 'HuRI')\n",
    "data = data.neg_sample(frac = 1)"
   ]
  },
  {
   "cell_type": "code",
   "execution_count": null,
   "metadata": {},
   "outputs": [],
   "source": []
  },
  {
   "cell_type": "code",
   "execution_count": 3,
   "metadata": {},
   "outputs": [
    {
     "name": "stdout",
     "output_type": "stream",
     "text": [
      "1.0\n"
     ]
    }
   ],
   "source": [
    "from tdc import Evaluator\n",
    "\n",
    "evaluator = Evaluator(name = 'ROC-AUC')\n",
    "print(evaluator([0,1], [0.5, 0.6]))"
   ]
  },
  {
   "cell_type": "code",
   "execution_count": 1,
   "metadata": {},
   "outputs": [
    {
     "name": "stdout",
     "output_type": "stream",
     "text": [
      "[0.05454545454545454, 0.07142857142857142, 0.061224489795918366, 0.07894736842105263]\n"
     ]
    }
   ],
   "source": [
    "from tdc import Oracle\n",
    "\n",
    "oracle = Oracle(name = 'Uniqueness')\n",
    "\n",
    "smiles_lst = ['CC(C)(C)[C@H]1CCc2c(sc(NC(=O)COc3ccc(Cl)cc3)c2C(N)=O)C1', \\\n",
    "\t\t\t  'C[C@@H]1CCc2c(sc(NC(=O)c3ccco3)c2C(N)=O)C1', \\\n",
    "\t\t\t  'CCNC(=O)c1ccc(NC(=O)N2CC[C@H](C)[C@H](O)C2)c(C)c1', \\\n",
    "\t\t\t  'C[C@@H]1CCN(C(=O)CCCc2ccccc2)C[C@@H]1O']\n",
    "\n",
    "print(oracle(smiles_lst))"
   ]
  },
  {
   "cell_type": "code",
   "execution_count": 1,
   "metadata": {},
   "outputs": [
    {
     "name": "stdout",
     "output_type": "stream",
     "text": [
      "0.0\n"
     ]
    }
   ],
   "source": [
    "from tdc import Oracle\n",
    "\n",
    "oracle = Oracle(name = 'Novelty')\n",
    "\n",
    "smiles_lst = ['CC(C)(C)[C@H]1CCc2c(sc(NC(=O)COc3ccc(Cl)cc3)c2C(N)=O)C1', \\\n",
    "\t\t\t  'C[C@@H]1CCc2c(sc(NC(=O)c3ccco3)c2C(N)=O)C1', \\\n",
    "\t\t\t  'CCNC(=O)c1ccc(NC(=O)N2CC[C@H](C)[C@H](O)C2)c(C)c1', \\\n",
    "\t\t\t  'C[C@@H]1CCN(C(=O)CCCc2ccccc2)C[C@@H]1O']\n",
    "\n",
    "print(oracle(smiles_lst, smiles_lst))"
   ]
  },
  {
   "cell_type": "code",
   "execution_count": 2,
   "metadata": {},
   "outputs": [],
   "source": [
    "from tdc.utils import cid2smiles\n",
    "smiles = cid2smiles(2248631)"
   ]
  },
  {
   "cell_type": "code",
   "execution_count": 3,
   "metadata": {},
   "outputs": [
    {
     "data": {
      "text/plain": [
       "'CCOC1=CC(=C(C=C1C=CC(=O)O)Br)OCC'"
      ]
     },
     "execution_count": 3,
     "metadata": {},
     "output_type": "execute_result"
    }
   ],
   "source": [
    "smiles"
   ]
  },
  {
   "cell_type": "code",
   "execution_count": 1,
   "metadata": {},
   "outputs": [],
   "source": [
    "from tdc.utils import uniprot2seq\n",
    "seq = uniprot2seq('P49122')"
   ]
  },
  {
   "cell_type": "code",
   "execution_count": 2,
   "metadata": {},
   "outputs": [
    {
     "data": {
      "text/plain": [
       "'MKTLLLTLVVVTIVCLDLGYTLKCHNTQLPFIYNTCPEGKNLCFKATLKFPLKFPVKRGCAATCPRSSSLVKVVCCKTDKCN'"
      ]
     },
     "execution_count": 2,
     "metadata": {},
     "output_type": "execute_result"
    }
   ],
   "source": [
    "seq"
   ]
  },
  {
   "cell_type": "code",
   "execution_count": null,
   "metadata": {},
   "outputs": [],
   "source": []
  },
  {
   "cell_type": "code",
   "execution_count": 2,
   "metadata": {},
   "outputs": [],
   "source": [
    "y_true = [[0, 1], [1, 1, 0, 1]]\n",
    "y_pred = [[0.3, 0.2], [0.9, 0.89, 0.1, 0.8]]"
   ]
  },
  {
   "cell_type": "code",
   "execution_count": 27,
   "metadata": {},
   "outputs": [],
   "source": [
    "from tdc import Evaluator\n",
    "evaluator = Evaluator(name = 'R2')\n",
    "score = evaluator(y_true[0], y_pred[0], threshold = 0.1)"
   ]
  },
  {
   "cell_type": "code",
   "execution_count": 28,
   "metadata": {},
   "outputs": [
    {
     "data": {
      "text/plain": [
       "-0.4600000000000002"
      ]
     },
     "execution_count": 28,
     "metadata": {},
     "output_type": "execute_result"
    }
   ],
   "source": [
    "score"
   ]
  },
  {
   "cell_type": "code",
   "execution_count": 5,
   "metadata": {},
   "outputs": [
    {
     "data": {
      "text/plain": [
       "['bbb_adenot',\n",
       " 'bbb_martins',\n",
       " 'bindingdb_ic50',\n",
       " 'bindingdb_kd',\n",
       " 'bindingdb_ki',\n",
       " 'bioavailability_ma',\n",
       " 'caco2_wang',\n",
       " 'clearance_edrug3d',\n",
       " 'clintox',\n",
       " 'cyp1a2_veith',\n",
       " 'cyp2c19_veith',\n",
       " 'cyp2c9_veith',\n",
       " 'cyp2d6_veith',\n",
       " 'cyp3a4_veith',\n",
       " 'davis',\n",
       " 'drugbank',\n",
       " 'f20_edrug3d',\n",
       " 'f30_edrug3d',\n",
       " 'halflife_edrug3d',\n",
       " 'hia_hou',\n",
       " 'hiv',\n",
       " 'huri',\n",
       " 'hydrationfreeenergy_freesolv',\n",
       " 'kiba',\n",
       " 'lipophilicity_astrazeneca',\n",
       " 'pgp_broccatelli',\n",
       " 'ppbr_edrug3d',\n",
       " 'ppbr_ma',\n",
       " 'sarscov2_3clpro_diamond',\n",
       " 'sarscov2_vitro_touret',\n",
       " 'solubility_aqsoldb',\n",
       " 'tox21',\n",
       " 'toxcast',\n",
       " 'twosides',\n",
       " 'vd_edrug3d',\n",
       " 'mhc1_iedb-imgt_nielsen',\n",
       " 'mhc2_iedb_jensen',\n",
       " 'zinc',\n",
       " 'moses',\n",
       " 'chembl',\n",
       " 'qed',\n",
       " 'drd2',\n",
       " 'logp',\n",
       " 'gdsc1',\n",
       " 'gdsc2',\n",
       " 'iedb_jespersen',\n",
       " 'pdb_jespersen',\n",
       " 'qm7b',\n",
       " 'qm8',\n",
       " 'qm9',\n",
       " 'tap',\n",
       " 'sabdab_chen',\n",
       " 'protein_sabdab',\n",
       " 'oncopolypharmacology',\n",
       " 'mirtarbase',\n",
       " 'disgenet',\n",
       " 'sabdab_liberis',\n",
       " 'uspto50k',\n",
       " 'buchwald-hartwig',\n",
       " 'uspto_yields',\n",
       " 'uspto_catalyst',\n",
       " 'uspto_reaction']"
      ]
     },
     "execution_count": 5,
     "metadata": {},
     "output_type": "execute_result"
    }
   ],
   "source": [
    "from tdc.utils import name2id\n",
    "list(name2id.keys())"
   ]
  },
  {
   "cell_type": "code",
   "execution_count": 2,
   "metadata": {},
   "outputs": [
    {
     "name": "stderr",
     "output_type": "stream",
     "text": [
      "Downloading...\n",
      "100%|██████████| 565M/565M [00:28<00:00, 19.8MiB/s] \n",
      "Loading...\n",
      "Done!\n"
     ]
    }
   ],
   "source": [
    "from tdc.multi_pred import Catalyst\n",
    "data = Catalyst(name = 'USPTO_Catalyst')\n",
    "split = data.get_split()"
   ]
  },
  {
   "cell_type": "code",
   "execution_count": 6,
   "metadata": {},
   "outputs": [
    {
     "data": {
      "text/plain": [
       "1257015"
      ]
     },
     "execution_count": 6,
     "metadata": {},
     "output_type": "execute_result"
    }
   ],
   "source": [
    "len(data)"
   ]
  },
  {
   "cell_type": "code",
   "execution_count": 3,
   "metadata": {
    "scrolled": true
   },
   "outputs": [
    {
     "data": {
      "text/html": [
       "<div>\n",
       "<style scoped>\n",
       "    .dataframe tbody tr th:only-of-type {\n",
       "        vertical-align: middle;\n",
       "    }\n",
       "\n",
       "    .dataframe tbody tr th {\n",
       "        vertical-align: top;\n",
       "    }\n",
       "\n",
       "    .dataframe thead th {\n",
       "        text-align: right;\n",
       "    }\n",
       "</style>\n",
       "<table border=\"1\" class=\"dataframe\">\n",
       "  <thead>\n",
       "    <tr style=\"text-align: right;\">\n",
       "      <th></th>\n",
       "      <th>Reactant_ID</th>\n",
       "      <th>Reactant</th>\n",
       "      <th>Product_ID</th>\n",
       "      <th>Product</th>\n",
       "      <th>Y</th>\n",
       "    </tr>\n",
       "  </thead>\n",
       "  <tbody>\n",
       "    <tr>\n",
       "      <th>0</th>\n",
       "      <td>reactant_636679</td>\n",
       "      <td>Br[C:2]1[N:3]=[CH:4][C:5]2[N:6]([C:8]([C:11]3[...</td>\n",
       "      <td>product_599114</td>\n",
       "      <td>[F:18][C:19]1[CH:24]=[CH:23][C:22]([C:25]2[O:2...</td>\n",
       "      <td>75</td>\n",
       "    </tr>\n",
       "    <tr>\n",
       "      <th>1</th>\n",
       "      <td>reactant_113841</td>\n",
       "      <td>C(N(CC)CC)C.[C:8]([O:12][C:13](=[O:19])[C@H:14...</td>\n",
       "      <td>product_109153</td>\n",
       "      <td>[C:8]([O:12][C:13](=[O:19])[C@H:14]([CH:16]([C...</td>\n",
       "      <td>85</td>\n",
       "    </tr>\n",
       "  </tbody>\n",
       "</table>\n",
       "</div>"
      ],
      "text/plain": [
       "       Reactant_ID                                           Reactant  \\\n",
       "0  reactant_636679  Br[C:2]1[N:3]=[CH:4][C:5]2[N:6]([C:8]([C:11]3[...   \n",
       "1  reactant_113841  C(N(CC)CC)C.[C:8]([O:12][C:13](=[O:19])[C@H:14...   \n",
       "\n",
       "       Product_ID                                            Product   Y  \n",
       "0  product_599114  [F:18][C:19]1[CH:24]=[CH:23][C:22]([C:25]2[O:2...  75  \n",
       "1  product_109153  [C:8]([O:12][C:13](=[O:19])[C@H:14]([CH:16]([C...  85  "
      ]
     },
     "execution_count": 3,
     "metadata": {},
     "output_type": "execute_result"
    }
   ],
   "source": [
    "data.get_split()['valid'].head(2)"
   ]
  },
  {
   "cell_type": "code",
   "execution_count": 7,
   "metadata": {
    "scrolled": true
   },
   "outputs": [
    {
     "data": {
      "text/plain": [
       "888"
      ]
     },
     "execution_count": 7,
     "metadata": {},
     "output_type": "execute_result"
    }
   ],
   "source": [
    "from tdc.utils import get_label_map\n",
    "d = get_label_map(name = 'USPTO_Catalyst', task = 'Catalyst')\n",
    "len(d)"
   ]
  },
  {
   "cell_type": "code",
   "execution_count": 16,
   "metadata": {},
   "outputs": [
    {
     "name": "stderr",
     "output_type": "stream",
     "text": [
      "Found local copy...\n",
      "Loading...\n",
      "Done!\n"
     ]
    }
   ],
   "source": [
    "from tdc.single_pred import Yields\n",
    "data = Yields(name = 'Buchwald-Hartwig')\n",
    "split = data.get_split()"
   ]
  },
  {
   "cell_type": "code",
   "execution_count": 17,
   "metadata": {},
   "outputs": [
    {
     "data": {
      "text/plain": [
       "55370"
      ]
     },
     "execution_count": 17,
     "metadata": {},
     "output_type": "execute_result"
    }
   ],
   "source": [
    "len(data)"
   ]
  },
  {
   "cell_type": "code",
   "execution_count": 12,
   "metadata": {},
   "outputs": [
    {
     "data": {
      "text/plain": [
       "'FC(F)(F)c1ccc(Cl)cc1.Cc1ccc(N)cc1.O=S(=O)(O[Pd]1c2ccccc2-c2ccccc2N~1)C(F)(F)F.CC(C)c1cc(C(C)C)c(-c2ccccc2P(C2CCCCC2)C2CCCCC2)c(C(C)C)c1.CCN=P(N=P(N(C)C)(N(C)C)N(C)C)(N(C)C)N(C)C.c1ccc(-c2ccno2)cc1'"
      ]
     },
     "execution_count": 12,
     "metadata": {},
     "output_type": "execute_result"
    }
   ],
   "source": [
    "df = data.get_data()\n",
    "df.Reaction.values[0]['reactant']"
   ]
  },
  {
   "cell_type": "code",
   "execution_count": 13,
   "metadata": {},
   "outputs": [
    {
     "name": "stderr",
     "output_type": "stream",
     "text": [
      "Downloading...\n",
      "100%|██████████| 407M/407M [00:19<00:00, 20.7MiB/s] \n",
      "Loading...\n",
      "Done!\n"
     ]
    }
   ],
   "source": [
    "from tdc.single_pred import Yields\n",
    "data = Yields(name = 'USPTO_Yields')\n",
    "split = data.get_split()"
   ]
  },
  {
   "cell_type": "code",
   "execution_count": 14,
   "metadata": {},
   "outputs": [
    {
     "data": {
      "text/plain": [
       "'[Cl-].[Al+3].[Cl-].[Cl-].[Cl:5][CH2:6][CH2:7][CH2:8][C:9](Cl)=[O:10].[C:12]1([CH:18]([CH3:20])[CH3:19])[CH:17]=[CH:16][CH:15]=[CH:14][CH:13]=1'"
      ]
     },
     "execution_count": 14,
     "metadata": {},
     "output_type": "execute_result"
    }
   ],
   "source": [
    "df = data.get_data()\n",
    "df.Reaction.values[0]['reactant']"
   ]
  },
  {
   "cell_type": "code",
   "execution_count": 15,
   "metadata": {},
   "outputs": [
    {
     "data": {
      "text/plain": [
       "853638"
      ]
     },
     "execution_count": 15,
     "metadata": {},
     "output_type": "execute_result"
    }
   ],
   "source": [
    "len(df)"
   ]
  },
  {
   "cell_type": "code",
   "execution_count": 3,
   "metadata": {},
   "outputs": [
    {
     "name": "stderr",
     "output_type": "stream",
     "text": [
      "Downloading...\n",
      "100%|██████████| 9.38M/9.38M [00:01<00:00, 8.29MiB/s]\n",
      "Loading...\n",
      "Done!\n"
     ]
    }
   ],
   "source": [
    "from tdc.generation import PairMolGen\n",
    "data = PairMolGen(name = 'LogP')\n",
    "split = data.get_split()"
   ]
  },
  {
   "cell_type": "code",
   "execution_count": 4,
   "metadata": {},
   "outputs": [
    {
     "data": {
      "text/html": [
       "<div>\n",
       "<style scoped>\n",
       "    .dataframe tbody tr th:only-of-type {\n",
       "        vertical-align: middle;\n",
       "    }\n",
       "\n",
       "    .dataframe tbody tr th {\n",
       "        vertical-align: top;\n",
       "    }\n",
       "\n",
       "    .dataframe thead th {\n",
       "        text-align: right;\n",
       "    }\n",
       "</style>\n",
       "<table border=\"1\" class=\"dataframe\">\n",
       "  <thead>\n",
       "    <tr style=\"text-align: right;\">\n",
       "      <th></th>\n",
       "      <th>X</th>\n",
       "      <th>Y</th>\n",
       "    </tr>\n",
       "  </thead>\n",
       "  <tbody>\n",
       "    <tr>\n",
       "      <th>0</th>\n",
       "      <td>c1ccc(-c2noc(CCCn3cc[nH+]c3)n2)cc1</td>\n",
       "      <td>O=C(NCCc1nc(-c2ccccc2)no1)C(c1ccccc1)c1ccccc1</td>\n",
       "    </tr>\n",
       "    <tr>\n",
       "      <th>1</th>\n",
       "      <td>C[C@H]1C[C@@H](C)C[NH+](CCCCNC(=O)c2ccc(F)cc2C...</td>\n",
       "      <td>O=C(Nc1ccccc1C(=O)NC1CC1)c1ccc(F)cc1Cl</td>\n",
       "    </tr>\n",
       "    <tr>\n",
       "      <th>2</th>\n",
       "      <td>Cc1ccc([C@H](C)NC(=O)N[C@@](C)(C(=O)[O-])C(F)(...</td>\n",
       "      <td>Cc1ccc([C@@H](C)NC(=O)c2c(Cl)cccc2Cl)o1</td>\n",
       "    </tr>\n",
       "    <tr>\n",
       "      <th>3</th>\n",
       "      <td>Cc1cc(CN2CCN(C(=O)c3ccc([O-])nn3)CC2)on1</td>\n",
       "      <td>Cc1cc(C(=O)N2CCN(Cc3ccc(-c4cccc(Cl)c4)s3)CC2)on1</td>\n",
       "    </tr>\n",
       "    <tr>\n",
       "      <th>4</th>\n",
       "      <td>C[NH2+][C@@]1(C(N)=O)CCC[C@@H]1CCSc1nc(C)n[nH]1</td>\n",
       "      <td>Cc1n[nH]c(SCCC(=O)N2CCCC2)n1</td>\n",
       "    </tr>\n",
       "    <tr>\n",
       "      <th>...</th>\n",
       "      <td>...</td>\n",
       "      <td>...</td>\n",
       "    </tr>\n",
       "    <tr>\n",
       "      <th>69931</th>\n",
       "      <td>C[C@H]([NH2+][C@H]1CCCS[C@H]1C)c1cccnc1</td>\n",
       "      <td>C[C@@H](NC(=O)[C@@H]1CCCS1)c1ccc(-c2cccnc2)cc1</td>\n",
       "    </tr>\n",
       "    <tr>\n",
       "      <th>69932</th>\n",
       "      <td>O=C(CCCc1nc(-c2ccccc2)no1)N[C@H]1CCS(=O)(=O)C1</td>\n",
       "      <td>CCc1ccccc1NC(=O)CCCc1nc(-c2ccc(C)cc2)no1</td>\n",
       "    </tr>\n",
       "    <tr>\n",
       "      <th>69933</th>\n",
       "      <td>COc1ccccc1[C@@H](CNC(=O)NC[C@@]1(O)CCCc2ccccc2...</td>\n",
       "      <td>O=C(NC[C@]1(O)CCCc2ccccc21)Nc1ccc(F)cc1F</td>\n",
       "    </tr>\n",
       "    <tr>\n",
       "      <th>69934</th>\n",
       "      <td>COc1ccc([C@@H]2CCCCCN2C(=O)C[NH+]2CCc3sccc3C2)cc1</td>\n",
       "      <td>COc1ccc([C@H]2CCCN2C(=O)Cc2ccc(Cl)cc2)cc1</td>\n",
       "    </tr>\n",
       "    <tr>\n",
       "      <th>69935</th>\n",
       "      <td>CC(C)C1CCC([NH2+][C@H](C)Cn2ncc3ccccc3c2=O)CC1</td>\n",
       "      <td>C[C@H](NC(=O)Cn1ncc2ccccc2c1=O)c1ccc(-c2ccccc2...</td>\n",
       "    </tr>\n",
       "  </tbody>\n",
       "</table>\n",
       "<p>69936 rows × 2 columns</p>\n",
       "</div>"
      ],
      "text/plain": [
       "                                                       X  \\\n",
       "0                     c1ccc(-c2noc(CCCn3cc[nH+]c3)n2)cc1   \n",
       "1      C[C@H]1C[C@@H](C)C[NH+](CCCCNC(=O)c2ccc(F)cc2C...   \n",
       "2      Cc1ccc([C@H](C)NC(=O)N[C@@](C)(C(=O)[O-])C(F)(...   \n",
       "3               Cc1cc(CN2CCN(C(=O)c3ccc([O-])nn3)CC2)on1   \n",
       "4        C[NH2+][C@@]1(C(N)=O)CCC[C@@H]1CCSc1nc(C)n[nH]1   \n",
       "...                                                  ...   \n",
       "69931            C[C@H]([NH2+][C@H]1CCCS[C@H]1C)c1cccnc1   \n",
       "69932     O=C(CCCc1nc(-c2ccccc2)no1)N[C@H]1CCS(=O)(=O)C1   \n",
       "69933  COc1ccccc1[C@@H](CNC(=O)NC[C@@]1(O)CCCc2ccccc2...   \n",
       "69934  COc1ccc([C@@H]2CCCCCN2C(=O)C[NH+]2CCc3sccc3C2)cc1   \n",
       "69935     CC(C)C1CCC([NH2+][C@H](C)Cn2ncc3ccccc3c2=O)CC1   \n",
       "\n",
       "                                                       Y  \n",
       "0          O=C(NCCc1nc(-c2ccccc2)no1)C(c1ccccc1)c1ccccc1  \n",
       "1                 O=C(Nc1ccccc1C(=O)NC1CC1)c1ccc(F)cc1Cl  \n",
       "2                Cc1ccc([C@@H](C)NC(=O)c2c(Cl)cccc2Cl)o1  \n",
       "3       Cc1cc(C(=O)N2CCN(Cc3ccc(-c4cccc(Cl)c4)s3)CC2)on1  \n",
       "4                           Cc1n[nH]c(SCCC(=O)N2CCCC2)n1  \n",
       "...                                                  ...  \n",
       "69931     C[C@@H](NC(=O)[C@@H]1CCCS1)c1ccc(-c2cccnc2)cc1  \n",
       "69932           CCc1ccccc1NC(=O)CCCc1nc(-c2ccc(C)cc2)no1  \n",
       "69933           O=C(NC[C@]1(O)CCCc2ccccc21)Nc1ccc(F)cc1F  \n",
       "69934          COc1ccc([C@H]2CCCN2C(=O)Cc2ccc(Cl)cc2)cc1  \n",
       "69935  C[C@H](NC(=O)Cn1ncc2ccccc2c1=O)c1ccc(-c2ccccc2...  \n",
       "\n",
       "[69936 rows x 2 columns]"
      ]
     },
     "execution_count": 4,
     "metadata": {},
     "output_type": "execute_result"
    }
   ],
   "source": [
    "split['train']"
   ]
  },
  {
   "cell_type": "code",
   "execution_count": 1,
   "metadata": {},
   "outputs": [
    {
     "name": "stderr",
     "output_type": "stream",
     "text": [
      "Found local copy...\n",
      "Loading...\n",
      "Done!\n"
     ]
    }
   ],
   "source": [
    "from tdc.generation import RetroSyn\n",
    "data = RetroSyn(name = 'USPTO')\n",
    "split = data.get_split()"
   ]
  },
  {
   "cell_type": "code",
   "execution_count": 2,
   "metadata": {},
   "outputs": [
    {
     "data": {
      "text/plain": [
       "1939253"
      ]
     },
     "execution_count": 2,
     "metadata": {},
     "output_type": "execute_result"
    }
   ],
   "source": [
    "len(data)"
   ]
  },
  {
   "cell_type": "code",
   "execution_count": 3,
   "metadata": {},
   "outputs": [
    {
     "name": "stderr",
     "output_type": "stream",
     "text": [
      "Found local copy...\n",
      "Loading...\n",
      "Done!\n"
     ]
    }
   ],
   "source": [
    "from tdc.generation import Reaction\n",
    "data = Reaction(name = 'USPTO')\n",
    "split = data.get_split()"
   ]
  },
  {
   "cell_type": "code",
   "execution_count": 1,
   "metadata": {},
   "outputs": [
    {
     "name": "stderr",
     "output_type": "stream",
     "text": [
      "Downloading...\n",
      "100%|██████████| 5.22M/5.22M [00:01<00:00, 4.58MiB/s]\n",
      "Loading...\n",
      "Done!\n"
     ]
    }
   ],
   "source": [
    "from tdc.generation import RetroSyn\n",
    "data = RetroSyn(name = 'USPTO50K')\n",
    "split = data.get_split()"
   ]
  },
  {
   "cell_type": "code",
   "execution_count": null,
   "metadata": {},
   "outputs": [],
   "source": []
  },
  {
   "cell_type": "code",
   "execution_count": 28,
   "metadata": {},
   "outputs": [],
   "source": [
    "from tdc.utils import retrieve_label_name_list\n",
    "label_list = retrieve_label_name_list('Toxcast')"
   ]
  },
  {
   "cell_type": "code",
   "execution_count": 30,
   "metadata": {},
   "outputs": [
    {
     "name": "stderr",
     "output_type": "stream",
     "text": [
      "Downloading...\n",
      "100%|██████████| 10.4M/10.4M [00:01<00:00, 6.00MiB/s]\n",
      "Loading...\n",
      "Done!\n"
     ]
    }
   ],
   "source": [
    "from tdc.single_pred import Tox\n",
    "data = Tox(name = 'ToxCast', label_name = label_list[0])\n",
    "split = data.get_split()"
   ]
  },
  {
   "cell_type": "code",
   "execution_count": 32,
   "metadata": {},
   "outputs": [
    {
     "name": "stderr",
     "output_type": "stream",
     "text": [
      "Downloading...\n",
      "100%|██████████| 101k/101k [00:00<00:00, 612kiB/s] \n",
      "Loading...\n",
      "Done!\n"
     ]
    }
   ],
   "source": [
    "from tdc.single_pred import HTS\n",
    "data = HTS(name = 'SARSCoV2_Vitro_Touret')\n",
    "split = data.get_split()"
   ]
  },
  {
   "cell_type": "code",
   "execution_count": 33,
   "metadata": {},
   "outputs": [],
   "source": [
    "from tdc.metadata import versioning"
   ]
  },
  {
   "cell_type": "code",
   "execution_count": 35,
   "metadata": {},
   "outputs": [
    {
     "data": {
      "text/plain": [
       "62"
      ]
     },
     "execution_count": 35,
     "metadata": {},
     "output_type": "execute_result"
    }
   ],
   "source": [
    "len(versioning['0.0.1'])"
   ]
  },
  {
   "cell_type": "code",
   "execution_count": null,
   "metadata": {},
   "outputs": [],
   "source": []
  },
  {
   "cell_type": "code",
   "execution_count": 2,
   "metadata": {},
   "outputs": [
    {
     "name": "stderr",
     "output_type": "stream",
     "text": [
      "Found local copy...\n",
      "Loading...\n",
      "Done!\n"
     ]
    },
    {
     "data": {
      "text/plain": [
       "array([1, 4, 2, ..., 3, 1, 4])"
      ]
     },
     "execution_count": 2,
     "metadata": {},
     "output_type": "execute_result"
    }
   ],
   "source": [
    "from tdc.generation import RetroSyn\n",
    "data = RetroSyn(name = 'USPTO-50K')\n",
    "from tdc.utils import get_reaction_type\n",
    "get_reaction_type('USPTO-50K')"
   ]
  },
  {
   "cell_type": "code",
   "execution_count": null,
   "metadata": {},
   "outputs": [],
   "source": []
  },
  {
   "cell_type": "code",
   "execution_count": 3,
   "metadata": {},
   "outputs": [
    {
     "name": "stderr",
     "output_type": "stream",
     "text": [
      "Downloading...\n",
      "100%|██████████| 101k/101k [00:00<00:00, 642kiB/s] \n",
      "Loading...\n",
      "Done!\n"
     ]
    },
    {
     "data": {
      "text/plain": [
       "array([   0,    1,    2, ..., 1481, 1482, 1483])"
      ]
     },
     "execution_count": 3,
     "metadata": {},
     "output_type": "execute_result"
    }
   ],
   "source": [
    "from tdc.single_pred import HTS\n",
    "data = HTS(name = 'SARSCoV2_Vitro_Touret')\n",
    "data = data.get_data(format = 'dict')\n",
    "data['Drug_ID']"
   ]
  },
  {
   "cell_type": "code",
   "execution_count": null,
   "metadata": {},
   "outputs": [],
   "source": []
  }
 ],
 "metadata": {
  "kernelspec": {
   "display_name": "Python [conda env:DeepPurpose]",
   "language": "python",
   "name": "conda-env-DeepPurpose-py"
  },
  "language_info": {
   "codemirror_mode": {
    "name": "ipython",
    "version": 3
   },
   "file_extension": ".py",
   "mimetype": "text/x-python",
   "name": "python",
   "nbconvert_exporter": "python",
   "pygments_lexer": "ipython3",
   "version": "3.7.7"
  }
 },
 "nbformat": 4,
 "nbformat_minor": 2
}
