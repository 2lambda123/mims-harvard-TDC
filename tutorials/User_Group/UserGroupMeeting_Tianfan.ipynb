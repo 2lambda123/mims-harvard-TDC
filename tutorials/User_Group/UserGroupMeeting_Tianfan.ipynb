{
 "cells": [
  {
   "cell_type": "markdown",
   "metadata": {},
   "source": [
    "## DataLoader & Leaderboard\n",
    "\n",
    "[Tianfan Fu@Gatech](futianfan.github.io)\n",
    "\n",
    "Agenda\n",
    "\n",
    "- How to load dataset in TDC?\n",
    "    - Example for `single_pred` ML problem\n",
    "    - Example for `multi_pred` ML problem\n",
    "    - Example for `generation` ML problem\n",
    "- Run ML models using few lines of codes\n",
    "    - with scikit-learn\n",
    "    - with DeepPurpose\n",
    "- How to use leaderboard in TDC?\n",
    "    - ADMET leaderboard\n",
    "\n",
    "Let's start!"
   ]
  },
  {
   "cell_type": "markdown",
   "metadata": {},
   "source": [
    "### How to load dataset in TDC?\n",
    "\n",
    "Supposed a dataset X is from therapeutic task Y with machine learning problem Z, then to obtain the data and splits, simply type:\n",
    "\n",
    "```python\n",
    "from tdc.Z import Y\n",
    "data = Y(name = 'X')\n",
    "split = data.split()\n",
    "```\n",
    "\n",
    "We categorize all therapeutic tasks into three general ML problems (Z):\n",
    "- `single_pred`: Prediction of property for an individual biomedical entity, output is a scalar, e.g., molecule property prediction. \n",
    "- `multi_pred`: Prediction of property for multiple biomedical entities, output is a scalar, e.g., drug-target interaction. \n",
    "- `generation`: Generation of a new desirable biomedical entity, output is a biomedical entity, e.g., molecule generation, reaction prediction. \n",
    "\n",
    "<div>\n",
    "<img src=\"tdc_problems.png\" width=\"500\" align=\"left\"/>\n",
    "</div>"
   ]
  },
  {
   "cell_type": "markdown",
   "metadata": {},
   "source": [
    "#### `single_pred`: Prediction of property for an individual biomedical entity."
   ]
  },
  {
   "cell_type": "code",
   "execution_count": 17,
   "metadata": {},
   "outputs": [
    {
     "name": "stderr",
     "output_type": "stream",
     "text": [
      "Found local copy...\n",
      "Loading...\n",
      "Done!\n"
     ]
    }
   ],
   "source": [
    "from tdc.single_pred import ADME ### ADME predicts absorption, distribution, metabolism, excretion of a drug. \n",
    "data = ADME(name = 'Caco2_Wang')"
   ]
  },
  {
   "cell_type": "code",
   "execution_count": 18,
   "metadata": {},
   "outputs": [
    {
     "data": {
      "text/html": [
       "<div>\n",
       "<style scoped>\n",
       "    .dataframe tbody tr th:only-of-type {\n",
       "        vertical-align: middle;\n",
       "    }\n",
       "\n",
       "    .dataframe tbody tr th {\n",
       "        vertical-align: top;\n",
       "    }\n",
       "\n",
       "    .dataframe thead th {\n",
       "        text-align: right;\n",
       "    }\n",
       "</style>\n",
       "<table border=\"1\" class=\"dataframe\">\n",
       "  <thead>\n",
       "    <tr style=\"text-align: right;\">\n",
       "      <th></th>\n",
       "      <th>Drug_ID</th>\n",
       "      <th>Drug</th>\n",
       "      <th>Y</th>\n",
       "    </tr>\n",
       "  </thead>\n",
       "  <tbody>\n",
       "    <tr>\n",
       "      <th>0</th>\n",
       "      <td>(-)-epicatechin</td>\n",
       "      <td>Oc1cc(O)c2c(c1)OC(c1ccc(O)c(O)c1)C(O)C2</td>\n",
       "      <td>-6.220000</td>\n",
       "    </tr>\n",
       "    <tr>\n",
       "      <th>1</th>\n",
       "      <td>(2E,4Z,8Z)-N-isobutyldodeca-2,4,10-triene-8 -y...</td>\n",
       "      <td>C/C=C\\C#CCC/C=C\\C=C\\C(=O)NCC(C)C</td>\n",
       "      <td>-3.860000</td>\n",
       "    </tr>\n",
       "    <tr>\n",
       "      <th>2</th>\n",
       "      <td>codeine</td>\n",
       "      <td>COc1ccc2c3c1O[C@H]1[C@@H](O)C=C[C@H]4[C@@H](C2...</td>\n",
       "      <td>-4.090000</td>\n",
       "    </tr>\n",
       "    <tr>\n",
       "      <th>3</th>\n",
       "      <td>creatinine</td>\n",
       "      <td>CN1CC(=O)NC1=N</td>\n",
       "      <td>-5.935409</td>\n",
       "    </tr>\n",
       "    <tr>\n",
       "      <th>4</th>\n",
       "      <td>danazol</td>\n",
       "      <td>C#C[C@]1(O)CC[C@H]2[C@@H]3CCC4=Cc5oncc5C[C@]4(...</td>\n",
       "      <td>-4.840000</td>\n",
       "    </tr>\n",
       "  </tbody>\n",
       "</table>\n",
       "</div>"
      ],
      "text/plain": [
       "                                             Drug_ID  \\\n",
       "0                                    (-)-epicatechin   \n",
       "1  (2E,4Z,8Z)-N-isobutyldodeca-2,4,10-triene-8 -y...   \n",
       "2                                            codeine   \n",
       "3                                         creatinine   \n",
       "4                                            danazol   \n",
       "\n",
       "                                                Drug         Y  \n",
       "0            Oc1cc(O)c2c(c1)OC(c1ccc(O)c(O)c1)C(O)C2 -6.220000  \n",
       "1                   C/C=C\\C#CCC/C=C\\C=C\\C(=O)NCC(C)C -3.860000  \n",
       "2  COc1ccc2c3c1O[C@H]1[C@@H](O)C=C[C@H]4[C@@H](C2... -4.090000  \n",
       "3                                     CN1CC(=O)NC1=N -5.935409  \n",
       "4  C#C[C@]1(O)CC[C@H]2[C@@H]3CCC4=Cc5oncc5C[C@]4(... -4.840000  "
      ]
     },
     "execution_count": 18,
     "metadata": {},
     "output_type": "execute_result"
    }
   ],
   "source": [
    "data.get_data().head(5)"
   ]
  },
  {
   "cell_type": "markdown",
   "metadata": {},
   "source": [
    "Here, we can also flag `convert_format` to other molecule representation. For example, ECFP4:"
   ]
  },
  {
   "cell_type": "code",
   "execution_count": 19,
   "metadata": {},
   "outputs": [
    {
     "name": "stderr",
     "output_type": "stream",
     "text": [
      "Found local copy...\n",
      "Loading...\n",
      "Done!\n"
     ]
    },
    {
     "data": {
      "text/html": [
       "<div>\n",
       "<style scoped>\n",
       "    .dataframe tbody tr th:only-of-type {\n",
       "        vertical-align: middle;\n",
       "    }\n",
       "\n",
       "    .dataframe tbody tr th {\n",
       "        vertical-align: top;\n",
       "    }\n",
       "\n",
       "    .dataframe thead th {\n",
       "        text-align: right;\n",
       "    }\n",
       "</style>\n",
       "<table border=\"1\" class=\"dataframe\">\n",
       "  <thead>\n",
       "    <tr style=\"text-align: right;\">\n",
       "      <th></th>\n",
       "      <th>Drug_ID</th>\n",
       "      <th>Drug</th>\n",
       "      <th>Drug_ECFP4</th>\n",
       "      <th>Y</th>\n",
       "    </tr>\n",
       "  </thead>\n",
       "  <tbody>\n",
       "    <tr>\n",
       "      <th>0</th>\n",
       "      <td>(-)-epicatechin</td>\n",
       "      <td>Oc1cc(O)c2c(c1)OC(c1ccc(O)c(O)c1)C(O)C2</td>\n",
       "      <td>[0.0, 0.0, 0.0, 0.0, 0.0, 0.0, 0.0, 0.0, 0.0, ...</td>\n",
       "      <td>-6.220000</td>\n",
       "    </tr>\n",
       "    <tr>\n",
       "      <th>1</th>\n",
       "      <td>(2E,4Z,8Z)-N-isobutyldodeca-2,4,10-triene-8 -y...</td>\n",
       "      <td>C/C=C\\C#CCC/C=C\\C=C\\C(=O)NCC(C)C</td>\n",
       "      <td>[0.0, 1.0, 0.0, 0.0, 0.0, 0.0, 0.0, 0.0, 0.0, ...</td>\n",
       "      <td>-3.860000</td>\n",
       "    </tr>\n",
       "    <tr>\n",
       "      <th>2</th>\n",
       "      <td>codeine</td>\n",
       "      <td>COc1ccc2c3c1O[C@H]1[C@@H](O)C=C[C@H]4[C@@H](C2...</td>\n",
       "      <td>[0.0, 0.0, 0.0, 0.0, 0.0, 0.0, 0.0, 0.0, 0.0, ...</td>\n",
       "      <td>-4.090000</td>\n",
       "    </tr>\n",
       "    <tr>\n",
       "      <th>3</th>\n",
       "      <td>creatinine</td>\n",
       "      <td>CN1CC(=O)NC1=N</td>\n",
       "      <td>[0.0, 0.0, 0.0, 0.0, 0.0, 0.0, 0.0, 0.0, 0.0, ...</td>\n",
       "      <td>-5.935409</td>\n",
       "    </tr>\n",
       "    <tr>\n",
       "      <th>4</th>\n",
       "      <td>danazol</td>\n",
       "      <td>C#C[C@]1(O)CC[C@H]2[C@@H]3CCC4=Cc5oncc5C[C@]4(...</td>\n",
       "      <td>[0.0, 0.0, 0.0, 0.0, 0.0, 0.0, 0.0, 1.0, 0.0, ...</td>\n",
       "      <td>-4.840000</td>\n",
       "    </tr>\n",
       "  </tbody>\n",
       "</table>\n",
       "</div>"
      ],
      "text/plain": [
       "                                             Drug_ID  \\\n",
       "0                                    (-)-epicatechin   \n",
       "1  (2E,4Z,8Z)-N-isobutyldodeca-2,4,10-triene-8 -y...   \n",
       "2                                            codeine   \n",
       "3                                         creatinine   \n",
       "4                                            danazol   \n",
       "\n",
       "                                                Drug  \\\n",
       "0            Oc1cc(O)c2c(c1)OC(c1ccc(O)c(O)c1)C(O)C2   \n",
       "1                   C/C=C\\C#CCC/C=C\\C=C\\C(=O)NCC(C)C   \n",
       "2  COc1ccc2c3c1O[C@H]1[C@@H](O)C=C[C@H]4[C@@H](C2...   \n",
       "3                                     CN1CC(=O)NC1=N   \n",
       "4  C#C[C@]1(O)CC[C@H]2[C@@H]3CCC4=Cc5oncc5C[C@]4(...   \n",
       "\n",
       "                                          Drug_ECFP4         Y  \n",
       "0  [0.0, 0.0, 0.0, 0.0, 0.0, 0.0, 0.0, 0.0, 0.0, ... -6.220000  \n",
       "1  [0.0, 1.0, 0.0, 0.0, 0.0, 0.0, 0.0, 0.0, 0.0, ... -3.860000  \n",
       "2  [0.0, 0.0, 0.0, 0.0, 0.0, 0.0, 0.0, 0.0, 0.0, ... -4.090000  \n",
       "3  [0.0, 0.0, 0.0, 0.0, 0.0, 0.0, 0.0, 0.0, 0.0, ... -5.935409  \n",
       "4  [0.0, 0.0, 0.0, 0.0, 0.0, 0.0, 0.0, 1.0, 0.0, ... -4.840000  "
      ]
     },
     "execution_count": 19,
     "metadata": {},
     "output_type": "execute_result"
    }
   ],
   "source": [
    "data = ADME(name = 'Caco2_Wang', convert_format = 'ECFP4')\n",
    "data.get_data().head(5)"
   ]
  },
  {
   "cell_type": "markdown",
   "metadata": {},
   "source": [
    "You can also get other format from \n",
    "- string, e.g., SMILES, SELFIES\n",
    "- graph, e.g., DGL, PyG (torch-geometric), Graph2D\n",
    "- feature vector, e.g., ECFP2/ECFP4/ECFP6/MACCS/Daylight/RDKit2D/Morgan/PubChem"
   ]
  },
  {
   "cell_type": "code",
   "execution_count": 22,
   "metadata": {},
   "outputs": [
    {
     "name": "stderr",
     "output_type": "stream",
     "text": [
      "Found local copy...\n",
      "Loading...\n",
      "Done!\n"
     ]
    },
    {
     "data": {
      "text/plain": [
       "Graph(num_nodes=21, num_edges=46,\n",
       "      ndata_schemes={}\n",
       "      edata_schemes={})"
      ]
     },
     "execution_count": 22,
     "metadata": {},
     "output_type": "execute_result"
    }
   ],
   "source": [
    "data = ADME(name = 'Caco2_Wang', convert_format = 'DGL')\n",
    "data.get_data()['Drug_DGL'][0]"
   ]
  },
  {
   "cell_type": "markdown",
   "metadata": {},
   "source": [
    "#### `multi_pred`: Prediction of property for multiple biomedical entities."
   ]
  },
  {
   "cell_type": "code",
   "execution_count": 23,
   "metadata": {},
   "outputs": [
    {
     "name": "stderr",
     "output_type": "stream",
     "text": [
      "Found local copy...\n",
      "Loading...\n",
      "Done!\n"
     ]
    },
    {
     "data": {
      "text/html": [
       "<div>\n",
       "<style scoped>\n",
       "    .dataframe tbody tr th:only-of-type {\n",
       "        vertical-align: middle;\n",
       "    }\n",
       "\n",
       "    .dataframe tbody tr th {\n",
       "        vertical-align: top;\n",
       "    }\n",
       "\n",
       "    .dataframe thead th {\n",
       "        text-align: right;\n",
       "    }\n",
       "</style>\n",
       "<table border=\"1\" class=\"dataframe\">\n",
       "  <thead>\n",
       "    <tr style=\"text-align: right;\">\n",
       "      <th></th>\n",
       "      <th>Protein1_ID</th>\n",
       "      <th>Protein1</th>\n",
       "      <th>Protein2_ID</th>\n",
       "      <th>Protein2</th>\n",
       "      <th>Y</th>\n",
       "    </tr>\n",
       "  </thead>\n",
       "  <tbody>\n",
       "    <tr>\n",
       "      <th>0</th>\n",
       "      <td>ENSG00000102119</td>\n",
       "      <td>MDNYADLSDTELTTLLRRYNIPHGPVVDLNSTRGDADMYDLPKKED...</td>\n",
       "      <td>ENSG00000176435</td>\n",
       "      <td>MRPAFALCLLWQALWPGPGGGEHPTADRAGCSASGACYSLHHATMK...</td>\n",
       "      <td>1</td>\n",
       "    </tr>\n",
       "    <tr>\n",
       "      <th>1</th>\n",
       "      <td>ENSG00000157110</td>\n",
       "      <td>MNNGGKAEKENTPSEANLQEEEVRTLFVSGLPLDIKPRELYLLFRP...</td>\n",
       "      <td>ENSG00000227151</td>\n",
       "      <td>MEEPRPSKRLRSMAPNQASGGPPPEPGCCVADPEGSVEADGPAQPA...</td>\n",
       "      <td>1</td>\n",
       "    </tr>\n",
       "  </tbody>\n",
       "</table>\n",
       "</div>"
      ],
      "text/plain": [
       "       Protein1_ID                                           Protein1  \\\n",
       "0  ENSG00000102119  MDNYADLSDTELTTLLRRYNIPHGPVVDLNSTRGDADMYDLPKKED...   \n",
       "1  ENSG00000157110  MNNGGKAEKENTPSEANLQEEEVRTLFVSGLPLDIKPRELYLLFRP...   \n",
       "\n",
       "       Protein2_ID                                           Protein2  Y  \n",
       "0  ENSG00000176435  MRPAFALCLLWQALWPGPGGGEHPTADRAGCSASGACYSLHHATMK...  1  \n",
       "1  ENSG00000227151  MEEPRPSKRLRSMAPNQASGGPPPEPGCCVADPEGSVEADGPAQPA...  1  "
      ]
     },
     "execution_count": 23,
     "metadata": {},
     "output_type": "execute_result"
    }
   ],
   "source": [
    "from tdc.multi_pred import PPI ### protein-protein interaction\n",
    "data = PPI(name = 'HuRI')\n",
    "split = data.get_split()\n",
    "split['valid'].head(2)"
   ]
  },
  {
   "cell_type": "markdown",
   "metadata": {},
   "source": [
    "Lots of functionalities such as negative pair sampling, graph transformation, label units conversion and so on! Checkout https://tdcommons.ai/functions/data_process"
   ]
  },
  {
   "cell_type": "markdown",
   "metadata": {},
   "source": [
    "#### `generation`: Generation of a new desirable biomedical entity. \n",
    "\n",
    "Output is an entity, instead of a scalar. \n",
    "\n",
    "- molecule generation: generating novel and diverse molecules given molecule library.  \n",
    "- molecule optimization: generating molecules with desirable properties. \n",
    "- retrosynthesis/synthesis: for a chemical reaction, given product/a set of reactants, predict reactants set/product. "
   ]
  },
  {
   "cell_type": "code",
   "execution_count": 24,
   "metadata": {},
   "outputs": [
    {
     "name": "stderr",
     "output_type": "stream",
     "text": [
      "Found local copy...\n",
      "Loading...\n",
      "Done!\n"
     ]
    },
    {
     "data": {
      "text/html": [
       "<div>\n",
       "<style scoped>\n",
       "    .dataframe tbody tr th:only-of-type {\n",
       "        vertical-align: middle;\n",
       "    }\n",
       "\n",
       "    .dataframe tbody tr th {\n",
       "        vertical-align: top;\n",
       "    }\n",
       "\n",
       "    .dataframe thead th {\n",
       "        text-align: right;\n",
       "    }\n",
       "</style>\n",
       "<table border=\"1\" class=\"dataframe\">\n",
       "  <thead>\n",
       "    <tr style=\"text-align: right;\">\n",
       "      <th></th>\n",
       "      <th>smiles</th>\n",
       "    </tr>\n",
       "  </thead>\n",
       "  <tbody>\n",
       "    <tr>\n",
       "      <th>0</th>\n",
       "      <td>CCCS(=O)c1ccc2[nH]c(=NC(=O)OC)[nH]c2c1</td>\n",
       "    </tr>\n",
       "    <tr>\n",
       "      <th>1</th>\n",
       "      <td>CC(C)(C)C(=O)C(Oc1ccc(Cl)cc1)n1ccnc1</td>\n",
       "    </tr>\n",
       "  </tbody>\n",
       "</table>\n",
       "</div>"
      ],
      "text/plain": [
       "                                   smiles\n",
       "0  CCCS(=O)c1ccc2[nH]c(=NC(=O)OC)[nH]c2c1\n",
       "1    CC(C)(C)C(=O)C(Oc1ccc(Cl)cc1)n1ccnc1"
      ]
     },
     "execution_count": 24,
     "metadata": {},
     "output_type": "execute_result"
    }
   ],
   "source": [
    "from tdc.generation import MolGen\n",
    "data = MolGen(name = 'MOSES')\n",
    "split = data.get_split()\n",
    "split['train'].head(2)"
   ]
  },
  {
   "cell_type": "markdown",
   "metadata": {},
   "source": [
    "For molecule optimization, we also have lots of oracles within one line of code! \n",
    "https://tdcommons.ai/functions/oracles/\n"
   ]
  },
  {
   "cell_type": "code",
   "execution_count": 25,
   "metadata": {},
   "outputs": [
    {
     "data": {
      "text/plain": [
       "[2.706977149048555, 2.8548373344538067, 2.659973244931228]"
      ]
     },
     "execution_count": 25,
     "metadata": {},
     "output_type": "execute_result"
    }
   ],
   "source": [
    "from tdc import Oracle\n",
    "oracle = Oracle(name = 'SA')  ### Synthetic Accessibility \n",
    "oracle(['CC(C)(C)[C@H]1CCc2c(sc(NC(=O)COc3ccc(Cl)cc3)c2C(N)=O)C1', \\\n",
    "        'CCNC(=O)c1ccc(NC(=O)N2CC[C@H](C)[C@H](O)C2)c(C)c1', \\\n",
    "        'C[C@@H]1CCN(C(=O)CCCc2ccccc2)C[C@@H]1O'])"
   ]
  },
  {
   "cell_type": "markdown",
   "metadata": {},
   "source": [
    "Other generation task includes retrosynthesis and reaction outcome prediction:"
   ]
  },
  {
   "cell_type": "code",
   "execution_count": 26,
   "metadata": {},
   "outputs": [
    {
     "name": "stderr",
     "output_type": "stream",
     "text": [
      "Found local copy...\n",
      "Loading...\n",
      "Done!\n"
     ]
    },
    {
     "data": {
      "text/html": [
       "<div>\n",
       "<style scoped>\n",
       "    .dataframe tbody tr th:only-of-type {\n",
       "        vertical-align: middle;\n",
       "    }\n",
       "\n",
       "    .dataframe tbody tr th {\n",
       "        vertical-align: top;\n",
       "    }\n",
       "\n",
       "    .dataframe thead th {\n",
       "        text-align: right;\n",
       "    }\n",
       "</style>\n",
       "<table border=\"1\" class=\"dataframe\">\n",
       "  <thead>\n",
       "    <tr style=\"text-align: right;\">\n",
       "      <th></th>\n",
       "      <th>input</th>\n",
       "      <th>output</th>\n",
       "    </tr>\n",
       "  </thead>\n",
       "  <tbody>\n",
       "    <tr>\n",
       "      <th>0</th>\n",
       "      <td>COC(=O)CCC(=O)c1ccc(OC2CCCCO2)cc1O</td>\n",
       "      <td>C1=COCCC1.COC(=O)CCC(=O)c1ccc(O)cc1O</td>\n",
       "    </tr>\n",
       "    <tr>\n",
       "      <th>1</th>\n",
       "      <td>COC(=O)c1cccc(-c2nc3cccnc3[nH]2)c1</td>\n",
       "      <td>COC(=O)c1cccc(C(=O)O)c1.Nc1cccnc1N</td>\n",
       "    </tr>\n",
       "  </tbody>\n",
       "</table>\n",
       "</div>"
      ],
      "text/plain": [
       "                                input                                output\n",
       "0  COC(=O)CCC(=O)c1ccc(OC2CCCCO2)cc1O  C1=COCCC1.COC(=O)CCC(=O)c1ccc(O)cc1O\n",
       "1  COC(=O)c1cccc(-c2nc3cccnc3[nH]2)c1    COC(=O)c1cccc(C(=O)O)c1.Nc1cccnc1N"
      ]
     },
     "execution_count": 26,
     "metadata": {},
     "output_type": "execute_result"
    }
   ],
   "source": [
    "from tdc.generation import RetroSyn ## given the produt, pred the reaktant, \n",
    "data = RetroSyn(name = 'USPTO-50K')\n",
    "split = data.get_split()\n",
    "split['train'].head(2)"
   ]
  },
  {
   "cell_type": "markdown",
   "metadata": {},
   "source": [
    "The goal of TDC is to make ML-ready dataset. Next, we use ML-ready examples to demonstrate how easy to use TDC for ML models. \n",
    "\n",
    "\n",
    "### ML-Ready example (I): Scikit-learn\n",
    "TDC allows rapid prototyping of ML methods. Here is an example using scikit-learn to predict ADMET prediction within minutes on LR (logistic regression) with ECFP2!\n"
   ]
  },
  {
   "cell_type": "code",
   "execution_count": 27,
   "metadata": {},
   "outputs": [
    {
     "name": "stderr",
     "output_type": "stream",
     "text": [
      "Found local copy...\n",
      "Loading...\n",
      "Done!\n"
     ]
    }
   ],
   "source": [
    "import numpy as np\n",
    "from tdc.single_pred import ADME\n",
    "data = ADME(name = 'HIA_Hou', convert_format='ECFP2')\n",
    "split = data.get_split(method = 'random', seed = 42, frac = [0.7, 0.1, 0.2])\n",
    "train_data, valid_data, test_data = split['train'], split['valid'], split['test']"
   ]
  },
  {
   "cell_type": "code",
   "execution_count": 28,
   "metadata": {},
   "outputs": [
    {
     "data": {
      "text/html": [
       "<div>\n",
       "<style scoped>\n",
       "    .dataframe tbody tr th:only-of-type {\n",
       "        vertical-align: middle;\n",
       "    }\n",
       "\n",
       "    .dataframe tbody tr th {\n",
       "        vertical-align: top;\n",
       "    }\n",
       "\n",
       "    .dataframe thead th {\n",
       "        text-align: right;\n",
       "    }\n",
       "</style>\n",
       "<table border=\"1\" class=\"dataframe\">\n",
       "  <thead>\n",
       "    <tr style=\"text-align: right;\">\n",
       "      <th></th>\n",
       "      <th>Drug_ID</th>\n",
       "      <th>Drug</th>\n",
       "      <th>Drug_ECFP2</th>\n",
       "      <th>Y</th>\n",
       "    </tr>\n",
       "  </thead>\n",
       "  <tbody>\n",
       "    <tr>\n",
       "      <th>0</th>\n",
       "      <td>Mebeverine</td>\n",
       "      <td>CCN(CCCCOC(=O)c1ccc(OC)c(OC)c1)[C@@H](C)Cc1ccc...</td>\n",
       "      <td>[0.0, 1.0, 0.0, 0.0, 0.0, 0.0, 0.0, 0.0, 0.0, ...</td>\n",
       "      <td>1</td>\n",
       "    </tr>\n",
       "    <tr>\n",
       "      <th>1</th>\n",
       "      <td>Zanamivir.mol</td>\n",
       "      <td>CC(=O)N[C@H]1[C@@H]([C@@H](O)[C@H](O)CO)OC(C(=...</td>\n",
       "      <td>[0.0, 1.0, 0.0, 0.0, 0.0, 0.0, 0.0, 0.0, 0.0, ...</td>\n",
       "      <td>0</td>\n",
       "    </tr>\n",
       "    <tr>\n",
       "      <th>2</th>\n",
       "      <td>Flurazepam.mol</td>\n",
       "      <td>CCN(CC)CCN1C(=O)CN=C(c2ccccc2F)c2cc(Cl)ccc21</td>\n",
       "      <td>[0.0, 0.0, 0.0, 0.0, 0.0, 0.0, 0.0, 0.0, 0.0, ...</td>\n",
       "      <td>1</td>\n",
       "    </tr>\n",
       "    <tr>\n",
       "      <th>3</th>\n",
       "      <td>Salsalate</td>\n",
       "      <td>O=C(Oc1ccccc1C(=O)O)c1ccccc1O</td>\n",
       "      <td>[0.0, 0.0, 0.0, 0.0, 0.0, 0.0, 0.0, 0.0, 0.0, ...</td>\n",
       "      <td>1</td>\n",
       "    </tr>\n",
       "    <tr>\n",
       "      <th>4</th>\n",
       "      <td>Desogestrel.mol</td>\n",
       "      <td>C#C[C@@]1(O)CC[C@H]2[C@@H]3CCC4=CCCC[C@@H]4[C@...</td>\n",
       "      <td>[0.0, 0.0, 0.0, 0.0, 0.0, 0.0, 0.0, 0.0, 0.0, ...</td>\n",
       "      <td>1</td>\n",
       "    </tr>\n",
       "  </tbody>\n",
       "</table>\n",
       "</div>"
      ],
      "text/plain": [
       "           Drug_ID                                               Drug  \\\n",
       "0       Mebeverine  CCN(CCCCOC(=O)c1ccc(OC)c(OC)c1)[C@@H](C)Cc1ccc...   \n",
       "1    Zanamivir.mol  CC(=O)N[C@H]1[C@@H]([C@@H](O)[C@H](O)CO)OC(C(=...   \n",
       "2   Flurazepam.mol       CCN(CC)CCN1C(=O)CN=C(c2ccccc2F)c2cc(Cl)ccc21   \n",
       "3        Salsalate                      O=C(Oc1ccccc1C(=O)O)c1ccccc1O   \n",
       "4  Desogestrel.mol  C#C[C@@]1(O)CC[C@H]2[C@@H]3CCC4=CCCC[C@@H]4[C@...   \n",
       "\n",
       "                                          Drug_ECFP2  Y  \n",
       "0  [0.0, 1.0, 0.0, 0.0, 0.0, 0.0, 0.0, 0.0, 0.0, ...  1  \n",
       "1  [0.0, 1.0, 0.0, 0.0, 0.0, 0.0, 0.0, 0.0, 0.0, ...  0  \n",
       "2  [0.0, 0.0, 0.0, 0.0, 0.0, 0.0, 0.0, 0.0, 0.0, ...  1  \n",
       "3  [0.0, 0.0, 0.0, 0.0, 0.0, 0.0, 0.0, 0.0, 0.0, ...  1  \n",
       "4  [0.0, 0.0, 0.0, 0.0, 0.0, 0.0, 0.0, 0.0, 0.0, ...  1  "
      ]
     },
     "execution_count": 28,
     "metadata": {},
     "output_type": "execute_result"
    }
   ],
   "source": [
    "test_data.head(5)"
   ]
  },
  {
   "cell_type": "code",
   "execution_count": 29,
   "metadata": {},
   "outputs": [
    {
     "name": "stdout",
     "output_type": "stream",
     "text": [
      "roc-auc: 0.7580032555615844\n"
     ]
    }
   ],
   "source": [
    "from sklearn.linear_model import LogisticRegression\n",
    "from sklearn.metrics import roc_auc_score\n",
    "# load data\n",
    "X_train, y_train = np.stack(train_data.Drug_ECFP2.values), train_data['Y'].values\n",
    "X_test, y_test =np.stack(test_data.Drug_ECFP2.values), test_data['Y'].values\n",
    "\n",
    "# initialize model\n",
    "lr = LogisticRegression(fit_intercept=True, max_iter=10, random_state=42, solver='liblinear')\n",
    "\n",
    "# train your model\n",
    "lr.fit(X_train, y_train)\n",
    "\n",
    "# predict and get accuracy\n",
    "y_pred = lr.predict(X_test)\n",
    "roc_auc = roc_auc_score(y_test, y_pred)\n",
    "\n",
    "print(\"roc-auc:\", roc_auc)"
   ]
  },
  {
   "cell_type": "markdown",
   "metadata": {},
   "source": [
    "Scikit-learn models is not state-of-the-art, then we introduce a more recent package DeepPurpose. "
   ]
  },
  {
   "cell_type": "markdown",
   "metadata": {},
   "source": [
    "### ML-ready example (II): DeepPurpose\n",
    "\n",
    "Scikit-learn only has simple models. Molecular machine learning SOTA is on GNNs! Here is an example using turn-key GNN for molecular machine learning by a package called DeepPurpose, which is a Deep Learning Based Molecular Modeling and Prediction Toolkit. Using DeepPurpose, we can rapidly build model prototypes for various drug discovery tasks covered in TDC, such as ADME, Tox, HTS, Developability prediction, DTI, DDI, PPI, Antibody Affinity predictions. \n",
    "\n",
    "Note that DeepPurpose is developed by two of the core teams in TDC, Kexin and Tianfan, and it is now published in Bioinformatics. To start with this tutorial, please follow [DeepPurpose instructions](https://github.com/kexinhuang12345/DeepPurpose#install--usage) to set up the necessary packages. DeepPurpose also provides [tutorials](https://github.com/kexinhuang12345/DeepPurpose/blob/master/Tutorial_1_DTI_Prediction.ipynb) for you to familiarize with it. \n",
    "\n",
    "### DeepPurpose Installation\n",
    "\n",
    "```bash\n",
    "conda create -n DeepPurpose python=3.6\n",
    "conda activate DeepPurpose\n",
    "conda install -c conda-forge rdkit\n",
    "pip install git+https://github.com/bp-kelley/descriptastorus \n",
    "pip install DeepPurpose\n",
    "pip install PyTDC --upgrade\n",
    "```\n",
    "\n",
    "We assume now you have set up the right environment. Now, we show you how to build an ADME predictor using Message Passing Neural Network (MPNN)! \n",
    "\n",
    "### Predicting HIA using MPNN with 10 Lines of Code\n",
    "\n",
    "First, let's load DeepPurpose and TDC:"
   ]
  },
  {
   "cell_type": "code",
   "execution_count": 30,
   "metadata": {},
   "outputs": [],
   "source": [
    "from DeepPurpose import utils, CompoundPred\n",
    "from tdc.single_pred import ADME"
   ]
  },
  {
   "cell_type": "markdown",
   "metadata": {},
   "source": [
    "Now, you can get the HIA dataset from TDC. HIA is from ADME task from Single-instance prediction and we want to predict whether or not can a compound be absorped in human intestinal, i.e. given SMILES X, predict 1/0. "
   ]
  },
  {
   "cell_type": "code",
   "execution_count": 34,
   "metadata": {},
   "outputs": [
    {
     "name": "stderr",
     "output_type": "stream",
     "text": [
      "Found local copy...\n",
      "Loading...\n",
      "Done!\n"
     ]
    },
    {
     "name": "stdout",
     "output_type": "stream",
     "text": [
      "Drug Property Prediction Mode...\n",
      "in total: 578 drugs\n",
      "encoding drug...\n",
      "unique drugs: 578\n",
      "Done.\n"
     ]
    }
   ],
   "source": [
    "# load dataset in DeepPurpose format\n",
    "X, y = ADME(name = 'HIA_Hou').get_data(format = 'DeepPurpose')\n",
    "\n",
    "# transformation of data formats to get ready for DGL_GIN_AttrMasking\n",
    "drug_encoding = 'DGL_GIN_AttrMasking' \n",
    "train, val, test = utils.data_process(X_drug = X, \n",
    "                                      y = y, \n",
    "                                      drug_encoding = drug_encoding,\n",
    "                                      random_seed = 'TDC')"
   ]
  },
  {
   "cell_type": "markdown",
   "metadata": {},
   "source": [
    "Now, we can build and train model within 4 lines of code, in less than 1 minute. "
   ]
  },
  {
   "cell_type": "code",
   "execution_count": 36,
   "metadata": {},
   "outputs": [
    {
     "name": "stdout",
     "output_type": "stream",
     "text": [
      "Downloading gin_supervised_masking_pre_trained.pth from https://data.dgl.ai/dgllife/pre_trained/gin_supervised_masking.pth...\n",
      "Pretrained model loaded\n",
      "Let's use CPU/s!\n",
      "--- Data Preparation ---\n",
      "--- Go for Training ---\n",
      "Training at Epoch 1 iteration 0 with loss 0.70386. Total time 0.0 hours\n",
      "Validation at Epoch 1 , AUROC: 0.87394 , AUPRC: 0.97924 , F1: 0.93577\n",
      "Training at Epoch 2 iteration 0 with loss 0.30905. Total time 0.00194 hours\n",
      "Validation at Epoch 2 , AUROC: 0.92156 , AUPRC: 0.98881 , F1: 0.93577\n",
      "Training at Epoch 3 iteration 0 with loss 0.23591. Total time 0.00361 hours\n",
      "Validation at Epoch 3 , AUROC: 0.91876 , AUPRC: 0.98822 , F1: 0.95049\n",
      "Training at Epoch 4 iteration 0 with loss 0.12437. Total time 0.00555 hours\n",
      "Validation at Epoch 4 , AUROC: 0.90756 , AUPRC: 0.98487 , F1: 0.95049\n",
      "Training at Epoch 5 iteration 0 with loss 0.16709. Total time 0.0075 hours\n",
      "Validation at Epoch 5 , AUROC: 0.94117 , AUPRC: 0.99159 , F1: 0.95049\n",
      "--- Go for Testing ---\n",
      "Testing AUROC: 0.9471947194719471 , AUPRC: 0.9925802538074406 , F1: 0.9547738693467337\n",
      "--- Training Finished ---\n"
     ]
    },
    {
     "data": {
      "image/png": "[encoded data removed]",
      "text/plain": [
       "<Figure size 432x288 with 1 Axes>"
      ]
     },
     "metadata": {
      "needs_background": "light"
     },
     "output_type": "display_data"
    },
    {
     "data": {
      "image/png": "[encoded data removed]",
      "text/plain": [
       "<Figure size 432x288 with 1 Axes>"
      ]
     },
     "metadata": {
      "needs_background": "light"
     },
     "output_type": "display_data"
    },
    {
     "data": {
      "image/png": "[encoded data removed]",
      "text/plain": [
       "<Figure size 432x288 with 1 Axes>"
      ]
     },
     "metadata": {
      "needs_background": "light"
     },
     "output_type": "display_data"
    }
   ],
   "source": [
    "config = utils.generate_config(drug_encoding = drug_encoding, \n",
    "                               train_epoch = 5, \n",
    "                               LR = 0.001, \n",
    "                               batch_size = 32,\n",
    "                               mpnn_hidden_size = 200,\n",
    "                               mpnn_depth = 5)\n",
    "model = CompoundPred.model_initialize(**config)\n",
    "model.train(train, val, test)\n",
    "model.save_model('./tutorial_model')"
   ]
  },
  {
   "cell_type": "markdown",
   "metadata": {},
   "source": [
    "## Leaderboard \n",
    "\n",
    "Every dataset in TDC is a benchmark, and we provide training, validation, and test sets for it, together with data splits and performance evaluation metrics. To participate in the leaderboard for a specific benchmark, follow these steps:\n",
    "\n",
    "- Use the TDC benchmark data loader to retrieve the benchmark.\n",
    "\n",
    "- Use training and/or validation set to train your model.\n",
    "\n",
    "- Use the TDC model evaluator to calculate the performance of your model on the test set.\n",
    "\n",
    "- Submit the test set performance to a TDC leaderboard.\n",
    "\n",
    "\n",
    "## ADMET leaderboard\n",
    "\n",
    "ADMET is a cornerstone of small molecule drug discovery, defining drug efficacy and toxicity profile. An ML model that could accurately predict all ADMET properties using structural information of compounds would be greatly valuable.\n",
    "We formulate the ADMET Benchmark Group using 22 ADMET datasets in TDC. \n"
   ]
  },
  {
   "cell_type": "code",
   "execution_count": null,
   "metadata": {},
   "outputs": [],
   "source": [
    "from tdc.benchmark_group import admet_group\n",
    "\n",
    "# get the benchmark group class\n",
    "group = admet_group(path = 'data/')\n",
    "\n",
    "# get specific benchmark in the benchmark group\n",
    "benchmark = group.get('Caco2_Wang')\n",
    "\n",
    "# get data splits\n",
    "predictions = {}\n",
    "name = benchmark['name']\n",
    "train_val, test = benchmark['train_val'], benchmark['test']\n",
    "\n",
    "## --- train your model --- ##\n",
    "\n",
    "# get model prediction on test set\n",
    "predictions[name] = y_pred\n",
    "\n",
    "# call TDC evaluator\n",
    "group.evaluate(predictions)\n",
    "# {'caco2_wang': {'mae': 0.234}}"
   ]
  },
  {
   "cell_type": "markdown",
   "metadata": {},
   "source": [
    "<div>\n",
    "<img src=\"leaderboard.png\" width=\"500\" align=\"left\"/>\n",
    "</div>"
   ]
  },
  {
   "cell_type": "markdown",
   "metadata": {},
   "source": [
    "We have four leaderboards! Checkout https://tdcommons.ai/benchmark/overview/!\n",
    "\n",
    "More tutorials are available at https://github.com/mims-harvard/TDC/tree/main/tutorials"
   ]
  }
 ],
 "metadata": {
  "kernelspec": {
   "display_name": "Python 3 (ipykernel)",
   "language": "python",
   "name": "python3"
  },
  "language_info": {
   "codemirror_mode": {
    "name": "ipython",
    "version": 3
   },
   "file_extension": ".py",
   "mimetype": "text/x-python",
   "name": "python",
   "nbconvert_exporter": "python",
   "pygments_lexer": "ipython3",
   "version": "3.7.10"
  }
 },
 "nbformat": 4,
 "nbformat_minor": 4
}
