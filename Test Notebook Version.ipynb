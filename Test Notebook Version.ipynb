{
 "cells": [
  {
   "cell_type": "code",
   "execution_count": 1,
   "metadata": {},
   "outputs": [
    {
     "name": "stderr",
     "output_type": "stream",
     "text": [
      "Downloading...\n",
      "100%|██████████| 84.3k/84.3k [00:00<00:00, 973kiB/s]\n",
      "Loading...\n",
      "Done!\n"
     ]
    }
   ],
   "source": [
    "from tdc.single_pred import ADME\n",
    "data = ADME(name = 'Caco2_Wang')\n",
    "split = data.get_split()"
   ]
  },
  {
   "cell_type": "code",
   "execution_count": 4,
   "metadata": {},
   "outputs": [],
   "source": [
    "# fuzzy search supported"
   ]
  },
  {
   "cell_type": "code",
   "execution_count": 5,
   "metadata": {},
   "outputs": [
    {
     "name": "stderr",
     "output_type": "stream",
     "text": [
      "100%|██████████| 910/910 [00:00<00:00, 1356.85it/s]\n"
     ]
    }
   ],
   "source": [
    "split = data.get_split(method = 'scaffold')"
   ]
  },
  {
   "cell_type": "code",
   "execution_count": 6,
   "metadata": {},
   "outputs": [
    {
     "data": {
      "text/html": [
       "<div>\n",
       "<style scoped>\n",
       "    .dataframe tbody tr th:only-of-type {\n",
       "        vertical-align: middle;\n",
       "    }\n",
       "\n",
       "    .dataframe tbody tr th {\n",
       "        vertical-align: top;\n",
       "    }\n",
       "\n",
       "    .dataframe thead th {\n",
       "        text-align: right;\n",
       "    }\n",
       "</style>\n",
       "<table border=\"1\" class=\"dataframe\">\n",
       "  <thead>\n",
       "    <tr style=\"text-align: right;\">\n",
       "      <th></th>\n",
       "      <th>Drug_ID</th>\n",
       "      <th>Drug</th>\n",
       "      <th>Y</th>\n",
       "    </tr>\n",
       "  </thead>\n",
       "  <tbody>\n",
       "    <tr>\n",
       "      <th>0</th>\n",
       "      <td>H 95/71</td>\n",
       "      <td>O(CC(O)CNC(C)C)c1ccc(NC=O)cc1</td>\n",
       "      <td>-5.427984</td>\n",
       "    </tr>\n",
       "    <tr>\n",
       "      <th>1</th>\n",
       "      <td>H 244/45</td>\n",
       "      <td>O(CC(O)CNC(C)C)c1ccc(NC(=O)CC)cc1</td>\n",
       "      <td>-5.219842</td>\n",
       "    </tr>\n",
       "    <tr>\n",
       "      <th>2</th>\n",
       "      <td>D-Phe-D-Ala-D-Ser-OH</td>\n",
       "      <td>OC(=O)[C@H](NC(=O)[C@@H](NC(=O)[C@H](N)Cc1cccc...</td>\n",
       "      <td>-6.281999</td>\n",
       "    </tr>\n",
       "    <tr>\n",
       "      <th>3</th>\n",
       "      <td>Dexloxiglumide</td>\n",
       "      <td>Clc1cc(ccc1Cl)C(=O)N[C@H](CCC(O)=O)C(=O)N(CCCC...</td>\n",
       "      <td>-5.140131</td>\n",
       "    </tr>\n",
       "    <tr>\n",
       "      <th>4</th>\n",
       "      <td>Ac-D-phe-NH2</td>\n",
       "      <td>O=C(N[C@@H](Cc1ccccc1)C(=O)N)C</td>\n",
       "      <td>-5.100090</td>\n",
       "    </tr>\n",
       "    <tr>\n",
       "      <th>...</th>\n",
       "      <td>...</td>\n",
       "      <td>...</td>\n",
       "      <td>...</td>\n",
       "    </tr>\n",
       "    <tr>\n",
       "      <th>632</th>\n",
       "      <td>neolignan smi02</td>\n",
       "      <td>O1c2c(cc(cc2OC)\\C=C\\C)C(C)C1c1cc(OC)c(O)c(OC)c1</td>\n",
       "      <td>-5.340000</td>\n",
       "    </tr>\n",
       "    <tr>\n",
       "      <th>633</th>\n",
       "      <td>preladenant</td>\n",
       "      <td>o1cccc1-c1nc-2n(n1)C(=Nc1n(ncc1-2)CCN1CCN(CC1)...</td>\n",
       "      <td>-5.350000</td>\n",
       "    </tr>\n",
       "    <tr>\n",
       "      <th>634</th>\n",
       "      <td>rapamycin</td>\n",
       "      <td>O1[C@@H](CC(=O)[C@@H](\\C=C(/C)\\[C@@H](O)[C@@H]...</td>\n",
       "      <td>-4.960000</td>\n",
       "    </tr>\n",
       "    <tr>\n",
       "      <th>635</th>\n",
       "      <td>sildenafil</td>\n",
       "      <td>S(=O)(=O)(N1CCN(CC1)C)c1cc(C2=NC(=O)c3n(nc(c3N...</td>\n",
       "      <td>-4.510000</td>\n",
       "    </tr>\n",
       "    <tr>\n",
       "      <th>636</th>\n",
       "      <td>sulfadiazine</td>\n",
       "      <td>S(=O)(=O)(Nc1ncccn1)c1ccc(N)cc1</td>\n",
       "      <td>-4.750000</td>\n",
       "    </tr>\n",
       "  </tbody>\n",
       "</table>\n",
       "<p>637 rows × 3 columns</p>\n",
       "</div>"
      ],
      "text/plain": [
       "                  Drug_ID                                               Drug  \\\n",
       "0                 H 95/71                      O(CC(O)CNC(C)C)c1ccc(NC=O)cc1   \n",
       "1                H 244/45                  O(CC(O)CNC(C)C)c1ccc(NC(=O)CC)cc1   \n",
       "2    D-Phe-D-Ala-D-Ser-OH  OC(=O)[C@H](NC(=O)[C@@H](NC(=O)[C@H](N)Cc1cccc...   \n",
       "3          Dexloxiglumide  Clc1cc(ccc1Cl)C(=O)N[C@H](CCC(O)=O)C(=O)N(CCCC...   \n",
       "4            Ac-D-phe-NH2                     O=C(N[C@@H](Cc1ccccc1)C(=O)N)C   \n",
       "..                    ...                                                ...   \n",
       "632       neolignan smi02    O1c2c(cc(cc2OC)\\C=C\\C)C(C)C1c1cc(OC)c(O)c(OC)c1   \n",
       "633           preladenant  o1cccc1-c1nc-2n(n1)C(=Nc1n(ncc1-2)CCN1CCN(CC1)...   \n",
       "634             rapamycin  O1[C@@H](CC(=O)[C@@H](\\C=C(/C)\\[C@@H](O)[C@@H]...   \n",
       "635            sildenafil  S(=O)(=O)(N1CCN(CC1)C)c1cc(C2=NC(=O)c3n(nc(c3N...   \n",
       "636          sulfadiazine                    S(=O)(=O)(Nc1ncccn1)c1ccc(N)cc1   \n",
       "\n",
       "            Y  \n",
       "0   -5.427984  \n",
       "1   -5.219842  \n",
       "2   -6.281999  \n",
       "3   -5.140131  \n",
       "4   -5.100090  \n",
       "..        ...  \n",
       "632 -5.340000  \n",
       "633 -5.350000  \n",
       "634 -4.960000  \n",
       "635 -4.510000  \n",
       "636 -4.750000  \n",
       "\n",
       "[637 rows x 3 columns]"
      ]
     },
     "execution_count": 6,
     "metadata": {},
     "output_type": "execute_result"
    }
   ],
   "source": [
    "split['train']"
   ]
  },
  {
   "cell_type": "code",
   "execution_count": 7,
   "metadata": {},
   "outputs": [
    {
     "data": {
      "image/png": "[encoded data removed]",
      "text/plain": [
       "<Figure size 432x288 with 2 Axes>"
      ]
     },
     "metadata": {
      "needs_background": "light"
     },
     "output_type": "display_data"
    },
    {
     "name": "stderr",
     "output_type": "stream",
     "text": [
      "The median is -5.131223899999999\n",
      "The mean is -5.239498353736264\n"
     ]
    }
   ],
   "source": [
    "data.label_distribution()"
   ]
  },
  {
   "cell_type": "code",
   "execution_count": 8,
   "metadata": {},
   "outputs": [
    {
     "data": {
      "text/plain": [
       "['E_PBE0',\n",
       " 'E_max_EINDO',\n",
       " 'I_max_ZINDO',\n",
       " 'HOMO_ZINDO',\n",
       " 'LUMO_ZINDO',\n",
       " 'E_1st_ZINDO',\n",
       " 'IP_ZINDO',\n",
       " 'EA_ZINDO',\n",
       " 'HOMO_PBE0',\n",
       " 'LUMO_PBE0',\n",
       " 'HOMO_GW',\n",
       " 'LUMO_GW',\n",
       " 'alpha_PBE0',\n",
       " 'alpha_SCS']"
      ]
     },
     "execution_count": 8,
     "metadata": {},
     "output_type": "execute_result"
    }
   ],
   "source": [
    "from tdc.utils import retrieve_label_name_list\n",
    "label_list = retrieve_label_name_list('QM7')\n",
    "label_list"
   ]
  },
  {
   "cell_type": "code",
   "execution_count": 11,
   "metadata": {},
   "outputs": [
    {
     "name": "stderr",
     "output_type": "stream",
     "text": [
      "Downloading...\n",
      "100%|██████████| 15.1M/15.1M [00:02<00:00, 6.30MiB/s]\n",
      "Loading...\n",
      "Done!\n"
     ]
    }
   ],
   "source": [
    "from tdc.multi_pred import PeptideMHC\n",
    "data = PeptideMHC(name = 'MHC1_IEDB-IMGT_Nielsen')\n",
    "split = data.get_split()"
   ]
  },
  {
   "cell_type": "code",
   "execution_count": 12,
   "metadata": {},
   "outputs": [
    {
     "name": "stderr",
     "output_type": "stream",
     "text": [
      "Found local copy...\n",
      "Loading...\n",
      "Done!\n"
     ]
    }
   ],
   "source": [
    "from tdc.single_pred import Epitope\n",
    "data = Epitope(name = 'iedb_jespersen')"
   ]
  },
  {
   "cell_type": "code",
   "execution_count": 13,
   "metadata": {},
   "outputs": [
    {
     "name": "stderr",
     "output_type": "stream",
     "text": [
      "Found local copy...\n",
      "Loading...\n",
      "Done!\n"
     ]
    }
   ],
   "source": [
    "from tdc.multi_pred import DTI\n",
    "data = DTI(name = 'davis')\n",
    "split = data.get_split()"
   ]
  },
  {
   "cell_type": "code",
   "execution_count": 14,
   "metadata": {},
   "outputs": [
    {
     "name": "stderr",
     "output_type": "stream",
     "text": [
      "Binariztion using threshold 10, default, we assume the smaller values are 1 and larger ones is 0, you can change the order by 'binarize(order = 'ascending')'\n"
     ]
    }
   ],
   "source": [
    "data = data.binarize(threshold = 10, order = 'descending')"
   ]
  },
  {
   "cell_type": "code",
   "execution_count": 15,
   "metadata": {},
   "outputs": [
    {
     "name": "stderr",
     "output_type": "stream",
     "text": [
      "The dataset label consists of affinity scores. Binarization using threshold 0.1 is conducted to construct the positive edges in the network. Adjust the threshold by to_graph(threshold = X)\n"
     ]
    }
   ],
   "source": [
    "x = data.to_graph(threshold = 0.1, format = 'dgl')"
   ]
  },
  {
   "cell_type": "code",
   "execution_count": 16,
   "metadata": {},
   "outputs": [
    {
     "data": {
      "text/plain": [
       "DGLGraph(num_nodes=16, num_edges=30,\n",
       "         ndata_schemes={}\n",
       "         edata_schemes={})"
      ]
     },
     "execution_count": 16,
     "metadata": {},
     "output_type": "execute_result"
    }
   ],
   "source": [
    "x['dgl_graph']"
   ]
  },
  {
   "cell_type": "code",
   "execution_count": 17,
   "metadata": {},
   "outputs": [
    {
     "name": "stderr",
     "output_type": "stream",
     "text": [
      "Downloading...\n",
      "100%|██████████| 139M/139M [00:08<00:00, 16.9MiB/s] \n",
      "Loading...\n",
      "Done!\n"
     ]
    }
   ],
   "source": [
    "from tdc.multi_pred import PPI\n",
    "data = PPI(name = 'HuRI')"
   ]
  },
  {
   "cell_type": "code",
   "execution_count": 6,
   "metadata": {
    "scrolled": false
   },
   "outputs": [],
   "source": [
    "data = data.neg_sample(frac = 1)"
   ]
  },
  {
   "cell_type": "code",
   "execution_count": 3,
   "metadata": {},
   "outputs": [
    {
     "data": {
      "image/png": "[encoded data removed]",
      "text/plain": [
       "<Figure size 432x288 with 2 Axes>"
      ]
     },
     "metadata": {
      "needs_background": "light"
     },
     "output_type": "display_data"
    },
    {
     "name": "stderr",
     "output_type": "stream",
     "text": [
      "The median is 0.5\n",
      "The mean is 0.5\n"
     ]
    }
   ],
   "source": [
    "data.label_distribution()"
   ]
  },
  {
   "cell_type": "code",
   "execution_count": null,
   "metadata": {},
   "outputs": [],
   "source": []
  },
  {
   "cell_type": "code",
   "execution_count": 1,
   "metadata": {},
   "outputs": [
    {
     "name": "stderr",
     "output_type": "stream",
     "text": [
      "Downloading...\n",
      "100%|██████████| 11.8M/11.8M [00:01<00:00, 9.27MiB/s]\n",
      "Loading...\n",
      "Done!\n"
     ]
    }
   ],
   "source": [
    "from tdc.multi_pred import PeptideMHC\n",
    "data = PeptideMHC(name = 'mhc2_iedb_jensen')"
   ]
  },
  {
   "cell_type": "code",
   "execution_count": 4,
   "metadata": {
    "scrolled": true
   },
   "outputs": [
    {
     "data": {
      "image/png": "[encoded data removed]",
      "text/plain": [
       "<Figure size 432x288 with 2 Axes>"
      ]
     },
     "metadata": {
      "needs_background": "light"
     },
     "output_type": "display_data"
    },
    {
     "name": "stderr",
     "output_type": "stream",
     "text": [
      "The median is 0.367972\n",
      "The mean is 0.3797311546384075\n"
     ]
    }
   ],
   "source": [
    "data.label_distribution()"
   ]
  },
  {
   "cell_type": "code",
   "execution_count": 3,
   "metadata": {},
   "outputs": [
    {
     "name": "stderr",
     "output_type": "stream",
     "text": [
      "Downloading...\n",
      "100%|██████████| 140M/140M [00:07<00:00, 20.0MiB/s] \n",
      "Loading...\n",
      "Done!\n"
     ]
    }
   ],
   "source": [
    "from tdc.multi_pred import DrugRes\n",
    "data = DrugRes(name = 'GDSC1')\n",
    "split = data.get_split()"
   ]
  },
  {
   "cell_type": "code",
   "execution_count": null,
   "metadata": {},
   "outputs": [],
   "source": []
  },
  {
   "cell_type": "code",
   "execution_count": 1,
   "metadata": {},
   "outputs": [
    {
     "name": "stderr",
     "output_type": "stream",
     "text": [
      "Tip: Use tdc.utils.retrieve_label_name_list('qm7b') to retrieve all available label names.\n",
      "Downloading...\n",
      "100%|██████████| 16.4M/16.4M [00:01<00:00, 14.0MiB/s]\n",
      "Loading...\n",
      "Done!\n"
     ]
    }
   ],
   "source": [
    "from tdc.single_pred import QM\n",
    "data = QM(name = 'qm7b', label_name = 'E_PBE0')"
   ]
  },
  {
   "cell_type": "code",
   "execution_count": 1,
   "metadata": {},
   "outputs": [],
   "source": [
    "from tdc.utils import retrieve_label_name_list\n",
    "label_list = retrieve_label_name_list('qm9')"
   ]
  },
  {
   "cell_type": "code",
   "execution_count": 2,
   "metadata": {},
   "outputs": [
    {
     "name": "stderr",
     "output_type": "stream",
     "text": [
      "Downloading...\n",
      "100%|██████████| 922M/922M [00:38<00:00, 24.0MiB/s] \n",
      "Loading...\n",
      "Done!\n"
     ]
    }
   ],
   "source": [
    "from tdc.single_pred import QM\n",
    "data = QM(name = 'qm9', label_name = label_list[2])"
   ]
  },
  {
   "cell_type": "code",
   "execution_count": 1,
   "metadata": {},
   "outputs": [
    {
     "name": "stderr",
     "output_type": "stream",
     "text": [
      "Found local copy...\n",
      "Loading...\n",
      "Done!\n"
     ]
    }
   ],
   "source": [
    "from tdc.single_pred import Develop\n",
    "data = Develop(name = 'TAP', label_name = 'PNC')\n",
    "split = data.get_split()"
   ]
  },
  {
   "cell_type": "code",
   "execution_count": 5,
   "metadata": {},
   "outputs": [
    {
     "name": "stderr",
     "output_type": "stream",
     "text": [
      "Downloading...\n",
      "100%|██████████| 601k/601k [00:00<00:00, 1.48MiB/s]\n",
      "Loading...\n",
      "Done!\n"
     ]
    }
   ],
   "source": [
    "from tdc.single_pred import Develop\n",
    "data = Develop(name = 'SAbDab_Chen')\n",
    "split = data.get_split()"
   ]
  },
  {
   "cell_type": "code",
   "execution_count": 1,
   "metadata": {},
   "outputs": [
    {
     "name": "stderr",
     "output_type": "stream",
     "text": [
      "Downloading...\n",
      "100%|██████████| 330k/330k [00:00<00:00, 1.05MiB/s]\n",
      "Loading...\n",
      "Done!\n"
     ]
    }
   ],
   "source": [
    "from tdc.multi_pred import AntibodyAff\n",
    "data = AntibodyAff(name = 'Protein_SAbDab')\n",
    "split = data.get_split()"
   ]
  },
  {
   "cell_type": "code",
   "execution_count": 1,
   "metadata": {},
   "outputs": [
    {
     "name": "stderr",
     "output_type": "stream",
     "text": [
      "Found local copy...\n",
      "Loading...\n",
      "Done!\n"
     ]
    }
   ],
   "source": [
    "from tdc.multi_pred import DrugSyn\n",
    "data = DrugSyn(name = 'OncoPolyPharmacology')\n",
    "split = data.get_split()"
   ]
  },
  {
   "cell_type": "code",
   "execution_count": 5,
   "metadata": {},
   "outputs": [
    {
     "name": "stderr",
     "output_type": "stream",
     "text": [
      "Found local copy...\n",
      "Loading...\n",
      "Done!\n",
      "--- Dataset Statistics ---\n",
      "7399 unique genes.\n",
      "7095 unique diseases.\n",
      "52476 gene-disease pairs.\n",
      "--------------------------\n"
     ]
    }
   ],
   "source": [
    "from tdc.multi_pred import GDA\n",
    "data = GDA(name = 'DisGeNET')\n",
    "data.print_stats()"
   ]
  },
  {
   "cell_type": "code",
   "execution_count": 3,
   "metadata": {},
   "outputs": [
    {
     "name": "stderr",
     "output_type": "stream",
     "text": [
      "Downloading...\n",
      "100%|██████████| 338M/338M [00:15<00:00, 22.6MiB/s] \n",
      "Loading...\n",
      "Done!\n"
     ]
    }
   ],
   "source": [
    "from tdc.multi_pred import MTI\n",
    "data = MTI(name = 'miRTarBase')\n",
    "split = data.get_split(method = 'cold_split', column_name = 'miRNA')"
   ]
  },
  {
   "cell_type": "code",
   "execution_count": 2,
   "metadata": {},
   "outputs": [],
   "source": [
    "data = data.neg_sample(frac = 1)"
   ]
  },
  {
   "cell_type": "code",
   "execution_count": 4,
   "metadata": {},
   "outputs": [
    {
     "data": {
      "text/plain": [
       "1048028"
      ]
     },
     "execution_count": 4,
     "metadata": {},
     "output_type": "execute_result"
    }
   ],
   "source": [
    "len(data.get_data())"
   ]
  },
  {
   "cell_type": "code",
   "execution_count": 14,
   "metadata": {},
   "outputs": [
    {
     "name": "stderr",
     "output_type": "stream",
     "text": [
      "Downloading...\n",
      "100%|██████████| 63.9M/63.9M [00:03<00:00, 20.2MiB/s]\n",
      "Loading...\n",
      "Done!\n"
     ]
    }
   ],
   "source": [
    "from tdc.multi_pred import GDA\n",
    "data = GDA(name = 'DisGeNET')\n",
    "split = data.get_split()"
   ]
  },
  {
   "cell_type": "code",
   "execution_count": 1,
   "metadata": {},
   "outputs": [
    {
     "name": "stderr",
     "output_type": "stream",
     "text": [
      "Downloading...\n",
      "100%|██████████| 150k/150k [00:00<00:00, 712kiB/s] \n",
      "Loading...\n",
      "Done!\n"
     ]
    }
   ],
   "source": [
    "from tdc.single_pred import Paratope\n",
    "data = Paratope(name = 'SAbDab_Liberis')\n",
    "split = data.get_split()"
   ]
  },
  {
   "cell_type": "code",
   "execution_count": 2,
   "metadata": {},
   "outputs": [
    {
     "data": {
      "text/plain": [
       "1023"
      ]
     },
     "execution_count": 2,
     "metadata": {},
     "output_type": "execute_result"
    }
   ],
   "source": [
    "len(data.get_data())"
   ]
  },
  {
   "cell_type": "code",
   "execution_count": 1,
   "metadata": {},
   "outputs": [
    {
     "name": "stderr",
     "output_type": "stream",
     "text": [
      "Found local copy...\n",
      "Loading...\n",
      "Done!\n"
     ]
    }
   ],
   "source": [
    "from tdc.multi_pred import DTI\n",
    "data = DTI(name = 'DAVIS')\n",
    "split = data.get_split(method = 'cold_split', column_name = 'Drug')"
   ]
  },
  {
   "cell_type": "code",
   "execution_count": 2,
   "metadata": {},
   "outputs": [
    {
     "data": {
      "image/png": "[encoded data removed]",
      "text/plain": [
       "<Figure size 432x288 with 2 Axes>"
      ]
     },
     "metadata": {
      "needs_background": "light"
     },
     "output_type": "display_data"
    },
    {
     "name": "stderr",
     "output_type": "stream",
     "text": [
      "The median is 10000.0\n",
      "The mean is 7415.876611724781\n"
     ]
    }
   ],
   "source": [
    "data.label_distribution()"
   ]
  },
  {
   "cell_type": "code",
   "execution_count": 3,
   "metadata": {},
   "outputs": [
    {
     "name": "stderr",
     "output_type": "stream",
     "text": [
      "Binariztion using threshold 30, default, we assume the smaller values are 1 and larger ones is 0, you can change the order by 'binarize(order = 'ascending')'\n"
     ]
    },
    {
     "data": {
      "text/plain": [
       "<tdc.multi_pred.dataloader.DTI at 0x7fa3aa07e8d0>"
      ]
     },
     "execution_count": 3,
     "metadata": {},
     "output_type": "execute_result"
    }
   ],
   "source": [
    "data.binarize(threshold = 30, order = 'descending')"
   ]
  },
  {
   "cell_type": "code",
   "execution_count": 4,
   "metadata": {},
   "outputs": [
    {
     "data": {
      "image/png": "[encoded data removed]",
      "text/plain": [
       "<Figure size 432x288 with 2 Axes>"
      ]
     },
     "metadata": {
      "needs_background": "light"
     },
     "output_type": "display_data"
    },
    {
     "name": "stderr",
     "output_type": "stream",
     "text": [
      "The median is 0.0\n",
      "The mean is 0.050106467926537133\n"
     ]
    }
   ],
   "source": [
    "data.label_distribution()"
   ]
  },
  {
   "cell_type": "code",
   "execution_count": 29,
   "metadata": {},
   "outputs": [
    {
     "name": "stderr",
     "output_type": "stream",
     "text": [
      "Downloading...\n",
      "100%|██████████| 30.9k/30.9k [00:00<00:00, 7.47MiB/s]\n",
      "Loading...\n",
      "Done!\n"
     ]
    }
   ],
   "source": [
    "from tdc.single_pred import HTS\n",
    "data = HTS(name = 'SARSCoV2_3CLPro_Diamond')"
   ]
  },
  {
   "cell_type": "code",
   "execution_count": 30,
   "metadata": {},
   "outputs": [
    {
     "data": {
      "image/png": "[encoded data removed]",
      "text/plain": [
       "<Figure size 432x288 with 2 Axes>"
      ]
     },
     "metadata": {
      "needs_background": "light"
     },
     "output_type": "display_data"
    },
    {
     "name": "stderr",
     "output_type": "stream",
     "text": [
      "The median is 0.0\n",
      "The mean is 0.08863636363636364\n"
     ]
    }
   ],
   "source": [
    "data.label_distribution()"
   ]
  },
  {
   "cell_type": "code",
   "execution_count": 31,
   "metadata": {},
   "outputs": [
    {
     "data": {
      "text/plain": [
       "880"
      ]
     },
     "execution_count": 31,
     "metadata": {},
     "output_type": "execute_result"
    }
   ],
   "source": [
    "len(data)"
   ]
  },
  {
   "cell_type": "code",
   "execution_count": 32,
   "metadata": {},
   "outputs": [
    {
     "name": "stderr",
     "output_type": "stream",
     "text": [
      " Oversample of minority class is used. \n"
     ]
    },
    {
     "data": {
      "text/html": [
       "<div>\n",
       "<style scoped>\n",
       "    .dataframe tbody tr th:only-of-type {\n",
       "        vertical-align: middle;\n",
       "    }\n",
       "\n",
       "    .dataframe tbody tr th {\n",
       "        vertical-align: top;\n",
       "    }\n",
       "\n",
       "    .dataframe thead th {\n",
       "        text-align: right;\n",
       "    }\n",
       "</style>\n",
       "<table border=\"1\" class=\"dataframe\">\n",
       "  <thead>\n",
       "    <tr style=\"text-align: right;\">\n",
       "      <th></th>\n",
       "      <th>Drug_ID</th>\n",
       "      <th>Drug</th>\n",
       "      <th>Y</th>\n",
       "    </tr>\n",
       "  </thead>\n",
       "  <tbody>\n",
       "    <tr>\n",
       "      <th>0</th>\n",
       "      <td>47</td>\n",
       "      <td>OC=1C=CC=CN1</td>\n",
       "      <td>1</td>\n",
       "    </tr>\n",
       "    <tr>\n",
       "      <th>1</th>\n",
       "      <td>856</td>\n",
       "      <td>C[1C@@H]1CC[1C@@H](O1)C(=O)N2CCC=C(F)C2</td>\n",
       "      <td>0</td>\n",
       "    </tr>\n",
       "    <tr>\n",
       "      <th>2</th>\n",
       "      <td>494</td>\n",
       "      <td>CC1CCCCN1CCN</td>\n",
       "      <td>0</td>\n",
       "    </tr>\n",
       "    <tr>\n",
       "      <th>3</th>\n",
       "      <td>74</td>\n",
       "      <td>ClCC(=O)Nc1cccnc1Cl</td>\n",
       "      <td>1</td>\n",
       "    </tr>\n",
       "    <tr>\n",
       "      <th>4</th>\n",
       "      <td>54</td>\n",
       "      <td>CC(=O)NC(Cc1ccc(cc1)O)C(=O)NCC#CBr</td>\n",
       "      <td>1</td>\n",
       "    </tr>\n",
       "    <tr>\n",
       "      <th>...</th>\n",
       "      <td>...</td>\n",
       "      <td>...</td>\n",
       "      <td>...</td>\n",
       "    </tr>\n",
       "    <tr>\n",
       "      <th>1599</th>\n",
       "      <td>504</td>\n",
       "      <td>CC(=O)NCC1=NC=CN1</td>\n",
       "      <td>0</td>\n",
       "    </tr>\n",
       "    <tr>\n",
       "      <th>1600</th>\n",
       "      <td>353</td>\n",
       "      <td>ClCC(=O)N1CCN(CC1)C2CCS(=O)(=O)C2</td>\n",
       "      <td>0</td>\n",
       "    </tr>\n",
       "    <tr>\n",
       "      <th>1601</th>\n",
       "      <td>594</td>\n",
       "      <td>NC(=O)CN1CCN(CC1)C(=O)C2=CC=CO2</td>\n",
       "      <td>0</td>\n",
       "    </tr>\n",
       "    <tr>\n",
       "      <th>1602</th>\n",
       "      <td>71</td>\n",
       "      <td>ClCC(=O)NCc1ccc2OCOc2c1</td>\n",
       "      <td>1</td>\n",
       "    </tr>\n",
       "    <tr>\n",
       "      <th>1603</th>\n",
       "      <td>91</td>\n",
       "      <td>NC1=NC=CC(I)=C1</td>\n",
       "      <td>0</td>\n",
       "    </tr>\n",
       "  </tbody>\n",
       "</table>\n",
       "<p>1604 rows × 3 columns</p>\n",
       "</div>"
      ],
      "text/plain": [
       "      Drug_ID                                     Drug  Y\n",
       "0          47                             OC=1C=CC=CN1  1\n",
       "1         856  C[1C@@H]1CC[1C@@H](O1)C(=O)N2CCC=C(F)C2  0\n",
       "2         494                             CC1CCCCN1CCN  0\n",
       "3          74                      ClCC(=O)Nc1cccnc1Cl  1\n",
       "4          54       CC(=O)NC(Cc1ccc(cc1)O)C(=O)NCC#CBr  1\n",
       "...       ...                                      ... ..\n",
       "1599      504                        CC(=O)NCC1=NC=CN1  0\n",
       "1600      353        ClCC(=O)N1CCN(CC1)C2CCS(=O)(=O)C2  0\n",
       "1601      594          NC(=O)CN1CCN(CC1)C(=O)C2=CC=CO2  0\n",
       "1602       71                  ClCC(=O)NCc1ccc2OCOc2c1  1\n",
       "1603       91                          NC1=NC=CC(I)=C1  0\n",
       "\n",
       "[1604 rows x 3 columns]"
      ]
     },
     "execution_count": 32,
     "metadata": {},
     "output_type": "execute_result"
    }
   ],
   "source": [
    "data.balanced(oversample = True, seed = 'benchmark')"
   ]
  },
  {
   "cell_type": "code",
   "execution_count": 1,
   "metadata": {},
   "outputs": [
    {
     "name": "stderr",
     "output_type": "stream",
     "text": [
      "Downloading...\n",
      "100%|██████████| 26.7M/26.7M [00:03<00:00, 8.78MiB/s]\n",
      "Loading...\n",
      "Done!\n",
      "The dataset label consists of affinity scores. Binarization using threshold 30 is conducted to construct the positive edges in the network. Adjust the threshold by to_graph(threshold = X)\n",
      "Using backend: pytorch\n"
     ]
    }
   ],
   "source": [
    "from tdc.multi_pred import DTI\n",
    "data = DTI(name = 'DAVIS')\n",
    "out = data.to_graph(threshold = 30, format = 'dgl', split = True, frac = [0.7, 0.1, 0.2], seed = 'benchmark', order = 'descending')"
   ]
  },
  {
   "cell_type": "code",
   "execution_count": 13,
   "metadata": {},
   "outputs": [
    {
     "data": {
      "text/plain": [
       "dict_keys(['dgl_graph', 'index_to_entities', 'split'])"
      ]
     },
     "execution_count": 13,
     "metadata": {},
     "output_type": "execute_result"
    }
   ],
   "source": [
    "out.keys()"
   ]
  },
  {
   "cell_type": "code",
   "execution_count": 14,
   "metadata": {},
   "outputs": [
    {
     "name": "stderr",
     "output_type": "stream",
     "text": [
      "Downloading...\n",
      "100%|██████████| 139M/139M [00:06<00:00, 20.0MiB/s] \n",
      "Loading...\n",
      "Done!\n"
     ]
    }
   ],
   "source": [
    "from tdc.multi_pred import PPI\n",
    "data = PPI(name = 'HuRI')\n",
    "data = data.neg_sample(frac = 1)"
   ]
  },
  {
   "cell_type": "code",
   "execution_count": null,
   "metadata": {},
   "outputs": [],
   "source": []
  },
  {
   "cell_type": "code",
   "execution_count": 37,
   "metadata": {},
   "outputs": [
    {
     "name": "stderr",
     "output_type": "stream",
     "text": [
      "Found local copy...\n"
     ]
    }
   ],
   "source": [
    "from tdc import Oracle\n",
    "oracle = Oracle(name = 'GSK3B')"
   ]
  },
  {
   "cell_type": "code",
   "execution_count": 38,
   "metadata": {},
   "outputs": [
    {
     "data": {
      "text/plain": [
       "[0.03, 0.02, 0.0, 0.0]"
      ]
     },
     "execution_count": 38,
     "metadata": {},
     "output_type": "execute_result"
    }
   ],
   "source": [
    "smiles_lst = ['CC(C)(C)[C@H]1CCc2c(sc(NC(=O)COc3ccc(Cl)cc3)c2C(N)=O)C1', \\\n",
    "\t\t\t  'C[C@@H]1CCc2c(sc(NC(=O)c3ccco3)c2C(N)=O)C1', \\\n",
    "\t\t\t  'CCNC(=O)c1ccc(NC(=O)N2CC[C@H](C)[C@H](O)C2)c(C)c1', \\\n",
    "\t\t\t  'C[C@@H]1CCN(C(=O)CCCc2ccccc2)C[C@@H]1O']\n",
    "oracle(smiles_lst)"
   ]
  },
  {
   "cell_type": "code",
   "execution_count": 4,
   "metadata": {},
   "outputs": [
    {
     "name": "stderr",
     "output_type": "stream",
     "text": [
      "Downloading...\n",
      "100%|██████████| 35.4M/35.4M [00:02<00:00, 17.3MiB/s]\n"
     ]
    },
    {
     "ename": "AttributeError",
     "evalue": "'SVC' object has no attribute '_n_support'",
     "output_type": "error",
     "traceback": [
      "\u001b[0;31m---------------------------------------------------------------------------\u001b[0m",
      "\u001b[0;31mAttributeError\u001b[0m                            Traceback (most recent call last)",
      "\u001b[0;32m<ipython-input-4-165261f37398>\u001b[0m in \u001b[0;36m<module>\u001b[0;34m\u001b[0m\n\u001b[1;32m      5\u001b[0m                           \u001b[0;34m'CCNC(=O)c1ccc(NC(=O)N2CC[C@H](C)[C@H](O)C2)c(C)c1'\u001b[0m\u001b[0;34m,\u001b[0m\u001b[0;31m \u001b[0m\u001b[0;31m\\\u001b[0m\u001b[0;34m\u001b[0m\u001b[0;34m\u001b[0m\u001b[0m\n\u001b[1;32m      6\u001b[0m \t\t\t  'C[C@@H]1CCN(C(=O)CCCc2ccccc2)C[C@@H]1O']\n\u001b[0;32m----> 7\u001b[0;31m \u001b[0moracle\u001b[0m\u001b[0;34m(\u001b[0m\u001b[0msmiles_lst\u001b[0m\u001b[0;34m)\u001b[0m\u001b[0;34m\u001b[0m\u001b[0;34m\u001b[0m\u001b[0m\n\u001b[0m",
      "\u001b[0;32m~/Desktop/Research/TDC/tdc/oracle.py\u001b[0m in \u001b[0;36m__call__\u001b[0;34m(self, smiles)\u001b[0m\n\u001b[1;32m     64\u001b[0m                 \u001b[0;32melif\u001b[0m \u001b[0mself\u001b[0m\u001b[0;34m.\u001b[0m\u001b[0mname\u001b[0m \u001b[0;34m==\u001b[0m \u001b[0;34m'mestranol_similarity'\u001b[0m\u001b[0;34m:\u001b[0m\u001b[0;34m\u001b[0m\u001b[0;34m\u001b[0m\u001b[0m\n\u001b[1;32m     65\u001b[0m                         \u001b[0mself\u001b[0m\u001b[0;34m.\u001b[0m\u001b[0mevaluator_func\u001b[0m \u001b[0;34m=\u001b[0m \u001b[0mmestranol_similarity\u001b[0m\u001b[0;34m\u001b[0m\u001b[0;34m\u001b[0m\u001b[0m\n\u001b[0;32m---> 66\u001b[0;31m                 \u001b[0;32melif\u001b[0m \u001b[0mself\u001b[0m\u001b[0;34m.\u001b[0m\u001b[0mname\u001b[0m \u001b[0;34m==\u001b[0m \u001b[0;34m'median1'\u001b[0m\u001b[0;34m:\u001b[0m\u001b[0;34m\u001b[0m\u001b[0;34m\u001b[0m\u001b[0m\n\u001b[0m\u001b[1;32m     67\u001b[0m                         \u001b[0mself\u001b[0m\u001b[0;34m.\u001b[0m\u001b[0mevaluator_func\u001b[0m \u001b[0;34m=\u001b[0m \u001b[0mmedian1\u001b[0m\u001b[0;34m\u001b[0m\u001b[0;34m\u001b[0m\u001b[0m\n\u001b[1;32m     68\u001b[0m                 \u001b[0;32melif\u001b[0m \u001b[0mself\u001b[0m\u001b[0;34m.\u001b[0m\u001b[0mname\u001b[0m \u001b[0;34m==\u001b[0m \u001b[0;34m'median2'\u001b[0m\u001b[0;34m:\u001b[0m\u001b[0;34m\u001b[0m\u001b[0;34m\u001b[0m\u001b[0m\n",
      "\u001b[0;32m~/Desktop/Research/TDC/tdc/drd2_scorer.py\u001b[0m in \u001b[0;36mget_score\u001b[0;34m(smile)\u001b[0m\n",
      "\u001b[0;32m~/opt/anaconda3/envs/DeepPurpose/lib/python3.7/site-packages/sklearn/svm/_base.py\u001b[0m in \u001b[0;36m_predict_proba\u001b[0;34m(self, X)\u001b[0m\n\u001b[1;32m    644\u001b[0m         pred_proba = (self._sparse_predict_proba\n\u001b[1;32m    645\u001b[0m                       if self._sparse else self._dense_predict_proba)\n\u001b[0;32m--> 646\u001b[0;31m         \u001b[0;32mreturn\u001b[0m \u001b[0mpred_proba\u001b[0m\u001b[0;34m(\u001b[0m\u001b[0mX\u001b[0m\u001b[0;34m)\u001b[0m\u001b[0;34m\u001b[0m\u001b[0;34m\u001b[0m\u001b[0m\n\u001b[0m\u001b[1;32m    647\u001b[0m \u001b[0;34m\u001b[0m\u001b[0m\n\u001b[1;32m    648\u001b[0m     \u001b[0;34m@\u001b[0m\u001b[0mproperty\u001b[0m\u001b[0;34m\u001b[0m\u001b[0;34m\u001b[0m\u001b[0m\n",
      "\u001b[0;32m~/opt/anaconda3/envs/DeepPurpose/lib/python3.7/site-packages/sklearn/svm/_base.py\u001b[0m in \u001b[0;36m_dense_predict_proba\u001b[0;34m(self, X)\u001b[0m\n\u001b[1;32m    688\u001b[0m         \u001b[0msvm_type\u001b[0m \u001b[0;34m=\u001b[0m \u001b[0mLIBSVM_IMPL\u001b[0m\u001b[0;34m.\u001b[0m\u001b[0mindex\u001b[0m\u001b[0;34m(\u001b[0m\u001b[0mself\u001b[0m\u001b[0;34m.\u001b[0m\u001b[0m_impl\u001b[0m\u001b[0;34m)\u001b[0m\u001b[0;34m\u001b[0m\u001b[0;34m\u001b[0m\u001b[0m\n\u001b[1;32m    689\u001b[0m         pprob = libsvm.predict_proba(\n\u001b[0;32m--> 690\u001b[0;31m             \u001b[0mX\u001b[0m\u001b[0;34m,\u001b[0m \u001b[0mself\u001b[0m\u001b[0;34m.\u001b[0m\u001b[0msupport_\u001b[0m\u001b[0;34m,\u001b[0m \u001b[0mself\u001b[0m\u001b[0;34m.\u001b[0m\u001b[0msupport_vectors_\u001b[0m\u001b[0;34m,\u001b[0m \u001b[0mself\u001b[0m\u001b[0;34m.\u001b[0m\u001b[0m_n_support\u001b[0m\u001b[0;34m,\u001b[0m\u001b[0;34m\u001b[0m\u001b[0;34m\u001b[0m\u001b[0m\n\u001b[0m\u001b[1;32m    691\u001b[0m             \u001b[0mself\u001b[0m\u001b[0;34m.\u001b[0m\u001b[0m_dual_coef_\u001b[0m\u001b[0;34m,\u001b[0m \u001b[0mself\u001b[0m\u001b[0;34m.\u001b[0m\u001b[0m_intercept_\u001b[0m\u001b[0;34m,\u001b[0m\u001b[0;34m\u001b[0m\u001b[0;34m\u001b[0m\u001b[0m\n\u001b[1;32m    692\u001b[0m             \u001b[0mself\u001b[0m\u001b[0;34m.\u001b[0m\u001b[0mprobA_\u001b[0m\u001b[0;34m,\u001b[0m \u001b[0mself\u001b[0m\u001b[0;34m.\u001b[0m\u001b[0mprobB_\u001b[0m\u001b[0;34m,\u001b[0m\u001b[0;34m\u001b[0m\u001b[0;34m\u001b[0m\u001b[0m\n",
      "\u001b[0;31mAttributeError\u001b[0m: 'SVC' object has no attribute '_n_support'"
     ]
    }
   ],
   "source": [
    "from tdc import Oracle\n",
    "oracle = Oracle(name = 'DRD2')\n",
    "smiles_lst = ['CC(C)(C)[C@H]1CCc2c(sc(NC(=O)COc3ccc(Cl)cc3)c2C(N)=O)C1', \\\n",
    "\t\t\t  'C[C@@H]1CCc2c(sc(NC(=O)c3ccco3)c2C(N)=O)C1', \\\n",
    "\t\t\t  'CCNC(=O)c1ccc(NC(=O)N2CC[C@H](C)[C@H](O)C2)c(C)c1', \\\n",
    "\t\t\t  'C[C@@H]1CCN(C(=O)CCCc2ccccc2)C[C@@H]1O']\n",
    "oracle(smiles_lst)"
   ]
  },
  {
   "cell_type": "code",
   "execution_count": 1,
   "metadata": {},
   "outputs": [
    {
     "name": "stderr",
     "output_type": "stream",
     "text": [
      "Found local copy...\n"
     ]
    },
    {
     "data": {
      "text/plain": [
       "[2.706977149048555, 2.7173592076487907, 2.8548373344538067, 2.659973244931228]"
      ]
     },
     "execution_count": 1,
     "metadata": {},
     "output_type": "execute_result"
    }
   ],
   "source": [
    "from tdc import Oracle\n",
    "oracle = Oracle(name = 'SA')\n",
    "smiles_lst = ['CC(C)(C)[C@H]1CCc2c(sc(NC(=O)COc3ccc(Cl)cc3)c2C(N)=O)C1', \\\n",
    "\t\t\t  'C[C@@H]1CCc2c(sc(NC(=O)c3ccco3)c2C(N)=O)C1', \\\n",
    "\t\t\t  'CCNC(=O)c1ccc(NC(=O)N2CC[C@H](C)[C@H](O)C2)c(C)c1', \\\n",
    "\t\t\t  'C[C@@H]1CCN(C(=O)CCCc2ccccc2)C[C@@H]1O']\n",
    "oracle(smiles_lst)"
   ]
  },
  {
   "cell_type": "code",
   "execution_count": 3,
   "metadata": {},
   "outputs": [
    {
     "name": "stdout",
     "output_type": "stream",
     "text": [
      "1.0\n"
     ]
    }
   ],
   "source": [
    "from tdc import Evaluator\n",
    "\n",
    "evaluator = Evaluator(name = 'ROC-AUC')\n",
    "print(evaluator([0,1], [0.5, 0.6]))"
   ]
  },
  {
   "cell_type": "code",
   "execution_count": 1,
   "metadata": {},
   "outputs": [
    {
     "name": "stdout",
     "output_type": "stream",
     "text": [
      "[0.05454545454545454, 0.07142857142857142, 0.061224489795918366, 0.07894736842105263]\n"
     ]
    }
   ],
   "source": [
    "from tdc import Oracle\n",
    "\n",
    "oracle = Oracle(name = 'Uniqueness')\n",
    "\n",
    "smiles_lst = ['CC(C)(C)[C@H]1CCc2c(sc(NC(=O)COc3ccc(Cl)cc3)c2C(N)=O)C1', \\\n",
    "\t\t\t  'C[C@@H]1CCc2c(sc(NC(=O)c3ccco3)c2C(N)=O)C1', \\\n",
    "\t\t\t  'CCNC(=O)c1ccc(NC(=O)N2CC[C@H](C)[C@H](O)C2)c(C)c1', \\\n",
    "\t\t\t  'C[C@@H]1CCN(C(=O)CCCc2ccccc2)C[C@@H]1O']\n",
    "\n",
    "print(oracle(smiles_lst))"
   ]
  },
  {
   "cell_type": "code",
   "execution_count": 1,
   "metadata": {},
   "outputs": [
    {
     "name": "stdout",
     "output_type": "stream",
     "text": [
      "0.0\n"
     ]
    }
   ],
   "source": [
    "from tdc import Oracle\n",
    "\n",
    "oracle = Oracle(name = 'Novelty')\n",
    "\n",
    "smiles_lst = ['CC(C)(C)[C@H]1CCc2c(sc(NC(=O)COc3ccc(Cl)cc3)c2C(N)=O)C1', \\\n",
    "\t\t\t  'C[C@@H]1CCc2c(sc(NC(=O)c3ccco3)c2C(N)=O)C1', \\\n",
    "\t\t\t  'CCNC(=O)c1ccc(NC(=O)N2CC[C@H](C)[C@H](O)C2)c(C)c1', \\\n",
    "\t\t\t  'C[C@@H]1CCN(C(=O)CCCc2ccccc2)C[C@@H]1O']\n",
    "\n",
    "print(oracle(smiles_lst, smiles_lst))"
   ]
  },
  {
   "cell_type": "code",
   "execution_count": 2,
   "metadata": {},
   "outputs": [],
   "source": [
    "from tdc.utils import cid2smiles\n",
    "smiles = cid2smiles(2248631)"
   ]
  },
  {
   "cell_type": "code",
   "execution_count": 3,
   "metadata": {},
   "outputs": [
    {
     "data": {
      "text/plain": [
       "'CCOC1=CC(=C(C=C1C=CC(=O)O)Br)OCC'"
      ]
     },
     "execution_count": 3,
     "metadata": {},
     "output_type": "execute_result"
    }
   ],
   "source": [
    "smiles"
   ]
  },
  {
   "cell_type": "code",
   "execution_count": 1,
   "metadata": {},
   "outputs": [],
   "source": [
    "from tdc.utils import uniprot2seq\n",
    "seq = uniprot2seq('P49122')"
   ]
  },
  {
   "cell_type": "code",
   "execution_count": 2,
   "metadata": {},
   "outputs": [
    {
     "data": {
      "text/plain": [
       "'MKTLLLTLVVVTIVCLDLGYTLKCHNTQLPFIYNTCPEGKNLCFKATLKFPLKFPVKRGCAATCPRSSSLVKVVCCKTDKCN'"
      ]
     },
     "execution_count": 2,
     "metadata": {},
     "output_type": "execute_result"
    }
   ],
   "source": [
    "seq"
   ]
  },
  {
   "cell_type": "code",
   "execution_count": null,
   "metadata": {},
   "outputs": [],
   "source": []
  },
  {
   "cell_type": "code",
   "execution_count": 2,
   "metadata": {},
   "outputs": [],
   "source": [
    "y_true = [[0, 1], [1, 1, 0, 1]]\n",
    "y_pred = [[0.3, 0.2], [0.9, 0.89, 0.1, 0.8]]"
   ]
  },
  {
   "cell_type": "code",
   "execution_count": 27,
   "metadata": {},
   "outputs": [],
   "source": [
    "from tdc import Evaluator\n",
    "evaluator = Evaluator(name = 'R2')\n",
    "score = evaluator(y_true[0], y_pred[0], threshold = 0.1)"
   ]
  },
  {
   "cell_type": "code",
   "execution_count": 28,
   "metadata": {},
   "outputs": [
    {
     "data": {
      "text/plain": [
       "-0.4600000000000002"
      ]
     },
     "execution_count": 28,
     "metadata": {},
     "output_type": "execute_result"
    }
   ],
   "source": [
    "score"
   ]
  },
  {
   "cell_type": "code",
   "execution_count": 5,
   "metadata": {},
   "outputs": [
    {
     "data": {
      "text/plain": [
       "['bbb_adenot',\n",
       " 'bbb_martins',\n",
       " 'bindingdb_ic50',\n",
       " 'bindingdb_kd',\n",
       " 'bindingdb_ki',\n",
       " 'bioavailability_ma',\n",
       " 'caco2_wang',\n",
       " 'clearance_edrug3d',\n",
       " 'clintox',\n",
       " 'cyp1a2_veith',\n",
       " 'cyp2c19_veith',\n",
       " 'cyp2c9_veith',\n",
       " 'cyp2d6_veith',\n",
       " 'cyp3a4_veith',\n",
       " 'davis',\n",
       " 'drugbank',\n",
       " 'f20_edrug3d',\n",
       " 'f30_edrug3d',\n",
       " 'halflife_edrug3d',\n",
       " 'hia_hou',\n",
       " 'hiv',\n",
       " 'huri',\n",
       " 'hydrationfreeenergy_freesolv',\n",
       " 'kiba',\n",
       " 'lipophilicity_astrazeneca',\n",
       " 'pgp_broccatelli',\n",
       " 'ppbr_edrug3d',\n",
       " 'ppbr_ma',\n",
       " 'sarscov2_3clpro_diamond',\n",
       " 'sarscov2_vitro_touret',\n",
       " 'solubility_aqsoldb',\n",
       " 'tox21',\n",
       " 'toxcast',\n",
       " 'twosides',\n",
       " 'vd_edrug3d',\n",
       " 'mhc1_iedb-imgt_nielsen',\n",
       " 'mhc2_iedb_jensen',\n",
       " 'zinc',\n",
       " 'moses',\n",
       " 'chembl',\n",
       " 'qed',\n",
       " 'drd2',\n",
       " 'logp',\n",
       " 'gdsc1',\n",
       " 'gdsc2',\n",
       " 'iedb_jespersen',\n",
       " 'pdb_jespersen',\n",
       " 'qm7b',\n",
       " 'qm8',\n",
       " 'qm9',\n",
       " 'tap',\n",
       " 'sabdab_chen',\n",
       " 'protein_sabdab',\n",
       " 'oncopolypharmacology',\n",
       " 'mirtarbase',\n",
       " 'disgenet',\n",
       " 'sabdab_liberis',\n",
       " 'uspto50k',\n",
       " 'buchwald-hartwig',\n",
       " 'uspto_yields',\n",
       " 'uspto_catalyst',\n",
       " 'uspto_reaction']"
      ]
     },
     "execution_count": 5,
     "metadata": {},
     "output_type": "execute_result"
    }
   ],
   "source": [
    "from tdc.utils import name2id\n",
    "list(name2id.keys())"
   ]
  },
  {
   "cell_type": "code",
   "execution_count": 2,
   "metadata": {},
   "outputs": [
    {
     "name": "stderr",
     "output_type": "stream",
     "text": [
      "Downloading...\n",
      "100%|██████████| 565M/565M [00:28<00:00, 19.8MiB/s] \n",
      "Loading...\n",
      "Done!\n"
     ]
    }
   ],
   "source": [
    "from tdc.multi_pred import Catalyst\n",
    "data = Catalyst(name = 'USPTO_Catalyst')\n",
    "split = data.get_split()"
   ]
  },
  {
   "cell_type": "code",
   "execution_count": 6,
   "metadata": {},
   "outputs": [
    {
     "data": {
      "text/plain": [
       "1257015"
      ]
     },
     "execution_count": 6,
     "metadata": {},
     "output_type": "execute_result"
    }
   ],
   "source": [
    "len(data)"
   ]
  },
  {
   "cell_type": "code",
   "execution_count": 3,
   "metadata": {
    "scrolled": true
   },
   "outputs": [
    {
     "data": {
      "text/html": [
       "<div>\n",
       "<style scoped>\n",
       "    .dataframe tbody tr th:only-of-type {\n",
       "        vertical-align: middle;\n",
       "    }\n",
       "\n",
       "    .dataframe tbody tr th {\n",
       "        vertical-align: top;\n",
       "    }\n",
       "\n",
       "    .dataframe thead th {\n",
       "        text-align: right;\n",
       "    }\n",
       "</style>\n",
       "<table border=\"1\" class=\"dataframe\">\n",
       "  <thead>\n",
       "    <tr style=\"text-align: right;\">\n",
       "      <th></th>\n",
       "      <th>Reactant_ID</th>\n",
       "      <th>Reactant</th>\n",
       "      <th>Product_ID</th>\n",
       "      <th>Product</th>\n",
       "      <th>Y</th>\n",
       "    </tr>\n",
       "  </thead>\n",
       "  <tbody>\n",
       "    <tr>\n",
       "      <th>0</th>\n",
       "      <td>reactant_636679</td>\n",
       "      <td>Br[C:2]1[N:3]=[CH:4][C:5]2[N:6]([C:8]([C:11]3[...</td>\n",
       "      <td>product_599114</td>\n",
       "      <td>[F:18][C:19]1[CH:24]=[CH:23][C:22]([C:25]2[O:2...</td>\n",
       "      <td>75</td>\n",
       "    </tr>\n",
       "    <tr>\n",
       "      <th>1</th>\n",
       "      <td>reactant_113841</td>\n",
       "      <td>C(N(CC)CC)C.[C:8]([O:12][C:13](=[O:19])[C@H:14...</td>\n",
       "      <td>product_109153</td>\n",
       "      <td>[C:8]([O:12][C:13](=[O:19])[C@H:14]([CH:16]([C...</td>\n",
       "      <td>85</td>\n",
       "    </tr>\n",
       "  </tbody>\n",
       "</table>\n",
       "</div>"
      ],
      "text/plain": [
       "       Reactant_ID                                           Reactant  \\\n",
       "0  reactant_636679  Br[C:2]1[N:3]=[CH:4][C:5]2[N:6]([C:8]([C:11]3[...   \n",
       "1  reactant_113841  C(N(CC)CC)C.[C:8]([O:12][C:13](=[O:19])[C@H:14...   \n",
       "\n",
       "       Product_ID                                            Product   Y  \n",
       "0  product_599114  [F:18][C:19]1[CH:24]=[CH:23][C:22]([C:25]2[O:2...  75  \n",
       "1  product_109153  [C:8]([O:12][C:13](=[O:19])[C@H:14]([CH:16]([C...  85  "
      ]
     },
     "execution_count": 3,
     "metadata": {},
     "output_type": "execute_result"
    }
   ],
   "source": [
    "data.get_split()['valid'].head(2)"
   ]
  },
  {
   "cell_type": "code",
   "execution_count": 7,
   "metadata": {
    "scrolled": true
   },
   "outputs": [
    {
     "data": {
      "text/plain": [
       "888"
      ]
     },
     "execution_count": 7,
     "metadata": {},
     "output_type": "execute_result"
    }
   ],
   "source": [
    "from tdc.utils import get_label_map\n",
    "d = get_label_map(name = 'USPTO_Catalyst', task = 'Catalyst')\n",
    "len(d)"
   ]
  },
  {
   "cell_type": "code",
   "execution_count": 16,
   "metadata": {},
   "outputs": [
    {
     "name": "stderr",
     "output_type": "stream",
     "text": [
      "Found local copy...\n",
      "Loading...\n",
      "Done!\n"
     ]
    }
   ],
   "source": [
    "from tdc.single_pred import Yields\n",
    "data = Yields(name = 'Buchwald-Hartwig')\n",
    "split = data.get_split()"
   ]
  },
  {
   "cell_type": "code",
   "execution_count": 17,
   "metadata": {},
   "outputs": [
    {
     "data": {
      "text/plain": [
       "55370"
      ]
     },
     "execution_count": 17,
     "metadata": {},
     "output_type": "execute_result"
    }
   ],
   "source": [
    "len(data)"
   ]
  },
  {
   "cell_type": "code",
   "execution_count": 12,
   "metadata": {},
   "outputs": [
    {
     "data": {
      "text/plain": [
       "'FC(F)(F)c1ccc(Cl)cc1.Cc1ccc(N)cc1.O=S(=O)(O[Pd]1c2ccccc2-c2ccccc2N~1)C(F)(F)F.CC(C)c1cc(C(C)C)c(-c2ccccc2P(C2CCCCC2)C2CCCCC2)c(C(C)C)c1.CCN=P(N=P(N(C)C)(N(C)C)N(C)C)(N(C)C)N(C)C.c1ccc(-c2ccno2)cc1'"
      ]
     },
     "execution_count": 12,
     "metadata": {},
     "output_type": "execute_result"
    }
   ],
   "source": [
    "df = data.get_data()\n",
    "df.Reaction.values[0]['reactant']"
   ]
  },
  {
   "cell_type": "code",
   "execution_count": 13,
   "metadata": {},
   "outputs": [
    {
     "name": "stderr",
     "output_type": "stream",
     "text": [
      "Downloading...\n",
      "100%|██████████| 407M/407M [00:19<00:00, 20.7MiB/s] \n",
      "Loading...\n",
      "Done!\n"
     ]
    }
   ],
   "source": [
    "from tdc.single_pred import Yields\n",
    "data = Yields(name = 'USPTO_Yields')\n",
    "split = data.get_split()"
   ]
  },
  {
   "cell_type": "code",
   "execution_count": 14,
   "metadata": {},
   "outputs": [
    {
     "data": {
      "text/plain": [
       "'[Cl-].[Al+3].[Cl-].[Cl-].[Cl:5][CH2:6][CH2:7][CH2:8][C:9](Cl)=[O:10].[C:12]1([CH:18]([CH3:20])[CH3:19])[CH:17]=[CH:16][CH:15]=[CH:14][CH:13]=1'"
      ]
     },
     "execution_count": 14,
     "metadata": {},
     "output_type": "execute_result"
    }
   ],
   "source": [
    "df = data.get_data()\n",
    "df.Reaction.values[0]['reactant']"
   ]
  },
  {
   "cell_type": "code",
   "execution_count": 15,
   "metadata": {},
   "outputs": [
    {
     "data": {
      "text/plain": [
       "853638"
      ]
     },
     "execution_count": 15,
     "metadata": {},
     "output_type": "execute_result"
    }
   ],
   "source": [
    "len(df)"
   ]
  },
  {
   "cell_type": "code",
   "execution_count": 3,
   "metadata": {},
   "outputs": [
    {
     "name": "stderr",
     "output_type": "stream",
     "text": [
      "Downloading...\n",
      "100%|██████████| 9.38M/9.38M [00:01<00:00, 8.29MiB/s]\n",
      "Loading...\n",
      "Done!\n"
     ]
    }
   ],
   "source": [
    "from tdc.generation import PairMolGen\n",
    "data = PairMolGen(name = 'LogP')\n",
    "split = data.get_split()"
   ]
  },
  {
   "cell_type": "code",
   "execution_count": 4,
   "metadata": {},
   "outputs": [
    {
     "data": {
      "text/html": [
       "<div>\n",
       "<style scoped>\n",
       "    .dataframe tbody tr th:only-of-type {\n",
       "        vertical-align: middle;\n",
       "    }\n",
       "\n",
       "    .dataframe tbody tr th {\n",
       "        vertical-align: top;\n",
       "    }\n",
       "\n",
       "    .dataframe thead th {\n",
       "        text-align: right;\n",
       "    }\n",
       "</style>\n",
       "<table border=\"1\" class=\"dataframe\">\n",
       "  <thead>\n",
       "    <tr style=\"text-align: right;\">\n",
       "      <th></th>\n",
       "      <th>X</th>\n",
       "      <th>Y</th>\n",
       "    </tr>\n",
       "  </thead>\n",
       "  <tbody>\n",
       "    <tr>\n",
       "      <th>0</th>\n",
       "      <td>c1ccc(-c2noc(CCCn3cc[nH+]c3)n2)cc1</td>\n",
       "      <td>O=C(NCCc1nc(-c2ccccc2)no1)C(c1ccccc1)c1ccccc1</td>\n",
       "    </tr>\n",
       "    <tr>\n",
       "      <th>1</th>\n",
       "      <td>C[C@H]1C[C@@H](C)C[NH+](CCCCNC(=O)c2ccc(F)cc2C...</td>\n",
       "      <td>O=C(Nc1ccccc1C(=O)NC1CC1)c1ccc(F)cc1Cl</td>\n",
       "    </tr>\n",
       "    <tr>\n",
       "      <th>2</th>\n",
       "      <td>Cc1ccc([C@H](C)NC(=O)N[C@@](C)(C(=O)[O-])C(F)(...</td>\n",
       "      <td>Cc1ccc([C@@H](C)NC(=O)c2c(Cl)cccc2Cl)o1</td>\n",
       "    </tr>\n",
       "    <tr>\n",
       "      <th>3</th>\n",
       "      <td>Cc1cc(CN2CCN(C(=O)c3ccc([O-])nn3)CC2)on1</td>\n",
       "      <td>Cc1cc(C(=O)N2CCN(Cc3ccc(-c4cccc(Cl)c4)s3)CC2)on1</td>\n",
       "    </tr>\n",
       "    <tr>\n",
       "      <th>4</th>\n",
       "      <td>C[NH2+][C@@]1(C(N)=O)CCC[C@@H]1CCSc1nc(C)n[nH]1</td>\n",
       "      <td>Cc1n[nH]c(SCCC(=O)N2CCCC2)n1</td>\n",
       "    </tr>\n",
       "    <tr>\n",
       "      <th>...</th>\n",
       "      <td>...</td>\n",
       "      <td>...</td>\n",
       "    </tr>\n",
       "    <tr>\n",
       "      <th>69931</th>\n",
       "      <td>C[C@H]([NH2+][C@H]1CCCS[C@H]1C)c1cccnc1</td>\n",
       "      <td>C[C@@H](NC(=O)[C@@H]1CCCS1)c1ccc(-c2cccnc2)cc1</td>\n",
       "    </tr>\n",
       "    <tr>\n",
       "      <th>69932</th>\n",
       "      <td>O=C(CCCc1nc(-c2ccccc2)no1)N[C@H]1CCS(=O)(=O)C1</td>\n",
       "      <td>CCc1ccccc1NC(=O)CCCc1nc(-c2ccc(C)cc2)no1</td>\n",
       "    </tr>\n",
       "    <tr>\n",
       "      <th>69933</th>\n",
       "      <td>COc1ccccc1[C@@H](CNC(=O)NC[C@@]1(O)CCCc2ccccc2...</td>\n",
       "      <td>O=C(NC[C@]1(O)CCCc2ccccc21)Nc1ccc(F)cc1F</td>\n",
       "    </tr>\n",
       "    <tr>\n",
       "      <th>69934</th>\n",
       "      <td>COc1ccc([C@@H]2CCCCCN2C(=O)C[NH+]2CCc3sccc3C2)cc1</td>\n",
       "      <td>COc1ccc([C@H]2CCCN2C(=O)Cc2ccc(Cl)cc2)cc1</td>\n",
       "    </tr>\n",
       "    <tr>\n",
       "      <th>69935</th>\n",
       "      <td>CC(C)C1CCC([NH2+][C@H](C)Cn2ncc3ccccc3c2=O)CC1</td>\n",
       "      <td>C[C@H](NC(=O)Cn1ncc2ccccc2c1=O)c1ccc(-c2ccccc2...</td>\n",
       "    </tr>\n",
       "  </tbody>\n",
       "</table>\n",
       "<p>69936 rows × 2 columns</p>\n",
       "</div>"
      ],
      "text/plain": [
       "                                                       X  \\\n",
       "0                     c1ccc(-c2noc(CCCn3cc[nH+]c3)n2)cc1   \n",
       "1      C[C@H]1C[C@@H](C)C[NH+](CCCCNC(=O)c2ccc(F)cc2C...   \n",
       "2      Cc1ccc([C@H](C)NC(=O)N[C@@](C)(C(=O)[O-])C(F)(...   \n",
       "3               Cc1cc(CN2CCN(C(=O)c3ccc([O-])nn3)CC2)on1   \n",
       "4        C[NH2+][C@@]1(C(N)=O)CCC[C@@H]1CCSc1nc(C)n[nH]1   \n",
       "...                                                  ...   \n",
       "69931            C[C@H]([NH2+][C@H]1CCCS[C@H]1C)c1cccnc1   \n",
       "69932     O=C(CCCc1nc(-c2ccccc2)no1)N[C@H]1CCS(=O)(=O)C1   \n",
       "69933  COc1ccccc1[C@@H](CNC(=O)NC[C@@]1(O)CCCc2ccccc2...   \n",
       "69934  COc1ccc([C@@H]2CCCCCN2C(=O)C[NH+]2CCc3sccc3C2)cc1   \n",
       "69935     CC(C)C1CCC([NH2+][C@H](C)Cn2ncc3ccccc3c2=O)CC1   \n",
       "\n",
       "                                                       Y  \n",
       "0          O=C(NCCc1nc(-c2ccccc2)no1)C(c1ccccc1)c1ccccc1  \n",
       "1                 O=C(Nc1ccccc1C(=O)NC1CC1)c1ccc(F)cc1Cl  \n",
       "2                Cc1ccc([C@@H](C)NC(=O)c2c(Cl)cccc2Cl)o1  \n",
       "3       Cc1cc(C(=O)N2CCN(Cc3ccc(-c4cccc(Cl)c4)s3)CC2)on1  \n",
       "4                           Cc1n[nH]c(SCCC(=O)N2CCCC2)n1  \n",
       "...                                                  ...  \n",
       "69931     C[C@@H](NC(=O)[C@@H]1CCCS1)c1ccc(-c2cccnc2)cc1  \n",
       "69932           CCc1ccccc1NC(=O)CCCc1nc(-c2ccc(C)cc2)no1  \n",
       "69933           O=C(NC[C@]1(O)CCCc2ccccc21)Nc1ccc(F)cc1F  \n",
       "69934          COc1ccc([C@H]2CCCN2C(=O)Cc2ccc(Cl)cc2)cc1  \n",
       "69935  C[C@H](NC(=O)Cn1ncc2ccccc2c1=O)c1ccc(-c2ccccc2...  \n",
       "\n",
       "[69936 rows x 2 columns]"
      ]
     },
     "execution_count": 4,
     "metadata": {},
     "output_type": "execute_result"
    }
   ],
   "source": [
    "split['train']"
   ]
  },
  {
   "cell_type": "code",
   "execution_count": 1,
   "metadata": {},
   "outputs": [
    {
     "name": "stderr",
     "output_type": "stream",
     "text": [
      "Found local copy...\n",
      "Loading...\n",
      "Done!\n"
     ]
    }
   ],
   "source": [
    "from tdc.generation import RetroSyn\n",
    "data = RetroSyn(name = 'USPTO')\n",
    "split = data.get_split()"
   ]
  },
  {
   "cell_type": "code",
   "execution_count": 2,
   "metadata": {},
   "outputs": [
    {
     "data": {
      "text/plain": [
       "1939253"
      ]
     },
     "execution_count": 2,
     "metadata": {},
     "output_type": "execute_result"
    }
   ],
   "source": [
    "len(data)"
   ]
  },
  {
   "cell_type": "code",
   "execution_count": 3,
   "metadata": {},
   "outputs": [
    {
     "name": "stderr",
     "output_type": "stream",
     "text": [
      "Found local copy...\n",
      "Loading...\n",
      "Done!\n"
     ]
    }
   ],
   "source": [
    "from tdc.generation import Reaction\n",
    "data = Reaction(name = 'USPTO')\n",
    "split = data.get_split()"
   ]
  },
  {
   "cell_type": "code",
   "execution_count": 1,
   "metadata": {},
   "outputs": [
    {
     "name": "stderr",
     "output_type": "stream",
     "text": [
      "Downloading...\n",
      "100%|██████████| 5.22M/5.22M [00:01<00:00, 4.58MiB/s]\n",
      "Loading...\n",
      "Done!\n"
     ]
    }
   ],
   "source": [
    "from tdc.generation import RetroSyn\n",
    "data = RetroSyn(name = 'USPTO50K')\n",
    "split = data.get_split()"
   ]
  },
  {
   "cell_type": "code",
   "execution_count": null,
   "metadata": {},
   "outputs": [],
   "source": []
  },
  {
   "cell_type": "code",
   "execution_count": 28,
   "metadata": {},
   "outputs": [],
   "source": [
    "from tdc.utils import retrieve_label_name_list\n",
    "label_list = retrieve_label_name_list('Toxcast')"
   ]
  },
  {
   "cell_type": "code",
   "execution_count": 30,
   "metadata": {},
   "outputs": [
    {
     "name": "stderr",
     "output_type": "stream",
     "text": [
      "Downloading...\n",
      "100%|██████████| 10.4M/10.4M [00:01<00:00, 6.00MiB/s]\n",
      "Loading...\n",
      "Done!\n"
     ]
    }
   ],
   "source": [
    "from tdc.single_pred import Tox\n",
    "data = Tox(name = 'ToxCast', label_name = label_list[0])\n",
    "split = data.get_split()"
   ]
  },
  {
   "cell_type": "code",
   "execution_count": 32,
   "metadata": {},
   "outputs": [
    {
     "name": "stderr",
     "output_type": "stream",
     "text": [
      "Downloading...\n",
      "100%|██████████| 101k/101k [00:00<00:00, 612kiB/s] \n",
      "Loading...\n",
      "Done!\n"
     ]
    }
   ],
   "source": [
    "from tdc.single_pred import HTS\n",
    "data = HTS(name = 'SARSCoV2_Vitro_Touret')\n",
    "split = data.get_split()"
   ]
  },
  {
   "cell_type": "code",
   "execution_count": 33,
   "metadata": {},
   "outputs": [],
   "source": [
    "from tdc.metadata import versioning"
   ]
  },
  {
   "cell_type": "code",
   "execution_count": 35,
   "metadata": {},
   "outputs": [
    {
     "data": {
      "text/plain": [
       "62"
      ]
     },
     "execution_count": 35,
     "metadata": {},
     "output_type": "execute_result"
    }
   ],
   "source": [
    "len(versioning['0.0.1'])"
   ]
  },
  {
   "cell_type": "code",
   "execution_count": null,
   "metadata": {},
   "outputs": [],
   "source": []
  }
 ],
 "metadata": {
  "kernelspec": {
   "display_name": "Python [conda env:DeepPurpose]",
   "language": "python",
   "name": "conda-env-DeepPurpose-py"
  },
  "language_info": {
   "codemirror_mode": {
    "name": "ipython",
    "version": 3
   },
   "file_extension": ".py",
   "mimetype": "text/x-python",
   "name": "python",
   "nbconvert_exporter": "python",
   "pygments_lexer": "ipython3",
   "version": "3.7.7"
  }
 },
 "nbformat": 4,
 "nbformat_minor": 2
}
